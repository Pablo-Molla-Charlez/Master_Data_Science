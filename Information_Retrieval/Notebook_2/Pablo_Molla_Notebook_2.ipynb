{
 "cells": [
  {
   "cell_type": "markdown",
   "id": "32e02f0b-7db2-4aa4-897c-55c388331127",
   "metadata": {},
   "source": [
    "# Information Retrieval Notebook 2"
   ]
  },
  {
   "cell_type": "code",
   "execution_count": 1,
   "id": "c2e54178-39dc-4056-b037-9b486a7bdaa2",
   "metadata": {},
   "outputs": [],
   "source": [
    "# no time to lose:\n",
    "#!wget https://gerdes.fr/saclay/informationRetrieval/our_msmarco.zip\n",
    "#!unzip our_msmarco.zip\n",
    "# this will be big: 1.2gb!\n",
    "# you will get three files "
   ]
  },
  {
   "cell_type": "code",
   "execution_count": 2,
   "id": "cf60877b-7250-493a-93aa-b41d8c3b91e1",
   "metadata": {},
   "outputs": [
    {
     "name": "stdout",
     "output_type": "stream",
     "text": [
      "time: 0 ns (started: 2024-03-24 19:30:29 +01:00)\n"
     ]
    }
   ],
   "source": [
    "# this turns on the autotimer, so that every cell has a timing information below\n",
    "try:\n",
    "    %load_ext autotime\n",
    "except:\n",
    "    #!pip install ipython-autotime\n",
    "    %load_ext autotime\n",
    "# stop using:\n",
    "# %unload_ext autotime\n",
    "#!pip install sklearn"
   ]
  },
  {
   "cell_type": "code",
   "execution_count": 3,
   "id": "ff253cc3-8b08-490c-b946-3e6ff3104da0",
   "metadata": {},
   "outputs": [
    {
     "name": "stdout",
     "output_type": "stream",
     "text": [
      "time: 8.98 s (started: 2024-03-24 19:30:30 +01:00)\n"
     ]
    }
   ],
   "source": [
    "#!pip install scikit-learn\n",
    "from nltk.corpus import stopwords\n",
    "from nltk.tokenize import word_tokenize\n",
    "from nltk.stem import PorterStemmer\n",
    "import nltk\n",
    "import re\n",
    "import numpy as np\n",
    "import matplotlib.pyplot as plt\n",
    "import pandas as pd\n",
    "import seaborn as sns\n",
    "from collections import Counter\n",
    "from tqdm.notebook import tqdm\n",
    "#from sklearn.feature_extraction.text import CountVectorizer\n",
    "import dask.dataframe as dd"
   ]
  },
  {
   "cell_type": "markdown",
   "id": "c2323687-17ad-497d-ae5f-6f38ad388d4f",
   "metadata": {},
   "source": [
    "## Our dataset\n",
    "\n",
    "- \"TREC stands for the Text Retrieval Conference. Started in 1992 it is a series of workshops that focus on supporting research within the information retrieval community. It provides the infrastructure necessary for large-scale evaluation of text retrieval methodologies. Every year these workshops are organized, which are centered around a set of tracks. These tracks encourage new researches in the area of information retrieval.\"\n",
    "- TREC 2019 Deep Learning Track https://microsoft.github.io/msmarco/TREC-Deep-Learning-2019\n",
    "- data from MS-Marco https://microsoft.github.io/msmarco/\n",
    "- The dataset contains  367k queries and a corpus of 3.2 million documents. \n",
    "___\n",
    "- if you want to reproduce my selection or get a bigger set, uncomment and execute\n"
   ]
  },
  {
   "cell_type": "code",
   "execution_count": 128,
   "id": "0574215f-73a5-4d1a-96b3-ba4dc8314f12",
   "metadata": {},
   "outputs": [
    {
     "name": "stdout",
     "output_type": "stream",
     "text": [
      "time: 0 ns (started: 2024-03-24 09:12:49 +01:00)\n"
     ]
    }
   ],
   "source": [
    "#!wget https://msmarco.blob.core.windows.net/msmarcoranking/msmarco-docs.tsv.gz\n",
    "#!wget https://msmarco.blob.core.windows.net/msmarcoranking/msmarco-doctrain-queries.tsv.gz\n",
    "#!wget https://msmarco.blob.core.windows.net/msmarcoranking/msmarco-doctrain-top100.gz\n",
    "\t\n",
    "#!gzip -d msmarco-docs.tsv.gz\n",
    "#!gzip -d msmarco-doctrain-queries.tsv.gz\n",
    "#!gzip -d msmarco-doctrain-top100.gz\n"
   ]
  },
  {
   "attachments": {},
   "cell_type": "markdown",
   "id": "58b288fe-2788-4f9f-983e-07816431ea12",
   "metadata": {},
   "source": [
    "## Skip to the section \"reading in our smaller files\"\n",
    "\n",
    "come back here if you want to understand how to reduce the dataset or you want to build your own dataset"
   ]
  },
  {
   "cell_type": "markdown",
   "id": "961fd674-6b24-43da-9d92-19e589506666",
   "metadata": {},
   "source": [
    "- we have three datasets:\n",
    "    \n",
    "    1. the queries: msmarco-doctrain-queries.tsv\n",
    "    2. the gold: msmarco-doctrain-top100.tsv is a table containing query_id, doc_id and rank\n",
    "    3. the actual documents: msmarco-docs.tsv 21GB of text! doc_id, url, title, text"
   ]
  },
  {
   "cell_type": "code",
   "execution_count": 129,
   "id": "98275be5-2f98-486d-80ae-0d775f1dcbd6",
   "metadata": {},
   "outputs": [
    {
     "name": "stdout",
     "output_type": "stream",
     "text": [
      "time: 0 ns (started: 2024-03-24 09:12:49 +01:00)\n"
     ]
    }
   ],
   "source": [
    "#all_queries=pd.read_table('msmarco-doctrain-queries.tsv',header=None)\n",
    "#all_queries.columns=['qid','query']\n",
    "#print('Shape=>',all_queries.shape)\n",
    "#all_queries.head()"
   ]
  },
  {
   "cell_type": "markdown",
   "id": "38bbe076-dd9d-4d97-bfba-31269a20ab86",
   "metadata": {},
   "source": [
    "#### reducing the dataset\n",
    "- here we take 1000 queries. \n",
    "- if this is too big for your computer, use this code to build smaller version, starting with the already reduced 1000 query set that we've downloaded before\n"
   ]
  },
  {
   "cell_type": "code",
   "execution_count": 130,
   "id": "710fa4f5-ca4e-4fae-b295-b35e08e6e942",
   "metadata": {},
   "outputs": [
    {
     "name": "stdout",
     "output_type": "stream",
     "text": [
      "time: 0 ns (started: 2024-03-24 09:12:49 +01:00)\n"
     ]
    }
   ],
   "source": [
    "#our_queries=all_queries.sample(n=1000,random_state=42).reset_index(drop=True)\n",
    "#print('Shape=>',our_queries.shape)\n",
    "#our_queries.head()"
   ]
  },
  {
   "cell_type": "code",
   "execution_count": 131,
   "id": "6e734ee2-9ce4-4c7d-9062-2f1a71d62e91",
   "metadata": {},
   "outputs": [
    {
     "name": "stdout",
     "output_type": "stream",
     "text": [
      "time: 0 ns (started: 2024-03-24 09:12:49 +01:00)\n"
     ]
    }
   ],
   "source": [
    "#our_queries.to_csv('our.msmarco.queries.tsv',sep='\\t')"
   ]
  },
  {
   "cell_type": "markdown",
   "id": "f4f44a4f-81d3-4994-8806-07c656e814af",
   "metadata": {},
   "source": [
    "#### the gold file\n",
    "- 36m lines!"
   ]
  },
  {
   "cell_type": "code",
   "execution_count": 132,
   "id": "f97d1b2a-4fe3-4209-b75a-47f904dd9515",
   "metadata": {},
   "outputs": [
    {
     "data": {
      "text/plain": [
       "\"\\ngold_top100=pd.read_table('msmarco-doctrain-top100',delimiter=' ',header=None)\\ngold_top100.columns=['qid','Q0','docid','rank','score','runstring']\\nprint('Shape=>',gold_top100.shape)\\ndisplay(gold_top100.head())\\n# Reducing train_top100 for training\\nour_gold_top100=train_top100[gold_top100['qid'].isin(our_queries['qid'].unique())].reset_index(drop=True)\\nprint('Shape=>',our_gold_top100.shape)\\nour_gold_top100.head()\\n\""
      ]
     },
     "execution_count": 132,
     "metadata": {},
     "output_type": "execute_result"
    },
    {
     "name": "stdout",
     "output_type": "stream",
     "text": [
      "time: 0 ns (started: 2024-03-24 09:12:49 +01:00)\n"
     ]
    }
   ],
   "source": [
    "\"\"\"\n",
    "gold_top100=pd.read_table('msmarco-doctrain-top100',delimiter=' ',header=None)\n",
    "gold_top100.columns=['qid','Q0','docid','rank','score','runstring']\n",
    "print('Shape=>',gold_top100.shape)\n",
    "display(gold_top100.head())\n",
    "# Reducing train_top100 for training\n",
    "our_gold_top100=train_top100[gold_top100['qid'].isin(our_queries['qid'].unique())].reset_index(drop=True)\n",
    "print('Shape=>',our_gold_top100.shape)\n",
    "our_gold_top100.head()\n",
    "\"\"\""
   ]
  },
  {
   "cell_type": "code",
   "execution_count": 133,
   "id": "ab90450d-6564-4e49-a2ae-397f618a90fb",
   "metadata": {},
   "outputs": [
    {
     "name": "stdout",
     "output_type": "stream",
     "text": [
      "time: 0 ns (started: 2024-03-24 09:12:49 +01:00)\n"
     ]
    }
   ],
   "source": [
    "#our_gold_top100.to_csv('our.msmarco.gold.tsv',sep='\\t')"
   ]
  },
  {
   "cell_type": "markdown",
   "id": "576936ea-3f1d-4ac7-9249-a9b4960d8691",
   "metadata": {},
   "source": [
    "#### the data file\n",
    "\n",
    "- it's so big that it's smarter to use dask: https://docs.dask.org/en/stable/"
   ]
  },
  {
   "cell_type": "code",
   "execution_count": 134,
   "id": "e3ad34c4-45f8-47cc-bcbd-37f10ab3405d",
   "metadata": {},
   "outputs": [
    {
     "name": "stdout",
     "output_type": "stream",
     "text": [
      "time: 0 ns (started: 2024-03-24 09:12:49 +01:00)\n"
     ]
    }
   ],
   "source": [
    "#df=dd.read_table('msmarco-docs.tsv',blocksize=100e6,header=None) #  partitions of 100MB\n",
    "#df.columns=['docid','url','title','body']\n",
    "#df.head()"
   ]
  },
  {
   "cell_type": "code",
   "execution_count": 135,
   "id": "7982a03f-f966-4883-9a6f-0980a390a1db",
   "metadata": {},
   "outputs": [
    {
     "name": "stdout",
     "output_type": "stream",
     "text": [
      "time: 0 ns (started: 2024-03-24 09:12:50 +01:00)\n"
     ]
    }
   ],
   "source": [
    "# can't get the number of rows quickly :s\n",
    "# very slow:\n",
    "# len(df.index)\n",
    "\n",
    "# faster:\n",
    "#!wc -l msmarco-docs.tsv"
   ]
  },
  {
   "cell_type": "markdown",
   "id": "096ad493-1139-48c2-baeb-a29905d0bdd4",
   "metadata": {},
   "source": [
    "- big dataset with 3m rows!\n",
    "- we want the top 100 for our queries\n",
    "- this takes some time!"
   ]
  },
  {
   "cell_type": "code",
   "execution_count": 136,
   "id": "4a4912c9-64e4-4c90-8dba-1fc3cfef013b",
   "metadata": {},
   "outputs": [
    {
     "name": "stdout",
     "output_type": "stream",
     "text": [
      "time: 0 ns (started: 2024-03-24 09:12:50 +01:00)\n"
     ]
    }
   ],
   "source": [
    "def create_corpus(result):\n",
    "  unique_docid=result['docid'].unique()\n",
    "  condition=df['docid'].isin(unique_docid)\n",
    "  corpus=df[condition].reset_index(drop=True)\n",
    "  corpus=corpus.drop(columns='url')\n",
    "  print('Number of Rows=>',len(corpus))\n",
    "  return corpus\n",
    "\n",
    "#our_docs=create_corpus(our_gold_top100)\n",
    "#our_docs.head()"
   ]
  },
  {
   "cell_type": "code",
   "execution_count": 137,
   "id": "b5d415e7-a773-46a7-83d5-9df501ed3d45",
   "metadata": {},
   "outputs": [
    {
     "name": "stdout",
     "output_type": "stream",
     "text": [
      "time: 0 ns (started: 2024-03-24 09:12:50 +01:00)\n"
     ]
    }
   ],
   "source": [
    "#our_docs.to_csv('our.msmarco.docs.tsv',sep='\\t', single_file=True)"
   ]
  },
  {
   "cell_type": "markdown",
   "id": "6ea2310d-0bbb-42c4-8189-c8606c00fc30",
   "metadata": {},
   "source": [
    "- this is still a big file: 92k documents"
   ]
  },
  {
   "cell_type": "markdown",
   "id": "5bc01012-818c-46ae-bc27-d789ce2e0063",
   "metadata": {},
   "source": [
    "## Reading in our smaller files\n",
    "\n",
    "Here we use the following commands:\n",
    "\n",
    "- !wget https://gerdes.fr/saclay/informationRetrieval/our_msmarco.zip\n",
    "- !unzip our_msmarco.zip"
   ]
  },
  {
   "cell_type": "markdown",
   "id": "da4369e4",
   "metadata": {},
   "source": [
    "- What is the MS MARCO Dataset?\n",
    "\n",
    "The MS MARCO (Microsoft Machine Reading Comprehension) dataset is a large-scale dataset for machine reading comprehension and information retrieval. It's built from real-world data and includes a variety of questions that people have asked using Bing search, paired with passages that a human reading comprehension model has determined might contain answers to these questions.\n",
    "\n",
    "The dataset includes three main types of data:\n",
    "\n",
    "1. **Questions**: Real anonymized questions from Bing users. Each question is naturally phrased. # The questions are in the our.msmarco.queries.tsv file\n",
    "\n",
    "2. **Passages**: Excerpts from web pages that could potentially answer the questions. # The questions are in the our.msmarco.queries.tsv file\n",
    "\n",
    "3. **Relevance Labels**: Information about whether a given passage is relevant to the corresponding question. # The questions are in the our.msmarco.gold.tsv file\n",
    "\n",
    "An example entry in the MS MARCO dataset might look like this:\n",
    "\n",
    "- **Question**: \"What is a neural network?\"\n",
    "- **Passage**: \"A neural network is a network or circuit of neurons, or in a modern sense, an artificial neural network, composed of artificial neurons or nodes. Thus a neural network is either a biological neural network, made up of real biological neurons, or an artificial neural network, for solving artificial intelligence (AI) problems.\"\n",
    "- **Relevance Label**: Rank + Score\n"
   ]
  },
  {
   "cell_type": "code",
   "execution_count": 4,
   "id": "b3532319-bc8b-47ce-bf91-10f26cd0fe37",
   "metadata": {},
   "outputs": [
    {
     "data": {
      "text/html": [
       "<div>\n",
       "<style scoped>\n",
       "    .dataframe tbody tr th:only-of-type {\n",
       "        vertical-align: middle;\n",
       "    }\n",
       "\n",
       "    .dataframe tbody tr th {\n",
       "        vertical-align: top;\n",
       "    }\n",
       "\n",
       "    .dataframe thead th {\n",
       "        text-align: right;\n",
       "    }\n",
       "</style>\n",
       "<table border=\"1\" class=\"dataframe\">\n",
       "  <thead>\n",
       "    <tr style=\"text-align: right;\">\n",
       "      <th></th>\n",
       "      <th>qid</th>\n",
       "      <th>query</th>\n",
       "    </tr>\n",
       "  </thead>\n",
       "  <tbody>\n",
       "    <tr>\n",
       "      <th>0</th>\n",
       "      <td>687888</td>\n",
       "      <td>what is a jpe</td>\n",
       "    </tr>\n",
       "    <tr>\n",
       "      <th>1</th>\n",
       "      <td>480210</td>\n",
       "      <td>price for asphalt driveway</td>\n",
       "    </tr>\n",
       "    <tr>\n",
       "      <th>2</th>\n",
       "      <td>591004</td>\n",
       "      <td>what causes pressure skin bruising</td>\n",
       "    </tr>\n",
       "    <tr>\n",
       "      <th>3</th>\n",
       "      <td>260536</td>\n",
       "      <td>how long drive from flagstaff to grand canyon</td>\n",
       "    </tr>\n",
       "    <tr>\n",
       "      <th>4</th>\n",
       "      <td>39422</td>\n",
       "      <td>average number of bowel movements per day for ...</td>\n",
       "    </tr>\n",
       "    <tr>\n",
       "      <th>...</th>\n",
       "      <td>...</td>\n",
       "      <td>...</td>\n",
       "    </tr>\n",
       "    <tr>\n",
       "      <th>995</th>\n",
       "      <td>89597</td>\n",
       "      <td>cell voltage mv meaning</td>\n",
       "    </tr>\n",
       "    <tr>\n",
       "      <th>996</th>\n",
       "      <td>1167043</td>\n",
       "      <td>what an ip address</td>\n",
       "    </tr>\n",
       "    <tr>\n",
       "      <th>997</th>\n",
       "      <td>737304</td>\n",
       "      <td>what is daily max citizens atm</td>\n",
       "    </tr>\n",
       "    <tr>\n",
       "      <th>998</th>\n",
       "      <td>156934</td>\n",
       "      <td>do i need a florida commercial driver license</td>\n",
       "    </tr>\n",
       "    <tr>\n",
       "      <th>999</th>\n",
       "      <td>654329</td>\n",
       "      <td>what does tv on cameras stand for</td>\n",
       "    </tr>\n",
       "  </tbody>\n",
       "</table>\n",
       "<p>1000 rows × 2 columns</p>\n",
       "</div>"
      ],
      "text/plain": [
       "         qid                                              query\n",
       "0     687888                                      what is a jpe\n",
       "1     480210                         price for asphalt driveway\n",
       "2     591004                 what causes pressure skin bruising\n",
       "3     260536      how long drive from flagstaff to grand canyon\n",
       "4      39422  average number of bowel movements per day for ...\n",
       "..       ...                                                ...\n",
       "995    89597                            cell voltage mv meaning\n",
       "996  1167043                                 what an ip address\n",
       "997   737304                     what is daily max citizens atm\n",
       "998   156934      do i need a florida commercial driver license\n",
       "999   654329                  what does tv on cameras stand for\n",
       "\n",
       "[1000 rows x 2 columns]"
      ]
     },
     "execution_count": 4,
     "metadata": {},
     "output_type": "execute_result"
    },
    {
     "name": "stdout",
     "output_type": "stream",
     "text": [
      "time: 47 ms (started: 2024-03-24 19:30:40 +01:00)\n"
     ]
    }
   ],
   "source": [
    "queries = pd.read_csv('our_msmarco/our.msmarco.queries.tsv',sep='\\t',usecols=[1,2])\n",
    "queries"
   ]
  },
  {
   "cell_type": "code",
   "execution_count": 5,
   "id": "ada037f1-1bd5-4a67-a2e9-b38adada382d",
   "metadata": {},
   "outputs": [
    {
     "data": {
      "text/html": [
       "<div>\n",
       "<style scoped>\n",
       "    .dataframe tbody tr th:only-of-type {\n",
       "        vertical-align: middle;\n",
       "    }\n",
       "\n",
       "    .dataframe tbody tr th {\n",
       "        vertical-align: top;\n",
       "    }\n",
       "\n",
       "    .dataframe thead th {\n",
       "        text-align: right;\n",
       "    }\n",
       "</style>\n",
       "<table border=\"1\" class=\"dataframe\">\n",
       "  <thead>\n",
       "    <tr style=\"text-align: right;\">\n",
       "      <th></th>\n",
       "      <th>qid</th>\n",
       "      <th>docid</th>\n",
       "      <th>rank</th>\n",
       "      <th>score</th>\n",
       "    </tr>\n",
       "  </thead>\n",
       "  <tbody>\n",
       "    <tr>\n",
       "      <th>0</th>\n",
       "      <td>310290</td>\n",
       "      <td>D579750</td>\n",
       "      <td>1</td>\n",
       "      <td>-5.11498</td>\n",
       "    </tr>\n",
       "    <tr>\n",
       "      <th>1</th>\n",
       "      <td>310290</td>\n",
       "      <td>D579754</td>\n",
       "      <td>2</td>\n",
       "      <td>-5.57703</td>\n",
       "    </tr>\n",
       "    <tr>\n",
       "      <th>2</th>\n",
       "      <td>310290</td>\n",
       "      <td>D2380815</td>\n",
       "      <td>3</td>\n",
       "      <td>-5.84852</td>\n",
       "    </tr>\n",
       "    <tr>\n",
       "      <th>3</th>\n",
       "      <td>310290</td>\n",
       "      <td>D822566</td>\n",
       "      <td>4</td>\n",
       "      <td>-5.95002</td>\n",
       "    </tr>\n",
       "    <tr>\n",
       "      <th>4</th>\n",
       "      <td>310290</td>\n",
       "      <td>D2249695</td>\n",
       "      <td>5</td>\n",
       "      <td>-6.08326</td>\n",
       "    </tr>\n",
       "    <tr>\n",
       "      <th>...</th>\n",
       "      <td>...</td>\n",
       "      <td>...</td>\n",
       "      <td>...</td>\n",
       "      <td>...</td>\n",
       "    </tr>\n",
       "    <tr>\n",
       "      <th>99995</th>\n",
       "      <td>257942</td>\n",
       "      <td>D253854</td>\n",
       "      <td>96</td>\n",
       "      <td>-6.32693</td>\n",
       "    </tr>\n",
       "    <tr>\n",
       "      <th>99996</th>\n",
       "      <td>257942</td>\n",
       "      <td>D3056621</td>\n",
       "      <td>97</td>\n",
       "      <td>-6.32837</td>\n",
       "    </tr>\n",
       "    <tr>\n",
       "      <th>99997</th>\n",
       "      <td>257942</td>\n",
       "      <td>D1323491</td>\n",
       "      <td>98</td>\n",
       "      <td>-6.32871</td>\n",
       "    </tr>\n",
       "    <tr>\n",
       "      <th>99998</th>\n",
       "      <td>257942</td>\n",
       "      <td>D2722485</td>\n",
       "      <td>99</td>\n",
       "      <td>-6.33100</td>\n",
       "    </tr>\n",
       "    <tr>\n",
       "      <th>99999</th>\n",
       "      <td>257942</td>\n",
       "      <td>D2339077</td>\n",
       "      <td>100</td>\n",
       "      <td>-6.33441</td>\n",
       "    </tr>\n",
       "  </tbody>\n",
       "</table>\n",
       "<p>100000 rows × 4 columns</p>\n",
       "</div>"
      ],
      "text/plain": [
       "          qid     docid  rank    score\n",
       "0      310290   D579750     1 -5.11498\n",
       "1      310290   D579754     2 -5.57703\n",
       "2      310290  D2380815     3 -5.84852\n",
       "3      310290   D822566     4 -5.95002\n",
       "4      310290  D2249695     5 -6.08326\n",
       "...       ...       ...   ...      ...\n",
       "99995  257942   D253854    96 -6.32693\n",
       "99996  257942  D3056621    97 -6.32837\n",
       "99997  257942  D1323491    98 -6.32871\n",
       "99998  257942  D2722485    99 -6.33100\n",
       "99999  257942  D2339077   100 -6.33441\n",
       "\n",
       "[100000 rows x 4 columns]"
      ]
     },
     "execution_count": 5,
     "metadata": {},
     "output_type": "execute_result"
    },
    {
     "name": "stdout",
     "output_type": "stream",
     "text": [
      "time: 266 ms (started: 2024-03-24 19:30:40 +01:00)\n"
     ]
    }
   ],
   "source": [
    "gold = pd.read_csv('our_msmarco/our.msmarco.gold.tsv',sep='\\t',usecols=[1,3,4,5])\n",
    "gold"
   ]
  },
  {
   "cell_type": "code",
   "execution_count": 6,
   "id": "de5a006e-fb54-4539-9131-d3fe083a2739",
   "metadata": {},
   "outputs": [
    {
     "data": {
      "text/html": [
       "<div>\n",
       "<style scoped>\n",
       "    .dataframe tbody tr th:only-of-type {\n",
       "        vertical-align: middle;\n",
       "    }\n",
       "\n",
       "    .dataframe tbody tr th {\n",
       "        vertical-align: top;\n",
       "    }\n",
       "\n",
       "    .dataframe thead th {\n",
       "        text-align: right;\n",
       "    }\n",
       "</style>\n",
       "<table border=\"1\" class=\"dataframe\">\n",
       "  <thead>\n",
       "    <tr style=\"text-align: right;\">\n",
       "      <th></th>\n",
       "      <th>docid</th>\n",
       "      <th>title</th>\n",
       "      <th>body</th>\n",
       "    </tr>\n",
       "  </thead>\n",
       "  <tbody>\n",
       "    <tr>\n",
       "      <th>0</th>\n",
       "      <td>D2981241</td>\n",
       "      <td>What do you call a group of lions?</td>\n",
       "      <td>Lions Vocabulary of the English Language Word ...</td>\n",
       "    </tr>\n",
       "    <tr>\n",
       "      <th>1</th>\n",
       "      <td>D687756</td>\n",
       "      <td>.</td>\n",
       "      <td>The A Priori Argument ( also, Rationalization;...</td>\n",
       "    </tr>\n",
       "    <tr>\n",
       "      <th>2</th>\n",
       "      <td>D913099</td>\n",
       "      <td>Everything You Need To Learn How To Cook Veget...</td>\n",
       "      <td>Home &gt; How To Cook Vegetables Everything You N...</td>\n",
       "    </tr>\n",
       "    <tr>\n",
       "      <th>3</th>\n",
       "      <td>D328017</td>\n",
       "      <td>What is the difference between latitude, longi...</td>\n",
       "      <td>Longitude Latitude Geographic Coordinate Syste...</td>\n",
       "    </tr>\n",
       "    <tr>\n",
       "      <th>4</th>\n",
       "      <td>D1636347</td>\n",
       "      <td>When was the pulley invented?</td>\n",
       "      <td>Answers.com ® Wiki Answers ® Categories Techno...</td>\n",
       "    </tr>\n",
       "    <tr>\n",
       "      <th>...</th>\n",
       "      <td>...</td>\n",
       "      <td>...</td>\n",
       "      <td>...</td>\n",
       "    </tr>\n",
       "    <tr>\n",
       "      <th>92560</th>\n",
       "      <td>D3379210</td>\n",
       "      <td>Top 39 Doctor insights on: Can An Iud Cause Ha...</td>\n",
       "      <td>Top 39 Doctor insights on: Can An Iud Cause Ha...</td>\n",
       "    </tr>\n",
       "    <tr>\n",
       "      <th>92561</th>\n",
       "      <td>D3068739</td>\n",
       "      <td>How to get back your DirecTV cancellation fees</td>\n",
       "      <td>How to get back your Direc TV cancellation fee...</td>\n",
       "    </tr>\n",
       "    <tr>\n",
       "      <th>92562</th>\n",
       "      <td>D1590402</td>\n",
       "      <td>Certification FAQs</td>\n",
       "      <td>Fingerprinting 1. Where can I get fingerprinte...</td>\n",
       "    </tr>\n",
       "    <tr>\n",
       "      <th>92563</th>\n",
       "      <td>D2175490</td>\n",
       "      <td>Greenhouse gas emissions by Canadian economic ...</td>\n",
       "      <td>Access PDF (682 KB)In 2015, Canada's total gre...</td>\n",
       "    </tr>\n",
       "    <tr>\n",
       "      <th>92564</th>\n",
       "      <td>D2580062</td>\n",
       "      <td>QuickBooks Bill Pay</td>\n",
       "      <td>Quick Books Bill Pay Simplify your accounts pa...</td>\n",
       "    </tr>\n",
       "  </tbody>\n",
       "</table>\n",
       "<p>92565 rows × 3 columns</p>\n",
       "</div>"
      ],
      "text/plain": [
       "          docid                                              title  \\\n",
       "0      D2981241                 What do you call a group of lions?   \n",
       "1       D687756                                                  .   \n",
       "2       D913099  Everything You Need To Learn How To Cook Veget...   \n",
       "3       D328017  What is the difference between latitude, longi...   \n",
       "4      D1636347                      When was the pulley invented?   \n",
       "...         ...                                                ...   \n",
       "92560  D3379210  Top 39 Doctor insights on: Can An Iud Cause Ha...   \n",
       "92561  D3068739     How to get back your DirecTV cancellation fees   \n",
       "92562  D1590402                                 Certification FAQs   \n",
       "92563  D2175490  Greenhouse gas emissions by Canadian economic ...   \n",
       "92564  D2580062                                QuickBooks Bill Pay   \n",
       "\n",
       "                                                    body  \n",
       "0      Lions Vocabulary of the English Language Word ...  \n",
       "1      The A Priori Argument ( also, Rationalization;...  \n",
       "2      Home > How To Cook Vegetables Everything You N...  \n",
       "3      Longitude Latitude Geographic Coordinate Syste...  \n",
       "4      Answers.com ® Wiki Answers ® Categories Techno...  \n",
       "...                                                  ...  \n",
       "92560  Top 39 Doctor insights on: Can An Iud Cause Ha...  \n",
       "92561  How to get back your Direc TV cancellation fee...  \n",
       "92562  Fingerprinting 1. Where can I get fingerprinte...  \n",
       "92563  Access PDF (682 KB)In 2015, Canada's total gre...  \n",
       "92564  Quick Books Bill Pay Simplify your accounts pa...  \n",
       "\n",
       "[92565 rows x 3 columns]"
      ]
     },
     "execution_count": 6,
     "metadata": {},
     "output_type": "execute_result"
    },
    {
     "name": "stdout",
     "output_type": "stream",
     "text": [
      "time: 43.4 s (started: 2024-03-24 19:30:41 +01:00)\n"
     ]
    }
   ],
   "source": [
    "docs = pd.read_csv('our_msmarco/our.msmarco.docs.tsv',sep='\\t',usecols=[1,2,3])\n",
    "docs"
   ]
  },
  {
   "cell_type": "code",
   "execution_count": 141,
   "id": "20cb5232",
   "metadata": {},
   "outputs": [
    {
     "data": {
      "text/plain": [
       "'Lions Vocabulary of the English Language Word Definitions, Terminology, and Jargon Animals English (language)What do you call a group of lions?17 Answers Michael Scofields, Expert in Language Answered Mar 26, 2016A group of lions is called troop or sault. A family of lions is called pride. Mammals Apes A shrewdness Asses A pace Badgers A cete Bats A colony Bears A sloth, sleuth Buffalo A gang, an obstinacy (I suspect these refer to old world buffalo; use “herd” for American bison)Cats A clowder, a pounce; for kittens…A kindle, litter, an intrigue Cattle A drove, herd Deer A herd, bevy (refers only to roe deer)Dogs A litter (young), pack (wild), cowardice (of curs); specific to hounds…A cry, mute, pack, kennel Elephants A herd Elk A gang Ferrets A business Fox A leash, skulk, earth Giraffes A tower Goats A tribe, trip Gorillas A band Hippopotamuses A bloat Horses A team, harras, rag (for colts), stud (a group of horses belonging to a single owner, string (ponies)Hyenas A cackle Kangaroos A troop Leopards A leap Lions A pride Martens A richness Moles A labor Monkeys A troop, barrel Mules A pack, span, barren Otters A romp Oxen A team, yoke Pigs A drift, drove, litter (young), sounder (of swine), team, passel (of hogs), singular (refers to a group of boars)Porcupines A prickle Rabbits A colony, warren, nest, herd (domestic only), litter (young); specific to hares…A down, husk Rhinoceroses A crash Seals A pod, herd Sheep A drove, flock, herd Squirrels A dray, scurry Tigers A streak Whales A pod, gam, herd Wolves A pack, rout or route (when in movement)4.8k Views · View Upvoters Your response is private. Is this answer still relevant and up to date? Related Questions More Answers Below Why are lion groups called \\'pride\\'? What is a group of deer called? What is a group of camels called? What is a group of fish called? What is a group of goats called? Ask New Question Joydoot Ghatak, Jack of all trades, bachelor of one. Answered Mar 13, 2016 · Author has 56 answers and 87.2k answer views Danger. Jokes apart, Organized groups of lion families - \\'Prides\\'. Groups of nomadic male lions - \\'Coalitions\\'. A pride of lions is not just a group, it is a family with an organised structure. If you get 10 random lions and put them together you do not have a pride, just as if you pick random people, you don\\'t end up with a family. Here is a link to satisfy your answer: http://www.ofcats.com/2007/05/li...18.6k Views · View Upvoters Your response is private. Is this answer still relevant and up to date? Manwinder Kaur, Software Professional Answered Oct 6, 2015A group of mostly female lions is called a pride. A group of male lions is called a coalition.1.6k Views · View Upvoters Your response is private. Is this answer still relevant and up to date?promoted by Grammarly Write with confidence. Grammarly\\'s free writing app makes sure everything you type is easy to read, effective, and mistake-free. Learn More at grammarly.com Suraj Kumar Sharma, precise knowledge of words helps one express oneself exceptionally. Answered Oct 13, 2015 · Author has 126 answers and 606.2k answer views\"A Collective noun for lions\" A group of female lions is called a pride and A group of male lions is called a coalition. Actually there are somethings in English which haven\\'t yet been named explicitly rather are known genuinely by the names which are precisely different, derived from other contexts or scenarios and also the one which sounds like this perfectly relates to them however they are not the ones that we often understand when hear or see and so is the case with these words pride, sault and troop. They all are different as well as mean different but it\\'s the context, characteristics and classes that make the words perfect to be used in other cases as well. So other words could also be sault, troop etc. Or simply we can use a phrase to mean them ie \"a company of lions\". In India (Hindi) it\\'s called \"kumba\".2.5k Views · View Upvoters Angaluri Rishitha, B. Tech (ECE) from SRM Institute of Science and Technology (2020)Answered Oct 11, 2015A group of mostly female lions is called a pride, and a group of male lions is called a coalition. The pride contains female lions and their young offspring, and usually has fewer than 20 members. A coalition of male lions usually includes less than 10 individuals250 Views · View Upvoters Arnab Chakraborty, Author at 420land.blogspot.in Answered Sep 3, 2015 Pride, Sault, Troop. Tip: Instead of posting this question here, a simple search to Google would have returned the same answer. Cheers!10k Views · View Upvoterspromoted by Atlassian Jira official site. One tool is enough to track issues & release great software. Try Jira for free. Free Trial at atlassian.com Santosh Patali, Ever curious and thirsty for knowledge Answered Oct 3, 2015Lot of people have taken Pride in answering the question, let me add my 2 cents to it. Group of female lions is called a Pride which contains upto 25 lioness and cubs. Group of male lions is called a Coalition which contains upto 10 lions. Coalitions fight with other Coalitions for the Pride.566 Views Rene A Diedrich, BA in English, MA in Comparative Literature, MFA in Creative Writing, ELS CA TCAnswered Mar 12, 2016 · Author has 456 answers and 269k answer views They are aptly called a Pride as are all felines though domestic cats tend to beckme colonies in urban areas. I am forced to say mire when there is no more to say. Though you may note that a grouo of crow is cakked a murder, which is also apt as crows are rapacious and kill the aging members. There is only one creatures as vile as crows are .1k Views Karunya Srinivasan, Dancer, writer, constant explorer Answered Mar 18, 2016Characteristic of any member of the cat family, you call a group of lions a \"pride\". More specifically, a group of female lions is called a pride, while a group of male lions is called a \"coalition\". (Much like a government but earning twice the respect in the wild. : P)179 Views Kunal Kapoor, Words fascinate me Answered Mar 12, 2016 · Author has 152 answers and 92.5k answer views A gang of lions is called a pride.135 Views Shefali Joshi, Firm believer that the Centre of the Earth is Food, Food, Food : PAnswered Aug 24, 2015Kindly learn to \"Google\". It would take less time.236 Views · View Upvoters Nikhilender Naidu, works at IEEEAnswered Mar 16, 2016MEN! :p P. S: I am NOT abusing anyone.88 Views Arjun Pal, lives in Kolkata, West Bengal, India Answered Oct 10, 2017Originally Answered: What is a group of lions called? A group of lions is called a \\'pride\\'.86 Views Quora User Answered Nov 14, 2017 · Author has 3.2k answers and 2.6m answer views Originally Answered: What is the group name of a lion? A pride of lions. Usually 1 male, several females (sisters/mothers/daughters) and cubs.110 Views Aakifah Zahraa, studied at Knms Answered Mar 9, 2016Pride, Sault, Troop !Instead of asking this question here, you could have simply searched it on google! Just in one click you would have got the answer!50 Views Swapnil Gedam Answered Nov 14, 2017Originally Answered: What is the group name of a lion? They live in a group called Pride. Pride usually consists of 1–2 males, several females and their cubs.74 Views Ro Hit, works at Facebook Answered Mar 3, 2017 · Author has 93 answers and 13.5k answer views Group of male lions is called Coalition And group of female lions is called pride.28 Views · Answer requested by Mangesh Khandekar Related Questions What is a group of squirrels called? What is a group of crows called? What is a group of pigs called? What is a group of bears called? Why is it called that? What do you call a group of cats? What is a group of ducks called? What do you call a group of sparrows? Why do we call a lion a Panchanana? What do you call a female lion? Who will win a fight between a tiger and a lion? Ask New Question Related Questions Why are lion groups called \\'pride\\'? What is a group of deer called? What is a group of camels called? What is a group of fish called? What is a group of goats called? What is a group of squirrels called? What is a group of crows called? What is a group of pigs called? What is a group of bears called? Why is it called that? What do you call a group of cats? Ask New Question '"
      ]
     },
     "execution_count": 141,
     "metadata": {},
     "output_type": "execute_result"
    },
    {
     "name": "stdout",
     "output_type": "stream",
     "text": [
      "time: 15 ms (started: 2024-03-24 09:13:29 +01:00)\n"
     ]
    }
   ],
   "source": [
    "docs.iloc[0][\"body\"]"
   ]
  },
  {
   "cell_type": "code",
   "execution_count": 7,
   "id": "772a1caf-1c38-4fd8-b819-bbe5f5d287a2",
   "metadata": {},
   "outputs": [
    {
     "name": "stdout",
     "output_type": "stream",
     "text": [
      "Shape of Training Dataset => (500, 2)\n"
     ]
    },
    {
     "data": {
      "text/html": [
       "<div>\n",
       "<style scoped>\n",
       "    .dataframe tbody tr th:only-of-type {\n",
       "        vertical-align: middle;\n",
       "    }\n",
       "\n",
       "    .dataframe tbody tr th {\n",
       "        vertical-align: top;\n",
       "    }\n",
       "\n",
       "    .dataframe thead th {\n",
       "        text-align: right;\n",
       "    }\n",
       "</style>\n",
       "<table border=\"1\" class=\"dataframe\">\n",
       "  <thead>\n",
       "    <tr style=\"text-align: right;\">\n",
       "      <th></th>\n",
       "      <th>qid</th>\n",
       "      <th>query</th>\n",
       "    </tr>\n",
       "  </thead>\n",
       "  <tbody>\n",
       "    <tr>\n",
       "      <th>0</th>\n",
       "      <td>687888</td>\n",
       "      <td>what is a jpe</td>\n",
       "    </tr>\n",
       "    <tr>\n",
       "      <th>1</th>\n",
       "      <td>480210</td>\n",
       "      <td>price for asphalt driveway</td>\n",
       "    </tr>\n",
       "    <tr>\n",
       "      <th>2</th>\n",
       "      <td>591004</td>\n",
       "      <td>what causes pressure skin bruising</td>\n",
       "    </tr>\n",
       "    <tr>\n",
       "      <th>3</th>\n",
       "      <td>260536</td>\n",
       "      <td>how long drive from flagstaff to grand canyon</td>\n",
       "    </tr>\n",
       "    <tr>\n",
       "      <th>4</th>\n",
       "      <td>39422</td>\n",
       "      <td>average number of bowel movements per day for ...</td>\n",
       "    </tr>\n",
       "  </tbody>\n",
       "</table>\n",
       "</div>"
      ],
      "text/plain": [
       "      qid                                              query\n",
       "0  687888                                      what is a jpe\n",
       "1  480210                         price for asphalt driveway\n",
       "2  591004                 what causes pressure skin bruising\n",
       "3  260536      how long drive from flagstaff to grand canyon\n",
       "4   39422  average number of bowel movements per day for ..."
      ]
     },
     "metadata": {},
     "output_type": "display_data"
    },
    {
     "name": "stdout",
     "output_type": "stream",
     "text": [
      "Shape of Testing Dataset => (500, 2)\n"
     ]
    },
    {
     "data": {
      "text/html": [
       "<div>\n",
       "<style scoped>\n",
       "    .dataframe tbody tr th:only-of-type {\n",
       "        vertical-align: middle;\n",
       "    }\n",
       "\n",
       "    .dataframe tbody tr th {\n",
       "        vertical-align: top;\n",
       "    }\n",
       "\n",
       "    .dataframe thead th {\n",
       "        text-align: right;\n",
       "    }\n",
       "</style>\n",
       "<table border=\"1\" class=\"dataframe\">\n",
       "  <thead>\n",
       "    <tr style=\"text-align: right;\">\n",
       "      <th></th>\n",
       "      <th>qid</th>\n",
       "      <th>query</th>\n",
       "    </tr>\n",
       "  </thead>\n",
       "  <tbody>\n",
       "    <tr>\n",
       "      <th>500</th>\n",
       "      <td>116364</td>\n",
       "      <td>decree verb definition</td>\n",
       "    </tr>\n",
       "    <tr>\n",
       "      <th>501</th>\n",
       "      <td>638813</td>\n",
       "      <td>what does hemiballistic mean</td>\n",
       "    </tr>\n",
       "    <tr>\n",
       "      <th>502</th>\n",
       "      <td>401631</td>\n",
       "      <td>is advil considered aspirin?</td>\n",
       "    </tr>\n",
       "    <tr>\n",
       "      <th>503</th>\n",
       "      <td>1050265</td>\n",
       "      <td>who sang the song midnight train to georgia</td>\n",
       "    </tr>\n",
       "    <tr>\n",
       "      <th>504</th>\n",
       "      <td>632336</td>\n",
       "      <td>what does aq mean in chemistry</td>\n",
       "    </tr>\n",
       "  </tbody>\n",
       "</table>\n",
       "</div>"
      ],
      "text/plain": [
       "         qid                                        query\n",
       "500   116364                       decree verb definition\n",
       "501   638813                 what does hemiballistic mean\n",
       "502   401631                 is advil considered aspirin?\n",
       "503  1050265  who sang the song midnight train to georgia\n",
       "504   632336               what does aq mean in chemistry"
      ]
     },
     "execution_count": 7,
     "metadata": {},
     "output_type": "execute_result"
    },
    {
     "name": "stdout",
     "output_type": "stream",
     "text": [
      "time: 31 ms (started: 2024-03-24 19:31:24 +01:00)\n"
     ]
    }
   ],
   "source": [
    "# Creating Training Set of Queries\n",
    "training_queries=queries.iloc[:500]\n",
    "print('Shape of Training Dataset =>',training_queries.shape)\n",
    "display(training_queries.head())\n",
    "# Creating Testing Set of Queries\n",
    "testing_queries=queries.iloc[500:]\n",
    "print('Shape of Testing Dataset =>',testing_queries.shape)\n",
    "testing_queries.head()"
   ]
  },
  {
   "cell_type": "markdown",
   "id": "35de36db-e7e1-4eb4-9589-033a9cfd6d9c",
   "metadata": {},
   "source": [
    "## Exploring the data"
   ]
  },
  {
   "cell_type": "markdown",
   "id": "13879e33-fe7e-4a72-9beb-26c6a47e28fc",
   "metadata": {},
   "source": [
    "### 🚧 Todo: Check whether there are NaN and take care of them"
   ]
  },
  {
   "cell_type": "markdown",
   "id": "35a7c905",
   "metadata": {},
   "source": [
    "#### Checking in Queries"
   ]
  },
  {
   "cell_type": "code",
   "execution_count": 8,
   "id": "7db2e10b-572a-4bc8-bc49-1c85d5130ffa",
   "metadata": {},
   "outputs": [
    {
     "name": "stdout",
     "output_type": "stream",
     "text": [
      "Found NaN Values:\n",
      "\n",
      " qid      False\n",
      "query    False\n",
      "dtype: bool \n",
      "\n",
      "Total Count NaN Values:\n",
      "\n",
      " qid      0\n",
      "query    0\n",
      "dtype: int64\n",
      "time: 32 ms (started: 2024-03-24 19:31:25 +01:00)\n"
     ]
    }
   ],
   "source": [
    "# Check for NaN values\n",
    "print(\"Found NaN Values:\\n\\n\", queries.isna().any(), \"\\n\")\n",
    "\n",
    "# Get the count of NaN values per column\n",
    "print(\"Total Count NaN Values:\\n\\n\", queries.isna().sum())"
   ]
  },
  {
   "cell_type": "markdown",
   "id": "b069db6c",
   "metadata": {},
   "source": [
    "#### Checking in Gold"
   ]
  },
  {
   "cell_type": "code",
   "execution_count": 9,
   "id": "00637025-5daa-4e76-b798-e547a58590e2",
   "metadata": {},
   "outputs": [
    {
     "name": "stdout",
     "output_type": "stream",
     "text": [
      "Found NaN Values:\n",
      "\n",
      " qid      False\n",
      "docid    False\n",
      "rank     False\n",
      "score    False\n",
      "dtype: bool \n",
      "\n",
      "Total Count NaN Values:\n",
      "\n",
      " qid      0\n",
      "docid    0\n",
      "rank     0\n",
      "score    0\n",
      "dtype: int64\n",
      "time: 46 ms (started: 2024-03-24 19:31:25 +01:00)\n"
     ]
    }
   ],
   "source": [
    "# Check for NaN values\n",
    "print(\"Found NaN Values:\\n\\n\", gold.isna().any(), \"\\n\")\n",
    "\n",
    "# Get the count of NaN values per column\n",
    "print(\"Total Count NaN Values:\\n\\n\", gold.isna().sum())"
   ]
  },
  {
   "cell_type": "markdown",
   "id": "8e4fb002",
   "metadata": {},
   "source": [
    "#### Checking in Docs"
   ]
  },
  {
   "cell_type": "code",
   "execution_count": 10,
   "id": "6068c217",
   "metadata": {},
   "outputs": [
    {
     "name": "stdout",
     "output_type": "stream",
     "text": [
      "Shape of Docs Dataset => (92565, 3) \n",
      "\n",
      "Found NaN Values:\n",
      "\n",
      " docid    False\n",
      "title     True\n",
      "body      True\n",
      "dtype: bool \n",
      "\n",
      "Total Count NaN Values:\n",
      "\n",
      " docid      0\n",
      "title    372\n",
      "body       3\n",
      "dtype: int64\n",
      "time: 94 ms (started: 2024-03-24 19:31:26 +01:00)\n"
     ]
    }
   ],
   "source": [
    "# Shape Docs\n",
    "print('Shape of Docs Dataset =>', docs.shape, \"\\n\")\n",
    "\n",
    "# Check for NaN values\n",
    "print(\"Found NaN Values:\\n\\n\", docs.isna().any(), \"\\n\")\n",
    "\n",
    "# Get the count of NaN values per column\n",
    "print(\"Total Count NaN Values:\\n\\n\", docs.isna().sum())"
   ]
  },
  {
   "cell_type": "markdown",
   "id": "ca9b09e6",
   "metadata": {},
   "source": [
    "#### Filling with \".\" titles with NaN values + Removing rows with NaN body"
   ]
  },
  {
   "cell_type": "code",
   "execution_count": 11,
   "id": "89419d47",
   "metadata": {},
   "outputs": [
    {
     "name": "stdout",
     "output_type": "stream",
     "text": [
      "Found NaN Values:\n",
      "\n",
      " docid    False\n",
      "title    False\n",
      "body     False\n",
      "dtype: bool \n",
      "\n",
      "Total Count NaN Values:\n",
      "\n",
      " docid    0\n",
      "title    0\n",
      "body     0\n",
      "dtype: int64\n",
      "time: 188 ms (started: 2024-03-24 19:31:26 +01:00)\n"
     ]
    }
   ],
   "source": [
    "# Filling with \".\" NaN title\n",
    "docs['title'] = docs['title'].fillna('.')\n",
    "\n",
    "# Removing rows with NaN body\n",
    "docs = docs.dropna(subset=['body'])\n",
    "\n",
    "# Check for NaN values\n",
    "print(\"Found NaN Values:\\n\\n\", docs.isna().any(), \"\\n\")\n",
    "\n",
    "# Get the count of NaN values per column\n",
    "print(\"Total Count NaN Values:\\n\\n\", docs.isna().sum())\n"
   ]
  },
  {
   "cell_type": "markdown",
   "id": "a3ad0b40-55ff-4259-a612-0a5709cca349",
   "metadata": {},
   "source": [
    "### Let's have a look at some random query:"
   ]
  },
  {
   "cell_type": "code",
   "execution_count": 147,
   "id": "ed9c9a83-c3dd-483c-a190-9bd4ba8119e5",
   "metadata": {},
   "outputs": [
    {
     "data": {
      "text/plain": [
       "qid                                      251898\n",
       "query    how long does getting a doctorate take\n",
       "Name: 111, dtype: object"
      ]
     },
     "execution_count": 147,
     "metadata": {},
     "output_type": "execute_result"
    },
    {
     "name": "stdout",
     "output_type": "stream",
     "text": [
      "time: 0 ns (started: 2024-03-24 09:13:30 +01:00)\n"
     ]
    }
   ],
   "source": [
    "queries.loc[111]"
   ]
  },
  {
   "cell_type": "code",
   "execution_count": 148,
   "id": "2fb82a23-84e5-4ba1-9f2e-38c6f8b4bae6",
   "metadata": {},
   "outputs": [
    {
     "data": {
      "text/html": [
       "<div>\n",
       "<style scoped>\n",
       "    .dataframe tbody tr th:only-of-type {\n",
       "        vertical-align: middle;\n",
       "    }\n",
       "\n",
       "    .dataframe tbody tr th {\n",
       "        vertical-align: top;\n",
       "    }\n",
       "\n",
       "    .dataframe thead th {\n",
       "        text-align: right;\n",
       "    }\n",
       "</style>\n",
       "<table border=\"1\" class=\"dataframe\">\n",
       "  <thead>\n",
       "    <tr style=\"text-align: right;\">\n",
       "      <th></th>\n",
       "      <th>qid</th>\n",
       "      <th>docid</th>\n",
       "      <th>rank</th>\n",
       "      <th>score</th>\n",
       "    </tr>\n",
       "  </thead>\n",
       "  <tbody>\n",
       "    <tr>\n",
       "      <th>36200</th>\n",
       "      <td>251898</td>\n",
       "      <td>D2865964</td>\n",
       "      <td>1</td>\n",
       "      <td>-4.74293</td>\n",
       "    </tr>\n",
       "    <tr>\n",
       "      <th>36201</th>\n",
       "      <td>251898</td>\n",
       "      <td>D3557816</td>\n",
       "      <td>2</td>\n",
       "      <td>-4.90695</td>\n",
       "    </tr>\n",
       "    <tr>\n",
       "      <th>36202</th>\n",
       "      <td>251898</td>\n",
       "      <td>D2723985</td>\n",
       "      <td>3</td>\n",
       "      <td>-4.95911</td>\n",
       "    </tr>\n",
       "    <tr>\n",
       "      <th>36203</th>\n",
       "      <td>251898</td>\n",
       "      <td>D1951655</td>\n",
       "      <td>4</td>\n",
       "      <td>-4.97272</td>\n",
       "    </tr>\n",
       "    <tr>\n",
       "      <th>36204</th>\n",
       "      <td>251898</td>\n",
       "      <td>D1709749</td>\n",
       "      <td>5</td>\n",
       "      <td>-5.02176</td>\n",
       "    </tr>\n",
       "    <tr>\n",
       "      <th>...</th>\n",
       "      <td>...</td>\n",
       "      <td>...</td>\n",
       "      <td>...</td>\n",
       "      <td>...</td>\n",
       "    </tr>\n",
       "    <tr>\n",
       "      <th>36295</th>\n",
       "      <td>251898</td>\n",
       "      <td>D2531901</td>\n",
       "      <td>96</td>\n",
       "      <td>-5.56896</td>\n",
       "    </tr>\n",
       "    <tr>\n",
       "      <th>36296</th>\n",
       "      <td>251898</td>\n",
       "      <td>D2956542</td>\n",
       "      <td>97</td>\n",
       "      <td>-5.57138</td>\n",
       "    </tr>\n",
       "    <tr>\n",
       "      <th>36297</th>\n",
       "      <td>251898</td>\n",
       "      <td>D301873</td>\n",
       "      <td>98</td>\n",
       "      <td>-5.57262</td>\n",
       "    </tr>\n",
       "    <tr>\n",
       "      <th>36298</th>\n",
       "      <td>251898</td>\n",
       "      <td>D2952336</td>\n",
       "      <td>99</td>\n",
       "      <td>-5.57504</td>\n",
       "    </tr>\n",
       "    <tr>\n",
       "      <th>36299</th>\n",
       "      <td>251898</td>\n",
       "      <td>D1805809</td>\n",
       "      <td>100</td>\n",
       "      <td>-5.57544</td>\n",
       "    </tr>\n",
       "  </tbody>\n",
       "</table>\n",
       "<p>100 rows × 4 columns</p>\n",
       "</div>"
      ],
      "text/plain": [
       "          qid     docid  rank    score\n",
       "36200  251898  D2865964     1 -4.74293\n",
       "36201  251898  D3557816     2 -4.90695\n",
       "36202  251898  D2723985     3 -4.95911\n",
       "36203  251898  D1951655     4 -4.97272\n",
       "36204  251898  D1709749     5 -5.02176\n",
       "...       ...       ...   ...      ...\n",
       "36295  251898  D2531901    96 -5.56896\n",
       "36296  251898  D2956542    97 -5.57138\n",
       "36297  251898   D301873    98 -5.57262\n",
       "36298  251898  D2952336    99 -5.57504\n",
       "36299  251898  D1805809   100 -5.57544\n",
       "\n",
       "[100 rows x 4 columns]"
      ]
     },
     "execution_count": 148,
     "metadata": {},
     "output_type": "execute_result"
    },
    {
     "name": "stdout",
     "output_type": "stream",
     "text": [
      "time: 31 ms (started: 2024-03-24 09:13:30 +01:00)\n"
     ]
    }
   ],
   "source": [
    "gold[gold.qid==251898]"
   ]
  },
  {
   "cell_type": "markdown",
   "id": "eef3095e-4e50-4b76-8a01-7a0009e2b157",
   "metadata": {},
   "source": [
    "### 🚧 Todo: Let's look at the top-ranked document for that query\n",
    "- title\n",
    "- body"
   ]
  },
  {
   "cell_type": "markdown",
   "id": "1fcfa2e1",
   "metadata": {},
   "source": [
    "#### Top-Ranked document: docid = D2865964"
   ]
  },
  {
   "cell_type": "code",
   "execution_count": 149,
   "id": "05475c8d-0f60-4101-920a-22a4b9c78ddd",
   "metadata": {},
   "outputs": [
    {
     "data": {
      "text/html": [
       "<div>\n",
       "<style scoped>\n",
       "    .dataframe tbody tr th:only-of-type {\n",
       "        vertical-align: middle;\n",
       "    }\n",
       "\n",
       "    .dataframe tbody tr th {\n",
       "        vertical-align: top;\n",
       "    }\n",
       "\n",
       "    .dataframe thead th {\n",
       "        text-align: right;\n",
       "    }\n",
       "</style>\n",
       "<table border=\"1\" class=\"dataframe\">\n",
       "  <thead>\n",
       "    <tr style=\"text-align: right;\">\n",
       "      <th></th>\n",
       "      <th>docid</th>\n",
       "      <th>title</th>\n",
       "      <th>body</th>\n",
       "    </tr>\n",
       "  </thead>\n",
       "  <tbody>\n",
       "    <tr>\n",
       "      <th>56982</th>\n",
       "      <td>D2865964</td>\n",
       "      <td>How long does it take to get a post-doctoral degree?</td>\n",
       "      <td>Answers.com ® Wiki Answers ® Categories Jobs &amp; Education Education College Degrees Graduate Degrees How long does it take to get a post-doctoral degree? Flag How long does it take to get a post-doctoral degree? Answer by Joe Ragusa Confidence votes 98.6KI am not aware of any such thing as a postdoctoral degree. You may be referring to postdoctoral research which may be required for obtaining a tenure-track faculty position, especially at research oriented institutions. Some have suggested that postdoctoral appointments - that were traditionally optional - have become mandatory as demand for tenure-track positions in academia has drastically increased over previous decades (Wikipedia). The length of time in this case depends on the type, content, scope, and depth of the research.2 people found this useful Was this answer useful? Yes Somewhat No Tyler Durden9988 1,326 Contributions How long does it take to get a doctoral degree? It totally depends on the actual degree and school but you can assume between three and five years as a general guideline. Medical degrees may take longer due to the internshi …How long does it take to get a doctorate degree in psychology? Answer 6-8 years Mark Swarthout 794,167 Contributions Contract attorney. When not working I teach karate, collect stamps, write books, and play the ukulele. How long does it take to earn a doctorate degree? It depends on the program and how hard you work. Most programs take 2 to 3 years, but it can take longer if you are not a full time student. Sheepgrape 1,482 Contributions How long does it take to get a doctorate degree in psycology? About six years if you go for a Psy. D. or Ph. D. in psychology. Joe Ragusa How long does it take to get a doctor of pharmacy degree? Answer . Pharmacy programs grant the degree of Doctor of Pharmacy (Pharm. D.), which requires at least 6 years of postsecondary study and the passing of a State board of ph …How long does it take to get a doctors degree?it takes 4 years dependig Joe Ragusa How long does it take to get a doctoral degree in business? A doctoral degree can take approximately three to four years after completion of a bachelors degree. Rxdoc1 907 Contributions How long does it take to get a doctorate degree in pharmaceuticals? Since 2000, all coleges of pharmacu have been required to offer only a single-level entry doctorate degree in Pharmacy which takes 6 years to complete. Internship …Joe Ragusa How long does it take to get a doctor of medicine degree? The common path to practicing as a physician requires 8 years of education beyond high school and 3 to 8 additional years of internship and residency. All States, the District …Joe Ragusa How long does it take to get a doctorates degree? It depends on what kind of doctorate. In general, a doctorate will take approximately eight years beyond high school completion. Grrlygirl 10 Contributions How long does it take to get a doctorate degree in economics? Assuming: You are starting with a bachelor's degree You are enrolled in a doctorate program in which the required graduate courses are built in You are a …Joe Ragusa How long does it take to get a doctorate degree after a MBA? It depends on the specific program of study. Still, the approximate time frame could be anywhere from two to four years. Once again this depends on the program of study, the c …Joe Ragusa Answered In College Degrees How long does it take to get a doctorates degree in psycology? It would take approximately four years post high school completion. However, it depends on how long it takes a student to complete the dissertation (original topic, with resea …Joe Ragusa Answered In Anesthesiologists How long does it take to get a anesthesiologist doctor degree? It will take four years for the bachelor's degree with completion of all prerequisite coursework, and four years of medical school. There will also be three or more years to c …Answered In Bachelors Degrees How long does it take to get a doctorate degree in general? Theoretically, it would take 4 years to get a bachelors degree, another two for your masters, and yet another 2 (or more) to get your doctorate or Ph D. That's a total of at le …Tyler Durden9988 1,326 Contributions Answered In Education How long does it take for a doctor degree? The answer to your question depends on what type of doctor you want to know about. Physicians go to medical school for four years and then may seek additional training in resi …Mark Swarthout 794,167 Contributions Contract attorney. When not working I teach karate, collect stamps, write books, and play the ukulele. Answered In Bachelors Degrees How long does it take to get a post-secondary degree? It depends on the focus and level. You can finish law school full time in three years. Most Masters programs could be done in two years.</td>\n",
       "    </tr>\n",
       "  </tbody>\n",
       "</table>\n",
       "</div>"
      ],
      "text/plain": [
       "          docid                                                 title  \\\n",
       "56982  D2865964  How long does it take to get a post-doctoral degree?   \n",
       "\n",
       "                                                                                                                                                                                                                                                                                                                                                                                                                                                                                                                                                                                                                                                                                                                                                                                                                                                                                                                                                                                                                                                                                                                                                                                                                                                                                                                                                                                                                                                                                                                                                                                                                                                                                                                                                                                                                                                                                                                                                                                                                                                                                                                                                                                                                                                                                                                                                                                                                                                                                                                                                                                                                                                                                                                                                                                                                                                                                                                                                                                                                                                                                                                                                                                                                                                                                                                                                                                                                                                                                                                                                                                                                                                                                                                                                                                                                                                                                                                                                                                                                                                                                                                                                                                                                                                                                                                                                                                                                                                                                                                                                                                                                                                                                                                                                                                                                                                                                                                                                                                                                               body  \n",
       "56982  Answers.com ® Wiki Answers ® Categories Jobs & Education Education College Degrees Graduate Degrees How long does it take to get a post-doctoral degree? Flag How long does it take to get a post-doctoral degree? Answer by Joe Ragusa Confidence votes 98.6KI am not aware of any such thing as a postdoctoral degree. You may be referring to postdoctoral research which may be required for obtaining a tenure-track faculty position, especially at research oriented institutions. Some have suggested that postdoctoral appointments - that were traditionally optional - have become mandatory as demand for tenure-track positions in academia has drastically increased over previous decades (Wikipedia). The length of time in this case depends on the type, content, scope, and depth of the research.2 people found this useful Was this answer useful? Yes Somewhat No Tyler Durden9988 1,326 Contributions How long does it take to get a doctoral degree? It totally depends on the actual degree and school but you can assume between three and five years as a general guideline. Medical degrees may take longer due to the internshi …How long does it take to get a doctorate degree in psychology? Answer 6-8 years Mark Swarthout 794,167 Contributions Contract attorney. When not working I teach karate, collect stamps, write books, and play the ukulele. How long does it take to earn a doctorate degree? It depends on the program and how hard you work. Most programs take 2 to 3 years, but it can take longer if you are not a full time student. Sheepgrape 1,482 Contributions How long does it take to get a doctorate degree in psycology? About six years if you go for a Psy. D. or Ph. D. in psychology. Joe Ragusa How long does it take to get a doctor of pharmacy degree? Answer . Pharmacy programs grant the degree of Doctor of Pharmacy (Pharm. D.), which requires at least 6 years of postsecondary study and the passing of a State board of ph …How long does it take to get a doctors degree?it takes 4 years dependig Joe Ragusa How long does it take to get a doctoral degree in business? A doctoral degree can take approximately three to four years after completion of a bachelors degree. Rxdoc1 907 Contributions How long does it take to get a doctorate degree in pharmaceuticals? Since 2000, all coleges of pharmacu have been required to offer only a single-level entry doctorate degree in Pharmacy which takes 6 years to complete. Internship …Joe Ragusa How long does it take to get a doctor of medicine degree? The common path to practicing as a physician requires 8 years of education beyond high school and 3 to 8 additional years of internship and residency. All States, the District …Joe Ragusa How long does it take to get a doctorates degree? It depends on what kind of doctorate. In general, a doctorate will take approximately eight years beyond high school completion. Grrlygirl 10 Contributions How long does it take to get a doctorate degree in economics? Assuming: You are starting with a bachelor's degree You are enrolled in a doctorate program in which the required graduate courses are built in You are a …Joe Ragusa How long does it take to get a doctorate degree after a MBA? It depends on the specific program of study. Still, the approximate time frame could be anywhere from two to four years. Once again this depends on the program of study, the c …Joe Ragusa Answered In College Degrees How long does it take to get a doctorates degree in psycology? It would take approximately four years post high school completion. However, it depends on how long it takes a student to complete the dissertation (original topic, with resea …Joe Ragusa Answered In Anesthesiologists How long does it take to get a anesthesiologist doctor degree? It will take four years for the bachelor's degree with completion of all prerequisite coursework, and four years of medical school. There will also be three or more years to c …Answered In Bachelors Degrees How long does it take to get a doctorate degree in general? Theoretically, it would take 4 years to get a bachelors degree, another two for your masters, and yet another 2 (or more) to get your doctorate or Ph D. That's a total of at le …Tyler Durden9988 1,326 Contributions Answered In Education How long does it take for a doctor degree? The answer to your question depends on what type of doctor you want to know about. Physicians go to medical school for four years and then may seek additional training in resi …Mark Swarthout 794,167 Contributions Contract attorney. When not working I teach karate, collect stamps, write books, and play the ukulele. Answered In Bachelors Degrees How long does it take to get a post-secondary degree? It depends on the focus and level. You can finish law school full time in three years. Most Masters programs could be done in two years.   "
      ]
     },
     "metadata": {},
     "output_type": "display_data"
    },
    {
     "name": "stdout",
     "output_type": "stream",
     "text": [
      "time: 47 ms (started: 2024-03-24 09:13:30 +01:00)\n"
     ]
    }
   ],
   "source": [
    "from IPython.display import display\n",
    "\n",
    "top = docs[docs.docid == \"D2865964\"]\n",
    "\n",
    "with pd.option_context('display.max_colwidth', None):\n",
    "    display(docs[docs.docid == \"D2865964\"])"
   ]
  },
  {
   "cell_type": "markdown",
   "id": "402273c0-e851-43c4-a212-819d0a9b8b4c",
   "metadata": {},
   "source": [
    "### 🚧 Todo: Let's look at the second document\n",
    "- Let's make a function to make that easier"
   ]
  },
  {
   "cell_type": "code",
   "execution_count": 150,
   "id": "ea7f2274-946f-4c18-b2ba-867283278e14",
   "metadata": {},
   "outputs": [
    {
     "name": "stdout",
     "output_type": "stream",
     "text": [
      "Title: How long does it take to get a post-doctoral degree?\n",
      "Body: Answers.com ® Wiki Answers ® Categories Jobs & Education Education College Degrees Graduate Degrees How long does it take to get a post-doctoral degree? Flag How long does it take to get a post-doctoral degree? Answer by Joe Ragusa Confidence votes 98.6KI am not aware of any such thing as a postdoctoral degree. You may be referring to postdoctoral research which may be required for obtaining a tenure-track faculty position, especially at research oriented institutions. Some have suggested that postdoctoral appointments - that were traditionally optional - have become mandatory as demand for tenure-track positions in academia has drastically increased over previous decades (Wikipedia). The length of time in this case depends on the type, content, scope, and depth of the research.2 people found this useful Was this answer useful? Yes Somewhat No Tyler Durden9988 1,326 Contributions How long does it take to get a doctoral degree? It totally depends on the actual degree and school but you can assume between three and five years as a general guideline. Medical degrees may take longer due to the internshi …How long does it take to get a doctorate degree in psychology? Answer 6-8 years Mark Swarthout 794,167 Contributions Contract attorney. When not working I teach karate, collect stamps, write books, and play the ukulele. How long does it take to earn a doctorate degree? It depends on the program and how hard you work. Most programs take 2 to 3 years, but it can take longer if you are not a full time student. Sheepgrape 1,482 Contributions How long does it take to get a doctorate degree in psycology? About six years if you go for a Psy. D. or Ph. D. in psychology. Joe Ragusa How long does it take to get a doctor of pharmacy degree? Answer . Pharmacy programs grant the degree of Doctor of Pharmacy (Pharm. D.), which requires at least 6 years of postsecondary study and the passing of a State board of ph …How long does it take to get a doctors degree?it takes 4 years dependig Joe Ragusa How long does it take to get a doctoral degree in business? A doctoral degree can take approximately three to four years after completion of a bachelors degree. Rxdoc1 907 Contributions How long does it take to get a doctorate degree in pharmaceuticals? Since 2000, all coleges of pharmacu have been required to offer only a single-level entry doctorate degree in Pharmacy which takes 6 years to complete. Internship …Joe Ragusa How long does it take to get a doctor of medicine degree? The common path to practicing as a physician requires 8 years of education beyond high school and 3 to 8 additional years of internship and residency. All States, the District …Joe Ragusa How long does it take to get a doctorates degree? It depends on what kind of doctorate. In general, a doctorate will take approximately eight years beyond high school completion. Grrlygirl 10 Contributions How long does it take to get a doctorate degree in economics? Assuming: You are starting with a bachelor's degree You are enrolled in a doctorate program in which the required graduate courses are built in You are a …Joe Ragusa How long does it take to get a doctorate degree after a MBA? It depends on the specific program of study. Still, the approximate time frame could be anywhere from two to four years. Once again this depends on the program of study, the c …Joe Ragusa Answered In College Degrees How long does it take to get a doctorates degree in psycology? It would take approximately four years post high school completion. However, it depends on how long it takes a student to complete the dissertation (original topic, with resea …Joe Ragusa Answered In Anesthesiologists How long does it take to get a anesthesiologist doctor degree? It will take four years for the bachelor's degree with completion of all prerequisite coursework, and four years of medical school. There will also be three or more years to c …Answered In Bachelors Degrees How long does it take to get a doctorate degree in general? Theoretically, it would take 4 years to get a bachelors degree, another two for your masters, and yet another 2 (or more) to get your doctorate or Ph D. That's a total of at le …Tyler Durden9988 1,326 Contributions Answered In Education How long does it take for a doctor degree? The answer to your question depends on what type of doctor you want to know about. Physicians go to medical school for four years and then may seek additional training in resi …Mark Swarthout 794,167 Contributions Contract attorney. When not working I teach karate, collect stamps, write books, and play the ukulele. Answered In Bachelors Degrees How long does it take to get a post-secondary degree? It depends on the focus and level. You can finish law school full time in three years. Most Masters programs could be done in two years. \n",
      "time: 344 ms (started: 2024-03-24 09:13:30 +01:00)\n"
     ]
    }
   ],
   "source": [
    "def titleAndBody(qid,rank):\n",
    "    # Merge the 'gold' and 'docs' DataFrames on 'docid'\n",
    "    merged_df = pd.merge(gold, docs, on='docid', how='inner')\n",
    "    \n",
    "    # Filter the merged DataFrame for the given 'qid' and 'rank'\n",
    "    target_doc = merged_df[(merged_df['qid'] == qid) & (merged_df['rank'] == rank)]\n",
    "    \n",
    "    # Check if the target document is found\n",
    "    if not target_doc.empty:\n",
    "        # Display the title and body of the document\n",
    "        print(f\"Title: {target_doc.iloc[0]['title']}\")\n",
    "        print(f\"Body: {target_doc.iloc[0]['body']}\")\n",
    "    else:\n",
    "        print(\"Document not found for the given qid and rank.\")\n",
    "\n",
    "\n",
    "titleAndBody(251898,1)"
   ]
  },
  {
   "cell_type": "markdown",
   "id": "ff47ffef-d779-403b-8a7f-75cf0d0cee54",
   "metadata": {},
   "source": [
    "#### Let's look at the 100th document"
   ]
  },
  {
   "cell_type": "code",
   "execution_count": 151,
   "id": "361e71c5-7b0b-4dbe-b8b5-4b8ade9a33cf",
   "metadata": {},
   "outputs": [
    {
     "name": "stdout",
     "output_type": "stream",
     "text": [
      "Title: .\n",
      "Body: Solutions Sang Level 1 (Contributor)61 Answers, 2 Followers\"What process does long distance mail go through...\"2 0 What process does long distance mail go through? I.e from your mail slot to.... Was this answer helpful? Yes | No Comment Reply Report This answer closely relates to: Calculate how long it will take for mail to be sent from one state to another Mechanicsburg pa to cazenovia ny how long to ship regular mail Whats the longest it take to recieve mail from another state Ellsworth Level 1 (Contributor)52 Answers, 1 Follower0 0 From cerritos ca to cleveland oh. Was this answer helpful? Yes | No Comment Reply Report This answer closely relates to: Mailed from kansas city mo on a friday when can i expect it in cleveland ohio Freida Level 1 (Contributor)13 Answers, 1 Follower1 1 How long does it take to get your state and fedurel tax back? Was this answer helpful? Yes | No Comment Reply Report This answer closely relates to: Approximately how long will it take for a package from wichita kansas get to little rock arkansas Letter from kanas to ny how long Approximately how long does it take a package from lafayette to reach raceland louisiana Lavonda Level 1 (Contributor)19 Answers, 1 Follower1 1 How long does it take to get mail from nevada lost veagos to pensacola. Was this answer helpful? Yes | No Comment Reply Report This answer closely relates to: N y to pensacola fl by mail package how maney days Mail went out from arsaw to florida how many days Mail from md to in mailed dec 5th Anonymous0 0 If somebody send a card in the mail on Monday when will I get it from florida to Lancaster ohio. Was this answer helpful? Yes | No Comment Reply Report This answer closely relates to: Mail from florida to ohio Mailing from iowa to florida how may days Mail something from iowa to ohio Suggested Solutions (10) What's this? Avis Level 1 (Contributor)19 Answers, 1 Follower\"If you want it to be priority it will still take 2-3 days...\"5 0 1 day if it is within certain tri counties (60 mile radius). 2 days if it`s within the state (north-south-east-west). 3 days if it is within a remote area of the same state. If you want it to be priority it will still take 2-3 days. Otherwise across the country it could take 3-5 days. Not including weekends. And for packages 7-10 days. International could take up to almost two weeks if you are lucky. I always send things with a tracking number.source: How long does regular mail take with in the same state? Was this answer helpful? Yes | No Comment Reply Report This answer closely relates to: A letter from indianna to lancastr pa how many days deliver Indianapolis in to apex nc days for letter to arrive Mail from north carolina to ny state Alda Level 1 (Contributor)24 Answers, 1 Follower\"The mail sent within state may deliver within 24 hours or may take...\"0 0 It depends on what state you are living in or what state mail service are you precisely asking for. Within USA the states are independent bodies and have control on there own authorities. The mail sent within state may deliver within 24 hours or may take up to 3 days depending on the size, weight and the nature of that mail sent to be delivered within the state. (Sidq2_Jawad)source: How long does mail take to deliver in the same state? Was this answer helpful? Yes | No Comment Reply Report This answer closely relates to: A letter sent friday in austin texas is delivered when in vicksburg ms Mail delivery times from state to state Regular mail from pa to wa Lucio Level 1 (Contributor)31 Answers, 1 Follower0 0 I have sent a mass mailing of magazines within the same state off of e Bay & they arrived to the buyer in about 1 day!source: How long does media mail take to arrive in same state? Was this answer helpful? Yes | No Comment Reply Report This answer closely relates to: Mailing something from delaware to missouri Mailing time from state to state Carrol Level 1 (Contributor)51 Answers, 2 Followers\"You have to file the tax in the same state you have the property in...\"1 0 Yes, you have to file the tax in the same state you have the property in. (Sidq_james Anderson)source: I own a house in another state i receive rent do i need to file state tax return in for that state? Was this answer helpful? Yes | No Comment Reply Report Aileen Level 1 (Contributor)15 Answers, 1 Follower\"1-3 days in the us...\"0 0 1-3 days in the us! i had the same ? 2, then i asked the mail woman!source: How long does mail take within state? Was this answer helpful? Yes | No Comment Reply Report This answer closely relates to: Length of first class mail from peachtree city ga tonewton ks Mailed letter today will arrive Mailed on the 5th when will it arrive Trula Level 1 (Contributor)15 Answers, 1 Follower1 0 If it is coming by the US post office just kiss that letter goodbye.source: How long does it take to mail a letter within your state? Was this answer helpful? Yes | No Comment Reply Report This answer closely relates to: Average time it takes to get letter mailed from olathe ks to mesa az About how long does it take for a letter to come from overland park k s to los angeles ca Letter mailed from kansas city when can i expect to recieve it in alabama Georgene Level 1 (Contributor)20 Answers, 1 Follower0 0 How long does it take to receive mail from los angeles to chicago?source: How long does it take mail to be delivered from one state to another? Was this answer helpful? Yes | No Comment Reply Report This answer closely relates to: Mail time from state to state Mail time from state to state north carolina to kansas Expecting a letter from washigton to texas how long will take to get here Anonymous1 0 How long from mail from pa to get north carolina?source: How long does mail take to deliver from state to state? Was this answer helpful? Yes | No Someone said: about 5-7 days, depending on if you shipped first class Was this comment helpful? Yes | No Comment Reply Report This answer closely relates to: Wheres does mail go from edmeston ny to north carolina Mail time from washington state to virginia Regular mail from wichita kansas to city of industry ca Krystle Level 1 (Contributor)16 Answers, 1 Follower\"Expect 8 weeks...\"0 0 Expect 8 weeks. If you do Direct Deposit, figure on 7.source: How long does it take for irs checks to mail to another state? Was this answer helpful? Yes | No Comment Reply Report Lonnie Level 1 (Contributor)57 Answers, 1 Follower0 0 Ummm.. I suppose but why would you do that?source: Can cigarettes be mail from state to state through the usps? Was this answer helpful? Yes | No Comment Reply Report Add Your Answer How long does it take mail to arrive from state to state? How long does it take mail to arrive from Kansas City to Indianapolis Post to Facebook Post to Twitter Subscribe me Users who viewed this problem also viewed:karensayoung777Level 1 (Contributor)1 Answer\"Long will it take a package from missouri to west virginia if shipped economy...\"0 0How long will it take a package from missouri to west virginia if shipped economy mail? I am getting a package from Kansas City Missouri I live in Charmco West Virginia. How long will it take? Comment Reply Report This discussion closely relates to: Average mail time from kansas city mo to elkton md Package from denver colorado to missouri shipped out tuesday when will it arrive Mail from kansas city mo to media palandrmom121Level 1 (Contributor)1 Answer\"How long will it take a letter to arrive from phila...\"1 0How long will it take a letter to arrive from Phila., PA to Austin, TX? HOW LONG WILL IT TAKE A LETTER FROM PHILA., PA TO AUSTIN, TX?. 3-4 days on average Comment Reply Reportmvandyke Level 1 (Contributor)1 Answer0 0How long does it take for aletter mailed from kansas city kansas to get to des moines iowa? What is the usual time it takes for the post office to deliver mail from one state to another Comment Reply Report This discussion closely relates to: Usual time for package to travel from iowa to fl Regular mail little rock to des moines Mail time from montana to washingtonwiskers13579Level 1 (Contributor)1 Answer\"Mail to get from cleveland texas to peachtree georgia?~need to know how fast mail...\"0 0If a mail lady is driving, how long will it take for mail to get from cleveland texas to peachtree georgia? Need to know how fast mail gets from here to there Comment Reply Report This discussion closely relates to: Mail from alabama to kansas First class mail from missouri to pennsylvania Mail from sc to mouser967321Level 1 (Contributor)1 Answer0 0How how many days does it take mail to get from schererville indiana to norman oklahoma? Time for mail delivery from state to state? Comment Reply Reportuser1025927Level 1 (Contributor)1 Answer\"Va?~will a letter i mail on tuesday arrive by friday?... \"0 0How long does it take for a letter to go from Preston, GA to Herndon, VA? Will a letter I mail on Tuesday arrive by Friday? Comment Reply Report Can you help us by answering one of these related questions? If you live in one state and work in another state which is your state recidence? If i have medicaide in one state and go on vacation in another state can i use it in that state i am visiting? How long does it take to recieve your nc state refund check in the mail after the check has been written? How long does it take priority first class mail to arrive from ft lauderdale florida to baltimore md if mail today at 1259 pm? How long does it take for mail to arrive in mexico if sent through priority international mail? How long does it take for mail from england to arrive in melbourne royal mail? How long does it take for mail packet too arrive in the mail from the uk to chicago ill u s a? Where to mail pa state w2s? If i sell a investment property located in another state do i owe my home state capital gains? Can my wages be garnished for judgment in community property state if i move to common law state? We need your help! Please help us improve our content by removing questions that are essentially the same and merging them into this question. Please tell us which questions below are the same as this one: How long does it take mail to arrive from state to state?77% - How long does it take for mail to get arrive from washington state to maryland?84% - How long does it take \"standard mail\" to go from state to state?38% - How are out of state mail deliver long distance mail?68% - How long does nm take to mail state tax?79% - How long does it take to mail state to stare?58% - How long does u s priority mail take within same state?44% - How long d you have to live in the state of michigan before you are concidered a legal resident of that state?51% - How long withih same state priority mail?68% - About how long does it take for mail to go from michigan to washington state/?59% - How long will it take to receive mail in a differnt state? The following questions have been merged into this one. If you feel any of these questions have been included in error help us improve our content by splitting these questions into seperate discussions. Please unmerge any questions that are not the same as this one: How long does it take mail to arrive from state to state? How long does it take for mail to arrive in another state? -How long does it take for mail to arrive same state? -How long does it take for a letter to get from pensacola to kansas? How long does it take mail from columbia mo to get to westerly ri? How long does it take for a package to come from virginia to washington state? If i mailed something wednesday when will it arrive in des moines ia? How long does mail take from state to state? How long to get mail sent from arkansas to city of industry california? How long for standard mail from kansas city to montana? How long does it take to recive mail from kansas to florida? If you send mailed on saturday morning from toppenish wa to olympia wa when does it arrived? How long dos it take for a letter to come from kansas city to long island ny? If a letter was mailed to me from another state when will i recieve it? How long does it take to mail a letter from denver to des moines? How long for priority mail to arrive nc to nm? How many days does ut take a west virginia state tax check to get mailed? When will a letter arrive from houston texas if i mailed it wednesday to cullen loiusiana? How long does it take for a letter to get from kansas city missouri to san diego california? How long goes it takes for reguler mail to shipp from georgia to kansas? How long does it take to recieve mail from shelton wa to barre pa? How long should mail take to arrive from ca to md? How many days does it take for mail to arrive from georgia to indianapolis? How long does it take to recieve mail from denver colorodo to tupelo ms? How long mail fro california to washington? How long does it take to get from ladson sc to west virginia? How long does it take for a letter to get to kansas from virginia? How long does it take for letter to arrive to east rockaway ny from st petersberg fl? If i mail a letter in state on friday will it arrive on tuesday? How long should it take for mail to arrive from kansas? How many days does it take to get from nevada to pennsylvania? If i mail something in michigan on monday to a michigan address when will it arrive? How long to receive first class mail from washington d c to arkansas? If i sent a letter this morning from houston texas when will it arrive in vicksburg ms? If my card was mailed from copley ohio when would i receive it in melrose fl? How long does it take a package to get from lakeside arizona to port neches texas? \n",
      "time: 265 ms (started: 2024-03-24 09:13:31 +01:00)\n"
     ]
    }
   ],
   "source": [
    "titleAndBody(251898,99)"
   ]
  },
  {
   "attachments": {},
   "cell_type": "markdown",
   "id": "a6f133cb-33fc-4a44-b00a-dd5840bdcaeb",
   "metadata": {},
   "source": [
    "### 🚧 todo: try this with a few different queries to get a feel of the quality of the gold"
   ]
  },
  {
   "cell_type": "code",
   "execution_count": 152,
   "id": "06921d47",
   "metadata": {},
   "outputs": [
    {
     "name": "stdout",
     "output_type": "stream",
     "text": [
      "Title: How long does it take to get a bachelor's in computer engineering?\n",
      "Body: Answers.com ® Wiki Answers ® Categories Business & Finance Business and Industry Industries and Professions How long does it take to get a bachelor's in computer engineering? Flag How long does it take to get a bachelor's in computer engineering? Edit Answer by Joe Ragusa Confidence votes 98.5KA bachelor's degree in most areas can require between 124 to 128 college credits particular to a specific program of study. This would be based on a college or university that operates on a regular two semester academic year which is the most common. For institutions that operate on a tri-semester or quarter-semester it would be quite different. That being said, the Bachelor's degree - in most cases - is designed as a four year program of study, provided the student is full-time and follows their chosen program of study as prescribed by the college or university, and also provided the individual does not require prerequisite or developmental coursework as a result of basic skills testing. The minimum credit load for a full-time student is no less than 12 credits per semester. However, to complete the degree within the four years, a credit load of approximately 15 to 18 credits is recommended. For individuals who work or who have other responsibilities that would prohibit them from attending full-time, completion of the degree may take twice as long. Still, some of this time can be cut down by attending summer sessions and/or interim sessions. In addition, the bachelors and associate degrees are referred to as undergraduate degrees while the Masters and Doctorate degrees referred to as graduate degrees.2 people found this useful Was this answer useful? Yes Somewhat No Lkysmy 3,021 Contributions How long does it take to get a bachelor's degree? Answer . It depends on how hard you work. You can do it in the standard 4 years, or work much harder to get it done in 3. Some people take their time and get it done in 5. Edit Joe Ragusa How long does it take to earn a bachelor's degree in civil engineering? Answer . Bachelors degrees in general are designed to be completed in four years provided the students takes the program as a full-time student. However, how long it takes …How long does it take to earn a bachelor's degree in computer science? Answer It will take 4 years to do ur BE in computers (8 semesters) (ie assuming u hav completed ur 11th and 12th/puc)Edit What jobs can you get with a bachelor's degree in computer engineering?a lot\\\\Edit Alcyone 1,460 Contributions How long does it take earn a bachelor's degree in chemical engineering? Answer Any bachelor's degree normally takes 120 ~ 124 credit hours and can be obtained in 4 years as a full time student. Edit Joe Ragusa How long does it take to earn a bachelor's degree in engineering? A bachelor's degree in most areas can require between 124 to 128 college credits particular to a specific program of study. This would be based on a college or universi …Marvinpau 12,787 Contributions How long does it take to get a bachelor's degree in computer science?a degree in Computer Science takes 4 years. Edit Joe Ragusa How long does it take you to get a bachelor's degree? A bachelor's degree in most areas can require between 124 to 128 college credits particular to a specific program of study. This would be based on a college or universi …Joe Ragusa Bachelor's degree in computer engineering? A bachelor's degree in most areas can require between 120 to 128 college credits particular to a specific program of study. This would be based on a college or university tha …Eccles-Jordan Trigger Circuit 161,790 Contributions This circuit is used in most electronic digital computers ever built & was invented in 1918 (patent GB148582). What is it now called? How long does it take to get a bachelor's degree in aerospace engineering? A bachelor's degree takes 4 years regardless of the field (unless you challenge lots of classes in which it can take less, or you choose to dawdle in which case it can tak …Joe Ragusa How long does it take to earn a bachelor's degree in mechanical engineering? A bachelor's degree in most areas can require between 124 to 128 college credits particular to a specific program of study. This would be based on a college or university tha …Joe Ragusa How long does it take to study computer engineering? It depends on the level of education sought. Read the following as it pertains to the associates and bachelors degree level. . The associates degree is designed as a two yea …Joe Ragusa Answered In Aerospace Engineering How long does it take to earn a bachelor's degree in aerospace engineering? A bachelor's degree in most areas can require between 124 to 128 college credits particular to a specific program of study. This would be based on a college or university tha …Joe Ragusa Answered In Bachelors Degrees How long would it take to earn a bachelor's degree in electronics engineering part time? It depends on the credit load you carry per semester. Part-time can be anywhere from one to 11 credits. It would also depend on whether you enrolled in summer and/or interim s …Joe Ragusa Answered In Graduate Degrees How long does it take to get your Ph. D in computer engineering? The Ph D would take approximately four years post bachelor's to complete. The actual length of time depends much on how long it takes a student to prepare and defend their diss …Joe Ragusa Answered In Associates Degrees If you already have a bachelor's degree in mathematics how long will it take to get a masters degree in structural engineering? First you will have to determine the prerequisite coursework required to be admitted to the program. If you have not completed any of the required prerequisite coursework, you …Pawn323 21 Contributions Answered In Computers How long does it take for a computer engineer to fix a computer? Depends on the nature of the problem...if they need to send for parts or if its a difficult task. Also depends on the skill of the tech. Edit \n",
      "time: 281 ms (started: 2024-03-24 09:13:31 +01:00)\n"
     ]
    }
   ],
   "source": [
    "titleAndBody(251898,19)"
   ]
  },
  {
   "cell_type": "code",
   "execution_count": 153,
   "id": "afb1088f",
   "metadata": {},
   "outputs": [
    {
     "name": "stdout",
     "output_type": "stream",
     "text": [
      "Title: .\n",
      "Body: Q How long does regular mail take with in the same state? How long does it take a regular mail to arrive within the same state in the us Topic: Asked by: Roxie In Politics & Government > Other - Politics & Government > Mail>A Top Solutions1 day if it is within certain tri counties (60 mile radius). 2 days if it`s within the sta ... read more Do not use all of these Private Money Lender here, there are not legitimate and if they ha ... read more Add your answer Post to Facebook Post to Twitter Subscribe me Solutions Avis Level 1 (Contributor)19 Answers, 1 Follower\"1 day if it is within certain tri counties (60 mile radius...\"5 0 1 day if it is within certain tri counties (60 mile radius ). 2 days if it`s within the state (north-south-east-west). 3 days if it is within a remote area of the same state. If you want it to be priority it will still take 2-3 days. Otherwise across the country it could take 3-5 days. Not including weekends. And for packages 7-10 days. International could take up to almost two weeks if you are lucky. I always send things with a tracking number. Was this answer helpful? Yes | No Comment Reply Report This answer closely relates to: Days it take for regular mail to arrive same state Mail days same state Sending a package to someone in the same state Suggested Solutions (10) What's this?kathywalker882Level 7 (Professional)384 Answers\"Singapore and france then you have to beware...\"0 0 Do not use all of these Private Money Lender here, there are not legitimate and if they have a free email account tag i.e. yahoo, gmail, hotmail, live etc then they are not legitimate. If they have telephone number with international dialing codes from Nigeria, India, UK, Singapore and France then you have to beware. A legitimate company would have a genuine website, personalized email address/account and based in the country they claim they are. I would recommend anyone looking a a serious/honest loan lender to visit: DAVID HERLEY FINANCE HOME BASED IN THE USA and their reputation speaks louder than others in the industry when it come to obtaining all kinds of loan, mortgage, debt consolidation and Real Estate Loans. Their full website information and contact details are tel no: +1 (321)-323-1809, Website: www.dherleyfinancehome.net or Email: loans @ dherleyfinancehome.net.source: How long does it take for regular mail to reach canada from the u s? Was this answer helpful? Yes | No Comment Reply Report Ernie Level 1 (Contributor)34 Answers\"First class mail will be delivered between any two locations within the...\"4 0 According to the US Postal Service, First Class mail will be delivered between any two locations within the Continental US within three days.j3h.source: How long for regular mail to get from florida to arizona? Was this answer helpful? Yes | No Comment Reply Report This answer closely relates to: In state regular mail Mailing same state Regular mail how long in the same state Karyl Level 1 (Contributor)12 Answers\"And 2.5 weeks because of customs by regular air package now that customs are...\"1 0 It takes 5 weeks by ship (land) and 2.5 weeks because of customs by regular air package now that customs are getting tougher on taxes.source: How long does it take a regular mail from canada to china? Was this answer helpful? Yes | No Comment Reply Report This answer closely relates to: Regular mail takes how long Regular shipping in the same state Regular mail wihtin mexico how long Anonymous\"2 to 5 buisiness days...\"1 0 In my experiance, 2 to 5 buisiness days . which is just bad, as it should be consistantly 2 buisiness days or less, to the same city.source: How long does it take for regular mail to go from toronto to mississauga? Was this answer helpful? Yes | No Comment Reply Report This answer closely relates to: Letter mailed night before in the same cityrecommendehumbl Level 1 (Contributor)1 Answer\"It will take possibly two business days...\"0 0 It will take possibly two business days. In this case being so much mail to this receiver it could possibly take three days.source: How long does it take a letter to get from clinton, la. to atlanta, ga. by regular mail? Was this answer helpful? Yes | No Comment Reply Report This answer closely relates to: Regular mail how long in state Mailing to same state Usps regular mail letter in the same state Anonymous\"Depends on the package...\"0 0 Depends on the package . If you`re talking a postcard or a standard letter, then between 7-10 business days should do it.source: How long does it take for regular mail to arrive in australia from us? Was this answer helpful? Yes | No Comment Reply Report This answer closely relates to: Letter to arrive in same state Lesley Level 1 (Contributor)55 Answers1 0 It usually takes about 2 days after you send it for that person to recieve it.source: How many days does regular mail take within a state? Was this answer helpful? Yes | No Comment Reply Report This answer closely relates to: Mailing within same state takes how long Mailing in the same state takes how long Send express mail in same statedianemyers84Level 1 (Contributor)3 Answers0 0 It wil take about 4-5days to receive your mail from nashvlle to omaha in regular mail.source: How long for regular mail to get from florida to arizona? Was this answer helpful? Yes | No Comment Reply Report This answer closely relates to: Hong kong regular mail spain Regular mail how long does it take Regular mail how long Tommie Level 3 (Helper)53 Answers0 0 I live in sf valley How long dose it take a letter to get shipped to la county jail.source: How long for regular mail to get from florida to arizona? Was this answer helpful? Yes | No Comment Reply Report This answer closely relates to: Mail how long same state W long does mail take g Has long does mail take within same state Shane Level 1 (Contributor)52 Answers1 0 How long does it take for a first class letter to get to China from the US?source: How long for regular mail to get from florida to arizona? Was this answer helpful? Yes | No Comment Reply Report This answer closely relates to: Mail to the same state how long Add Your Answer How long does regular mail take with in the same state? How long does it take a regular mail to arrive within the same state in the us Post to Facebook Post to Twitter Subscribe me Can you help us by answering one of these related questions? How long will it take regular mail to get from forrest city, ar to conway, ar? How long does it take for regular mail shipped from boston to get to cincinnati? How long does it take a letter to get from california to connecticut regular mail? How long does it take for regular mail to be received from oregon to houston tx? How long for regular mail to arrive from canada to america? How long does it take a package to get to guam from new york by regular mail? How long does regular mail from washington take to arrive on guam? How long it takes to get regular mail from syracuse to staten island ny? How long does it take regular usps mail to get from atlanta ga to south carolina>? How long do regular mail take from california to orange tx. if mailed monday? We need your help! Please help us improve our content by removing questions that are essentially the same and merging them into this question. Please tell us which questions below are the same as this one: How long does regular mail take with in the same state?62% - How does regular mail get from one state to anonther?61% - How long for regular mail to get from nc to or?72% - How long does regular mail take from ct to mo?61% - How long does it take for regular mail to get from fl to pa?63% - How long does it take for regular mail to take from america to uk?72% - How long does regular mail take to reach us from uk?18% - How long does it take for regular mail from colorado to memphis?43% - How long does it take for parcel from india to us in regular mail?35% - How long will it take for a package to get from australia to the us in regular mail?40% - How long will a package take from ukraine to us regular air mail? The following questions have been merged into this one. If you feel any of these questions have been included in error help us improve our content by splitting these questions into seperate discussions. Please unmerge any questions that are not the same as this one: How long does regular mail take with in the same state? Why does forwarded mail take so long to reach destination? - Mail to the same state How long does a envelope take to send within same state? Can mail arrive on the same day in the same state? - Mail within same state How long does it take a regular letter to send in the same state? - Regular mail within us How long for package to get from allen park to detroit? Does mail get delivered the next day in same state? - Mail in same state How long does it take for a package to arive through regular mail in the same state? - Regular mail time within the same state Why havent i received a letter that was mailed within the same city? How long does it take for mail coming from the same state? - Mail coming to the same state How long does it take for mail to arrive within the same city? - Mailing within same state If you mail a letter in the same state will it get to it s destination the same day? - Mail same state How much time for a mail within state? - Mail to same state How many days does regular take if in same state? How long does regular mail take in state? - Mail in the same state How long does it take mail to reach destination within same state? - Same state mail How long does ie get to get a regular mail letter? - Mailing within the same state How long does it take for regular mail? - Mailing in the same state How long does it take to receive mail in the same city? - Mail within the same state How long does it take for regular mail letter to reach california from ohio 3rd class? How long does it take to get mail from the same state? How long does take regular mail to arrive within same state? How long does it take for mail to arrive in the same state? How long does regular mail take to arrive? How long does regular mail take? How long would it take for mail to be sent if its in the same state? How long regular mail within county? If something is mailed in the same state how many days does it take? How long will mail take to arrive from same state? How long will it take mail to arrive same state? How long does it take for mail to get to same state? How long does it take to get mail from the same stat? How long does mail take in the same state? How long mail take in same state? How long does mail take to be delivered within a state? How long does regular mail take to be delivered? \n",
      "time: 453 ms (started: 2024-03-24 09:13:31 +01:00)\n"
     ]
    }
   ],
   "source": [
    "titleAndBody(251898,53)"
   ]
  },
  {
   "cell_type": "code",
   "execution_count": 154,
   "id": "81e1c87a",
   "metadata": {},
   "outputs": [
    {
     "data": {
      "text/html": [
       "<div>\n",
       "<style scoped>\n",
       "    .dataframe tbody tr th:only-of-type {\n",
       "        vertical-align: middle;\n",
       "    }\n",
       "\n",
       "    .dataframe tbody tr th {\n",
       "        vertical-align: top;\n",
       "    }\n",
       "\n",
       "    .dataframe thead th {\n",
       "        text-align: right;\n",
       "    }\n",
       "</style>\n",
       "<table border=\"1\" class=\"dataframe\">\n",
       "  <thead>\n",
       "    <tr style=\"text-align: right;\">\n",
       "      <th></th>\n",
       "      <th>docid</th>\n",
       "      <th>title</th>\n",
       "      <th>body</th>\n",
       "    </tr>\n",
       "  </thead>\n",
       "  <tbody>\n",
       "    <tr>\n",
       "      <th>89525</th>\n",
       "      <td>D3381269</td>\n",
       "      <td>.</td>\n",
       "      <td>Q How long does regular mail take with in the ...</td>\n",
       "    </tr>\n",
       "  </tbody>\n",
       "</table>\n",
       "</div>"
      ],
      "text/plain": [
       "          docid title                                               body\n",
       "89525  D3381269     .  Q How long does regular mail take with in the ..."
      ]
     },
     "execution_count": 154,
     "metadata": {},
     "output_type": "execute_result"
    },
    {
     "name": "stdout",
     "output_type": "stream",
     "text": [
      "time: 31 ms (started: 2024-03-24 09:13:32 +01:00)\n"
     ]
    }
   ],
   "source": [
    "docs[docs.docid == \"D3381269\"]"
   ]
  },
  {
   "cell_type": "markdown",
   "id": "02e6d82b-f8f1-4f6c-bc85-5c6a886ae303",
   "metadata": {},
   "source": [
    "## Doing our first baseline retrieval function\n",
    "\n",
    "- Todo: \n",
    "    - Build and fit a binary CountVectorizer on the **titles** - DONE\n",
    "    - Play with and understand build_analyzer, build_tokenizer, and transform - DONE\n",
    "    - Transform our query 111 - DONE\n",
    "    - Understand what happens with yet unseen words in the transform process - DONE\n",
    "    - Find the docs with the most words in common - DONE\n",
    "    - Write an evaluation function computing the top 10 precision p@10 - DONE\n",
    "    - Apply to our 500 queries - DONE\n"
   ]
  },
  {
   "cell_type": "markdown",
   "id": "cd905d56",
   "metadata": {},
   "source": [
    "#### Reminder of our documents dataset"
   ]
  },
  {
   "cell_type": "code",
   "execution_count": 10,
   "id": "7607ad1d",
   "metadata": {},
   "outputs": [
    {
     "data": {
      "text/html": [
       "<div>\n",
       "<style scoped>\n",
       "    .dataframe tbody tr th:only-of-type {\n",
       "        vertical-align: middle;\n",
       "    }\n",
       "\n",
       "    .dataframe tbody tr th {\n",
       "        vertical-align: top;\n",
       "    }\n",
       "\n",
       "    .dataframe thead th {\n",
       "        text-align: right;\n",
       "    }\n",
       "</style>\n",
       "<table border=\"1\" class=\"dataframe\">\n",
       "  <thead>\n",
       "    <tr style=\"text-align: right;\">\n",
       "      <th></th>\n",
       "      <th>docid</th>\n",
       "      <th>title</th>\n",
       "      <th>body</th>\n",
       "    </tr>\n",
       "  </thead>\n",
       "  <tbody>\n",
       "    <tr>\n",
       "      <th>0</th>\n",
       "      <td>D2981241</td>\n",
       "      <td>What do you call a group of lions?</td>\n",
       "      <td>Lions Vocabulary of the English Language Word ...</td>\n",
       "    </tr>\n",
       "    <tr>\n",
       "      <th>1</th>\n",
       "      <td>D687756</td>\n",
       "      <td>.</td>\n",
       "      <td>The A Priori Argument ( also, Rationalization;...</td>\n",
       "    </tr>\n",
       "    <tr>\n",
       "      <th>2</th>\n",
       "      <td>D913099</td>\n",
       "      <td>Everything You Need To Learn How To Cook Veget...</td>\n",
       "      <td>Home &gt; How To Cook Vegetables Everything You N...</td>\n",
       "    </tr>\n",
       "    <tr>\n",
       "      <th>3</th>\n",
       "      <td>D328017</td>\n",
       "      <td>What is the difference between latitude, longi...</td>\n",
       "      <td>Longitude Latitude Geographic Coordinate Syste...</td>\n",
       "    </tr>\n",
       "    <tr>\n",
       "      <th>4</th>\n",
       "      <td>D1636347</td>\n",
       "      <td>When was the pulley invented?</td>\n",
       "      <td>Answers.com ® Wiki Answers ® Categories Techno...</td>\n",
       "    </tr>\n",
       "    <tr>\n",
       "      <th>...</th>\n",
       "      <td>...</td>\n",
       "      <td>...</td>\n",
       "      <td>...</td>\n",
       "    </tr>\n",
       "    <tr>\n",
       "      <th>92560</th>\n",
       "      <td>D3379210</td>\n",
       "      <td>Top 39 Doctor insights on: Can An Iud Cause Ha...</td>\n",
       "      <td>Top 39 Doctor insights on: Can An Iud Cause Ha...</td>\n",
       "    </tr>\n",
       "    <tr>\n",
       "      <th>92561</th>\n",
       "      <td>D3068739</td>\n",
       "      <td>How to get back your DirecTV cancellation fees</td>\n",
       "      <td>How to get back your Direc TV cancellation fee...</td>\n",
       "    </tr>\n",
       "    <tr>\n",
       "      <th>92562</th>\n",
       "      <td>D1590402</td>\n",
       "      <td>Certification FAQs</td>\n",
       "      <td>Fingerprinting 1. Where can I get fingerprinte...</td>\n",
       "    </tr>\n",
       "    <tr>\n",
       "      <th>92563</th>\n",
       "      <td>D2175490</td>\n",
       "      <td>Greenhouse gas emissions by Canadian economic ...</td>\n",
       "      <td>Access PDF (682 KB)In 2015, Canada's total gre...</td>\n",
       "    </tr>\n",
       "    <tr>\n",
       "      <th>92564</th>\n",
       "      <td>D2580062</td>\n",
       "      <td>QuickBooks Bill Pay</td>\n",
       "      <td>Quick Books Bill Pay Simplify your accounts pa...</td>\n",
       "    </tr>\n",
       "  </tbody>\n",
       "</table>\n",
       "<p>92562 rows × 3 columns</p>\n",
       "</div>"
      ],
      "text/plain": [
       "          docid                                              title  \\\n",
       "0      D2981241                 What do you call a group of lions?   \n",
       "1       D687756                                                  .   \n",
       "2       D913099  Everything You Need To Learn How To Cook Veget...   \n",
       "3       D328017  What is the difference between latitude, longi...   \n",
       "4      D1636347                      When was the pulley invented?   \n",
       "...         ...                                                ...   \n",
       "92560  D3379210  Top 39 Doctor insights on: Can An Iud Cause Ha...   \n",
       "92561  D3068739     How to get back your DirecTV cancellation fees   \n",
       "92562  D1590402                                 Certification FAQs   \n",
       "92563  D2175490  Greenhouse gas emissions by Canadian economic ...   \n",
       "92564  D2580062                                QuickBooks Bill Pay   \n",
       "\n",
       "                                                    body  \n",
       "0      Lions Vocabulary of the English Language Word ...  \n",
       "1      The A Priori Argument ( also, Rationalization;...  \n",
       "2      Home > How To Cook Vegetables Everything You N...  \n",
       "3      Longitude Latitude Geographic Coordinate Syste...  \n",
       "4      Answers.com ® Wiki Answers ® Categories Techno...  \n",
       "...                                                  ...  \n",
       "92560  Top 39 Doctor insights on: Can An Iud Cause Ha...  \n",
       "92561  How to get back your Direc TV cancellation fee...  \n",
       "92562  Fingerprinting 1. Where can I get fingerprinte...  \n",
       "92563  Access PDF (682 KB)In 2015, Canada's total gre...  \n",
       "92564  Quick Books Bill Pay Simplify your accounts pa...  \n",
       "\n",
       "[92562 rows x 3 columns]"
      ]
     },
     "execution_count": 10,
     "metadata": {},
     "output_type": "execute_result"
    },
    {
     "name": "stdout",
     "output_type": "stream",
     "text": [
      "time: 16 ms (started: 2024-03-24 16:29:07 +01:00)\n"
     ]
    }
   ],
   "source": [
    "docs"
   ]
  },
  {
   "cell_type": "markdown",
   "id": "a73ce76b",
   "metadata": {},
   "source": [
    "#### Build and fit a Binary CountVectorizer on the titles"
   ]
  },
  {
   "cell_type": "code",
   "execution_count": 156,
   "id": "b2a9419e-a830-4cd4-a43a-173328fa9d48",
   "metadata": {},
   "outputs": [
    {
     "name": "stdout",
     "output_type": "stream",
     "text": [
      "List of all titles within docs:\n",
      "\n",
      " ['What do you call a group of lions?' '.'\n",
      " 'Everything You Need To Learn How To Cook Vegetables' ...\n",
      " 'Certification FAQs'\n",
      " 'Greenhouse gas emissions by Canadian economic sector'\n",
      " 'QuickBooks Bill Pay']\n",
      "time: 63 ms (started: 2024-03-24 09:13:32 +01:00)\n"
     ]
    }
   ],
   "source": [
    "from sklearn.feature_extraction.text import CountVectorizer\n",
    "\n",
    "titles = docs.title.values\n",
    "print(\"List of all titles within docs:\\n\\n\", titles)"
   ]
  },
  {
   "cell_type": "code",
   "execution_count": 157,
   "id": "a9cb1d2d",
   "metadata": {},
   "outputs": [
    {
     "name": "stdout",
     "output_type": "stream",
     "text": [
      "We got 39479 features, for example ['stable' 'stack' 'stackable' 'stacked' 'stackplayer' 'stacks']\n",
      "time: 4.08 s (started: 2024-03-24 09:13:32 +01:00)\n"
     ]
    }
   ],
   "source": [
    "# understand the options: \n",
    "# https://scikit-learn.org/stable/modules/generated/sklearn.feature_extraction.text.CountVectorizer.html\n",
    "\n",
    "# Instantiation of CountVectorizer with binary mode\n",
    "vectorizer = CountVectorizer(binary=True)\n",
    "\n",
    "X_titles = vectorizer.fit_transform(titles)\n",
    "\n",
    "print('We got',len(vectorizer.get_feature_names_out()),'features, for example',vectorizer.get_feature_names_out()[33333:33339])\n"
   ]
  },
  {
   "cell_type": "markdown",
   "id": "171ba744",
   "metadata": {},
   "source": [
    "##### Visualizing the sparse matrix X"
   ]
  },
  {
   "cell_type": "code",
   "execution_count": 158,
   "id": "11ebccb7",
   "metadata": {},
   "outputs": [
    {
     "data": {
      "text/plain": [
       "array([[0, 0, 0, ..., 0, 0, 0],\n",
       "       [0, 0, 0, ..., 0, 0, 0],\n",
       "       [0, 0, 0, ..., 0, 0, 0],\n",
       "       ...,\n",
       "       [0, 0, 0, ..., 0, 0, 0],\n",
       "       [0, 0, 0, ..., 0, 0, 0],\n",
       "       [0, 0, 0, ..., 0, 0, 0]], dtype=int64)"
      ]
     },
     "execution_count": 158,
     "metadata": {},
     "output_type": "execute_result"
    },
    {
     "name": "stdout",
     "output_type": "stream",
     "text": [
      "time: 31 ms (started: 2024-03-24 09:13:36 +01:00)\n"
     ]
    }
   ],
   "source": [
    "subset = X_titles[:100, :100].toarray()\n",
    "subset"
   ]
  },
  {
   "cell_type": "markdown",
   "id": "1488a1bd",
   "metadata": {},
   "source": [
    "#### Play with and understand build_analyzer, build_tokenizer, and transform"
   ]
  },
  {
   "cell_type": "markdown",
   "id": "a96fcb45",
   "metadata": {},
   "source": [
    "Summary:\n",
    "\n",
    "- build_analyzer: This function returns a callable that prepares the text data by preprocessing, tokenizing, and filtering stop words. It's the entire process that CountVectorizer goes through to convert text into tokens before counting them.\n",
    "\n",
    "- build_tokenizer: This function returns a callable that splits the input text into tokens. It does not perform any preprocessing or stop word removal.\n",
    "\n",
    "- transform: This method is used on the CountVectorizer to convert the array of text data (titles) into a matrix of token counts."
   ]
  },
  {
   "cell_type": "code",
   "execution_count": 159,
   "id": "9b1dacd6-49c2-44e7-8271-62bc68cd6ecf",
   "metadata": {},
   "outputs": [
    {
     "name": "stdout",
     "output_type": "stream",
     "text": [
      "Original Title:\n",
      " What do you call a group of lions?\n",
      "\n",
      "Analyzed Title:\n",
      " ['what', 'do', 'you', 'call', 'group', 'of', 'lions'] \n",
      "\n",
      "time: 16 ms (started: 2024-03-24 09:13:36 +01:00)\n"
     ]
    }
   ],
   "source": [
    "print(\"Original Title:\\n\", docs.iloc[0].title)\n",
    "\n",
    "# Get the analyzer function from the CountVectorizer instance\n",
    "analyzer = vectorizer.build_analyzer()\n",
    "\n",
    "# Use the analyzer on a title\n",
    "example_title = docs['title'].iloc[0]\n",
    "print(\"\\nAnalyzed Title:\\n\", analyzer(example_title), \"\\n\")  "
   ]
  },
  {
   "cell_type": "code",
   "execution_count": 160,
   "id": "a543574d-626e-4d60-9465-a89eca40896d",
   "metadata": {},
   "outputs": [
    {
     "name": "stdout",
     "output_type": "stream",
     "text": [
      "Tokenized Title:\n",
      " ['What', 'do', 'you', 'call', 'group', 'of', 'lions'] \n",
      "\n",
      "time: 16 ms (started: 2024-03-24 09:13:36 +01:00)\n"
     ]
    }
   ],
   "source": [
    "# Get the tokenizer function from the CountVectorizer instance\n",
    "tokenizer = vectorizer.build_tokenizer()\n",
    "\n",
    "# Use the tokenizer on a title\n",
    "# This will output the raw tokens without preprocessing, however it removes punctuation.\n",
    "print(\"Tokenized Title:\\n\", tokenizer(example_title), \"\\n\")  \n"
   ]
  },
  {
   "cell_type": "code",
   "execution_count": 161,
   "id": "b2c79230-8787-4357-bd11-952451725a15",
   "metadata": {},
   "outputs": [
    {
     "data": {
      "text/plain": [
       "<92562x39479 sparse matrix of type '<class 'numpy.int64'>'\n",
       "\twith 500636 stored elements in Compressed Sparse Row format>"
      ]
     },
     "execution_count": 161,
     "metadata": {},
     "output_type": "execute_result"
    },
    {
     "name": "stdout",
     "output_type": "stream",
     "text": [
      "time: 1.34 s (started: 2024-03-24 09:13:36 +01:00)\n"
     ]
    }
   ],
   "source": [
    "# Transform the titles into a sparse matrix of token counts\n",
    "qv = vectorizer.transform(docs['title'])\n",
    "qv"
   ]
  },
  {
   "cell_type": "markdown",
   "id": "5cebafad",
   "metadata": {},
   "source": [
    "#### Query to transform: 111"
   ]
  },
  {
   "cell_type": "markdown",
   "id": "b8e28582",
   "metadata": {},
   "source": [
    "##### Information:"
   ]
  },
  {
   "cell_type": "markdown",
   "id": "e05b0a98",
   "metadata": {},
   "source": [
    "Main differences between fit_transform and transform.\n",
    "\n",
    "1. fit_transform:\n",
    "    - When applied to training data, fit_transform first 'fits' or 'trains' the transformer on the data. This means it learns any necessary parameters from the data, such as the mean and standard deviation for scaling or the document-term matrix in text vectorization.\n",
    "    - After fitting, it immediately 'transforms' the training data according to these learned parameters. This means it applies the learned transformation rules to the data, such as scaling the data or converting text data into a numeric format.\n",
    "    - The result of fit_transform is the transformed version of the input data, ready for training a machine learning model.\n",
    "    - fit_transform is typically used on the training dataset to prepare the transformer for later use on other data.\n",
    "\n",
    "2. transform:\n",
    "\n",
    "    - transform is used after the transformer has been fitted. If you have new data that you want to process in the same way as the training data, you'd use transform.\n",
    "    - It applies the transformation rules learned during the fit phase to new data. The new data gets transformed without re-learning the transformation parameters.\n",
    "    - This method ensures that the transformation on new data is consistent with the transformation performed on the training data.\n",
    "    - transform is used on new or testing datasets to apply the same transformation as learned from the training dataset."
   ]
  },
  {
   "cell_type": "code",
   "execution_count": 162,
   "id": "8f15f005",
   "metadata": {},
   "outputs": [
    {
     "name": "stdout",
     "output_type": "stream",
     "text": [
      "['how long does getting a doctorate take']\n",
      "time: 0 ns (started: 2024-03-24 09:13:38 +01:00)\n"
     ]
    }
   ],
   "source": [
    "query_111 = [queries.iloc[111].query]\n",
    "\n",
    "print(query_111)"
   ]
  },
  {
   "cell_type": "markdown",
   "id": "b60e3650",
   "metadata": {},
   "source": [
    "Previously, we fit CountVectorizer with the complete list of titles, now we transform the query 111 by applying the transformation rules learned during the fit phase."
   ]
  },
  {
   "cell_type": "markdown",
   "id": "ec64efe0",
   "metadata": {},
   "source": [
    "##### Transformed Query"
   ]
  },
  {
   "cell_type": "code",
   "execution_count": 163,
   "id": "7837b80f",
   "metadata": {},
   "outputs": [
    {
     "name": "stdout",
     "output_type": "stream",
     "text": [
      "  (0, 11411)\t1\n",
      "  (0, 11430)\t1\n",
      "  (0, 15497)\t1\n",
      "  (0, 17586)\t1\n",
      "  (0, 21277)\t1\n",
      "  (0, 34584)\t1\n",
      "time: 16 ms (started: 2024-03-24 09:13:38 +01:00)\n"
     ]
    }
   ],
   "source": [
    "query_111_transformed = vectorizer.transform(query_111)\n",
    "\n",
    "print(query_111_transformed)"
   ]
  },
  {
   "cell_type": "markdown",
   "id": "e30116df-0d90-4ca7-9111-e9a56e368f9b",
   "metadata": {},
   "source": [
    "### 🚧 Todo:\n",
    "\n",
    "- Understand what happens with yet unseen words in the transform process - DONE\n",
    "- Think of the shape of X, what are the rows, what are the columns? - DONE\n",
    "- How to select the titles that have the words of our query?\n",
    "       - think of matrix multiplication and transposition - DONE"
   ]
  },
  {
   "cell_type": "markdown",
   "id": "73aa7b84",
   "metadata": {},
   "source": [
    "#### 1. Understand what happens with yet unseen words in the transform process\n",
    "\n",
    "Words that were not seen during the fitting process of CountVectorizer will be ignored during the transformation because they are not part of the vocabulary that the vectorizer knows. In other words, if a word was not encountered in the training dataset (during .fit or .fit_transform), it will not be recognized when new data is passed through .transform."
   ]
  },
  {
   "cell_type": "markdown",
   "id": "19f88b07",
   "metadata": {},
   "source": [
    "#### 2. Think of the shape of X, what are the rows, what are the columns?\n",
    "\n",
    "In the output of CountVectorizer, rows represent individual documents (titles), and columns represent unique tokens or words across the entire corpus that was fitted to the vectorizer. Each cell in the matrix contains the count (or presence/absence in binary mode) of the token corresponding to that column in the document corresponding to that row."
   ]
  },
  {
   "cell_type": "markdown",
   "id": "5e424adb",
   "metadata": {},
   "source": [
    "#### 3. How to select the titles that have the words of our query?\n",
    "\n",
    "To select titles containing specific words from a query, we can use matrix multiplication. Multiplying the term-document matrix (where each row represents a document and each column represents a term) by the transpose of the term-query matrix will give you a new matrix indicating which documents contain the terms of the query. Then we select the document which contains the highest number of terms from our query.\n",
    "\n",
    "Let's consider an example to illustrate the idea:\n",
    "\n",
    "- document_titles = [\n",
    "    \"How to bake a cake\",\n",
    "    \"How to program in Python\",\n",
    "    \"The history of ancient Rome\"\n",
    "]\n",
    "\n",
    "- query = [\"how to bake\"]\n",
    "\n",
    "We will use CountVectorizer to create the term-document matrix for the titles and transform the query into its vector representation. Then, multiply both to obtain the common words."
   ]
  },
  {
   "cell_type": "code",
   "execution_count": 164,
   "id": "7c02198a",
   "metadata": {},
   "outputs": [
    {
     "name": "stdout",
     "output_type": "stream",
     "text": [
      "document_titles vector:\n",
      " [[0 1 1 0 1 0 0 0 0 0 0 1]\n",
      " [0 0 0 0 1 1 0 1 1 0 0 1]\n",
      " [1 0 0 1 0 0 1 0 0 1 1 0]]\n",
      "\n",
      "query vector:\n",
      " [[0 1 0 0 1 0 0 0 0 0 0 1]]\n",
      "\n",
      "Matching words:\n",
      " [[3]\n",
      " [2]\n",
      " [0]]\n",
      "\n",
      "This tells us that the first title has 3 words in common with the query,\n",
      "the second title has one word in common, and the third title has no words in common.\n",
      "\n",
      "time: 16 ms (started: 2024-03-24 09:13:38 +01:00)\n"
     ]
    }
   ],
   "source": [
    "document_titles = [\n",
    "    \"How to bake a cake\",\n",
    "    \"How to program in Python\",\n",
    "    \"The history of ancient Rome\"\n",
    "]\n",
    "\n",
    "query = [\"how to bake\"]\n",
    "\n",
    "# Initialize the CountVectorizer\n",
    "vectorizer_2 = CountVectorizer()\n",
    "\n",
    "# Fit and transform the document titles\n",
    "X_example = vectorizer_2.fit_transform(document_titles)\n",
    "\n",
    "# Convert to dense matrix for the example display\n",
    "dense_X_example = X_example.toarray()\n",
    "\n",
    "# Show the term-document matrix\n",
    "print(\"document_titles vector:\\n\", dense_X_example)\n",
    "\n",
    "# Transform the query using the same vectorizer\n",
    "query_vector = vectorizer_2.transform(query)\n",
    "\n",
    "# Convert to dense matrix for the example display\n",
    "dense_query_vector = query_vector.toarray()\n",
    "\n",
    "# Show the query vector\n",
    "print(\"\\nquery vector:\\n\", dense_query_vector)\n",
    "\n",
    "# Multiply the term-document matrix by the query vector\n",
    "matching_titles = dense_X_example.dot(dense_query_vector.T)\n",
    "\n",
    "# Show which titles have words in common with the query\n",
    "print(\"\\nMatching words:\\n\", matching_titles)\n",
    "\n",
    "print(\"\\nThis tells us that the first title has 3 words in common with the query,\\nthe second title has one word in common, and the third title has no words in common.\\n\")\n"
   ]
  },
  {
   "cell_type": "markdown",
   "id": "6fb69ccc-a0c1-4e22-a9c0-16acba58aa5c",
   "metadata": {},
   "source": [
    "### 🚧 Todo: \n",
    "  - Look at argmax and max, \n",
    "  - Check the numpy \n",
    "      - Flatnonzero function to find the best match\n",
    "      - The .A and the .flat functions\n",
    "  - Show the best matching doc"
   ]
  },
  {
   "cell_type": "markdown",
   "id": "511f334b",
   "metadata": {},
   "source": [
    "#### Query"
   ]
  },
  {
   "cell_type": "code",
   "execution_count": 165,
   "id": "eb94539a",
   "metadata": {},
   "outputs": [
    {
     "name": "stdout",
     "output_type": "stream",
     "text": [
      "Query: ['how long does getting a doctorate take'] \n",
      "\n",
      "Query Vector: (1, 39479)\n",
      "time: 0 ns (started: 2024-03-24 09:13:38 +01:00)\n"
     ]
    }
   ],
   "source": [
    "print(\"Query:\", query_111, \"\\n\")\n",
    "\n",
    "print(\"Query Vector:\", query_111_transformed.shape)"
   ]
  },
  {
   "cell_type": "markdown",
   "id": "f3ae7eb5",
   "metadata": {},
   "source": [
    "#### Computing similarity + finding best match - WITHOUT flatnonzero"
   ]
  },
  {
   "cell_type": "code",
   "execution_count": 166,
   "id": "7636711f",
   "metadata": {},
   "outputs": [
    {
     "name": "stdout",
     "output_type": "stream",
     "text": [
      "Shape of product vector:\n",
      " (92562, 1)\n",
      "\n",
      "Index of maximum similarity score:\n",
      " 11956\n",
      "\n",
      "Most similar title given the query_111:\n",
      " After getting my bachelors how long does it take to get a doctorate? \n",
      "\n",
      "time: 47 ms (started: 2024-03-24 09:13:38 +01:00)\n"
     ]
    }
   ],
   "source": [
    "# Computing the similarity\n",
    "# This will give a similarity score for each document\n",
    "similarity_scores = X_titles.dot(query_111_transformed.T)\n",
    "print(\"Shape of product vector:\\n\", similarity_scores.shape)\n",
    "\n",
    "# Finding the index of the highest scoring document title\n",
    "most_similar_document_index = similarity_scores.argmax()\n",
    "print(\"\\nIndex of maximum similarity score:\\n\", most_similar_document_index)\n",
    "\n",
    "# Now, you can get the title of the most similar document\n",
    "most_similar_title = docs.iloc[most_similar_document_index]\n",
    "print(\"\\nMost similar title given the query_111:\\n\", most_similar_title.title, \"\\n\")"
   ]
  },
  {
   "cell_type": "markdown",
   "id": "41a95cdd",
   "metadata": {},
   "source": [
    "#### Computing similarity + finding best match - WITH flatnonzero"
   ]
  },
  {
   "cell_type": "markdown",
   "id": "2f00b635",
   "metadata": {},
   "source": [
    "This is the process that will be performed:\n",
    "\n",
    "1. Get non-zero similarity scores' indices:\n",
    "   \n",
    "   - **indices = np.flatnonzero(dense_similarity_scores)**\n",
    "   \n",
    "   - This step finds all the indices of the documents that have at least one word in common with the query.\n",
    "\n",
    "   Example: If dense_similarity_scores = [0, 2, 3, 0, 1], indices will be [1, 2, 4].\n",
    "\n",
    "2. Flatten the similarity scores:\n",
    "   \n",
    "   - **flat_scores = dense_similarity_scores.flatten()**\n",
    "   \n",
    "   - It flattens the 2D similarity scores matrix into a 1D array to simplify finding the highest scores.\n",
    "\n",
    "   - Example: If dense_similarity_scores was a 2D array like [[0], [2], [3], [0], [1]], flat_scores will be [0, 2, 3, 0, 1].\n",
    "\n",
    "3. Find indices of all non-zero scores:\n",
    "   \n",
    "   - **non_zero_indices = np.flatnonzero(flat_scores)**\n",
    "\n",
    "   - This is similar to step 1 but applied to the flattened array, identifying indices of all non-zero scores.\n",
    "\n",
    "   - Example: Continuing from the previous flat_scores, non_zero_indices will also be [1, 2, 4].\n",
    "\n",
    "4. Sort the indices by the scores:\n",
    "   \n",
    "   - **sorted_indices = non_zero_indices[np.argsort(flat_scores[non_zero_indices])[::-1]]**\n",
    "   \n",
    "   - This sorts the indices based on the scores in descending order, so the document with the highest similarity score comes first.\n",
    "\n",
    "   - Example: np.argsort(flat_scores[non_zero_indices]) would give [2, 1, 0], which refers to scores [3, 2, 1]. After reversing with [::-1], you get [0, 1, 2], corresponding to scores [3, 2, 1] in descending order. Therefore, sorted_indices would be [2, 1, 4].\n",
    "\n",
    "5. Retrieve the index of the best matching document:\n",
    "   \n",
    "   - **best_document_index = sorted_indices[0]**\n",
    "   \n",
    "   - This takes the first index from the sorted array, indicating the document with the most words in common with the query.\n",
    "\n",
    "   - Example: sorted_indices is [2, 1, 4], so best_document_index is 2.\n",
    "\n",
    "6. Retrieve the best matching document:**\n",
    "   \n",
    "   - **best_document = document_titles[best_document_index]**\n",
    "\n",
    "   - Using the index found in step 5, retrieve the corresponding document title from the original list.\n",
    "\n",
    "   - Example: If document_titles = [\"title1\", \"title2\", \"title3\", \"title4\", \"title5\"] and best_document_index is 2, then best_document would be \"doc3\".\n",
    "\n"
   ]
  },
  {
   "cell_type": "code",
   "execution_count": 167,
   "id": "ec279086",
   "metadata": {},
   "outputs": [
    {
     "name": "stdout",
     "output_type": "stream",
     "text": [
      "Non-zero indices within similarity score: [    2     7     8 ... 92549 92555 92558] \n",
      "\n",
      "Flattened Scores: [0 0 1 ... 0 0 0] \n",
      "\n",
      "Sorted indices: [11956  3685 43188 ... 55863 55861     2]\n",
      "\n",
      "Most similar title given the query_111:\n",
      " After getting my bachelors how long does it take to get a doctorate? \n",
      "\n",
      "time: 46 ms (started: 2024-03-24 09:13:38 +01:00)\n"
     ]
    }
   ],
   "source": [
    "import numpy as np\n",
    "\n",
    "dense_similarity_scores = similarity_scores.A\n",
    "\n",
    "# Get the indices of the documents with non-zero similarity scores\n",
    "non_zero_indices = np.flatnonzero(dense_similarity_scores)\n",
    "print(\"Non-zero indices within similarity score:\", non_zero_indices, \"\\n\")\n",
    "\n",
    "# Flattening the similarity scores to a 1-D array\n",
    "flat_scores = dense_similarity_scores.flatten()\n",
    "print(\"Flattened Scores:\", flat_scores, \"\\n\")\n",
    "\n",
    "# We can sort these indices based on the scores to find the documents with most words in common\n",
    "sorted_indices = non_zero_indices[np.argsort(flat_scores[non_zero_indices])[::-1]]\n",
    "print(\"Sorted indices:\", sorted_indices)\n",
    "\n",
    "# Not very efficient as we are sorting values\n",
    "\n",
    "# The first element in 'sorted_indices' is the index of the document with the most words in common\n",
    "best_document_index = sorted_indices[0]\n",
    "\n",
    "# Retrieve the best matching document\n",
    "best_document = docs.iloc[best_document_index]\n",
    "print(\"\\nMost similar title given the query_111:\\n\", best_document.title, \"\\n\")"
   ]
  },
  {
   "cell_type": "markdown",
   "id": "36f56fd4-49e6-4c94-a11e-119556a0b52f",
   "metadata": {},
   "source": [
    "### 🚧 Todo: Use argpartition to get the 10 best answers"
   ]
  },
  {
   "cell_type": "markdown",
   "id": "2636c148",
   "metadata": {},
   "source": [
    "#### Information:\n",
    "\n",
    "- np.argpartition is a function in NumPy that can be used to find the indices of the N smallest or largest values in an array efficiently. \n",
    "\n",
    "- It's a partial sort that rearranges the elements in the array so that the Nth element is in the place it would be if the array was fully sorted, with all smaller elements moved before it and all larger elements moved after it.\n",
    "\n",
    "- This function is very useful when we only need the indices of the top N values and do not need the entire array to be sorted, which can save a lot of computation time.\n",
    "\n",
    "- It sorts in ascending order by default.\n",
    "\n",
    "- In the argument of argpartition we use -10 which tells np.argpartition that we want the indices of the ten largest values. Since np.argpartition normally returns the indices of the smallest values, by specifying -10, we're asking for the ten largest values.\n",
    "\n",
    "- As it returns in ascending order, we select the 10 last ones to retrieve the largest ones.\n"
   ]
  },
  {
   "cell_type": "code",
   "execution_count": 168,
   "id": "07b4ee59-7084-43ac-aabd-bd813b45f6aa",
   "metadata": {},
   "outputs": [
    {
     "name": "stdout",
     "output_type": "stream",
     "text": [
      "Top 10 indices:\n",
      " [71758  5369 42418 83784 64965  3685 43188 91272 66310 11956] \n",
      "\n",
      "time: 47 ms (started: 2024-03-24 09:13:38 +01:00)\n"
     ]
    }
   ],
   "source": [
    "pred10i = np.argpartition(flat_scores, -10)[-10:]\n",
    "print(\"Top 10 indices:\\n\", pred10i, \"\\n\")"
   ]
  },
  {
   "cell_type": "code",
   "execution_count": 169,
   "id": "6ef515f4-8e50-490a-912b-df737d740a96",
   "metadata": {},
   "outputs": [
    {
     "data": {
      "text/html": [
       "<div>\n",
       "<style scoped>\n",
       "    .dataframe tbody tr th:only-of-type {\n",
       "        vertical-align: middle;\n",
       "    }\n",
       "\n",
       "    .dataframe tbody tr th {\n",
       "        vertical-align: top;\n",
       "    }\n",
       "\n",
       "    .dataframe thead th {\n",
       "        text-align: right;\n",
       "    }\n",
       "</style>\n",
       "<table border=\"1\" class=\"dataframe\">\n",
       "  <thead>\n",
       "    <tr style=\"text-align: right;\">\n",
       "      <th></th>\n",
       "      <th>docid</th>\n",
       "      <th>title</th>\n",
       "      <th>body</th>\n",
       "    </tr>\n",
       "  </thead>\n",
       "  <tbody>\n",
       "    <tr>\n",
       "      <th>71761</th>\n",
       "      <td>D1531333</td>\n",
       "      <td>Top 30 Doctor insights on: How Long Does It Ta...</td>\n",
       "      <td>Top 30 Doctor insights on: How Long Does It Ta...</td>\n",
       "    </tr>\n",
       "    <tr>\n",
       "      <th>5370</th>\n",
       "      <td>D1279758</td>\n",
       "      <td>Top 30 Doctor insights on: How Long Does A Her...</td>\n",
       "      <td>Top 30 Doctor insights on: How Long Does A Her...</td>\n",
       "    </tr>\n",
       "    <tr>\n",
       "      <th>42420</th>\n",
       "      <td>D832615</td>\n",
       "      <td>How long does it take to cook pork chops?</td>\n",
       "      <td>Pork How Long Does X Take? Food Safety Meat Co...</td>\n",
       "    </tr>\n",
       "    <tr>\n",
       "      <th>83787</th>\n",
       "      <td>D1951655</td>\n",
       "      <td>How long does it take to get a Doctorate of Nu...</td>\n",
       "      <td>Answers.com ® Wiki Answers ® Categories Jobs &amp;...</td>\n",
       "    </tr>\n",
       "    <tr>\n",
       "      <th>64968</th>\n",
       "      <td>D3083629</td>\n",
       "      <td>How long does it take to become comfortable wi...</td>\n",
       "      <td>Answers.com ® Wiki Answers ® Categories Techno...</td>\n",
       "    </tr>\n",
       "    <tr>\n",
       "      <th>3686</th>\n",
       "      <td>D2111066</td>\n",
       "      <td>After getting a flu shot how long does it take...</td>\n",
       "      <td>Celticballa568 19 Contributions After getting ...</td>\n",
       "    </tr>\n",
       "    <tr>\n",
       "      <th>43190</th>\n",
       "      <td>D700799</td>\n",
       "      <td>Holidays By Country Â»Holidays By Religion Â»O...</td>\n",
       "      <td>Home &gt; Important Days &gt; Daylight Savings &gt; Day...</td>\n",
       "    </tr>\n",
       "    <tr>\n",
       "      <th>91275</th>\n",
       "      <td>D3090762</td>\n",
       "      <td>How Long Does It Take to Get a Doctorate in En...</td>\n",
       "      <td>Home » College How Long Does It Take to Get a ...</td>\n",
       "    </tr>\n",
       "    <tr>\n",
       "      <th>66313</th>\n",
       "      <td>D2956542</td>\n",
       "      <td>How long does it take to finish a doctorate?</td>\n",
       "      <td>Education &amp; Reference Higher Education (Univer...</td>\n",
       "    </tr>\n",
       "    <tr>\n",
       "      <th>11957</th>\n",
       "      <td>D2408424</td>\n",
       "      <td>After getting my bachelors how long does it ta...</td>\n",
       "      <td>Education &amp; Reference Higher Education (Univer...</td>\n",
       "    </tr>\n",
       "  </tbody>\n",
       "</table>\n",
       "</div>"
      ],
      "text/plain": [
       "          docid                                              title  \\\n",
       "71761  D1531333  Top 30 Doctor insights on: How Long Does It Ta...   \n",
       "5370   D1279758  Top 30 Doctor insights on: How Long Does A Her...   \n",
       "42420   D832615          How long does it take to cook pork chops?   \n",
       "83787  D1951655  How long does it take to get a Doctorate of Nu...   \n",
       "64968  D3083629  How long does it take to become comfortable wi...   \n",
       "3686   D2111066  After getting a flu shot how long does it take...   \n",
       "43190   D700799  Holidays By Country Â»Holidays By Religion Â»O...   \n",
       "91275  D3090762  How Long Does It Take to Get a Doctorate in En...   \n",
       "66313  D2956542       How long does it take to finish a doctorate?   \n",
       "11957  D2408424  After getting my bachelors how long does it ta...   \n",
       "\n",
       "                                                    body  \n",
       "71761  Top 30 Doctor insights on: How Long Does It Ta...  \n",
       "5370   Top 30 Doctor insights on: How Long Does A Her...  \n",
       "42420  Pork How Long Does X Take? Food Safety Meat Co...  \n",
       "83787  Answers.com ® Wiki Answers ® Categories Jobs &...  \n",
       "64968  Answers.com ® Wiki Answers ® Categories Techno...  \n",
       "3686   Celticballa568 19 Contributions After getting ...  \n",
       "43190  Home > Important Days > Daylight Savings > Day...  \n",
       "91275  Home » College How Long Does It Take to Get a ...  \n",
       "66313  Education & Reference Higher Education (Univer...  \n",
       "11957  Education & Reference Higher Education (Univer...  "
      ]
     },
     "execution_count": 169,
     "metadata": {},
     "output_type": "execute_result"
    },
    {
     "name": "stdout",
     "output_type": "stream",
     "text": [
      "time: 15 ms (started: 2024-03-24 09:13:38 +01:00)\n"
     ]
    }
   ],
   "source": [
    "docs.iloc[pred10i]"
   ]
  },
  {
   "cell_type": "code",
   "execution_count": 170,
   "id": "40f071cb-224f-4c77-9811-31e7be389ca8",
   "metadata": {},
   "outputs": [
    {
     "data": {
      "text/plain": [
       "71761    D1531333\n",
       "5370     D1279758\n",
       "42420     D832615\n",
       "83787    D1951655\n",
       "64968    D3083629\n",
       "3686     D2111066\n",
       "43190     D700799\n",
       "91275    D3090762\n",
       "66313    D2956542\n",
       "11957    D2408424\n",
       "Name: docid, dtype: object"
      ]
     },
     "execution_count": 170,
     "metadata": {},
     "output_type": "execute_result"
    },
    {
     "name": "stdout",
     "output_type": "stream",
     "text": [
      "time: 16 ms (started: 2024-03-24 09:13:38 +01:00)\n"
     ]
    }
   ],
   "source": [
    "docs.iloc[pred10i].docid"
   ]
  },
  {
   "cell_type": "code",
   "execution_count": 171,
   "id": "626f69aa-157f-44f9-bca0-9c03b3855a66",
   "metadata": {},
   "outputs": [
    {
     "data": {
      "text/html": [
       "<div>\n",
       "<style scoped>\n",
       "    .dataframe tbody tr th:only-of-type {\n",
       "        vertical-align: middle;\n",
       "    }\n",
       "\n",
       "    .dataframe tbody tr th {\n",
       "        vertical-align: top;\n",
       "    }\n",
       "\n",
       "    .dataframe thead th {\n",
       "        text-align: right;\n",
       "    }\n",
       "</style>\n",
       "<table border=\"1\" class=\"dataframe\">\n",
       "  <thead>\n",
       "    <tr style=\"text-align: right;\">\n",
       "      <th></th>\n",
       "      <th>qid</th>\n",
       "      <th>docid</th>\n",
       "      <th>rank</th>\n",
       "      <th>score</th>\n",
       "    </tr>\n",
       "  </thead>\n",
       "  <tbody>\n",
       "    <tr>\n",
       "      <th>36200</th>\n",
       "      <td>251898</td>\n",
       "      <td>D2865964</td>\n",
       "      <td>1</td>\n",
       "      <td>-4.74293</td>\n",
       "    </tr>\n",
       "    <tr>\n",
       "      <th>36201</th>\n",
       "      <td>251898</td>\n",
       "      <td>D3557816</td>\n",
       "      <td>2</td>\n",
       "      <td>-4.90695</td>\n",
       "    </tr>\n",
       "    <tr>\n",
       "      <th>36202</th>\n",
       "      <td>251898</td>\n",
       "      <td>D2723985</td>\n",
       "      <td>3</td>\n",
       "      <td>-4.95911</td>\n",
       "    </tr>\n",
       "    <tr>\n",
       "      <th>36203</th>\n",
       "      <td>251898</td>\n",
       "      <td>D1951655</td>\n",
       "      <td>4</td>\n",
       "      <td>-4.97272</td>\n",
       "    </tr>\n",
       "    <tr>\n",
       "      <th>36204</th>\n",
       "      <td>251898</td>\n",
       "      <td>D1709749</td>\n",
       "      <td>5</td>\n",
       "      <td>-5.02176</td>\n",
       "    </tr>\n",
       "    <tr>\n",
       "      <th>...</th>\n",
       "      <td>...</td>\n",
       "      <td>...</td>\n",
       "      <td>...</td>\n",
       "      <td>...</td>\n",
       "    </tr>\n",
       "    <tr>\n",
       "      <th>36295</th>\n",
       "      <td>251898</td>\n",
       "      <td>D2531901</td>\n",
       "      <td>96</td>\n",
       "      <td>-5.56896</td>\n",
       "    </tr>\n",
       "    <tr>\n",
       "      <th>36296</th>\n",
       "      <td>251898</td>\n",
       "      <td>D2956542</td>\n",
       "      <td>97</td>\n",
       "      <td>-5.57138</td>\n",
       "    </tr>\n",
       "    <tr>\n",
       "      <th>36297</th>\n",
       "      <td>251898</td>\n",
       "      <td>D301873</td>\n",
       "      <td>98</td>\n",
       "      <td>-5.57262</td>\n",
       "    </tr>\n",
       "    <tr>\n",
       "      <th>36298</th>\n",
       "      <td>251898</td>\n",
       "      <td>D2952336</td>\n",
       "      <td>99</td>\n",
       "      <td>-5.57504</td>\n",
       "    </tr>\n",
       "    <tr>\n",
       "      <th>36299</th>\n",
       "      <td>251898</td>\n",
       "      <td>D1805809</td>\n",
       "      <td>100</td>\n",
       "      <td>-5.57544</td>\n",
       "    </tr>\n",
       "  </tbody>\n",
       "</table>\n",
       "<p>100 rows × 4 columns</p>\n",
       "</div>"
      ],
      "text/plain": [
       "          qid     docid  rank    score\n",
       "36200  251898  D2865964     1 -4.74293\n",
       "36201  251898  D3557816     2 -4.90695\n",
       "36202  251898  D2723985     3 -4.95911\n",
       "36203  251898  D1951655     4 -4.97272\n",
       "36204  251898  D1709749     5 -5.02176\n",
       "...       ...       ...   ...      ...\n",
       "36295  251898  D2531901    96 -5.56896\n",
       "36296  251898  D2956542    97 -5.57138\n",
       "36297  251898   D301873    98 -5.57262\n",
       "36298  251898  D2952336    99 -5.57504\n",
       "36299  251898  D1805809   100 -5.57544\n",
       "\n",
       "[100 rows x 4 columns]"
      ]
     },
     "execution_count": 171,
     "metadata": {},
     "output_type": "execute_result"
    },
    {
     "name": "stdout",
     "output_type": "stream",
     "text": [
      "time: 16 ms (started: 2024-03-24 09:13:38 +01:00)\n"
     ]
    }
   ],
   "source": [
    "gold[gold.qid==251898]#.docid"
   ]
  },
  {
   "cell_type": "markdown",
   "id": "39524ba6-1176-49b1-9e40-afd1a2b5e1bd",
   "metadata": {},
   "source": [
    "### 🚧 Todo:\n",
    "- Find the relevant documents that are in our top 10\n",
    "- User intersect1d\n",
    "- Compute the precision p@10"
   ]
  },
  {
   "cell_type": "markdown",
   "id": "74094039",
   "metadata": {},
   "source": [
    "#### Relevant Documents"
   ]
  },
  {
   "cell_type": "code",
   "execution_count": 172,
   "id": "c54add4e",
   "metadata": {},
   "outputs": [
    {
     "data": {
      "text/plain": [
       "array(['D1951655', 'D2408424', 'D2956542', 'D3083629', 'D3090762'],\n",
       "      dtype=object)"
      ]
     },
     "execution_count": 172,
     "metadata": {},
     "output_type": "execute_result"
    },
    {
     "name": "stdout",
     "output_type": "stream",
     "text": [
      "time: 16 ms (started: 2024-03-24 09:13:38 +01:00)\n"
     ]
    }
   ],
   "source": [
    "# Top 10 predictions we found using CountVectorizer\n",
    "top_10_predictions = docs.iloc[pred10i].docid\n",
    "\n",
    "# Actual gold target\n",
    "gold_docids = gold[gold.qid==251898].docid\n",
    "\n",
    "# We use intersect1d to find common docids\n",
    "relevant_docids = np.intersect1d(top_10_predictions, gold_docids)\n",
    "relevant_docids"
   ]
  },
  {
   "cell_type": "markdown",
   "id": "f69ade07",
   "metadata": {},
   "source": [
    "#### P@10\n",
    "\n",
    "- Precision at K (P@K) measures the proportion of relevant documents in the top-K results of a query. When K is set to 10, this is known as P@10."
   ]
  },
  {
   "cell_type": "code",
   "execution_count": 173,
   "id": "12a703c3-4de5-454d-8969-7b20ecbffe15",
   "metadata": {},
   "outputs": [
    {
     "name": "stdout",
     "output_type": "stream",
     "text": [
      "P@10: 0.5\n",
      "time: 0 ns (started: 2024-03-24 09:13:38 +01:00)\n"
     ]
    }
   ],
   "source": [
    "# The number of relevant documents in the top 10\n",
    "num_relevant_docids = len(relevant_docids)\n",
    "\n",
    "# Precision at 10 is the number of relevant documents in the top 10 divided by 10\n",
    "p_at_10 = num_relevant_docids / 10.0\n",
    "\n",
    "print(\"P@10:\", p_at_10)"
   ]
  },
  {
   "cell_type": "markdown",
   "id": "2da0958d",
   "metadata": {},
   "source": [
    "#### Precision Function"
   ]
  },
  {
   "cell_type": "code",
   "execution_count": 174,
   "id": "b159bbec",
   "metadata": {},
   "outputs": [
    {
     "data": {
      "text/plain": [
       "'how long does getting a doctorate take'"
      ]
     },
     "execution_count": 174,
     "metadata": {},
     "output_type": "execute_result"
    },
    {
     "name": "stdout",
     "output_type": "stream",
     "text": [
      "time: 0 ns (started: 2024-03-24 09:13:38 +01:00)\n"
     ]
    }
   ],
   "source": [
    "queries[queries.qid == 251898][\"query\"].iloc[0]"
   ]
  },
  {
   "cell_type": "code",
   "execution_count": 178,
   "id": "b9fb0873-3a0d-4025-8992-88a190f69668",
   "metadata": {},
   "outputs": [
    {
     "name": "stdout",
     "output_type": "stream",
     "text": [
      "P@10 for query ID 251898: 0.5\n",
      "time: 1.84 s (started: 2024-03-24 09:15:56 +01:00)\n"
     ]
    }
   ],
   "source": [
    "# 🚧 Todo: Build a function p@10 that gives the precision at 10\n",
    "\n",
    "def pAt10(X, gold, qid):\n",
    "\n",
    "    # Step 1: Get the query text for the given query_id\n",
    "    query_text = queries[queries.qid == qid][\"query\"].iloc[0]\n",
    "    \n",
    "    # Step 2: Transform the query into the vector space\n",
    "    query_vector = vectorizer.transform([query_text])\n",
    "\n",
    "    # Step 3: Compute similarity scores for all documents\n",
    "    similarity_scores = X.dot(query_vector.T).toarray().flatten()\n",
    "\n",
    "    # Step 4: Get the indices of the top 10 documents\n",
    "    top10_indices = np.argpartition(similarity_scores, -10)[-10:]\n",
    "    top10_indices_sorted = top10_indices[np.argsort(similarity_scores[top10_indices])[::-1]]\n",
    "    top10_docids = docs.iloc[top10_indices_sorted]['docid'].values\n",
    "\n",
    "    # Step 5: Get the relevant docids from the gold standard for the given query_id\n",
    "    relevant_docids = gold[gold['qid'] == qid]['docid'].values\n",
    "\n",
    "    # Step 6: Calculate P@10\n",
    "    relevant_in_top_10 = np.intersect1d(top10_docids, relevant_docids)\n",
    "    p_at_10 = len(relevant_in_top_10) / 10.0\n",
    "\n",
    "    return p_at_10\n",
    "\n",
    "# Usage:\n",
    "X_titles = vectorizer.fit_transform(docs.title.values)\n",
    "pAt10_score = pAt10(X_titles, gold, 251898)\n",
    "print(f\"P@10 for query ID 251898: {pAt10_score}\")\n",
    "\n"
   ]
  },
  {
   "cell_type": "markdown",
   "id": "23227936-0403-49ec-8231-c273a628809c",
   "metadata": {},
   "source": [
    "### 🚧 Todo:\n",
    "- Take our 500 training queries qid\n",
    "- Apply our function\n",
    "- Compute the average"
   ]
  },
  {
   "cell_type": "markdown",
   "id": "9b9847e9",
   "metadata": {},
   "source": [
    "#### Training Queries"
   ]
  },
  {
   "cell_type": "code",
   "execution_count": 179,
   "id": "93540efe-a6aa-4e1b-9f18-cb1635c78480",
   "metadata": {},
   "outputs": [
    {
     "data": {
      "text/plain": [
       "0      687888\n",
       "1      480210\n",
       "2      591004\n",
       "3      260536\n",
       "4       39422\n",
       "        ...  \n",
       "495    133970\n",
       "496     79788\n",
       "497    791583\n",
       "498    732078\n",
       "499    197098\n",
       "Name: qid, Length: 500, dtype: int64"
      ]
     },
     "execution_count": 179,
     "metadata": {},
     "output_type": "execute_result"
    },
    {
     "name": "stdout",
     "output_type": "stream",
     "text": [
      "time: 16 ms (started: 2024-03-24 09:16:32 +01:00)\n"
     ]
    }
   ],
   "source": [
    "training_queries.qid"
   ]
  },
  {
   "cell_type": "markdown",
   "id": "e4c70153",
   "metadata": {},
   "source": [
    "#### List of p@10 results for training queries"
   ]
  },
  {
   "cell_type": "code",
   "execution_count": 180,
   "id": "154d615f-6e62-43d6-aba9-88ec14d77b8f",
   "metadata": {},
   "outputs": [
    {
     "name": "stdout",
     "output_type": "stream",
     "text": [
      "time: 8.48 s (started: 2024-03-24 09:16:34 +01:00)\n"
     ]
    }
   ],
   "source": [
    "training_queries_pAt10 = [pAt10(X_titles, gold, qid) for qid in training_queries.qid]\n",
    "#training_queries_pAt10"
   ]
  },
  {
   "cell_type": "markdown",
   "id": "f85a4ad6",
   "metadata": {},
   "source": [
    "#### Average Result"
   ]
  },
  {
   "cell_type": "code",
   "execution_count": 181,
   "id": "0a29b6aa-a19b-4700-8fef-eb5d2e82ac28",
   "metadata": {},
   "outputs": [
    {
     "data": {
      "text/plain": [
       "0.319"
      ]
     },
     "execution_count": 181,
     "metadata": {},
     "output_type": "execute_result"
    },
    {
     "name": "stdout",
     "output_type": "stream",
     "text": [
      "time: 16 ms (started: 2024-03-24 09:16:47 +01:00)\n"
     ]
    }
   ],
   "source": [
    "avg_pAt10 = np.mean(training_queries_pAt10)\n",
    "avg_pAt10"
   ]
  },
  {
   "cell_type": "markdown",
   "id": "b3d87abe",
   "metadata": {},
   "source": [
    "#### Best Prediction"
   ]
  },
  {
   "cell_type": "markdown",
   "id": "f3a482be-d400-4c9b-a122-3f9c62c2f365",
   "metadata": {},
   "source": [
    "- that looks like a baseline we can beat :)\n",
    "- what's the query we are doing best in?\n",
    "    - max?"
   ]
  },
  {
   "cell_type": "code",
   "execution_count": 182,
   "id": "25e9a7d0-c44b-4b9f-b9ec-52d6422b269b",
   "metadata": {},
   "outputs": [
    {
     "data": {
      "text/plain": [
       "'define standard operating procedure template'"
      ]
     },
     "execution_count": 182,
     "metadata": {},
     "output_type": "execute_result"
    },
    {
     "name": "stdout",
     "output_type": "stream",
     "text": [
      "time: 16 ms (started: 2024-03-24 09:16:49 +01:00)\n"
     ]
    }
   ],
   "source": [
    "best_pred = np.argmax(training_queries_pAt10)\n",
    "best_query_prediction = training_queries.iloc[best_pred]\n",
    "best_query_prediction.query"
   ]
  },
  {
   "cell_type": "markdown",
   "id": "e75b7020",
   "metadata": {},
   "source": [
    "#### Checking that the result makes sense"
   ]
  },
  {
   "cell_type": "code",
   "execution_count": 183,
   "id": "002a493f",
   "metadata": {},
   "outputs": [
    {
     "data": {
      "text/html": [
       "<div>\n",
       "<style scoped>\n",
       "    .dataframe tbody tr th:only-of-type {\n",
       "        vertical-align: middle;\n",
       "    }\n",
       "\n",
       "    .dataframe tbody tr th {\n",
       "        vertical-align: top;\n",
       "    }\n",
       "\n",
       "    .dataframe thead th {\n",
       "        text-align: right;\n",
       "    }\n",
       "</style>\n",
       "<table border=\"1\" class=\"dataframe\">\n",
       "  <thead>\n",
       "    <tr style=\"text-align: right;\">\n",
       "      <th></th>\n",
       "      <th>docid</th>\n",
       "      <th>title</th>\n",
       "      <th>body</th>\n",
       "    </tr>\n",
       "  </thead>\n",
       "  <tbody>\n",
       "    <tr>\n",
       "      <th>39209</th>\n",
       "      <td>D211341</td>\n",
       "      <td>Standard operating procedure</td>\n",
       "      <td>For the 2008 documentary film, see Standard Op...</td>\n",
       "    </tr>\n",
       "    <tr>\n",
       "      <th>12948</th>\n",
       "      <td>D836561</td>\n",
       "      <td>SOP - Standard Operating Procedure</td>\n",
       "      <td>SOP - Standard Operating Procedure SOP - How t...</td>\n",
       "    </tr>\n",
       "    <tr>\n",
       "      <th>38937</th>\n",
       "      <td>D3557178</td>\n",
       "      <td>How to Create an SOP Standard Operating Proced...</td>\n",
       "      <td>How to Create an SOP Standard Operating Proced...</td>\n",
       "    </tr>\n",
       "    <tr>\n",
       "      <th>33465</th>\n",
       "      <td>D3557177</td>\n",
       "      <td>How Toâ¦ Writing Standard Operating Procedures...</td>\n",
       "      <td>by Chris Anderson / in Save Time Writing Proce...</td>\n",
       "    </tr>\n",
       "    <tr>\n",
       "      <th>39949</th>\n",
       "      <td>D3458106</td>\n",
       "      <td>standard operating procedure</td>\n",
       "      <td>standard operating procedure Also found in: Th...</td>\n",
       "    </tr>\n",
       "    <tr>\n",
       "      <th>36121</th>\n",
       "      <td>D1068918</td>\n",
       "      <td>Sample Standard Operating Procedure...</td>\n",
       "      <td>Sample Standard Operating Procedure... The fol...</td>\n",
       "    </tr>\n",
       "    <tr>\n",
       "      <th>61004</th>\n",
       "      <td>D1068919</td>\n",
       "      <td>37 Best Standard Operating Procedure (SOP) Tem...</td>\n",
       "      <td>For organizations or institutions which desire...</td>\n",
       "    </tr>\n",
       "    <tr>\n",
       "      <th>77230</th>\n",
       "      <td>D1068921</td>\n",
       "      <td>Standard Operating Procedure Template â 13+ Fr...</td>\n",
       "      <td>Every company has got a host of things to do a...</td>\n",
       "    </tr>\n",
       "    <tr>\n",
       "      <th>25297</th>\n",
       "      <td>D2555909</td>\n",
       "      <td>Standard Operating Procedure Template</td>\n",
       "      <td>What is it: A Standard Operating Procedure (SO...</td>\n",
       "    </tr>\n",
       "    <tr>\n",
       "      <th>78890</th>\n",
       "      <td>D2931233</td>\n",
       "      <td>SOP Template - Standard Operating Procedure Te...</td>\n",
       "      <td>SOP Template - Standard Operating Procedure Te...</td>\n",
       "    </tr>\n",
       "  </tbody>\n",
       "</table>\n",
       "</div>"
      ],
      "text/plain": [
       "          docid                                              title  \\\n",
       "39209   D211341                       Standard operating procedure   \n",
       "12948   D836561                 SOP - Standard Operating Procedure   \n",
       "38937  D3557178  How to Create an SOP Standard Operating Proced...   \n",
       "33465  D3557177  How Toâ¦ Writing Standard Operating Procedures...   \n",
       "39949  D3458106                       standard operating procedure   \n",
       "36121  D1068918             Sample Standard Operating Procedure...   \n",
       "61004  D1068919  37 Best Standard Operating Procedure (SOP) Tem...   \n",
       "77230  D1068921  Standard Operating Procedure Template â 13+ Fr...   \n",
       "25297  D2555909              Standard Operating Procedure Template   \n",
       "78890  D2931233  SOP Template - Standard Operating Procedure Te...   \n",
       "\n",
       "                                                    body  \n",
       "39209  For the 2008 documentary film, see Standard Op...  \n",
       "12948  SOP - Standard Operating Procedure SOP - How t...  \n",
       "38937  How to Create an SOP Standard Operating Proced...  \n",
       "33465  by Chris Anderson / in Save Time Writing Proce...  \n",
       "39949  standard operating procedure Also found in: Th...  \n",
       "36121  Sample Standard Operating Procedure... The fol...  \n",
       "61004  For organizations or institutions which desire...  \n",
       "77230  Every company has got a host of things to do a...  \n",
       "25297  What is it: A Standard Operating Procedure (SO...  \n",
       "78890  SOP Template - Standard Operating Procedure Te...  "
      ]
     },
     "execution_count": 183,
     "metadata": {},
     "output_type": "execute_result"
    },
    {
     "name": "stdout",
     "output_type": "stream",
     "text": [
      "time: 32 ms (started: 2024-03-24 09:16:51 +01:00)\n"
     ]
    }
   ],
   "source": [
    "# Repeating the same process as before\n",
    "\n",
    "best_query_vector = vectorizer.transform([best_query_prediction.query])\n",
    "similarity_scores = X_titles.dot(best_query_vector.T)\n",
    "dense_similarity_scores = similarity_scores.A\n",
    "flat_scores = dense_similarity_scores.flatten()\n",
    "pred10i = np.argpartition(flat_scores, -10)[-10:]\n",
    "docs.iloc[pred10i]"
   ]
  },
  {
   "cell_type": "markdown",
   "id": "baaca9c0-a7e1-46b5-9dc2-91eab2bf3b3d",
   "metadata": {},
   "source": [
    "- oh, we have just been lucky before..."
   ]
  },
  {
   "cell_type": "markdown",
   "id": "72e2f986-f3f9-4b90-b8a8-31b1250531b7",
   "metadata": {},
   "source": [
    "## 🚧 Todo:\n",
    "\n",
    "- Redo the vectorization and evaluation on the whole text, not only the titles - DONE\n",
    "- Try the non-binary CountVectorizer - DONE\n",
    "- Go for tf-idf - DONE\n",
    "    - Play with at least two options and re-evaluate - DONE\n",
    "- Find other improvements. these may include:\n",
    "    - Cleaning the text - DONE\n",
    "    - Heuristically combining title and body matches - DONE\n",
    "    - Looking at bigrams - Tried, but PC failed miserably\n",
    "    - Looking at terms (by means of a clean multi-word term list from wikipedia, see notebook 1) - Not Tried\n",
    "    - By removing stopwords (look at nltk or spacy to do that) - DONE\n",
    "    - Trying an implementation of bm25 (slow with standard implementation, see last cell if you want to do it) - DONE\n",
    "  \n",
    "- $\\textcolor{red}{\\text{Do a grid search with a few promising parameters}}$\n",
    "    - Maybe get inspired by GridSearchCV and pipelines in:\n",
    "        - https://scikit-learn.org/stable/auto_examples/model_selection/grid_search_text_feature_extraction.html#sphx-glr-auto-examples-model-selection-grid-search-text-feature-extraction-py\n",
    "    - You can also check the weel-written section \"Pipelines\" in this book:\n",
    "        - https://www.oreilly.com/library/view/applied-text-analysis/9781491963036/ch04.html\n",
    "    - $\\textcolor{red}{\\text{Make a nice visualization of the results}}$\n",
    "    \n",
    "- Interpret the complete results in 3 to 5 sentences. - DONE\n",
    "    - $\\textcolor{red}{\\text{What strategy would do best if we switch our evaluation to p@100?}}$\n",
    "\n",
    "- Give some ideas for improving the results - DONE\n",
    "\n",
    "\n",
    "\n"
   ]
  },
  {
   "cell_type": "markdown",
   "id": "62d6884b",
   "metadata": {},
   "source": [
    "## CountVectorizer"
   ]
  },
  {
   "cell_type": "markdown",
   "id": "8435cb86",
   "metadata": {},
   "source": [
    "### Binary Vectorization on the whole text (title + body) + Evaluation on p@10"
   ]
  },
  {
   "cell_type": "markdown",
   "id": "dd8cfc44",
   "metadata": {},
   "source": [
    "##### Reminder"
   ]
  },
  {
   "cell_type": "code",
   "execution_count": 184,
   "id": "943c1d50",
   "metadata": {},
   "outputs": [
    {
     "data": {
      "text/html": [
       "<div>\n",
       "<style scoped>\n",
       "    .dataframe tbody tr th:only-of-type {\n",
       "        vertical-align: middle;\n",
       "    }\n",
       "\n",
       "    .dataframe tbody tr th {\n",
       "        vertical-align: top;\n",
       "    }\n",
       "\n",
       "    .dataframe thead th {\n",
       "        text-align: right;\n",
       "    }\n",
       "</style>\n",
       "<table border=\"1\" class=\"dataframe\">\n",
       "  <thead>\n",
       "    <tr style=\"text-align: right;\">\n",
       "      <th></th>\n",
       "      <th>docid</th>\n",
       "      <th>title</th>\n",
       "      <th>body</th>\n",
       "    </tr>\n",
       "  </thead>\n",
       "  <tbody>\n",
       "    <tr>\n",
       "      <th>0</th>\n",
       "      <td>D2981241</td>\n",
       "      <td>What do you call a group of lions?</td>\n",
       "      <td>Lions Vocabulary of the English Language Word ...</td>\n",
       "    </tr>\n",
       "    <tr>\n",
       "      <th>1</th>\n",
       "      <td>D687756</td>\n",
       "      <td>.</td>\n",
       "      <td>The A Priori Argument ( also, Rationalization;...</td>\n",
       "    </tr>\n",
       "    <tr>\n",
       "      <th>2</th>\n",
       "      <td>D913099</td>\n",
       "      <td>Everything You Need To Learn How To Cook Veget...</td>\n",
       "      <td>Home &gt; How To Cook Vegetables Everything You N...</td>\n",
       "    </tr>\n",
       "    <tr>\n",
       "      <th>3</th>\n",
       "      <td>D328017</td>\n",
       "      <td>What is the difference between latitude, longi...</td>\n",
       "      <td>Longitude Latitude Geographic Coordinate Syste...</td>\n",
       "    </tr>\n",
       "    <tr>\n",
       "      <th>4</th>\n",
       "      <td>D1636347</td>\n",
       "      <td>When was the pulley invented?</td>\n",
       "      <td>Answers.com ® Wiki Answers ® Categories Techno...</td>\n",
       "    </tr>\n",
       "    <tr>\n",
       "      <th>...</th>\n",
       "      <td>...</td>\n",
       "      <td>...</td>\n",
       "      <td>...</td>\n",
       "    </tr>\n",
       "    <tr>\n",
       "      <th>92560</th>\n",
       "      <td>D3379210</td>\n",
       "      <td>Top 39 Doctor insights on: Can An Iud Cause Ha...</td>\n",
       "      <td>Top 39 Doctor insights on: Can An Iud Cause Ha...</td>\n",
       "    </tr>\n",
       "    <tr>\n",
       "      <th>92561</th>\n",
       "      <td>D3068739</td>\n",
       "      <td>How to get back your DirecTV cancellation fees</td>\n",
       "      <td>How to get back your Direc TV cancellation fee...</td>\n",
       "    </tr>\n",
       "    <tr>\n",
       "      <th>92562</th>\n",
       "      <td>D1590402</td>\n",
       "      <td>Certification FAQs</td>\n",
       "      <td>Fingerprinting 1. Where can I get fingerprinte...</td>\n",
       "    </tr>\n",
       "    <tr>\n",
       "      <th>92563</th>\n",
       "      <td>D2175490</td>\n",
       "      <td>Greenhouse gas emissions by Canadian economic ...</td>\n",
       "      <td>Access PDF (682 KB)In 2015, Canada's total gre...</td>\n",
       "    </tr>\n",
       "    <tr>\n",
       "      <th>92564</th>\n",
       "      <td>D2580062</td>\n",
       "      <td>QuickBooks Bill Pay</td>\n",
       "      <td>Quick Books Bill Pay Simplify your accounts pa...</td>\n",
       "    </tr>\n",
       "  </tbody>\n",
       "</table>\n",
       "<p>92562 rows × 3 columns</p>\n",
       "</div>"
      ],
      "text/plain": [
       "          docid                                              title  \\\n",
       "0      D2981241                 What do you call a group of lions?   \n",
       "1       D687756                                                  .   \n",
       "2       D913099  Everything You Need To Learn How To Cook Veget...   \n",
       "3       D328017  What is the difference between latitude, longi...   \n",
       "4      D1636347                      When was the pulley invented?   \n",
       "...         ...                                                ...   \n",
       "92560  D3379210  Top 39 Doctor insights on: Can An Iud Cause Ha...   \n",
       "92561  D3068739     How to get back your DirecTV cancellation fees   \n",
       "92562  D1590402                                 Certification FAQs   \n",
       "92563  D2175490  Greenhouse gas emissions by Canadian economic ...   \n",
       "92564  D2580062                                QuickBooks Bill Pay   \n",
       "\n",
       "                                                    body  \n",
       "0      Lions Vocabulary of the English Language Word ...  \n",
       "1      The A Priori Argument ( also, Rationalization;...  \n",
       "2      Home > How To Cook Vegetables Everything You N...  \n",
       "3      Longitude Latitude Geographic Coordinate Syste...  \n",
       "4      Answers.com ® Wiki Answers ® Categories Techno...  \n",
       "...                                                  ...  \n",
       "92560  Top 39 Doctor insights on: Can An Iud Cause Ha...  \n",
       "92561  How to get back your Direc TV cancellation fee...  \n",
       "92562  Fingerprinting 1. Where can I get fingerprinte...  \n",
       "92563  Access PDF (682 KB)In 2015, Canada's total gre...  \n",
       "92564  Quick Books Bill Pay Simplify your accounts pa...  \n",
       "\n",
       "[92562 rows x 3 columns]"
      ]
     },
     "execution_count": 184,
     "metadata": {},
     "output_type": "execute_result"
    },
    {
     "name": "stdout",
     "output_type": "stream",
     "text": [
      "time: 16 ms (started: 2024-03-24 09:16:55 +01:00)\n"
     ]
    }
   ],
   "source": [
    "docs"
   ]
  },
  {
   "cell_type": "markdown",
   "id": "f42e0e07",
   "metadata": {},
   "source": [
    "#### Creating Whole_text"
   ]
  },
  {
   "cell_type": "code",
   "execution_count": 12,
   "id": "41065406",
   "metadata": {},
   "outputs": [
    {
     "name": "stderr",
     "output_type": "stream",
     "text": [
      "C:\\Users\\pmoll\\AppData\\Local\\Temp\\ipykernel_14472\\3491648862.py:1: SettingWithCopyWarning: \n",
      "A value is trying to be set on a copy of a slice from a DataFrame.\n",
      "Try using .loc[row_indexer,col_indexer] = value instead\n",
      "\n",
      "See the caveats in the documentation: https://pandas.pydata.org/pandas-docs/stable/user_guide/indexing.html#returning-a-view-versus-a-copy\n",
      "  docs[\"whole_text\"] = docs[\"title\"] + \" \" + docs[\"body\"]\n"
     ]
    },
    {
     "data": {
      "text/html": [
       "<div>\n",
       "<style scoped>\n",
       "    .dataframe tbody tr th:only-of-type {\n",
       "        vertical-align: middle;\n",
       "    }\n",
       "\n",
       "    .dataframe tbody tr th {\n",
       "        vertical-align: top;\n",
       "    }\n",
       "\n",
       "    .dataframe thead th {\n",
       "        text-align: right;\n",
       "    }\n",
       "</style>\n",
       "<table border=\"1\" class=\"dataframe\">\n",
       "  <thead>\n",
       "    <tr style=\"text-align: right;\">\n",
       "      <th></th>\n",
       "      <th>docid</th>\n",
       "      <th>title</th>\n",
       "      <th>body</th>\n",
       "      <th>whole_text</th>\n",
       "    </tr>\n",
       "  </thead>\n",
       "  <tbody>\n",
       "    <tr>\n",
       "      <th>0</th>\n",
       "      <td>D2981241</td>\n",
       "      <td>What do you call a group of lions?</td>\n",
       "      <td>Lions Vocabulary of the English Language Word ...</td>\n",
       "      <td>What do you call a group of lions? Lions Vocab...</td>\n",
       "    </tr>\n",
       "    <tr>\n",
       "      <th>1</th>\n",
       "      <td>D687756</td>\n",
       "      <td>.</td>\n",
       "      <td>The A Priori Argument ( also, Rationalization;...</td>\n",
       "      <td>. The A Priori Argument ( also, Rationalizatio...</td>\n",
       "    </tr>\n",
       "    <tr>\n",
       "      <th>2</th>\n",
       "      <td>D913099</td>\n",
       "      <td>Everything You Need To Learn How To Cook Veget...</td>\n",
       "      <td>Home &gt; How To Cook Vegetables Everything You N...</td>\n",
       "      <td>Everything You Need To Learn How To Cook Veget...</td>\n",
       "    </tr>\n",
       "    <tr>\n",
       "      <th>3</th>\n",
       "      <td>D328017</td>\n",
       "      <td>What is the difference between latitude, longi...</td>\n",
       "      <td>Longitude Latitude Geographic Coordinate Syste...</td>\n",
       "      <td>What is the difference between latitude, longi...</td>\n",
       "    </tr>\n",
       "    <tr>\n",
       "      <th>4</th>\n",
       "      <td>D1636347</td>\n",
       "      <td>When was the pulley invented?</td>\n",
       "      <td>Answers.com ® Wiki Answers ® Categories Techno...</td>\n",
       "      <td>When was the pulley invented? Answers.com ® Wi...</td>\n",
       "    </tr>\n",
       "    <tr>\n",
       "      <th>...</th>\n",
       "      <td>...</td>\n",
       "      <td>...</td>\n",
       "      <td>...</td>\n",
       "      <td>...</td>\n",
       "    </tr>\n",
       "    <tr>\n",
       "      <th>92560</th>\n",
       "      <td>D3379210</td>\n",
       "      <td>Top 39 Doctor insights on: Can An Iud Cause Ha...</td>\n",
       "      <td>Top 39 Doctor insights on: Can An Iud Cause Ha...</td>\n",
       "      <td>Top 39 Doctor insights on: Can An Iud Cause Ha...</td>\n",
       "    </tr>\n",
       "    <tr>\n",
       "      <th>92561</th>\n",
       "      <td>D3068739</td>\n",
       "      <td>How to get back your DirecTV cancellation fees</td>\n",
       "      <td>How to get back your Direc TV cancellation fee...</td>\n",
       "      <td>How to get back your DirecTV cancellation fees...</td>\n",
       "    </tr>\n",
       "    <tr>\n",
       "      <th>92562</th>\n",
       "      <td>D1590402</td>\n",
       "      <td>Certification FAQs</td>\n",
       "      <td>Fingerprinting 1. Where can I get fingerprinte...</td>\n",
       "      <td>Certification FAQs Fingerprinting 1. Where can...</td>\n",
       "    </tr>\n",
       "    <tr>\n",
       "      <th>92563</th>\n",
       "      <td>D2175490</td>\n",
       "      <td>Greenhouse gas emissions by Canadian economic ...</td>\n",
       "      <td>Access PDF (682 KB)In 2015, Canada's total gre...</td>\n",
       "      <td>Greenhouse gas emissions by Canadian economic ...</td>\n",
       "    </tr>\n",
       "    <tr>\n",
       "      <th>92564</th>\n",
       "      <td>D2580062</td>\n",
       "      <td>QuickBooks Bill Pay</td>\n",
       "      <td>Quick Books Bill Pay Simplify your accounts pa...</td>\n",
       "      <td>QuickBooks Bill Pay Quick Books Bill Pay Simpl...</td>\n",
       "    </tr>\n",
       "  </tbody>\n",
       "</table>\n",
       "<p>92562 rows × 4 columns</p>\n",
       "</div>"
      ],
      "text/plain": [
       "          docid                                              title  \\\n",
       "0      D2981241                 What do you call a group of lions?   \n",
       "1       D687756                                                  .   \n",
       "2       D913099  Everything You Need To Learn How To Cook Veget...   \n",
       "3       D328017  What is the difference between latitude, longi...   \n",
       "4      D1636347                      When was the pulley invented?   \n",
       "...         ...                                                ...   \n",
       "92560  D3379210  Top 39 Doctor insights on: Can An Iud Cause Ha...   \n",
       "92561  D3068739     How to get back your DirecTV cancellation fees   \n",
       "92562  D1590402                                 Certification FAQs   \n",
       "92563  D2175490  Greenhouse gas emissions by Canadian economic ...   \n",
       "92564  D2580062                                QuickBooks Bill Pay   \n",
       "\n",
       "                                                    body  \\\n",
       "0      Lions Vocabulary of the English Language Word ...   \n",
       "1      The A Priori Argument ( also, Rationalization;...   \n",
       "2      Home > How To Cook Vegetables Everything You N...   \n",
       "3      Longitude Latitude Geographic Coordinate Syste...   \n",
       "4      Answers.com ® Wiki Answers ® Categories Techno...   \n",
       "...                                                  ...   \n",
       "92560  Top 39 Doctor insights on: Can An Iud Cause Ha...   \n",
       "92561  How to get back your Direc TV cancellation fee...   \n",
       "92562  Fingerprinting 1. Where can I get fingerprinte...   \n",
       "92563  Access PDF (682 KB)In 2015, Canada's total gre...   \n",
       "92564  Quick Books Bill Pay Simplify your accounts pa...   \n",
       "\n",
       "                                              whole_text  \n",
       "0      What do you call a group of lions? Lions Vocab...  \n",
       "1      . The A Priori Argument ( also, Rationalizatio...  \n",
       "2      Everything You Need To Learn How To Cook Veget...  \n",
       "3      What is the difference between latitude, longi...  \n",
       "4      When was the pulley invented? Answers.com ® Wi...  \n",
       "...                                                  ...  \n",
       "92560  Top 39 Doctor insights on: Can An Iud Cause Ha...  \n",
       "92561  How to get back your DirecTV cancellation fees...  \n",
       "92562  Certification FAQs Fingerprinting 1. Where can...  \n",
       "92563  Greenhouse gas emissions by Canadian economic ...  \n",
       "92564  QuickBooks Bill Pay Quick Books Bill Pay Simpl...  \n",
       "\n",
       "[92562 rows x 4 columns]"
      ]
     },
     "execution_count": 12,
     "metadata": {},
     "output_type": "execute_result"
    },
    {
     "name": "stdout",
     "output_type": "stream",
     "text": [
      "time: 25.5 s (started: 2024-03-24 19:31:26 +01:00)\n"
     ]
    }
   ],
   "source": [
    "docs[\"whole_text\"] = docs[\"title\"] + \" \" + docs[\"body\"]\n",
    "docs"
   ]
  },
  {
   "cell_type": "markdown",
   "id": "f67ba376",
   "metadata": {},
   "source": [
    "#### Whole text"
   ]
  },
  {
   "cell_type": "code",
   "execution_count": 189,
   "id": "7fe76931",
   "metadata": {},
   "outputs": [
    {
     "name": "stdout",
     "output_type": "stream",
     "text": [
      "time: 5min 43s (started: 2024-03-24 09:33:46 +01:00)\n"
     ]
    }
   ],
   "source": [
    "# 1. Vectorize the whole text\n",
    "vectorizer = CountVectorizer(binary=True)\n",
    "X_whole_text = vectorizer.fit_transform(docs['whole_text'])\n",
    "#5.43s"
   ]
  },
  {
   "cell_type": "markdown",
   "id": "ea883a4b",
   "metadata": {},
   "source": [
    "##### Example - Single Query"
   ]
  },
  {
   "cell_type": "code",
   "execution_count": 190,
   "id": "32b96a85",
   "metadata": {},
   "outputs": [
    {
     "name": "stdout",
     "output_type": "stream",
     "text": [
      "P@10 for query ID 251898: 0.1\n",
      "time: 1.75 s (started: 2024-03-24 09:39:29 +01:00)\n"
     ]
    }
   ],
   "source": [
    "pAt10_score = pAt10(X_whole_text, gold, 251898)\n",
    "print(f\"P@10 for query ID 251898: {pAt10_score}\")"
   ]
  },
  {
   "cell_type": "markdown",
   "id": "f00ef4f1",
   "metadata": {},
   "source": [
    "##### Training Queries"
   ]
  },
  {
   "cell_type": "code",
   "execution_count": 191,
   "id": "ad1d1135",
   "metadata": {},
   "outputs": [
    {
     "data": {
      "text/plain": [
       "0.4816"
      ]
     },
     "execution_count": 191,
     "metadata": {},
     "output_type": "execute_result"
    },
    {
     "name": "stdout",
     "output_type": "stream",
     "text": [
      "time: 7min 27s (started: 2024-03-24 09:39:31 +01:00)\n"
     ]
    }
   ],
   "source": [
    "# Evaluation part: p@10\n",
    "training_queries_pAt10_whole = [pAt10(X_whole_text, gold, qid) for qid in training_queries.qid]\n",
    "avg_pAt10_whole = np.mean(training_queries_pAt10_whole)\n",
    "avg_pAt10_whole"
   ]
  },
  {
   "cell_type": "markdown",
   "id": "323ba672",
   "metadata": {},
   "source": [
    "#### Conclusion: CountVectorizer(binary=True) only Titles vs Whole Text"
   ]
  },
  {
   "cell_type": "markdown",
   "id": "c8ee5062",
   "metadata": {},
   "source": [
    "- #### Remark 1:\n",
    "\n",
    "    We appreciate a decrease in P@10 when moving from title-only (0.5) to whole-text (0.1) vectorization when it comes to predicting **a single query (251898)** which can happen for several reasons:\n",
    "\n",
    "    1. $\\underline{\\text{Noisy Data:}}$ Titles are generally concise and highly relevant to the content of the document, but the body might include a lot of additional information, some of which could be considered noise in the context of the specific query. This noise might dilute the relevance signals that were clear in the title alone.\n",
    "\n",
    "    2. $\\underline{\\text{Keyword Dilution:}}$ When using the entire text, the frequency of key terms from the title might be diluted among many other terms, leading to less distinctive vectors for relevance ranking.\n",
    "\n",
    "    3. $\\underline{\\text{Overfitting to Titles:}}$ The model or the baseline might be overfitting to the style or keywords found in titles. When you add the body text, the model's ability to distinguish relevant from non-relevant documents might decrease because it's now relying on features that are not as strongly indicative of relevance.\n",
    "\n",
    "    4. $\\underline{\\text{Vector Space Dimensionality:}}$ Including the full text increases the dimensionality of the vector space significantly (since you likely have more unique words in the full texts than in the titles), which can sometimes lead to poorer performance if not managed correctly, a phenomenon sometimes referred to as the \"curse of dimensionality.\""
   ]
  },
  {
   "cell_type": "markdown",
   "id": "c9188fd1",
   "metadata": {},
   "source": [
    "- #### Remark 2:\n",
    "\n",
    "    However and unexpectedly, the average P@10 score improves when using the whole text (0.4816) instead of just the titles (0.319) for a training set of 500 queries, this suggests that including the body of the documents provides a more comprehensive set of features that help in identifying relevant documents. Here are some possible reasons for this improvement:\n",
    "\n",
    "    1. **Richer Context**: Whole text contains more context and information than titles alone, which can lead to better matching with queries, especially for complex queries that require more context to interpret correctly.\n",
    "\n",
    "    2. **Detailed Content**: The body of a document often contains detailed discussions of topics that might only be briefly mentioned in the title. This can help in capturing the relevance for queries that are more specific and detailed.\n",
    "\n",
    "    3. **Keyword Occurrence**: Important keywords may occur in the body text that do not appear in the titles. These occurrences can contribute to a more accurate representation of the document's content and hence improve the matching with queries.\n",
    "\n",
    "    4. **Diverse Vocabulary**: The body text introduces a wider and more diverse vocabulary. This can help differentiate documents more precisely and match a broader range of queries.\n",
    "\n",
    "    5. **Long-tail Queries**: For more descriptive or long-tail queries, the chance that the relevant terms appear in the body rather than just the title is higher. Thus, the whole text provides a better chance of matching these queries.\n",
    "\n",
    "    6. **Overfitting to Training Set**: It's also possible that the model has become better at matching the patterns in the training set specifically when using the whole text, which might not generalize as well to unseen queries or a different test set.\n",
    "\n",
    "    In summary, while the P@10 score might decrease for individual queries when using the whole text, the average P@10 score across a large set of queries can improve if the additional context and information contained in the full text leads to better overall matching between queries and documents."
   ]
  },
  {
   "cell_type": "markdown",
   "id": "ba285c9b",
   "metadata": {},
   "source": [
    "### Non-Binary (Frequency) Vectorization on the whole text (title + body) + Evaluation on p@10"
   ]
  },
  {
   "cell_type": "markdown",
   "id": "8d432e2d",
   "metadata": {},
   "source": [
    "#### Title only"
   ]
  },
  {
   "cell_type": "code",
   "execution_count": 203,
   "id": "76d93198",
   "metadata": {},
   "outputs": [
    {
     "name": "stdout",
     "output_type": "stream",
     "text": [
      "time: 1.33 s (started: 2024-03-24 10:33:15 +01:00)\n"
     ]
    }
   ],
   "source": [
    "# Vectorize the whole text\n",
    "vectorizer = CountVectorizer(binary=False)\n",
    "X_titles_non_binary = vectorizer.fit_transform(docs['title'])"
   ]
  },
  {
   "cell_type": "markdown",
   "id": "16ef62fe",
   "metadata": {},
   "source": [
    "##### Example - Single Query"
   ]
  },
  {
   "cell_type": "code",
   "execution_count": 204,
   "id": "10914c48",
   "metadata": {},
   "outputs": [
    {
     "name": "stdout",
     "output_type": "stream",
     "text": [
      "P@10 for query ID 251898: 0.0\n",
      "time: 16 ms (started: 2024-03-24 10:33:17 +01:00)\n"
     ]
    }
   ],
   "source": [
    "pAt10_score = pAt10(X_titles_non_binary, gold, 251898)\n",
    "print(f\"P@10 for query ID 251898: {pAt10_score}\")"
   ]
  },
  {
   "cell_type": "markdown",
   "id": "e03eea7e",
   "metadata": {},
   "source": [
    "##### Training Queries"
   ]
  },
  {
   "cell_type": "code",
   "execution_count": 205,
   "id": "72f17b1e",
   "metadata": {},
   "outputs": [
    {
     "data": {
      "text/plain": [
       "0.046400000000000004"
      ]
     },
     "execution_count": 205,
     "metadata": {},
     "output_type": "execute_result"
    },
    {
     "name": "stdout",
     "output_type": "stream",
     "text": [
      "time: 4.2 s (started: 2024-03-24 10:33:20 +01:00)\n"
     ]
    }
   ],
   "source": [
    "# Evaluation part: p@10\n",
    "training_queries_pAt10_titles_non_binary = [pAt10(X_titles_non_binary, gold, qid) for qid in training_queries.qid]\n",
    "avg_pAt10_titles_non_binary = np.mean(training_queries_pAt10_titles_non_binary)\n",
    "avg_pAt10_titles_non_binary"
   ]
  },
  {
   "cell_type": "markdown",
   "id": "4dcb311f",
   "metadata": {},
   "source": [
    "#### Whole Text"
   ]
  },
  {
   "cell_type": "code",
   "execution_count": 195,
   "id": "c0c5a98b",
   "metadata": {},
   "outputs": [
    {
     "name": "stdout",
     "output_type": "stream",
     "text": [
      "time: 6min 12s (started: 2024-03-24 10:07:19 +01:00)\n"
     ]
    }
   ],
   "source": [
    "# Vectorize the whole text\n",
    "vectorizer = CountVectorizer(binary=False)\n",
    "X_non_binary = vectorizer.fit_transform(docs['whole_text'])"
   ]
  },
  {
   "cell_type": "markdown",
   "id": "b041134f",
   "metadata": {},
   "source": [
    "##### Example - Single Query"
   ]
  },
  {
   "cell_type": "code",
   "execution_count": 196,
   "id": "ac312c93",
   "metadata": {},
   "outputs": [
    {
     "name": "stdout",
     "output_type": "stream",
     "text": [
      "P@10 for query ID 251898: 0.0\n",
      "time: 1.58 s (started: 2024-03-24 10:13:32 +01:00)\n"
     ]
    }
   ],
   "source": [
    "pAt10_score_non_binary = pAt10(X_non_binary, gold, 251898)\n",
    "print(f\"P@10 for query ID 251898: {pAt10_score_non_binary}\")"
   ]
  },
  {
   "cell_type": "markdown",
   "id": "7637be65",
   "metadata": {},
   "source": [
    "##### Training Queries"
   ]
  },
  {
   "cell_type": "code",
   "execution_count": 197,
   "id": "57167560",
   "metadata": {},
   "outputs": [
    {
     "data": {
      "text/plain": [
       "0.046"
      ]
     },
     "execution_count": 197,
     "metadata": {},
     "output_type": "execute_result"
    },
    {
     "name": "stdout",
     "output_type": "stream",
     "text": [
      "time: 7min 28s (started: 2024-03-24 10:13:34 +01:00)\n"
     ]
    }
   ],
   "source": [
    "# Evaluation part: p@10\n",
    "training_queries_pAt10_whole_non_binary = [pAt10(X_non_binary, gold, qid) for qid in training_queries.qid]\n",
    "avg_pAt10_whole_non_binary = np.mean(training_queries_pAt10_whole_non_binary)\n",
    "avg_pAt10_whole_non_binary"
   ]
  },
  {
   "cell_type": "markdown",
   "id": "16114014",
   "metadata": {},
   "source": [
    "#### Conclusion: CountVectorizer(binary=False) only Titles vs Whole Text"
   ]
  },
  {
   "cell_type": "markdown",
   "id": "b08dadfe",
   "metadata": {},
   "source": [
    "- #### Remark 1:\n",
    "\n",
    "   These outcomes can seem counterintuitive, but they highlight how the choice of text representation can significantly impact the performance of information retrieval systems. Let's consider the possible reasons behind these results:\n",
    "\n",
    "1. **CountVectorizer (binary=False) with Whole Text (P@10=0.046 for the training set, 0.0 for a single query):**\n",
    "   \n",
    "   - When binary=False, the CountVectorizer accounts for term frequency. This can be detrimental if the frequency isn't normalized because common words may dominate the feature representation.\n",
    "   \n",
    "   - Including the whole text likely introduces a lot of common words and phrases, which might not be relevant to the query's intent, leading to a diluted signal for relevance.\n",
    "\n",
    "2. **CountVectorizer (binary=False) with Titles (P@10=0.046 for the training set, 0.0 for a single query):**\n",
    "   \n",
    "   - The same frequency issue applies, but because titles are shorter and more focused, we might expect better performance. However, if the gold standard heavily favors certain keywords or phrases that are lost in the non-binary representation, performance can suffer as seen here.\n",
    "\n",
    "3. **CountVectorizer (binary=True) with Whole Text (P@10=0.4816 for the training set, 0.1 for a single query):**\n",
    "   \n",
    "   - Surprisingly, using a binary representation with the whole text has performed quite well for the training set. This might indicate that the mere presence of certain words, regardless of their frequency, is a strong indicator of relevance across your queries.\n",
    "   \n",
    "   - For the single query, the score is much lower (0.1), suggesting this query might be an outlier or not well represented in the training set.\n",
    "\n",
    "4. **CountVectorizer (binary=True) with Titles (P@10=0.319 for the training set, 0.5 for a single query):**\n",
    "   \n",
    "   - This is the best-performing scenario for the single query, indicating that specific keywords in the titles are highly relevant for this query.\n",
    "   \n",
    "   - For the training set, while still decent, it’s not as high as with the whole text, possibly due to the reduced context that titles provide, which might not capture the full scope of relevance.\n"
   ]
  },
  {
   "cell_type": "markdown",
   "id": "2cf55cd3",
   "metadata": {},
   "source": [
    "Key Insights:\n",
    "\n",
    "- **Model Sensitivity to Binary vs. Frequency Counts:** This indicates that for some queries, particularly the one I chose as a test (Query 251898), the binary presence or absence of terms (binary=true) is more indicative of relevance than the frequency of terms (binary=false).\n",
    "\n",
    "- **Importance of Title vs. Whole Text:** Titles can often be quite descriptive of the main content, but they might lack some context that the body of the text provides. However, including the full text may introduce noise, which can be particularly problematic if not managed by proper normalization or term weighting like TF-IDF, which we will consider later on the Notebook.\n",
    "\n",
    "- **Evaluation Set Disparity:** The disparity between the performance on a single query versus the training set of 500 queries suggests there might be variability in how well each query is represented in the dataset or that some queries are outliers.\n"
   ]
  },
  {
   "cell_type": "markdown",
   "id": "47e14057",
   "metadata": {},
   "source": [
    "Improvement Steps:\n",
    "\n",
    "- **Normalize Frequency Counts:** If using term frequency (binary=false), consider normalizing term counts or using TF-IDF to mitigate the impact of frequently occurring words.\n"
   ]
  },
  {
   "cell_type": "markdown",
   "id": "2f41716e",
   "metadata": {},
   "source": [
    "## TF-IDF"
   ]
  },
  {
   "cell_type": "markdown",
   "id": "6ba47251",
   "metadata": {},
   "source": [
    "### Model Evaluation"
   ]
  },
  {
   "cell_type": "code",
   "execution_count": 16,
   "id": "52a24561",
   "metadata": {},
   "outputs": [
    {
     "name": "stdout",
     "output_type": "stream",
     "text": [
      "time: 0 ns (started: 2024-03-24 20:10:37 +01:00)\n"
     ]
    }
   ],
   "source": [
    "# This function will vectorize the documents, transform the queries, and calculate P@10\n",
    "def evaluate_model(text, vectorizer, docs, queries, gold_standard):\n",
    "    # Fit the vectorizer on the documents' whole text\n",
    "    X_docs = vectorizer.fit_transform(docs[text])\n",
    "\n",
    "    # Initialize a list to store P@10 for each query\n",
    "    p_at_10_scores = []\n",
    "\n",
    "    # Loop through all queries\n",
    "    for idx, row in tqdm(queries.iterrows()):\n",
    "        query_id = row['qid']\n",
    "        query_text = row['query']\n",
    "\n",
    "        # Transform the query to fit the vector space of the document terms\n",
    "        query_vector = vectorizer.transform([query_text])\n",
    "\n",
    "        # Calculate similarity scores\n",
    "        similarity_scores = X_docs.dot(query_vector.T).toarray().flatten()\n",
    "\n",
    "        # Get the indices of the top 10 documents\n",
    "        top10_indices = np.argpartition(similarity_scores, -10)[-10:]\n",
    "        top10_indices_sorted = top10_indices[np.argsort(similarity_scores[top10_indices])[::-1]]\n",
    "        top10_docids = docs.iloc[top10_indices_sorted]['docid'].values\n",
    "\n",
    "        # Get the relevant docids from the gold standard for the query_id\n",
    "        relevant_docids = gold_standard[gold_standard['qid'] == query_id]['docid'].values\n",
    "\n",
    "        # Calculate P@10 for the query\n",
    "        relevant_in_top_10 = np.intersect1d(top10_docids, relevant_docids)\n",
    "        p_at_10 = len(relevant_in_top_10) / 10.0\n",
    "        p_at_10_scores.append(p_at_10)\n",
    "\n",
    "    # Calculate the average P@10\n",
    "    average_p_at_10 = sum(p_at_10_scores) / len(p_at_10_scores)\n",
    "    return average_p_at_10"
   ]
  },
  {
   "cell_type": "markdown",
   "id": "01b13a82",
   "metadata": {},
   "source": [
    "### TF-IDF with whole_text - Option 1"
   ]
  },
  {
   "cell_type": "code",
   "execution_count": 17,
   "id": "3cd7f8f8",
   "metadata": {},
   "outputs": [
    {
     "data": {
      "application/vnd.jupyter.widget-view+json": {
       "model_id": "0f1cc489307741368ba75a31e744b574",
       "version_major": 2,
       "version_minor": 0
      },
      "text/plain": [
       "0it [00:00, ?it/s]"
      ]
     },
     "metadata": {},
     "output_type": "display_data"
    },
    {
     "name": "stdout",
     "output_type": "stream",
     "text": [
      "Average P@10 for option 1: 0.9003999999999991\n",
      "time: 11min 25s (started: 2024-03-24 14:04:41 +01:00)\n"
     ]
    }
   ],
   "source": [
    "from sklearn.feature_extraction.text import TfidfVectorizer\n",
    "\n",
    "# Instantiation of TF-IDF - Option 1\n",
    "tfidf_vectorizer_option1 = TfidfVectorizer(max_features=50000)\n",
    "\n",
    "# Option 1 evaluation\n",
    "average_p_at_10_option1 = evaluate_model(\"whole_text\", tfidf_vectorizer_option1, docs, training_queries, gold)\n",
    "print(f'Average P@10 for option 1: {average_p_at_10_option1}')\n"
   ]
  },
  {
   "cell_type": "markdown",
   "id": "741111d8",
   "metadata": {},
   "source": [
    "### TF-IDF ignoring terms - Option 2"
   ]
  },
  {
   "cell_type": "markdown",
   "id": "e0f4bfbe",
   "metadata": {},
   "source": [
    "Option 2: Using unigrams and bigrams, ignoring terms that appear in more than 70% of the documents, and terms that appear in only 2 document.\n",
    "\n",
    "- I tried but my computer doesn't have enough memory"
   ]
  },
  {
   "cell_type": "code",
   "execution_count": 21,
   "id": "044b4278",
   "metadata": {},
   "outputs": [
    {
     "name": "stdout",
     "output_type": "stream",
     "text": [
      "time: 344 ms (started: 2024-03-24 15:26:18 +01:00)\n"
     ]
    }
   ],
   "source": [
    "from sklearn.feature_extraction.text import TfidfVectorizer\n",
    "\n",
    "# Instantiation of TF-IDF - Option 2\n",
    "tfidf_vectorizer_option2 = TfidfVectorizer(\n",
    "                            ngram_range= (1,2),  # Include bigrams\n",
    "                            max_df=0.7,          # Ignore terms that appear in more than 70% of the documents\n",
    "                            min_df=2,            # Ignore terms that appear in fewer than 2 documents\n",
    "                            max_features=30000   # Limit the vocabulary size to the top 30,000 terms\n",
    "                        )\n",
    "# Option 2 evaluation\n",
    "# average_p_at_10_option2 = evaluate_model(\"whole_text\", tfidf_vectorizer_option2, docs, training_queries, gold)\n",
    "# print(f'Average P@10 for option 2: {average_p_at_10_option2}')"
   ]
  },
  {
   "cell_type": "code",
   "execution_count": 22,
   "id": "807a4dde",
   "metadata": {},
   "outputs": [
    {
     "data": {
      "application/vnd.jupyter.widget-view+json": {
       "model_id": "253e3b2205844b03b816e286358b2f0f",
       "version_major": 2,
       "version_minor": 0
      },
      "text/plain": [
       "0it [00:00, ?it/s]"
      ]
     },
     "metadata": {},
     "output_type": "display_data"
    },
    {
     "name": "stdout",
     "output_type": "stream",
     "text": [
      "Average P@10 for option 2: 0.8995999999999992\n",
      "time: 5min 27s (started: 2024-03-24 15:26:41 +01:00)\n"
     ]
    }
   ],
   "source": [
    "from sklearn.feature_extraction.text import TfidfVectorizer\n",
    "\n",
    "# Instantiation of TF-IDF - Option 2\n",
    "tfidf_vectorizer_option2 = TfidfVectorizer(\n",
    "                            max_df=0.7,          # Ignore terms that appear in more than 70% of the documents\n",
    "                            min_df=2,            # Ignore terms that appear in fewer than 2 documents\n",
    "                            max_features=55000   # Limit the vocabulary size to the top 30,000 terms\n",
    "                        )\n",
    "# Option 2 evaluation\n",
    "average_p_at_10_option2 = evaluate_model(\"whole_text\", tfidf_vectorizer_option2, docs, training_queries, gold)\n",
    "print(f'Average P@10 for option 2: {average_p_at_10_option2}')"
   ]
  },
  {
   "cell_type": "markdown",
   "id": "e617c9a4",
   "metadata": {},
   "source": [
    "## Other Improvements"
   ]
  },
  {
   "cell_type": "markdown",
   "id": "77f6ed24",
   "metadata": {},
   "source": [
    "### Cleaning Text"
   ]
  },
  {
   "cell_type": "markdown",
   "id": "e7f7b3e5",
   "metadata": {},
   "source": [
    "The following cleaning techniques will be applied to the whole_text (title + body).\n",
    "    \n",
    "- Replace new lines + line breaks with space\n",
    "- Lowering the text\n",
    "- Remove punctuation and numbers\n",
    "- Tokenization by NLTK\n",
    "- Removing English stopwords\n",
    "- Applying stemming\n",
    "\n",
    "Here’s an example of how stemming works with the NLTK's PorterStemmer:\n",
    "\n",
    "- The word \"running\" would be stemmed to \"run\".\n",
    "- \"Happily\" would be stemmed to \"happi\".\n",
    "- \"Better\" might be stemmed to \"better\" or \"good\" depending on the stemmer's algorithm and if it's aware of such irregular forms."
   ]
  },
  {
   "cell_type": "code",
   "execution_count": 13,
   "id": "c351604f",
   "metadata": {},
   "outputs": [
    {
     "name": "stdout",
     "output_type": "stream",
     "text": [
      "time: 31 ms (started: 2024-03-24 19:31:52 +01:00)\n"
     ]
    }
   ],
   "source": [
    "def clean_text(text):\n",
    "    # Replace new lines and line breaks with space\n",
    "    text = text.replace('\\n', ' ').replace('\\r', ' ')\n",
    "    \n",
    "    # Convert to lowercase\n",
    "    text = text.lower()\n",
    "    \n",
    "    # Remove punctuation and numbers\n",
    "    text = re.sub(r'[^a-zA-Z\\s]', '', text)\n",
    "    \n",
    "    # Tokenize\n",
    "    tokens = word_tokenize(text)\n",
    "    \n",
    "    # Remove stopwords\n",
    "    stop_words = set(stopwords.words('english'))\n",
    "    tokens = [token for token in tokens if token not in stop_words]\n",
    "    \n",
    "    # Stemming (optional)\n",
    "    #stemmer = PorterStemmer()\n",
    "    #tokens = [stemmer.stem(token) for token in tokens]\n",
    "    return ' '.join(tokens)\n"
   ]
  },
  {
   "cell_type": "markdown",
   "id": "f27f56f4",
   "metadata": {},
   "source": [
    "### Creation of Cleaned_Text"
   ]
  },
  {
   "cell_type": "code",
   "execution_count": 14,
   "id": "39502d86-c7a8-4468-95b5-c0fe2e6c8db6",
   "metadata": {},
   "outputs": [
    {
     "data": {
      "application/vnd.jupyter.widget-view+json": {
       "model_id": "d25e67aa00274dfcb75c3e9f536ccf45",
       "version_major": 2,
       "version_minor": 0
      },
      "text/plain": [
       "  0%|          | 0/92562 [00:00<?, ?it/s]"
      ]
     },
     "metadata": {},
     "output_type": "display_data"
    },
    {
     "name": "stdout",
     "output_type": "stream",
     "text": [
      "time: 27min 56s (started: 2024-03-24 19:31:59 +01:00)\n"
     ]
    },
    {
     "name": "stderr",
     "output_type": "stream",
     "text": [
      "C:\\Users\\pmoll\\AppData\\Local\\Temp\\ipykernel_14472\\3855620958.py:4: SettingWithCopyWarning: \n",
      "A value is trying to be set on a copy of a slice from a DataFrame.\n",
      "Try using .loc[row_indexer,col_indexer] = value instead\n",
      "\n",
      "See the caveats in the documentation: https://pandas.pydata.org/pandas-docs/stable/user_guide/indexing.html#returning-a-view-versus-a-copy\n",
      "  docs['cleaned_text'] = docs['whole_text'].progress_apply(clean_text)\n"
     ]
    }
   ],
   "source": [
    "tqdm.pandas()\n",
    "\n",
    "# Applying the function to whole_text within docs\n",
    "docs['cleaned_text'] = docs['whole_text'].progress_apply(clean_text)\n"
   ]
  },
  {
   "cell_type": "markdown",
   "id": "8cf304ce",
   "metadata": {},
   "source": [
    "### TF-IDF with cleaned_text - Option 3"
   ]
  },
  {
   "cell_type": "code",
   "execution_count": 17,
   "id": "3065232e",
   "metadata": {},
   "outputs": [
    {
     "data": {
      "application/vnd.jupyter.widget-view+json": {
       "model_id": "0d5058af54d84e72afef669f8138bad9",
       "version_major": 2,
       "version_minor": 0
      },
      "text/plain": [
       "0it [00:00, ?it/s]"
      ]
     },
     "metadata": {},
     "output_type": "display_data"
    },
    {
     "name": "stdout",
     "output_type": "stream",
     "text": [
      "Average P@10 for option 3: 0.8847999999999996\n",
      "time: 4min 58s (started: 2024-03-24 20:10:41 +01:00)\n"
     ]
    }
   ],
   "source": [
    "from sklearn.feature_extraction.text import TfidfVectorizer\n",
    "\n",
    "# Instantiation of TF-IDF - Option 3\n",
    "tfidf_vectorizer_option3 = TfidfVectorizer(max_features=50000)\n",
    "\n",
    "# Option 3 evaluation\n",
    "average_p_at_10_option1 = evaluate_model(\"cleaned_text\", tfidf_vectorizer_option3, docs, training_queries, gold)\n",
    "print(f'Average P@10 for option 3: {average_p_at_10_option1}')\n"
   ]
  },
  {
   "cell_type": "markdown",
   "id": "9e86c90a",
   "metadata": {},
   "source": [
    "### TF-IDF with Heuristically combining (cleaned(Title) x2 + cleaned(Body)) - Option 4"
   ]
  },
  {
   "cell_type": "code",
   "execution_count": 20,
   "id": "10863e05",
   "metadata": {},
   "outputs": [
    {
     "data": {
      "application/vnd.jupyter.widget-view+json": {
       "model_id": "1453eb96e80b4aec9bc53a397d4ea413",
       "version_major": 2,
       "version_minor": 0
      },
      "text/plain": [
       "  0%|          | 0/92562 [00:00<?, ?it/s]"
      ]
     },
     "metadata": {},
     "output_type": "display_data"
    },
    {
     "name": "stdout",
     "output_type": "stream",
     "text": [
      "time: 31min 49s (started: 2024-03-24 20:20:05 +01:00)\n"
     ]
    },
    {
     "name": "stderr",
     "output_type": "stream",
     "text": [
      "C:\\Users\\pmoll\\AppData\\Local\\Temp\\ipykernel_14472\\4202488366.py:11: SettingWithCopyWarning: \n",
      "A value is trying to be set on a copy of a slice from a DataFrame.\n",
      "Try using .loc[row_indexer,col_indexer] = value instead\n",
      "\n",
      "See the caveats in the documentation: https://pandas.pydata.org/pandas-docs/stable/user_guide/indexing.html#returning-a-view-versus-a-copy\n",
      "  docs['heuristic_combined'] = docs.progress_apply(lambda row: combine_title_body(row['title'], row['whole_text']), axis=1)\n"
     ]
    }
   ],
   "source": [
    "# Defining a function for heuristic combination\n",
    "def combine_title_body(title, body, title_weight=2):\n",
    "    # Clean the title and body\n",
    "    cleaned_title = clean_text(title)\n",
    "    cleaned_body = clean_text(body)\n",
    "    # Duplicate title terms based on the weight\n",
    "    combined_text = (cleaned_title + ' ') * title_weight + cleaned_body\n",
    "    return combined_text\n",
    "\n",
    "# Apply the combination function to each row\n",
    "docs['heuristic_combined'] = docs.progress_apply(lambda row: combine_title_body(row['title'], row['whole_text']), axis=1)\n"
   ]
  },
  {
   "cell_type": "code",
   "execution_count": 20,
   "id": "0dea271b",
   "metadata": {},
   "outputs": [
    {
     "data": {
      "application/vnd.jupyter.widget-view+json": {
       "model_id": "38cf4fdad832462684fabd89446c326f",
       "version_major": 2,
       "version_minor": 0
      },
      "text/plain": [
       "0it [00:00, ?it/s]"
      ]
     },
     "metadata": {},
     "output_type": "display_data"
    },
    {
     "name": "stdout",
     "output_type": "stream",
     "text": [
      "Average P@10 for option 4: 0.8883999999999991\n",
      "time: 6min 7s (started: 2024-03-24 17:43:36 +01:00)\n"
     ]
    }
   ],
   "source": [
    "from sklearn.feature_extraction.text import TfidfVectorizer\n",
    "\n",
    "# Instantiation of TF-IDF - Option 4\n",
    "tfidf_vectorizer_option4 = TfidfVectorizer(max_features=50000)\n",
    "\n",
    "# Option 4 evaluation\n",
    "average_p_at_10_option1 = evaluate_model(\"heuristic_combined\", tfidf_vectorizer_option4, docs, training_queries, gold)\n",
    "print(f'Average P@10 for option 4: {average_p_at_10_option1}')"
   ]
  },
  {
   "cell_type": "markdown",
   "id": "27ce9fb3",
   "metadata": {},
   "source": [
    "## BM25 - Option 5"
   ]
  },
  {
   "cell_type": "markdown",
   "id": "faa99900",
   "metadata": {},
   "source": [
    "### Class BM25"
   ]
  },
  {
   "cell_type": "code",
   "execution_count": 21,
   "id": "37a47821-5f24-4e14-829d-cc7a0f448866",
   "metadata": {},
   "outputs": [
    {
     "name": "stdout",
     "output_type": "stream",
     "text": [
      "time: 282 ms (started: 2024-03-24 20:51:56 +01:00)\n"
     ]
    }
   ],
   "source": [
    "from sklearn.base import BaseEstimator, ClassifierMixin\n",
    "import numpy as np\n",
    "import gc\n",
    "\n",
    "class BM25Score(BaseEstimator, ClassifierMixin):\n",
    "    def __init__(self, k1=1.5, b=0.75): # vectorized_docs: word counts\n",
    "        self.k1 = k1\n",
    "        self.b = b\n",
    "        # self.vectorized_docs will be set in the fit method\n",
    "\n",
    "\n",
    "    def fit(self, X, y=None):\n",
    "        self.vectorized_docs = X\n",
    "        self.n_d = self.vectorized_docs.sum(axis=1).A.flatten()\n",
    "        self.avgdl = np.mean(self.n_d)\n",
    "        self.n_docs = self.vectorized_docs.shape[0]\n",
    "\n",
    "        # Calculate IDF\n",
    "        document_frequency = (self.vectorized_docs > 0).sum(axis=0).A.flatten()\n",
    "        self.idf = np.log((self.n_docs - document_frequency + 0.5) / (document_frequency + 0.5) + 1)\n",
    "        return self\n",
    "\n",
    "    def predict(self, X):\n",
    "        # bigger batches => faster but more memory heavy\n",
    "        n_queries = X.shape[0]\n",
    "        batch_size = 50\n",
    "        final_scores = []\n",
    "\n",
    "        for batch_idx in range(0, n_queries, batch_size):\n",
    "            end_idx = min(batch_idx + batch_size, n_queries)\n",
    "            batch_vectorized_queries = X[batch_idx:end_idx]\n",
    "            idx_tokens = np.flatnonzero(batch_vectorized_queries.sum(axis=0))\n",
    "            batch_vectorized_queries = batch_vectorized_queries[:, idx_tokens]\n",
    "            vectorized_docs = self.vectorized_docs[:, idx_tokens].toarray()\n",
    "            idf = self.idf[idx_tokens]\n",
    "\n",
    "            scores = idf * (\n",
    "                (vectorized_docs * (self.k1 + 1)) /\n",
    "                (vectorized_docs + self.k1 * (1 - self.b + self.b * (self.n_d[:, None] / self.avgdl)))\n",
    "            )\n",
    "            final_scores.append(((batch_vectorized_queries > 0).astype(np.float32) @ scores.T))\n",
    "\n",
    "            del vectorized_docs, scores\n",
    "            gc.collect()\n",
    "\n",
    "        return np.concatenate(final_scores, axis=0)\n"
   ]
  },
  {
   "cell_type": "markdown",
   "id": "f31c4760",
   "metadata": {},
   "source": [
    "### Vectorization + Cleaning"
   ]
  },
  {
   "cell_type": "code",
   "execution_count": 25,
   "id": "3e1860fe",
   "metadata": {},
   "outputs": [
    {
     "data": {
      "application/vnd.jupyter.widget-view+json": {
       "model_id": "864b910acc1943b4897a1abc784f6c86",
       "version_major": 2,
       "version_minor": 0
      },
      "text/plain": [
       "  0%|          | 0/500 [00:00<?, ?it/s]"
      ]
     },
     "metadata": {},
     "output_type": "display_data"
    },
    {
     "name": "stdout",
     "output_type": "stream",
     "text": [
      "time: 3min 3s (started: 2024-03-24 21:21:26 +01:00)\n"
     ]
    }
   ],
   "source": [
    "from sklearn.feature_extraction.text import CountVectorizer\n",
    " \n",
    "# Vectorize the whole text\n",
    "vectorizer = CountVectorizer(binary=True)\n",
    "X_final = vectorizer.fit_transform(docs['cleaned_text'])\n",
    "\n",
    "# To use the BM25 score for ranking, we vectorize all queries and use the predict method\n",
    "cleaned_queries = []\n",
    "for query in tqdm(training_queries['query']):\n",
    "    cleaned_queries.append(clean_text(query))\n"
   ]
  },
  {
   "cell_type": "markdown",
   "id": "914bb518",
   "metadata": {},
   "source": [
    "### Prediction"
   ]
  },
  {
   "cell_type": "code",
   "execution_count": 26,
   "id": "54618490",
   "metadata": {},
   "outputs": [
    {
     "name": "stdout",
     "output_type": "stream",
     "text": [
      "time: 24 s (started: 2024-03-24 21:25:14 +01:00)\n"
     ]
    }
   ],
   "source": [
    "# Instantiation of BM25Score + fitting + prediction\n",
    "bm25 = BM25Score()\n",
    "bm25.fit(X_final)\n",
    "queries_vectors = vectorizer.transform(cleaned_queries)\n",
    "scores = bm25.predict(queries_vectors)"
   ]
  },
  {
   "cell_type": "code",
   "execution_count": 27,
   "id": "cb5bd5df",
   "metadata": {},
   "outputs": [
    {
     "data": {
      "text/plain": [
       "(500, 92562)"
      ]
     },
     "execution_count": 27,
     "metadata": {},
     "output_type": "execute_result"
    },
    {
     "name": "stdout",
     "output_type": "stream",
     "text": [
      "time: 16 ms (started: 2024-03-24 21:25:39 +01:00)\n"
     ]
    }
   ],
   "source": [
    "scores.shape"
   ]
  },
  {
   "cell_type": "code",
   "execution_count": 28,
   "id": "31137915",
   "metadata": {},
   "outputs": [
    {
     "name": "stdout",
     "output_type": "stream",
     "text": [
      "Average BM25 P@10: 0.8438\n",
      "time: 3.12 s (started: 2024-03-24 21:25:40 +01:00)\n"
     ]
    }
   ],
   "source": [
    "def evaluate_model_bm25_optimized(scores, docs, queries, gold_standard):\n",
    "    # Assuming 'scores' is a 2D array: rows are queries, columns are documents.\n",
    "    p_at_10_scores = []\n",
    "    \n",
    "    for idx, row in enumerate(queries.itertuples()):\n",
    "        query_id = getattr(row, 'qid')\n",
    "        \n",
    "        # Get scores for the current query\n",
    "        query_scores = scores[idx]\n",
    "        \n",
    "        # Efficiently find the indices of the top 10 scores for this query\n",
    "        top10_indices = np.argpartition(query_scores, -10)[-10:]\n",
    "        top10_indices_sorted = top10_indices[np.argsort(query_scores[top10_indices])[::-1]]\n",
    "        \n",
    "        # Assuming doc_ids is a list of document IDs that aligns with columns in 'scores'\n",
    "        top10_docids = [docs.iloc[idx]['docid'] for idx in top10_indices_sorted]\n",
    "        \n",
    "        # Get the relevant docids for the query_id from gold_standard\n",
    "        relevant_docids = gold_standard[gold_standard['qid'] == query_id]['docid'].values\n",
    "        \n",
    "        # Calculate P@10 for the query\n",
    "        relevant_in_top_10 = np.intersect1d(top10_docids, relevant_docids)\n",
    "        p_at_10 = len(relevant_in_top_10) / 10.0\n",
    "        p_at_10_scores.append(p_at_10)\n",
    "    \n",
    "    # Calculate the average P@10\n",
    "    average_p_at_10 = np.mean(p_at_10_scores)\n",
    "    return average_p_at_10\n",
    "\n",
    "\n",
    "\n",
    "average_p_at_10 = evaluate_model_bm25_optimized(scores, docs, training_queries, gold)\n",
    "print(f\"Average BM25 P@10: {average_p_at_10}\")\n"
   ]
  },
  {
   "cell_type": "markdown",
   "id": "9c8e6d3c",
   "metadata": {},
   "source": [
    "## Notebook's Detailed Conclusion"
   ]
  },
  {
   "cell_type": "markdown",
   "id": "2486caa8",
   "metadata": {},
   "source": [
    "Based on the P@10 results for different text processing and vectorization approaches, we can draw several conclusions and identify potential areas for improvement. The results indicate varying levels of effectiveness in capturing the relevance of documents to queries, which is crucial for information retrieval tasks. Here's a summary and analysis, following the order of performance:\n",
    "\n",
    "1. **TF-IDF with whole text (not cleaned) + max_df = 0.7, min_df = 2 and max_features = 55000 obtained 0.899**: This approach yielded the best performance, suggesting that the inclusion of both frequent and infrequent terms (controlled by max_df and min_df) in a relatively large feature set (max_features=55000) captures a rich set of relevance signals, even without explicit text cleaning.\n",
    "\n",
    "2. **TF-IDF with heuristic_combined (cleaned(title)x2 + cleaned(body)) obtained 0.888 with max_features = 50000**: Close to the top performer, this strategy emphasizes title terms by doubling their presence, which intuitively boosts the weight of potentially more relevant terms found in titles. Cleaning the text also seems to contribute positively, removing noise that might dilute important signals.\n",
    "\n",
    "3. **TF-IDF with cleaned_text obtained 0.885 with max_features = 50000**: Slightly underperforming compared to the heuristic combination, directly cleaning the text without specific emphasis on titles still yields high performance, reinforcing the value of preprocessing steps in enhancing the quality of the feature space.\n",
    "\n",
    "4. **BM25 with cleaned_text obtained 0.843**: As a well-regarded algorithm for information retrieval, BM25's lower performance compared to the top TF-IDF configurations might be due to the particular characteristics of the dataset or the choice of k1 and b parameters. Nonetheless, its strong performance underscores the effectiveness of relevance-based scoring mechanisms.\n",
    "\n",
    "5. **Binary vectorization on whole_text obtained 0.482**: Representing a significant drop in effectiveness, binary vectorization on the whole text suggests that mere presence/absence signals without frequency or TF-IDF weighting are less informative for relevance determination.\n",
    "\n",
    "6. **Binary vectorization on titles obtained 0.319**: Binary vectorization's lower performance on titles alone highlights the challenge of relying solely on the presence or absence of terms in titles, which may not capture enough contextual or semantic information for accurate relevance scoring.\n",
    "\n",
    "7. **Non-binary vectorization on whole_text and titles both obtained 0.046**: Surprisingly, treating term frequencies in a non-binary manner for both whole texts and titles underperformed significantly. This suggests that without proper normalization or weighting, raw frequencies may introduce noise or overemphasize less relevant terms, obscuring meaningful relevance signals.\n",
    "\n",
    "### Possible Improvements:\n",
    "\n",
    "- **Feature Selection and Dimensionality**: I would experiment with different values for `max_features`, `max_df`, and `min_df` to fine-tune the balance between including informative terms and excluding noise. Advanced dimensionality reduction techniques could also be explored.\n",
    "  \n",
    "- **Parameter Tuning for BM25**: It could be adjusted BM25's `k1` and `b` parameters could potentially improve its performance to better reflect the dataset's characteristics.\n",
    "\n",
    "- **Combining Signals**: Leveraging a combination of different vectorization and scoring methods could harness the strengths of each approach. Ensemble methods or machine learning models that can learn from multiple feature sets might offer enhanced performance.\n",
    "\n",
    "- **Semantic Understanding**: Exploring embeddings that capture deeper semantic meanings, such as those from language models (e.g., BERT), could provide more nuanced relevance signals.\n",
    "\n",
    "The results are intriguing and highlight the importance of methodical experimentation with text processing and vectorization techniques in information retrieval tasks. The success of TF-IDF approaches, especially with careful feature selection and text preprocessing, is noteworthy, though the strong showing of BM25 also underscores the value of relevance-focused scoring methods."
   ]
  },
  {
   "cell_type": "markdown",
   "id": "e9e10c5c",
   "metadata": {},
   "source": [
    "## Notebook's Concise Conclusion"
   ]
  },
  {
   "cell_type": "markdown",
   "id": "eb61e1a9",
   "metadata": {},
   "source": [
    "- The evaluation of different text vectorization and scoring methods revealed that TF-IDF with uncleaned whole text and a large feature set performed the best (P@10=0.899), highlighting the importance of comprehensive feature representation and careful parameter tuning. \n",
    "\n",
    "- Close behind were methods emphasizing title relevance through heuristic combinations and cleaned text, suggesting that strategic emphasis on specific document parts and preprocessing can enhance relevance detection. \n",
    "\n",
    "- Surprisingly, BM25, a standard in information retrieval, scored lower, indicating potential for parameter optimization. \n",
    "\n",
    "- Binary vectorization methods, especially when applied to titles alone or the whole text, showed significantly lower effectiveness, underscoring the value of frequency and TF-IDF weighting over mere presence/absence signals. \n",
    "\n",
    "- These results underscore the nuanced impact of text preprocessing, feature selection, and scoring mechanisms on information retrieval performance, advocating for a balanced approach that combines strategic emphasis on document components with robust scoring algorithms."
   ]
  }
 ],
 "metadata": {
  "kernelspec": {
   "display_name": "Python 3 (ipykernel)",
   "language": "python",
   "name": "python3"
  },
  "language_info": {
   "codemirror_mode": {
    "name": "ipython",
    "version": 3
   },
   "file_extension": ".py",
   "mimetype": "text/x-python",
   "name": "python",
   "nbconvert_exporter": "python",
   "pygments_lexer": "ipython3",
   "version": "3.10.8"
  }
 },
 "nbformat": 4,
 "nbformat_minor": 5
}
