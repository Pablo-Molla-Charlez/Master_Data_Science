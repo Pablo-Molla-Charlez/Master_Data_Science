{
 "cells": [
  {
   "attachments": {},
   "cell_type": "markdown",
   "id": "32e02f0b-7db2-4aa4-897c-55c388331127",
   "metadata": {},
   "source": [
    "# Information Retrieval Notebook 3"
   ]
  },
  {
   "cell_type": "code",
   "execution_count": 199,
   "id": "c2e54178-39dc-4056-b037-9b486a7bdaa2",
   "metadata": {},
   "outputs": [
    {
     "name": "stdout",
     "output_type": "stream",
     "text": [
      "time: 14 ms (started: 2024-03-28 17:47:20 +01:00)\n"
     ]
    }
   ],
   "source": [
    "#!pip install rank_bm25 spacy Sense2Vec\n",
    "#!wget https://github.com/explosion/sense2vec/releases/download/v1.0.0/s2v_reddit_2015_md.tar.gz\n",
    "import re\n",
    "import numpy as np\n",
    "import matplotlib.pyplot as plt\n",
    "import pandas as pd\n",
    "import seaborn as sns\n",
    "from collections import Counter\n",
    "from tqdm.notebook import tqdm\n",
    "from sklearn.feature_extraction.text import CountVectorizer, TfidfVectorizer\n",
    "from rank_bm25 import BM25Okapi\n",
    "import spacy\n",
    "from sense2vec import Sense2Vec\n",
    "tqdm.pandas()"
   ]
  },
  {
   "cell_type": "code",
   "execution_count": 200,
   "id": "d8e3a30e-23d6-459c-a8e3-6d05acd4c131",
   "metadata": {},
   "outputs": [
    {
     "name": "stdout",
     "output_type": "stream",
     "text": [
      "The autotime extension is already loaded. To reload it, use:\n",
      "  %reload_ext autotime\n",
      "time: 2.94 ms (started: 2024-03-28 17:47:20 +01:00)\n"
     ]
    }
   ],
   "source": [
    "# this turns on the autotimer, so that every cell has a timing information below\n",
    "try:\n",
    "    %load_ext autotime\n",
    "except:\n",
    "    #!pip install ipython-autotime\n",
    "    %load_ext autotime\n",
    "# stop using:\n",
    "# %unload_ext autotime"
   ]
  },
  {
   "cell_type": "markdown",
   "id": "a2bfcff9-6ea6-43f1-b638-fa581802e3fd",
   "metadata": {},
   "source": [
    "## Getting the best combinations from last time and writing them into files"
   ]
  },
  {
   "cell_type": "code",
   "execution_count": 201,
   "id": "6d35e771-f5aa-4a17-9a25-46178bd8bb5a",
   "metadata": {},
   "outputs": [
    {
     "name": "stdout",
     "output_type": "stream",
     "text": [
      "time: 797 µs (started: 2024-03-28 17:47:20 +01:00)\n"
     ]
    }
   ],
   "source": [
    "#origdocs = pd.read_csv('our_msmarco/our.msmarco.docs.tsv',sep='\\t',usecols=[1,2,3])\n",
    "#origdocs['title'].fillna('-', inplace=True)\n",
    "#origdocs['body'].fillna('-', inplace=True)\n",
    "#origdocs"
   ]
  },
  {
   "cell_type": "code",
   "execution_count": 202,
   "id": "4da4b24c-339a-4e77-99ab-e28d9f37d45f",
   "metadata": {},
   "outputs": [
    {
     "name": "stdout",
     "output_type": "stream",
     "text": [
      "time: 710 µs (started: 2024-03-28 17:47:21 +01:00)\n"
     ]
    }
   ],
   "source": [
    "#docs = pd.DataFrame(columns = ['docid', 'text'])\n",
    "#docs['docid']=origdocs.docid\n",
    "#docs['text']=origdocs.title+' '+origdocs.body\n",
    "#docs"
   ]
  },
  {
   "cell_type": "code",
   "execution_count": 203,
   "id": "2a421945-a320-4b52-88be-fc9cff2b64f1",
   "metadata": {},
   "outputs": [
    {
     "name": "stdout",
     "output_type": "stream",
     "text": [
      "time: 521 µs (started: 2024-03-28 17:47:21 +01:00)\n"
     ]
    }
   ],
   "source": [
    "#del origdocs # saving memory"
   ]
  },
  {
   "cell_type": "code",
   "execution_count": 204,
   "id": "a54ed965-233b-4400-9cbf-59d4613ced30",
   "metadata": {},
   "outputs": [
    {
     "name": "stdout",
     "output_type": "stream",
     "text": [
      "time: 608 µs (started: 2024-03-28 17:47:21 +01:00)\n"
     ]
    }
   ],
   "source": [
    "#docs.to_csv('our.text.msmarco.docs.tsv',sep='\\t', columns=['docid','text'])"
   ]
  },
  {
   "cell_type": "markdown",
   "id": "e4716916-e781-41eb-b171-7a94097ed1e9",
   "metadata": {},
   "source": [
    "## Reading back in just for checking the files - or for restarting here"
   ]
  },
  {
   "cell_type": "code",
   "execution_count": 205,
   "id": "5241b2b4-5108-49f8-8b96-447aa4db0e8c",
   "metadata": {},
   "outputs": [
    {
     "name": "stdout",
     "output_type": "stream",
     "text": [
      "time: 4.85 ms (started: 2024-03-28 17:47:21 +01:00)\n"
     ]
    }
   ],
   "source": [
    "import re\n",
    "import numpy as np\n",
    "import matplotlib.pyplot as plt\n",
    "import pandas as pd\n",
    "import seaborn as sns\n",
    "from collections import Counter\n",
    "from tqdm.notebook import tqdm\n",
    "from sklearn.feature_extraction.text import CountVectorizer, TfidfVectorizer\n",
    "from rank_bm25 import BM25Okapi\n",
    "\n",
    "tqdm.pandas()"
   ]
  },
  {
   "cell_type": "code",
   "execution_count": 206,
   "id": "e330b2b8-933c-48e9-97e8-a7958719cdbb",
   "metadata": {},
   "outputs": [
    {
     "data": {
      "text/html": [
       "<div>\n",
       "<style scoped>\n",
       "    .dataframe tbody tr th:only-of-type {\n",
       "        vertical-align: middle;\n",
       "    }\n",
       "\n",
       "    .dataframe tbody tr th {\n",
       "        vertical-align: top;\n",
       "    }\n",
       "\n",
       "    .dataframe thead th {\n",
       "        text-align: right;\n",
       "    }\n",
       "</style>\n",
       "<table border=\"1\" class=\"dataframe\">\n",
       "  <thead>\n",
       "    <tr style=\"text-align: right;\">\n",
       "      <th></th>\n",
       "      <th>docid</th>\n",
       "      <th>text</th>\n",
       "    </tr>\n",
       "  </thead>\n",
       "  <tbody>\n",
       "    <tr>\n",
       "      <th>0</th>\n",
       "      <td>D2981241</td>\n",
       "      <td>What do you call a group of lions? Lions Vocab...</td>\n",
       "    </tr>\n",
       "    <tr>\n",
       "      <th>1</th>\n",
       "      <td>D687756</td>\n",
       "      <td>. The A Priori Argument ( also, Rationalizatio...</td>\n",
       "    </tr>\n",
       "    <tr>\n",
       "      <th>2</th>\n",
       "      <td>D913099</td>\n",
       "      <td>Everything You Need To Learn How To Cook Veget...</td>\n",
       "    </tr>\n",
       "    <tr>\n",
       "      <th>3</th>\n",
       "      <td>D328017</td>\n",
       "      <td>What is the difference between latitude, longi...</td>\n",
       "    </tr>\n",
       "    <tr>\n",
       "      <th>4</th>\n",
       "      <td>D1636347</td>\n",
       "      <td>When was the pulley invented? Answers.com ® Wi...</td>\n",
       "    </tr>\n",
       "    <tr>\n",
       "      <th>...</th>\n",
       "      <td>...</td>\n",
       "      <td>...</td>\n",
       "    </tr>\n",
       "    <tr>\n",
       "      <th>92560</th>\n",
       "      <td>D3379210</td>\n",
       "      <td>Top 39 Doctor insights on: Can An Iud Cause Ha...</td>\n",
       "    </tr>\n",
       "    <tr>\n",
       "      <th>92561</th>\n",
       "      <td>D3068739</td>\n",
       "      <td>How to get back your DirecTV cancellation fees...</td>\n",
       "    </tr>\n",
       "    <tr>\n",
       "      <th>92562</th>\n",
       "      <td>D1590402</td>\n",
       "      <td>Certification FAQs Fingerprinting 1. Where can...</td>\n",
       "    </tr>\n",
       "    <tr>\n",
       "      <th>92563</th>\n",
       "      <td>D2175490</td>\n",
       "      <td>Greenhouse gas emissions by Canadian economic ...</td>\n",
       "    </tr>\n",
       "    <tr>\n",
       "      <th>92564</th>\n",
       "      <td>D2580062</td>\n",
       "      <td>QuickBooks Bill Pay Quick Books Bill Pay Simpl...</td>\n",
       "    </tr>\n",
       "  </tbody>\n",
       "</table>\n",
       "<p>92565 rows × 2 columns</p>\n",
       "</div>"
      ],
      "text/plain": [
       "          docid                                               text\n",
       "0      D2981241  What do you call a group of lions? Lions Vocab...\n",
       "1       D687756  . The A Priori Argument ( also, Rationalizatio...\n",
       "2       D913099  Everything You Need To Learn How To Cook Veget...\n",
       "3       D328017  What is the difference between latitude, longi...\n",
       "4      D1636347  When was the pulley invented? Answers.com ® Wi...\n",
       "...         ...                                                ...\n",
       "92560  D3379210  Top 39 Doctor insights on: Can An Iud Cause Ha...\n",
       "92561  D3068739  How to get back your DirecTV cancellation fees...\n",
       "92562  D1590402  Certification FAQs Fingerprinting 1. Where can...\n",
       "92563  D2175490  Greenhouse gas emissions by Canadian economic ...\n",
       "92564  D2580062  QuickBooks Bill Pay Quick Books Bill Pay Simpl...\n",
       "\n",
       "[92565 rows x 2 columns]"
      ]
     },
     "execution_count": 206,
     "metadata": {},
     "output_type": "execute_result"
    },
    {
     "name": "stdout",
     "output_type": "stream",
     "text": [
      "time: 15.1 s (started: 2024-03-28 17:47:21 +01:00)\n"
     ]
    }
   ],
   "source": [
    "# this is a different doc, no longer distinguishing title and body\n",
    "docs = pd.read_csv(\"/bigstorage/pavlo/testing/our.text.msmarco.docs_2.tsv\",sep='\\t',usecols=[1,2]) \n",
    "docs"
   ]
  },
  {
   "cell_type": "markdown",
   "id": "6b9292fc",
   "metadata": {},
   "source": [
    "### Pre-tokenization for BM25"
   ]
  },
  {
   "cell_type": "code",
   "execution_count": 207,
   "id": "a717365c-1da7-495d-a09e-c269042bd77a",
   "metadata": {},
   "outputs": [
    {
     "data": {
      "application/vnd.jupyter.widget-view+json": {
       "model_id": "6f1e5b8e72b14b70a64ca55cc51c00c5",
       "version_major": 2,
       "version_minor": 0
      },
      "text/plain": [
       "  0%|          | 0/92565 [00:00<?, ?it/s]"
      ]
     },
     "metadata": {},
     "output_type": "display_data"
    },
    {
     "name": "stdout",
     "output_type": "stream",
     "text": [
      "time: 3min 5s (started: 2024-03-28 17:47:37 +01:00)\n"
     ]
    }
   ],
   "source": [
    "vectorizer = TfidfVectorizer(sublinear_tf=True, strip_accents='unicode')\n",
    "tokenized_corpus = docs.text.progress_apply(vectorizer.build_analyzer())"
   ]
  },
  {
   "cell_type": "markdown",
   "id": "6e803be5",
   "metadata": {},
   "source": [
    "### Training & Testing Queries"
   ]
  },
  {
   "cell_type": "code",
   "execution_count": 208,
   "id": "097d25f7-29b1-47b0-97c2-4558748ab27c",
   "metadata": {},
   "outputs": [
    {
     "data": {
      "text/html": [
       "<div>\n",
       "<style scoped>\n",
       "    .dataframe tbody tr th:only-of-type {\n",
       "        vertical-align: middle;\n",
       "    }\n",
       "\n",
       "    .dataframe tbody tr th {\n",
       "        vertical-align: top;\n",
       "    }\n",
       "\n",
       "    .dataframe thead th {\n",
       "        text-align: right;\n",
       "    }\n",
       "</style>\n",
       "<table border=\"1\" class=\"dataframe\">\n",
       "  <thead>\n",
       "    <tr style=\"text-align: right;\">\n",
       "      <th></th>\n",
       "      <th>qid</th>\n",
       "      <th>query</th>\n",
       "    </tr>\n",
       "  </thead>\n",
       "  <tbody>\n",
       "    <tr>\n",
       "      <th>0</th>\n",
       "      <td>687888</td>\n",
       "      <td>what is a jpe</td>\n",
       "    </tr>\n",
       "    <tr>\n",
       "      <th>1</th>\n",
       "      <td>480210</td>\n",
       "      <td>price for asphalt driveway</td>\n",
       "    </tr>\n",
       "    <tr>\n",
       "      <th>2</th>\n",
       "      <td>591004</td>\n",
       "      <td>what causes pressure skin bruising</td>\n",
       "    </tr>\n",
       "    <tr>\n",
       "      <th>3</th>\n",
       "      <td>260536</td>\n",
       "      <td>how long drive from flagstaff to grand canyon</td>\n",
       "    </tr>\n",
       "    <tr>\n",
       "      <th>4</th>\n",
       "      <td>39422</td>\n",
       "      <td>average number of bowel movements per day for ...</td>\n",
       "    </tr>\n",
       "    <tr>\n",
       "      <th>...</th>\n",
       "      <td>...</td>\n",
       "      <td>...</td>\n",
       "    </tr>\n",
       "    <tr>\n",
       "      <th>495</th>\n",
       "      <td>133970</td>\n",
       "      <td>definition of dietary fiber</td>\n",
       "    </tr>\n",
       "    <tr>\n",
       "      <th>496</th>\n",
       "      <td>79788</td>\n",
       "      <td>can you start up a video record?</td>\n",
       "    </tr>\n",
       "    <tr>\n",
       "      <th>497</th>\n",
       "      <td>791583</td>\n",
       "      <td>what is rheumatoid spondylosis</td>\n",
       "    </tr>\n",
       "    <tr>\n",
       "      <th>498</th>\n",
       "      <td>732078</td>\n",
       "      <td>what is coleman fuel made out of</td>\n",
       "    </tr>\n",
       "    <tr>\n",
       "      <th>499</th>\n",
       "      <td>197098</td>\n",
       "      <td>greyhound phone number in sacramento ca</td>\n",
       "    </tr>\n",
       "  </tbody>\n",
       "</table>\n",
       "<p>500 rows × 2 columns</p>\n",
       "</div>"
      ],
      "text/plain": [
       "        qid                                              query\n",
       "0    687888                                      what is a jpe\n",
       "1    480210                         price for asphalt driveway\n",
       "2    591004                 what causes pressure skin bruising\n",
       "3    260536      how long drive from flagstaff to grand canyon\n",
       "4     39422  average number of bowel movements per day for ...\n",
       "..      ...                                                ...\n",
       "495  133970                        definition of dietary fiber\n",
       "496   79788                   can you start up a video record?\n",
       "497  791583                     what is rheumatoid spondylosis\n",
       "498  732078                   what is coleman fuel made out of\n",
       "499  197098            greyhound phone number in sacramento ca\n",
       "\n",
       "[500 rows x 2 columns]"
      ]
     },
     "execution_count": 208,
     "metadata": {},
     "output_type": "execute_result"
    },
    {
     "name": "stdout",
     "output_type": "stream",
     "text": [
      "time: 21.5 ms (started: 2024-03-28 17:50:42 +01:00)\n"
     ]
    }
   ],
   "source": [
    "# use only col 1 if you have memory problems and do BM25 only\n",
    "queries = pd.read_csv('/bigstorage/pavlo/testing/our.msmarco.queries.tsv',sep='\\t',usecols=[1,2]) \n",
    "training_queries=queries.iloc[:500]\n",
    "testing_queries=queries.iloc[500:]\n",
    "training_queries"
   ]
  },
  {
   "cell_type": "markdown",
   "id": "e43a62de",
   "metadata": {},
   "source": [
    "### Gold"
   ]
  },
  {
   "cell_type": "code",
   "execution_count": 209,
   "id": "2b93b6bc-9818-4e50-9287-e2c37e76a527",
   "metadata": {},
   "outputs": [
    {
     "data": {
      "text/html": [
       "<div>\n",
       "<style scoped>\n",
       "    .dataframe tbody tr th:only-of-type {\n",
       "        vertical-align: middle;\n",
       "    }\n",
       "\n",
       "    .dataframe tbody tr th {\n",
       "        vertical-align: top;\n",
       "    }\n",
       "\n",
       "    .dataframe thead th {\n",
       "        text-align: right;\n",
       "    }\n",
       "</style>\n",
       "<table border=\"1\" class=\"dataframe\">\n",
       "  <thead>\n",
       "    <tr style=\"text-align: right;\">\n",
       "      <th></th>\n",
       "      <th>qid</th>\n",
       "      <th>docid</th>\n",
       "      <th>rank</th>\n",
       "      <th>score</th>\n",
       "    </tr>\n",
       "  </thead>\n",
       "  <tbody>\n",
       "    <tr>\n",
       "      <th>0</th>\n",
       "      <td>310290</td>\n",
       "      <td>D579750</td>\n",
       "      <td>1</td>\n",
       "      <td>-5.11498</td>\n",
       "    </tr>\n",
       "    <tr>\n",
       "      <th>1</th>\n",
       "      <td>310290</td>\n",
       "      <td>D579754</td>\n",
       "      <td>2</td>\n",
       "      <td>-5.57703</td>\n",
       "    </tr>\n",
       "    <tr>\n",
       "      <th>2</th>\n",
       "      <td>310290</td>\n",
       "      <td>D2380815</td>\n",
       "      <td>3</td>\n",
       "      <td>-5.84852</td>\n",
       "    </tr>\n",
       "    <tr>\n",
       "      <th>3</th>\n",
       "      <td>310290</td>\n",
       "      <td>D822566</td>\n",
       "      <td>4</td>\n",
       "      <td>-5.95002</td>\n",
       "    </tr>\n",
       "    <tr>\n",
       "      <th>4</th>\n",
       "      <td>310290</td>\n",
       "      <td>D2249695</td>\n",
       "      <td>5</td>\n",
       "      <td>-6.08326</td>\n",
       "    </tr>\n",
       "    <tr>\n",
       "      <th>...</th>\n",
       "      <td>...</td>\n",
       "      <td>...</td>\n",
       "      <td>...</td>\n",
       "      <td>...</td>\n",
       "    </tr>\n",
       "    <tr>\n",
       "      <th>99995</th>\n",
       "      <td>257942</td>\n",
       "      <td>D253854</td>\n",
       "      <td>96</td>\n",
       "      <td>-6.32693</td>\n",
       "    </tr>\n",
       "    <tr>\n",
       "      <th>99996</th>\n",
       "      <td>257942</td>\n",
       "      <td>D3056621</td>\n",
       "      <td>97</td>\n",
       "      <td>-6.32837</td>\n",
       "    </tr>\n",
       "    <tr>\n",
       "      <th>99997</th>\n",
       "      <td>257942</td>\n",
       "      <td>D1323491</td>\n",
       "      <td>98</td>\n",
       "      <td>-6.32871</td>\n",
       "    </tr>\n",
       "    <tr>\n",
       "      <th>99998</th>\n",
       "      <td>257942</td>\n",
       "      <td>D2722485</td>\n",
       "      <td>99</td>\n",
       "      <td>-6.33100</td>\n",
       "    </tr>\n",
       "    <tr>\n",
       "      <th>99999</th>\n",
       "      <td>257942</td>\n",
       "      <td>D2339077</td>\n",
       "      <td>100</td>\n",
       "      <td>-6.33441</td>\n",
       "    </tr>\n",
       "  </tbody>\n",
       "</table>\n",
       "<p>100000 rows × 4 columns</p>\n",
       "</div>"
      ],
      "text/plain": [
       "          qid     docid  rank    score\n",
       "0      310290   D579750     1 -5.11498\n",
       "1      310290   D579754     2 -5.57703\n",
       "2      310290  D2380815     3 -5.84852\n",
       "3      310290   D822566     4 -5.95002\n",
       "4      310290  D2249695     5 -6.08326\n",
       "...       ...       ...   ...      ...\n",
       "99995  257942   D253854    96 -6.32693\n",
       "99996  257942  D3056621    97 -6.32837\n",
       "99997  257942  D1323491    98 -6.32871\n",
       "99998  257942  D2722485    99 -6.33100\n",
       "99999  257942  D2339077   100 -6.33441\n",
       "\n",
       "[100000 rows x 4 columns]"
      ]
     },
     "execution_count": 209,
     "metadata": {},
     "output_type": "execute_result"
    },
    {
     "name": "stdout",
     "output_type": "stream",
     "text": [
      "time: 80.1 ms (started: 2024-03-28 17:50:42 +01:00)\n"
     ]
    }
   ],
   "source": [
    "gold = pd.read_csv('/bigstorage/pavlo/testing/our.msmarco.gold.tsv',sep='\\t',usecols=[1,3,4,5])\n",
    "gold"
   ]
  },
  {
   "cell_type": "markdown",
   "id": "7d99aacd-2312-44ba-9350-9d15977b5632",
   "metadata": {},
   "source": [
    "## Redoing the vectorization for my two best results"
   ]
  },
  {
   "cell_type": "markdown",
   "id": "2250a186-f76b-4862-ad59-5e31966cbc40",
   "metadata": {},
   "source": [
    "### 🚧 Todo:"
   ]
  },
  {
   "cell_type": "markdown",
   "id": "6b5da2a5",
   "metadata": {},
   "source": [
    "#### Use TfidfVectorizer, BM25Okapi, and our own BM25 function to measure whether there are significant differences."
   ]
  },
  {
   "cell_type": "markdown",
   "id": "45d2d7d3",
   "metadata": {},
   "source": [
    "#### TF-IDF"
   ]
  },
  {
   "cell_type": "code",
   "execution_count": 210,
   "id": "e625902b-f97c-46ec-92fc-575d0feb55e5",
   "metadata": {},
   "outputs": [
    {
     "name": "stdout",
     "output_type": "stream",
     "text": [
      "time: 665 µs (started: 2024-03-28 17:50:43 +01:00)\n"
     ]
    }
   ],
   "source": [
    "def pAt10(qid):\n",
    "    query = queries[queries.qid==qid]['query']\n",
    "    qv = vectorizer.transform(query)\n",
    "    xqv = X*qv.T\n",
    "    pred10i = np.argpartition(xqv.A.flat, -10)[-10:]\n",
    "    intersection = np.intersect1d(docs.loc[pred10i].docid,gold[gold.qid==qid].docid)\n",
    "    return len(intersection)/10"
   ]
  },
  {
   "cell_type": "code",
   "execution_count": 211,
   "id": "fec81c54-7fe8-4682-aaaf-a99ef5519b41",
   "metadata": {},
   "outputs": [
    {
     "name": "stdout",
     "output_type": "stream",
     "text": [
      "2067446 features, for example ['0highest' '0highs' '0highways' '0hihow' '0hill']\n"
     ]
    },
    {
     "data": {
      "application/vnd.jupyter.widget-view+json": {
       "model_id": "cc7d3db571f540848055edd148d03f7c",
       "version_major": 2,
       "version_minor": 0
      },
      "text/plain": [
       "  0%|          | 0/500 [00:00<?, ?it/s]"
      ]
     },
     "metadata": {},
     "output_type": "display_data"
    },
    {
     "data": {
      "text/plain": [
       "0.9348"
      ]
     },
     "execution_count": 211,
     "metadata": {},
     "output_type": "execute_result"
    },
    {
     "name": "stdout",
     "output_type": "stream",
     "text": [
      "time: 7min 8s (started: 2024-03-28 17:50:43 +01:00)\n"
     ]
    }
   ],
   "source": [
    "vectorizer = TfidfVectorizer(sublinear_tf=True, strip_accents='unicode')\n",
    "X = vectorizer.fit_transform(docs.text)\n",
    "print(len(vectorizer.get_feature_names_out()),'features, for example',vectorizer.get_feature_names_out()[44444:44449])\n",
    "tfidfresults = training_queries.qid.progress_apply(pAt10)\n",
    "tfidfresults.mean()"
   ]
  },
  {
   "cell_type": "markdown",
   "id": "afd44175",
   "metadata": {},
   "source": [
    "#### BM25Okapi"
   ]
  },
  {
   "cell_type": "code",
   "execution_count": 212,
   "id": "8a8699c9-b383-420c-8f68-05ab28b4ef2e",
   "metadata": {},
   "outputs": [
    {
     "name": "stdout",
     "output_type": "stream",
     "text": [
      "time: 9.2 ms (started: 2024-03-28 17:57:52 +01:00)\n"
     ]
    }
   ],
   "source": [
    "def pAt10Bm25(qid):\n",
    "    tquery = queries[queries.qid==qid]['query'].apply(vectorizer.build_analyzer())\n",
    "    doc_scores = bm25.get_scores(tquery.tolist()[0])\n",
    "    pred10i = np.argpartition(doc_scores, -10)[-10:]\n",
    "    intersection = np.intersect1d(docs.loc[pred10i].docid,gold[gold.qid==qid].docid)\n",
    "    return len(intersection)/10"
   ]
  },
  {
   "cell_type": "code",
   "execution_count": 213,
   "id": "f3e7925e-26d9-4b8f-b970-5b76f11dc205",
   "metadata": {},
   "outputs": [
    {
     "data": {
      "application/vnd.jupyter.widget-view+json": {
       "model_id": "2de2b0ce49fc472d910fa4f401f6a391",
       "version_major": 2,
       "version_minor": 0
      },
      "text/plain": [
       "  0%|          | 0/500 [00:00<?, ?it/s]"
      ]
     },
     "metadata": {},
     "output_type": "display_data"
    },
    {
     "data": {
      "text/plain": [
       "0.9848"
      ]
     },
     "execution_count": 213,
     "metadata": {},
     "output_type": "execute_result"
    },
    {
     "name": "stdout",
     "output_type": "stream",
     "text": [
      "time: 3min 32s (started: 2024-03-28 17:57:52 +01:00)\n"
     ]
    }
   ],
   "source": [
    "bm25 = BM25Okapi(tokenized_corpus)\n",
    "bm25results_Okapi = training_queries.qid.progress_apply(pAt10Bm25)\n",
    "bm25results_Okapi.mean()"
   ]
  },
  {
   "cell_type": "markdown",
   "id": "51f5e412",
   "metadata": {},
   "source": [
    "#### BM25"
   ]
  },
  {
   "cell_type": "code",
   "execution_count": 214,
   "id": "c3b15bbc",
   "metadata": {},
   "outputs": [
    {
     "name": "stdout",
     "output_type": "stream",
     "text": [
      "time: 4.1 ms (started: 2024-03-28 18:01:24 +01:00)\n"
     ]
    }
   ],
   "source": [
    "from sklearn.base import BaseEstimator, ClassifierMixin\n",
    "import numpy as np\n",
    "import gc\n",
    "\n",
    "class BM25Score(BaseEstimator, ClassifierMixin):\n",
    "    def __init__(self, k1=1.5, b=0.75): # vectorized_docs: word counts\n",
    "        self.k1 = k1\n",
    "        self.b = b\n",
    "        # self.vectorized_docs will be set in the fit method\n",
    "\n",
    "\n",
    "    def fit(self, X, y=None):\n",
    "        self.vectorized_docs = X\n",
    "        self.n_d = self.vectorized_docs.sum(axis=1).A.flatten()\n",
    "        self.avgdl = np.mean(self.n_d)\n",
    "        self.n_docs = self.vectorized_docs.shape[0]\n",
    "\n",
    "        # Calculate IDF\n",
    "        document_frequency = (self.vectorized_docs > 0).sum(axis=0).A.flatten()\n",
    "        self.idf = np.log((self.n_docs - document_frequency + 0.5) / (document_frequency + 0.5) + 1)\n",
    "        return self\n",
    "\n",
    "    def predict(self, X):\n",
    "        # bigger batches => faster but more memory heavy\n",
    "        n_queries = X.shape[0]\n",
    "        batch_size = 50\n",
    "        final_scores = []\n",
    "\n",
    "        for batch_idx in range(0, n_queries, batch_size):\n",
    "            end_idx = min(batch_idx + batch_size, n_queries)\n",
    "            batch_vectorized_queries = X[batch_idx:end_idx]\n",
    "            idx_tokens = np.flatnonzero(batch_vectorized_queries.sum(axis=0))\n",
    "            batch_vectorized_queries = batch_vectorized_queries[:, idx_tokens]\n",
    "            vectorized_docs = self.vectorized_docs[:, idx_tokens].toarray()\n",
    "            idf = self.idf[idx_tokens]\n",
    "\n",
    "            scores = idf * (\n",
    "                (vectorized_docs * (self.k1 + 1)) /\n",
    "                (vectorized_docs + self.k1 * (1 - self.b + self.b * (self.n_d[:, None] / self.avgdl)))\n",
    "            )\n",
    "            final_scores.append(((batch_vectorized_queries > 0).astype(np.float32) @ scores.T))\n",
    "\n",
    "            del vectorized_docs, scores\n",
    "            gc.collect()\n",
    "\n",
    "        return np.concatenate(final_scores, axis=0)\n"
   ]
  },
  {
   "cell_type": "code",
   "execution_count": 215,
   "id": "08e79e76",
   "metadata": {},
   "outputs": [
    {
     "name": "stdout",
     "output_type": "stream",
     "text": [
      "time: 4.31 ms (started: 2024-03-28 18:01:24 +01:00)\n"
     ]
    }
   ],
   "source": [
    "def evaluate_model_bm25_optimized(scores, docs, queries, gold_standard):\n",
    "    # Assuming 'scores' is a 2D array: rows are queries, columns are documents.\n",
    "    p_at_10_scores = []\n",
    "    \n",
    "    for idx, row in enumerate(queries.itertuples()):\n",
    "        query_id = getattr(row, 'qid')\n",
    "        \n",
    "        # Get scores for the current query\n",
    "        query_scores = scores[idx]\n",
    "        \n",
    "        # Efficiently find the indices of the top 10 scores for this query\n",
    "        top10_indices = np.argpartition(query_scores, -10)[-10:]\n",
    "        top10_indices_sorted = top10_indices[np.argsort(query_scores[top10_indices])[::-1]]\n",
    "        \n",
    "        # Assuming doc_ids is a list of document IDs that aligns with columns in 'scores'\n",
    "        top10_docids = [docs.iloc[idx]['docid'] for idx in top10_indices_sorted]\n",
    "        \n",
    "        # Get the relevant docids for the query_id from gold_standard\n",
    "        relevant_docids = gold_standard[gold_standard['qid'] == query_id]['docid'].values\n",
    "        \n",
    "        # Calculate P@10 for the query\n",
    "        relevant_in_top_10 = np.intersect1d(top10_docids, relevant_docids)\n",
    "        p_at_10 = len(relevant_in_top_10) / 10.0\n",
    "        p_at_10_scores.append(p_at_10)\n",
    "    \n",
    "    # Calculate the average P@10\n",
    "    average_p_at_10 = np.mean(p_at_10_scores)\n",
    "    return average_p_at_10"
   ]
  },
  {
   "cell_type": "code",
   "execution_count": 216,
   "id": "2c858ab9",
   "metadata": {},
   "outputs": [
    {
     "name": "stdout",
     "output_type": "stream",
     "text": [
      "time: 4min (started: 2024-03-28 18:01:25 +01:00)\n"
     ]
    }
   ],
   "source": [
    "# Vectorizing the text\n",
    "vectorizer = TfidfVectorizer(sublinear_tf=True, strip_accents='unicode', binary=True, use_idf=False, norm=None)\n",
    "X_docs = vectorizer.fit_transform(docs.text)"
   ]
  },
  {
   "cell_type": "code",
   "execution_count": 217,
   "id": "b392aee3",
   "metadata": {},
   "outputs": [
    {
     "data": {
      "text/html": [
       "<style>#sk-container-id-2 {\n",
       "  /* Definition of color scheme common for light and dark mode */\n",
       "  --sklearn-color-text: black;\n",
       "  --sklearn-color-line: gray;\n",
       "  /* Definition of color scheme for unfitted estimators */\n",
       "  --sklearn-color-unfitted-level-0: #fff5e6;\n",
       "  --sklearn-color-unfitted-level-1: #f6e4d2;\n",
       "  --sklearn-color-unfitted-level-2: #ffe0b3;\n",
       "  --sklearn-color-unfitted-level-3: chocolate;\n",
       "  /* Definition of color scheme for fitted estimators */\n",
       "  --sklearn-color-fitted-level-0: #f0f8ff;\n",
       "  --sklearn-color-fitted-level-1: #d4ebff;\n",
       "  --sklearn-color-fitted-level-2: #b3dbfd;\n",
       "  --sklearn-color-fitted-level-3: cornflowerblue;\n",
       "\n",
       "  /* Specific color for light theme */\n",
       "  --sklearn-color-text-on-default-background: var(--sg-text-color, var(--theme-code-foreground, var(--jp-content-font-color1, black)));\n",
       "  --sklearn-color-background: var(--sg-background-color, var(--theme-background, var(--jp-layout-color0, white)));\n",
       "  --sklearn-color-border-box: var(--sg-text-color, var(--theme-code-foreground, var(--jp-content-font-color1, black)));\n",
       "  --sklearn-color-icon: #696969;\n",
       "\n",
       "  @media (prefers-color-scheme: dark) {\n",
       "    /* Redefinition of color scheme for dark theme */\n",
       "    --sklearn-color-text-on-default-background: var(--sg-text-color, var(--theme-code-foreground, var(--jp-content-font-color1, white)));\n",
       "    --sklearn-color-background: var(--sg-background-color, var(--theme-background, var(--jp-layout-color0, #111)));\n",
       "    --sklearn-color-border-box: var(--sg-text-color, var(--theme-code-foreground, var(--jp-content-font-color1, white)));\n",
       "    --sklearn-color-icon: #878787;\n",
       "  }\n",
       "}\n",
       "\n",
       "#sk-container-id-2 {\n",
       "  color: var(--sklearn-color-text);\n",
       "}\n",
       "\n",
       "#sk-container-id-2 pre {\n",
       "  padding: 0;\n",
       "}\n",
       "\n",
       "#sk-container-id-2 input.sk-hidden--visually {\n",
       "  border: 0;\n",
       "  clip: rect(1px 1px 1px 1px);\n",
       "  clip: rect(1px, 1px, 1px, 1px);\n",
       "  height: 1px;\n",
       "  margin: -1px;\n",
       "  overflow: hidden;\n",
       "  padding: 0;\n",
       "  position: absolute;\n",
       "  width: 1px;\n",
       "}\n",
       "\n",
       "#sk-container-id-2 div.sk-dashed-wrapped {\n",
       "  border: 1px dashed var(--sklearn-color-line);\n",
       "  margin: 0 0.4em 0.5em 0.4em;\n",
       "  box-sizing: border-box;\n",
       "  padding-bottom: 0.4em;\n",
       "  background-color: var(--sklearn-color-background);\n",
       "}\n",
       "\n",
       "#sk-container-id-2 div.sk-container {\n",
       "  /* jupyter's `normalize.less` sets `[hidden] { display: none; }`\n",
       "     but bootstrap.min.css set `[hidden] { display: none !important; }`\n",
       "     so we also need the `!important` here to be able to override the\n",
       "     default hidden behavior on the sphinx rendered scikit-learn.org.\n",
       "     See: https://github.com/scikit-learn/scikit-learn/issues/21755 */\n",
       "  display: inline-block !important;\n",
       "  position: relative;\n",
       "}\n",
       "\n",
       "#sk-container-id-2 div.sk-text-repr-fallback {\n",
       "  display: none;\n",
       "}\n",
       "\n",
       "div.sk-parallel-item,\n",
       "div.sk-serial,\n",
       "div.sk-item {\n",
       "  /* draw centered vertical line to link estimators */\n",
       "  background-image: linear-gradient(var(--sklearn-color-text-on-default-background), var(--sklearn-color-text-on-default-background));\n",
       "  background-size: 2px 100%;\n",
       "  background-repeat: no-repeat;\n",
       "  background-position: center center;\n",
       "}\n",
       "\n",
       "/* Parallel-specific style estimator block */\n",
       "\n",
       "#sk-container-id-2 div.sk-parallel-item::after {\n",
       "  content: \"\";\n",
       "  width: 100%;\n",
       "  border-bottom: 2px solid var(--sklearn-color-text-on-default-background);\n",
       "  flex-grow: 1;\n",
       "}\n",
       "\n",
       "#sk-container-id-2 div.sk-parallel {\n",
       "  display: flex;\n",
       "  align-items: stretch;\n",
       "  justify-content: center;\n",
       "  background-color: var(--sklearn-color-background);\n",
       "  position: relative;\n",
       "}\n",
       "\n",
       "#sk-container-id-2 div.sk-parallel-item {\n",
       "  display: flex;\n",
       "  flex-direction: column;\n",
       "}\n",
       "\n",
       "#sk-container-id-2 div.sk-parallel-item:first-child::after {\n",
       "  align-self: flex-end;\n",
       "  width: 50%;\n",
       "}\n",
       "\n",
       "#sk-container-id-2 div.sk-parallel-item:last-child::after {\n",
       "  align-self: flex-start;\n",
       "  width: 50%;\n",
       "}\n",
       "\n",
       "#sk-container-id-2 div.sk-parallel-item:only-child::after {\n",
       "  width: 0;\n",
       "}\n",
       "\n",
       "/* Serial-specific style estimator block */\n",
       "\n",
       "#sk-container-id-2 div.sk-serial {\n",
       "  display: flex;\n",
       "  flex-direction: column;\n",
       "  align-items: center;\n",
       "  background-color: var(--sklearn-color-background);\n",
       "  padding-right: 1em;\n",
       "  padding-left: 1em;\n",
       "}\n",
       "\n",
       "\n",
       "/* Toggleable style: style used for estimator/Pipeline/ColumnTransformer box that is\n",
       "clickable and can be expanded/collapsed.\n",
       "- Pipeline and ColumnTransformer use this feature and define the default style\n",
       "- Estimators will overwrite some part of the style using the `sk-estimator` class\n",
       "*/\n",
       "\n",
       "/* Pipeline and ColumnTransformer style (default) */\n",
       "\n",
       "#sk-container-id-2 div.sk-toggleable {\n",
       "  /* Default theme specific background. It is overwritten whether we have a\n",
       "  specific estimator or a Pipeline/ColumnTransformer */\n",
       "  background-color: var(--sklearn-color-background);\n",
       "}\n",
       "\n",
       "/* Toggleable label */\n",
       "#sk-container-id-2 label.sk-toggleable__label {\n",
       "  cursor: pointer;\n",
       "  display: block;\n",
       "  width: 100%;\n",
       "  margin-bottom: 0;\n",
       "  padding: 0.5em;\n",
       "  box-sizing: border-box;\n",
       "  text-align: center;\n",
       "}\n",
       "\n",
       "#sk-container-id-2 label.sk-toggleable__label-arrow:before {\n",
       "  /* Arrow on the left of the label */\n",
       "  content: \"▸\";\n",
       "  float: left;\n",
       "  margin-right: 0.25em;\n",
       "  color: var(--sklearn-color-icon);\n",
       "}\n",
       "\n",
       "#sk-container-id-2 label.sk-toggleable__label-arrow:hover:before {\n",
       "  color: var(--sklearn-color-text);\n",
       "}\n",
       "\n",
       "/* Toggleable content - dropdown */\n",
       "\n",
       "#sk-container-id-2 div.sk-toggleable__content {\n",
       "  max-height: 0;\n",
       "  max-width: 0;\n",
       "  overflow: hidden;\n",
       "  text-align: left;\n",
       "  /* unfitted */\n",
       "  background-color: var(--sklearn-color-unfitted-level-0);\n",
       "}\n",
       "\n",
       "#sk-container-id-2 div.sk-toggleable__content.fitted {\n",
       "  /* fitted */\n",
       "  background-color: var(--sklearn-color-fitted-level-0);\n",
       "}\n",
       "\n",
       "#sk-container-id-2 div.sk-toggleable__content pre {\n",
       "  margin: 0.2em;\n",
       "  border-radius: 0.25em;\n",
       "  color: var(--sklearn-color-text);\n",
       "  /* unfitted */\n",
       "  background-color: var(--sklearn-color-unfitted-level-0);\n",
       "}\n",
       "\n",
       "#sk-container-id-2 div.sk-toggleable__content.fitted pre {\n",
       "  /* unfitted */\n",
       "  background-color: var(--sklearn-color-fitted-level-0);\n",
       "}\n",
       "\n",
       "#sk-container-id-2 input.sk-toggleable__control:checked~div.sk-toggleable__content {\n",
       "  /* Expand drop-down */\n",
       "  max-height: 200px;\n",
       "  max-width: 100%;\n",
       "  overflow: auto;\n",
       "}\n",
       "\n",
       "#sk-container-id-2 input.sk-toggleable__control:checked~label.sk-toggleable__label-arrow:before {\n",
       "  content: \"▾\";\n",
       "}\n",
       "\n",
       "/* Pipeline/ColumnTransformer-specific style */\n",
       "\n",
       "#sk-container-id-2 div.sk-label input.sk-toggleable__control:checked~label.sk-toggleable__label {\n",
       "  color: var(--sklearn-color-text);\n",
       "  background-color: var(--sklearn-color-unfitted-level-2);\n",
       "}\n",
       "\n",
       "#sk-container-id-2 div.sk-label.fitted input.sk-toggleable__control:checked~label.sk-toggleable__label {\n",
       "  background-color: var(--sklearn-color-fitted-level-2);\n",
       "}\n",
       "\n",
       "/* Estimator-specific style */\n",
       "\n",
       "/* Colorize estimator box */\n",
       "#sk-container-id-2 div.sk-estimator input.sk-toggleable__control:checked~label.sk-toggleable__label {\n",
       "  /* unfitted */\n",
       "  background-color: var(--sklearn-color-unfitted-level-2);\n",
       "}\n",
       "\n",
       "#sk-container-id-2 div.sk-estimator.fitted input.sk-toggleable__control:checked~label.sk-toggleable__label {\n",
       "  /* fitted */\n",
       "  background-color: var(--sklearn-color-fitted-level-2);\n",
       "}\n",
       "\n",
       "#sk-container-id-2 div.sk-label label.sk-toggleable__label,\n",
       "#sk-container-id-2 div.sk-label label {\n",
       "  /* The background is the default theme color */\n",
       "  color: var(--sklearn-color-text-on-default-background);\n",
       "}\n",
       "\n",
       "/* On hover, darken the color of the background */\n",
       "#sk-container-id-2 div.sk-label:hover label.sk-toggleable__label {\n",
       "  color: var(--sklearn-color-text);\n",
       "  background-color: var(--sklearn-color-unfitted-level-2);\n",
       "}\n",
       "\n",
       "/* Label box, darken color on hover, fitted */\n",
       "#sk-container-id-2 div.sk-label.fitted:hover label.sk-toggleable__label.fitted {\n",
       "  color: var(--sklearn-color-text);\n",
       "  background-color: var(--sklearn-color-fitted-level-2);\n",
       "}\n",
       "\n",
       "/* Estimator label */\n",
       "\n",
       "#sk-container-id-2 div.sk-label label {\n",
       "  font-family: monospace;\n",
       "  font-weight: bold;\n",
       "  display: inline-block;\n",
       "  line-height: 1.2em;\n",
       "}\n",
       "\n",
       "#sk-container-id-2 div.sk-label-container {\n",
       "  text-align: center;\n",
       "}\n",
       "\n",
       "/* Estimator-specific */\n",
       "#sk-container-id-2 div.sk-estimator {\n",
       "  font-family: monospace;\n",
       "  border: 1px dotted var(--sklearn-color-border-box);\n",
       "  border-radius: 0.25em;\n",
       "  box-sizing: border-box;\n",
       "  margin-bottom: 0.5em;\n",
       "  /* unfitted */\n",
       "  background-color: var(--sklearn-color-unfitted-level-0);\n",
       "}\n",
       "\n",
       "#sk-container-id-2 div.sk-estimator.fitted {\n",
       "  /* fitted */\n",
       "  background-color: var(--sklearn-color-fitted-level-0);\n",
       "}\n",
       "\n",
       "/* on hover */\n",
       "#sk-container-id-2 div.sk-estimator:hover {\n",
       "  /* unfitted */\n",
       "  background-color: var(--sklearn-color-unfitted-level-2);\n",
       "}\n",
       "\n",
       "#sk-container-id-2 div.sk-estimator.fitted:hover {\n",
       "  /* fitted */\n",
       "  background-color: var(--sklearn-color-fitted-level-2);\n",
       "}\n",
       "\n",
       "/* Specification for estimator info (e.g. \"i\" and \"?\") */\n",
       "\n",
       "/* Common style for \"i\" and \"?\" */\n",
       "\n",
       ".sk-estimator-doc-link,\n",
       "a:link.sk-estimator-doc-link,\n",
       "a:visited.sk-estimator-doc-link {\n",
       "  float: right;\n",
       "  font-size: smaller;\n",
       "  line-height: 1em;\n",
       "  font-family: monospace;\n",
       "  background-color: var(--sklearn-color-background);\n",
       "  border-radius: 1em;\n",
       "  height: 1em;\n",
       "  width: 1em;\n",
       "  text-decoration: none !important;\n",
       "  margin-left: 1ex;\n",
       "  /* unfitted */\n",
       "  border: var(--sklearn-color-unfitted-level-1) 1pt solid;\n",
       "  color: var(--sklearn-color-unfitted-level-1);\n",
       "}\n",
       "\n",
       ".sk-estimator-doc-link.fitted,\n",
       "a:link.sk-estimator-doc-link.fitted,\n",
       "a:visited.sk-estimator-doc-link.fitted {\n",
       "  /* fitted */\n",
       "  border: var(--sklearn-color-fitted-level-1) 1pt solid;\n",
       "  color: var(--sklearn-color-fitted-level-1);\n",
       "}\n",
       "\n",
       "/* On hover */\n",
       "div.sk-estimator:hover .sk-estimator-doc-link:hover,\n",
       ".sk-estimator-doc-link:hover,\n",
       "div.sk-label-container:hover .sk-estimator-doc-link:hover,\n",
       ".sk-estimator-doc-link:hover {\n",
       "  /* unfitted */\n",
       "  background-color: var(--sklearn-color-unfitted-level-3);\n",
       "  color: var(--sklearn-color-background);\n",
       "  text-decoration: none;\n",
       "}\n",
       "\n",
       "div.sk-estimator.fitted:hover .sk-estimator-doc-link.fitted:hover,\n",
       ".sk-estimator-doc-link.fitted:hover,\n",
       "div.sk-label-container:hover .sk-estimator-doc-link.fitted:hover,\n",
       ".sk-estimator-doc-link.fitted:hover {\n",
       "  /* fitted */\n",
       "  background-color: var(--sklearn-color-fitted-level-3);\n",
       "  color: var(--sklearn-color-background);\n",
       "  text-decoration: none;\n",
       "}\n",
       "\n",
       "/* Span, style for the box shown on hovering the info icon */\n",
       ".sk-estimator-doc-link span {\n",
       "  display: none;\n",
       "  z-index: 9999;\n",
       "  position: relative;\n",
       "  font-weight: normal;\n",
       "  right: .2ex;\n",
       "  padding: .5ex;\n",
       "  margin: .5ex;\n",
       "  width: min-content;\n",
       "  min-width: 20ex;\n",
       "  max-width: 50ex;\n",
       "  color: var(--sklearn-color-text);\n",
       "  box-shadow: 2pt 2pt 4pt #999;\n",
       "  /* unfitted */\n",
       "  background: var(--sklearn-color-unfitted-level-0);\n",
       "  border: .5pt solid var(--sklearn-color-unfitted-level-3);\n",
       "}\n",
       "\n",
       ".sk-estimator-doc-link.fitted span {\n",
       "  /* fitted */\n",
       "  background: var(--sklearn-color-fitted-level-0);\n",
       "  border: var(--sklearn-color-fitted-level-3);\n",
       "}\n",
       "\n",
       ".sk-estimator-doc-link:hover span {\n",
       "  display: block;\n",
       "}\n",
       "\n",
       "/* \"?\"-specific style due to the `<a>` HTML tag */\n",
       "\n",
       "#sk-container-id-2 a.estimator_doc_link {\n",
       "  float: right;\n",
       "  font-size: 1rem;\n",
       "  line-height: 1em;\n",
       "  font-family: monospace;\n",
       "  background-color: var(--sklearn-color-background);\n",
       "  border-radius: 1rem;\n",
       "  height: 1rem;\n",
       "  width: 1rem;\n",
       "  text-decoration: none;\n",
       "  /* unfitted */\n",
       "  color: var(--sklearn-color-unfitted-level-1);\n",
       "  border: var(--sklearn-color-unfitted-level-1) 1pt solid;\n",
       "}\n",
       "\n",
       "#sk-container-id-2 a.estimator_doc_link.fitted {\n",
       "  /* fitted */\n",
       "  border: var(--sklearn-color-fitted-level-1) 1pt solid;\n",
       "  color: var(--sklearn-color-fitted-level-1);\n",
       "}\n",
       "\n",
       "/* On hover */\n",
       "#sk-container-id-2 a.estimator_doc_link:hover {\n",
       "  /* unfitted */\n",
       "  background-color: var(--sklearn-color-unfitted-level-3);\n",
       "  color: var(--sklearn-color-background);\n",
       "  text-decoration: none;\n",
       "}\n",
       "\n",
       "#sk-container-id-2 a.estimator_doc_link.fitted:hover {\n",
       "  /* fitted */\n",
       "  background-color: var(--sklearn-color-fitted-level-3);\n",
       "}\n",
       "</style><div id=\"sk-container-id-2\" class=\"sk-top-container\"><div class=\"sk-text-repr-fallback\"><pre>BM25Score()</pre><b>In a Jupyter environment, please rerun this cell to show the HTML representation or trust the notebook. <br />On GitHub, the HTML representation is unable to render, please try loading this page with nbviewer.org.</b></div><div class=\"sk-container\" hidden><div class=\"sk-item\"><div class=\"sk-estimator  sk-toggleable\"><input class=\"sk-toggleable__control sk-hidden--visually\" id=\"sk-estimator-id-2\" type=\"checkbox\" checked><label for=\"sk-estimator-id-2\" class=\"sk-toggleable__label  sk-toggleable__label-arrow \">&nbsp;BM25Score<span class=\"sk-estimator-doc-link \">i<span>Not fitted</span></span></label><div class=\"sk-toggleable__content \"><pre>BM25Score()</pre></div> </div></div></div></div>"
      ],
      "text/plain": [
       "BM25Score()"
      ]
     },
     "execution_count": 217,
     "metadata": {},
     "output_type": "execute_result"
    },
    {
     "name": "stdout",
     "output_type": "stream",
     "text": [
      "time: 7.04 s (started: 2024-03-28 18:05:25 +01:00)\n"
     ]
    }
   ],
   "source": [
    "# Instantiation of BM25Score + fitting + prediction\n",
    "bm25 = BM25Score()\n",
    "bm25.fit(X_docs)"
   ]
  },
  {
   "cell_type": "code",
   "execution_count": 218,
   "id": "55168851",
   "metadata": {},
   "outputs": [
    {
     "data": {
      "text/plain": [
       "0                                          what is a jpe\n",
       "1                             price for asphalt driveway\n",
       "2                     what causes pressure skin bruising\n",
       "3          how long drive from flagstaff to grand canyon\n",
       "4      average number of bowel movements per day for ...\n",
       "                             ...                        \n",
       "995                              cell voltage mv meaning\n",
       "996                                   what an ip address\n",
       "997                       what is daily max citizens atm\n",
       "998        do i need a florida commercial driver license\n",
       "999                    what does tv on cameras stand for\n",
       "Name: query, Length: 1000, dtype: object"
      ]
     },
     "execution_count": 218,
     "metadata": {},
     "output_type": "execute_result"
    },
    {
     "name": "stdout",
     "output_type": "stream",
     "text": [
      "time: 14.3 ms (started: 2024-03-28 18:05:32 +01:00)\n"
     ]
    }
   ],
   "source": [
    "queries[\"query\"]"
   ]
  },
  {
   "cell_type": "code",
   "execution_count": 219,
   "id": "820cc4a1",
   "metadata": {},
   "outputs": [
    {
     "name": "stdout",
     "output_type": "stream",
     "text": [
      "time: 11.7 ms (started: 2024-03-28 18:05:32 +01:00)\n"
     ]
    }
   ],
   "source": [
    "# Transforming queries\n",
    "X_queries = vectorizer.transform(queries[\"query\"])"
   ]
  },
  {
   "cell_type": "code",
   "execution_count": 220,
   "id": "64594c64",
   "metadata": {},
   "outputs": [
    {
     "name": "stdout",
     "output_type": "stream",
     "text": [
      "time: 1min 31s (started: 2024-03-28 18:05:33 +01:00)\n"
     ]
    }
   ],
   "source": [
    "# Predict the scores for the queries\n",
    "bm25_scores = bm25.predict(X_queries)"
   ]
  },
  {
   "cell_type": "code",
   "execution_count": 221,
   "id": "a2488dd1",
   "metadata": {},
   "outputs": [
    {
     "name": "stdout",
     "output_type": "stream",
     "text": [
      "Mean BM25 P@10: 0.8626\n",
      "time: 832 ms (started: 2024-03-28 18:07:05 +01:00)\n"
     ]
    }
   ],
   "source": [
    "# Compute the mean P@10 score\n",
    "mean_p_at_10 = evaluate_model_bm25_optimized(bm25_scores, docs, training_queries, gold)\n",
    "print(f\"Mean BM25 P@10: {mean_p_at_10}\")"
   ]
  },
  {
   "cell_type": "markdown",
   "id": "c1482074",
   "metadata": {},
   "source": [
    "### Conclusion - Results"
   ]
  },
  {
   "cell_type": "markdown",
   "id": "27d0c09e",
   "metadata": {},
   "source": [
    "The p@10 performances are:\n",
    "\n",
    "- TF-IDF: 93.48\n",
    "- BM25Okapi: 98.48\n",
    "- BM25: 86.26"
   ]
  },
  {
   "cell_type": "markdown",
   "id": "0402d379-b513-4303-af8d-37fd365f902d",
   "metadata": {},
   "source": [
    "# 🔎 Manual Error Mining"
   ]
  },
  {
   "cell_type": "markdown",
   "id": "d589b147",
   "metadata": {},
   "source": [
    "- Let's look at where things go wrong\n",
    "\n",
    "### 🚧 Todo:\n",
    "- What's the lowest p@10 we got? \n",
    "\n",
    "- What's the 10 questions that got the worst score, from worst to slightly better?"
   ]
  },
  {
   "cell_type": "markdown",
   "id": "ae024248",
   "metadata": {},
   "source": [
    "#### Lowest p@10"
   ]
  },
  {
   "cell_type": "code",
   "execution_count": 222,
   "id": "aaa314e1",
   "metadata": {},
   "outputs": [
    {
     "name": "stdout",
     "output_type": "stream",
     "text": [
      "Lowest p@10: 0.1\n",
      "time: 827 µs (started: 2024-03-28 18:07:06 +01:00)\n"
     ]
    }
   ],
   "source": [
    "lowest_p_at_10 = bm25results_Okapi.min()\n",
    "print('Lowest p@10:',lowest_p_at_10)"
   ]
  },
  {
   "cell_type": "markdown",
   "id": "e6610b06",
   "metadata": {},
   "source": [
    "#### Top 10 worst questions - TF-IDF"
   ]
  },
  {
   "cell_type": "code",
   "execution_count": 223,
   "id": "7c951c77",
   "metadata": {},
   "outputs": [
    {
     "data": {
      "text/plain": [
       "0      1.0\n",
       "1      1.0\n",
       "2      0.9\n",
       "3      1.0\n",
       "4      0.7\n",
       "      ... \n",
       "495    1.0\n",
       "496    1.0\n",
       "497    1.0\n",
       "498    1.0\n",
       "499    0.8\n",
       "Name: qid, Length: 500, dtype: float64"
      ]
     },
     "execution_count": 223,
     "metadata": {},
     "output_type": "execute_result"
    },
    {
     "name": "stdout",
     "output_type": "stream",
     "text": [
      "time: 5.86 ms (started: 2024-03-28 18:07:06 +01:00)\n"
     ]
    }
   ],
   "source": [
    "tfidfresults"
   ]
  },
  {
   "cell_type": "code",
   "execution_count": 224,
   "id": "d43b8a7d",
   "metadata": {},
   "outputs": [
    {
     "data": {
      "text/html": [
       "<div>\n",
       "<style scoped>\n",
       "    .dataframe tbody tr th:only-of-type {\n",
       "        vertical-align: middle;\n",
       "    }\n",
       "\n",
       "    .dataframe tbody tr th {\n",
       "        vertical-align: top;\n",
       "    }\n",
       "\n",
       "    .dataframe thead th {\n",
       "        text-align: right;\n",
       "    }\n",
       "</style>\n",
       "<table border=\"1\" class=\"dataframe\">\n",
       "  <thead>\n",
       "    <tr style=\"text-align: right;\">\n",
       "      <th></th>\n",
       "      <th>qid</th>\n",
       "      <th>query</th>\n",
       "    </tr>\n",
       "  </thead>\n",
       "  <tbody>\n",
       "    <tr>\n",
       "      <th>285</th>\n",
       "      <td>127145</td>\n",
       "      <td>define skin doctor</td>\n",
       "    </tr>\n",
       "    <tr>\n",
       "      <th>172</th>\n",
       "      <td>729561</td>\n",
       "      <td>what is channeling</td>\n",
       "    </tr>\n",
       "    <tr>\n",
       "      <th>65</th>\n",
       "      <td>71027</td>\n",
       "      <td>can lyme disease cause coughing</td>\n",
       "    </tr>\n",
       "    <tr>\n",
       "      <th>37</th>\n",
       "      <td>417380</td>\n",
       "      <td>is mark applier?</td>\n",
       "    </tr>\n",
       "    <tr>\n",
       "      <th>270</th>\n",
       "      <td>424296</td>\n",
       "      <td>is spain bigger than italy</td>\n",
       "    </tr>\n",
       "    <tr>\n",
       "      <th>335</th>\n",
       "      <td>850892</td>\n",
       "      <td>what is the the bug std</td>\n",
       "    </tr>\n",
       "    <tr>\n",
       "      <th>21</th>\n",
       "      <td>1049686</td>\n",
       "      <td>who sang almost paradise</td>\n",
       "    </tr>\n",
       "    <tr>\n",
       "      <th>256</th>\n",
       "      <td>99399</td>\n",
       "      <td>cooking time for roasted beef short ribs</td>\n",
       "    </tr>\n",
       "    <tr>\n",
       "      <th>300</th>\n",
       "      <td>903134</td>\n",
       "      <td>what tests or procedures do they have for chec...</td>\n",
       "    </tr>\n",
       "    <tr>\n",
       "      <th>92</th>\n",
       "      <td>393188</td>\n",
       "      <td>in a democracy the idea of the consent of the ...</td>\n",
       "    </tr>\n",
       "  </tbody>\n",
       "</table>\n",
       "</div>"
      ],
      "text/plain": [
       "         qid                                              query\n",
       "285   127145                                 define skin doctor\n",
       "172   729561                                 what is channeling\n",
       "65     71027                    can lyme disease cause coughing\n",
       "37    417380                                   is mark applier?\n",
       "270   424296                         is spain bigger than italy\n",
       "335   850892                            what is the the bug std\n",
       "21   1049686                           who sang almost paradise\n",
       "256    99399           cooking time for roasted beef short ribs\n",
       "300   903134  what tests or procedures do they have for chec...\n",
       "92    393188  in a democracy the idea of the consent of the ..."
      ]
     },
     "execution_count": 224,
     "metadata": {},
     "output_type": "execute_result"
    },
    {
     "name": "stdout",
     "output_type": "stream",
     "text": [
      "time: 16.4 ms (started: 2024-03-28 18:07:06 +01:00)\n"
     ]
    }
   ],
   "source": [
    "worst10tfidf = tfidfresults.sort_values(ascending=True).head(10)\n",
    "wors10tfidf_index = worst10tfidf.index\n",
    "training_queries.loc[wors10tfidf_index]"
   ]
  },
  {
   "cell_type": "markdown",
   "id": "4706a2ef",
   "metadata": {},
   "source": [
    "#### Top 10 worst questions - BM25Okapi"
   ]
  },
  {
   "cell_type": "code",
   "execution_count": 225,
   "id": "414d9e3e",
   "metadata": {},
   "outputs": [
    {
     "data": {
      "text/plain": [
       "0      1.0\n",
       "1      1.0\n",
       "2      1.0\n",
       "3      1.0\n",
       "4      1.0\n",
       "      ... \n",
       "495    1.0\n",
       "496    1.0\n",
       "497    1.0\n",
       "498    1.0\n",
       "499    1.0\n",
       "Name: qid, Length: 500, dtype: float64"
      ]
     },
     "execution_count": 225,
     "metadata": {},
     "output_type": "execute_result"
    },
    {
     "name": "stdout",
     "output_type": "stream",
     "text": [
      "time: 6.91 ms (started: 2024-03-28 18:07:06 +01:00)\n"
     ]
    }
   ],
   "source": [
    "bm25results_Okapi"
   ]
  },
  {
   "cell_type": "code",
   "execution_count": 226,
   "id": "62ca8d1d-619b-4a34-8dd2-6614ce03ccd7",
   "metadata": {},
   "outputs": [
    {
     "data": {
      "text/html": [
       "<div>\n",
       "<style scoped>\n",
       "    .dataframe tbody tr th:only-of-type {\n",
       "        vertical-align: middle;\n",
       "    }\n",
       "\n",
       "    .dataframe tbody tr th {\n",
       "        vertical-align: top;\n",
       "    }\n",
       "\n",
       "    .dataframe thead th {\n",
       "        text-align: right;\n",
       "    }\n",
       "</style>\n",
       "<table border=\"1\" class=\"dataframe\">\n",
       "  <thead>\n",
       "    <tr style=\"text-align: right;\">\n",
       "      <th></th>\n",
       "      <th>qid</th>\n",
       "      <th>query</th>\n",
       "    </tr>\n",
       "  </thead>\n",
       "  <tbody>\n",
       "    <tr>\n",
       "      <th>172</th>\n",
       "      <td>729561</td>\n",
       "      <td>what is channeling</td>\n",
       "    </tr>\n",
       "    <tr>\n",
       "      <th>398</th>\n",
       "      <td>195543</td>\n",
       "      <td>goes how long cost and valid</td>\n",
       "    </tr>\n",
       "    <tr>\n",
       "      <th>37</th>\n",
       "      <td>417380</td>\n",
       "      <td>is mark applier?</td>\n",
       "    </tr>\n",
       "    <tr>\n",
       "      <th>308</th>\n",
       "      <td>651254</td>\n",
       "      <td>what does the name connor mean</td>\n",
       "    </tr>\n",
       "    <tr>\n",
       "      <th>285</th>\n",
       "      <td>127145</td>\n",
       "      <td>define skin doctor</td>\n",
       "    </tr>\n",
       "    <tr>\n",
       "      <th>443</th>\n",
       "      <td>11059</td>\n",
       "      <td>actresses who died of lung cancer</td>\n",
       "    </tr>\n",
       "    <tr>\n",
       "      <th>167</th>\n",
       "      <td>859358</td>\n",
       "      <td>what is uplifting in geography</td>\n",
       "    </tr>\n",
       "    <tr>\n",
       "      <th>184</th>\n",
       "      <td>1078582</td>\n",
       "      <td>wired definition</td>\n",
       "    </tr>\n",
       "    <tr>\n",
       "      <th>456</th>\n",
       "      <td>868366</td>\n",
       "      <td>what kind of food should heart attached person</td>\n",
       "    </tr>\n",
       "    <tr>\n",
       "      <th>455</th>\n",
       "      <td>567103</td>\n",
       "      <td>what are the airports in south virginia</td>\n",
       "    </tr>\n",
       "  </tbody>\n",
       "</table>\n",
       "</div>"
      ],
      "text/plain": [
       "         qid                                           query\n",
       "172   729561                              what is channeling\n",
       "398   195543                    goes how long cost and valid\n",
       "37    417380                                is mark applier?\n",
       "308   651254                  what does the name connor mean\n",
       "285   127145                              define skin doctor\n",
       "443    11059               actresses who died of lung cancer\n",
       "167   859358                  what is uplifting in geography\n",
       "184  1078582                                wired definition\n",
       "456   868366  what kind of food should heart attached person\n",
       "455   567103         what are the airports in south virginia"
      ]
     },
     "execution_count": 226,
     "metadata": {},
     "output_type": "execute_result"
    },
    {
     "name": "stdout",
     "output_type": "stream",
     "text": [
      "time: 7.58 ms (started: 2024-03-28 18:07:07 +01:00)\n"
     ]
    }
   ],
   "source": [
    "worst10bm25Okapi = bm25results.sort_values(ascending=True).head(10)\n",
    "worst10bm25Okapi_index = worst10bm25Okapi.index\n",
    "training_queries.loc[worst10bm25Okapi_index]"
   ]
  },
  {
   "cell_type": "markdown",
   "id": "683bcda8",
   "metadata": {},
   "source": [
    "#### Top 10 worst questions - BM25"
   ]
  },
  {
   "cell_type": "code",
   "execution_count": 227,
   "id": "4edc02c6",
   "metadata": {},
   "outputs": [
    {
     "data": {
      "text/plain": [
       "(1000, 92565)"
      ]
     },
     "execution_count": 227,
     "metadata": {},
     "output_type": "execute_result"
    },
    {
     "name": "stdout",
     "output_type": "stream",
     "text": [
      "time: 3.41 ms (started: 2024-03-28 18:07:07 +01:00)\n"
     ]
    }
   ],
   "source": [
    "bm25_scores.shape"
   ]
  },
  {
   "cell_type": "code",
   "execution_count": 228,
   "id": "35c05694",
   "metadata": {},
   "outputs": [
    {
     "data": {
      "text/html": [
       "<div>\n",
       "<style scoped>\n",
       "    .dataframe tbody tr th:only-of-type {\n",
       "        vertical-align: middle;\n",
       "    }\n",
       "\n",
       "    .dataframe tbody tr th {\n",
       "        vertical-align: top;\n",
       "    }\n",
       "\n",
       "    .dataframe thead th {\n",
       "        text-align: right;\n",
       "    }\n",
       "</style>\n",
       "<table border=\"1\" class=\"dataframe\">\n",
       "  <thead>\n",
       "    <tr style=\"text-align: right;\">\n",
       "      <th></th>\n",
       "      <th>qid</th>\n",
       "      <th>query</th>\n",
       "    </tr>\n",
       "  </thead>\n",
       "  <tbody>\n",
       "    <tr>\n",
       "      <th>0</th>\n",
       "      <td>687888</td>\n",
       "      <td>what is a jpe</td>\n",
       "    </tr>\n",
       "    <tr>\n",
       "      <th>1</th>\n",
       "      <td>480210</td>\n",
       "      <td>price for asphalt driveway</td>\n",
       "    </tr>\n",
       "    <tr>\n",
       "      <th>2</th>\n",
       "      <td>591004</td>\n",
       "      <td>what causes pressure skin bruising</td>\n",
       "    </tr>\n",
       "    <tr>\n",
       "      <th>3</th>\n",
       "      <td>260536</td>\n",
       "      <td>how long drive from flagstaff to grand canyon</td>\n",
       "    </tr>\n",
       "    <tr>\n",
       "      <th>4</th>\n",
       "      <td>39422</td>\n",
       "      <td>average number of bowel movements per day for ...</td>\n",
       "    </tr>\n",
       "    <tr>\n",
       "      <th>...</th>\n",
       "      <td>...</td>\n",
       "      <td>...</td>\n",
       "    </tr>\n",
       "    <tr>\n",
       "      <th>995</th>\n",
       "      <td>89597</td>\n",
       "      <td>cell voltage mv meaning</td>\n",
       "    </tr>\n",
       "    <tr>\n",
       "      <th>996</th>\n",
       "      <td>1167043</td>\n",
       "      <td>what an ip address</td>\n",
       "    </tr>\n",
       "    <tr>\n",
       "      <th>997</th>\n",
       "      <td>737304</td>\n",
       "      <td>what is daily max citizens atm</td>\n",
       "    </tr>\n",
       "    <tr>\n",
       "      <th>998</th>\n",
       "      <td>156934</td>\n",
       "      <td>do i need a florida commercial driver license</td>\n",
       "    </tr>\n",
       "    <tr>\n",
       "      <th>999</th>\n",
       "      <td>654329</td>\n",
       "      <td>what does tv on cameras stand for</td>\n",
       "    </tr>\n",
       "  </tbody>\n",
       "</table>\n",
       "<p>1000 rows × 2 columns</p>\n",
       "</div>"
      ],
      "text/plain": [
       "         qid                                              query\n",
       "0     687888                                      what is a jpe\n",
       "1     480210                         price for asphalt driveway\n",
       "2     591004                 what causes pressure skin bruising\n",
       "3     260536      how long drive from flagstaff to grand canyon\n",
       "4      39422  average number of bowel movements per day for ...\n",
       "..       ...                                                ...\n",
       "995    89597                            cell voltage mv meaning\n",
       "996  1167043                                 what an ip address\n",
       "997   737304                     what is daily max citizens atm\n",
       "998   156934      do i need a florida commercial driver license\n",
       "999   654329                  what does tv on cameras stand for\n",
       "\n",
       "[1000 rows x 2 columns]"
      ]
     },
     "execution_count": 228,
     "metadata": {},
     "output_type": "execute_result"
    },
    {
     "name": "stdout",
     "output_type": "stream",
     "text": [
      "time: 16.3 ms (started: 2024-03-28 18:07:07 +01:00)\n"
     ]
    }
   ],
   "source": [
    "queries"
   ]
  },
  {
   "cell_type": "code",
   "execution_count": 229,
   "id": "1fe43205",
   "metadata": {},
   "outputs": [
    {
     "name": "stdout",
     "output_type": "stream",
     "text": [
      "time: 10.7 ms (started: 2024-03-28 18:07:07 +01:00)\n"
     ]
    }
   ],
   "source": [
    "def pred_docs(qid):\n",
    "    # Get scores for the current query\n",
    "    idx = queries.loc[queries.qid == qid].index[0]\n",
    "    query_scores = bm25_scores[idx]\n",
    "    \n",
    "    # Efficiently find the indices of the top 10 scores for this query\n",
    "    pred_indices = np.argpartition(query_scores, -10)    \n",
    "    pred_indices_sorted = pred_indices[np.argsort(query_scores[pred_indices])[::-1]]\n",
    "    \n",
    "    # Extracting docids\n",
    "    pred_docids = [docs.iloc[idx]['docid'] for idx in pred_indices_sorted]\n",
    "    return pred_docids\n"
   ]
  },
  {
   "cell_type": "code",
   "execution_count": 230,
   "id": "9ac48f8c",
   "metadata": {},
   "outputs": [
    {
     "name": "stdout",
     "output_type": "stream",
     "text": [
      "time: 887 ms (started: 2024-03-28 18:07:08 +01:00)\n"
     ]
    }
   ],
   "source": [
    "def list_scores_BM25(bm25_scores, docs, training_queries, gold):\n",
    "\n",
    "    # Function to extract the list with top 10 scores for the BM25 model, not the mean of them\n",
    "    p_at_10_scores = []\n",
    "        \n",
    "    for idx, row in enumerate(training_queries.itertuples()):\n",
    "        query_id = getattr(row, 'qid')\n",
    "        \n",
    "        # Get scores for the current query\n",
    "        query_scores = bm25_scores[idx]\n",
    "        \n",
    "        # Efficiently find the indices of the top 10 scores for this query\n",
    "        top10_indices = np.argpartition(query_scores, -10)[-10:]\n",
    "        top10_indices_sorted = top10_indices[np.argsort(query_scores[top10_indices])[::-1]]\n",
    "        \n",
    "        # Extracting docids\n",
    "        top10_docids = [docs.iloc[idx]['docid'] for idx in top10_indices_sorted]\n",
    "        \n",
    "        # Get the relevant docids for the query_id from gold_standard\n",
    "        relevant_docids = gold[gold['qid'] == query_id]['docid'].values\n",
    "        \n",
    "        # Calculate P@10 for the query\n",
    "        relevant_in_top_10 = np.intersect1d(top10_docids, relevant_docids)\n",
    "        p_at_10 = len(relevant_in_top_10) / 10.0\n",
    "        p_at_10_scores.append(p_at_10)\n",
    "\n",
    "    return p_at_10_scores\n",
    "\n",
    "p_at_10_scores = list_scores_BM25(bm25_scores, docs, training_queries, gold)"
   ]
  },
  {
   "cell_type": "code",
   "execution_count": 231,
   "id": "733700ed",
   "metadata": {},
   "outputs": [
    {
     "name": "stdout",
     "output_type": "stream",
     "text": [
      "[486  37 285 289 172 242 155 443 270 398]\n",
      "time: 706 µs (started: 2024-03-28 18:07:09 +01:00)\n"
     ]
    }
   ],
   "source": [
    "# Sort scores in ascending order and get the indices of the 10 worst scores\n",
    "worst10bm25_index = np.argsort(p_at_10_scores)[:10]\n",
    "\n",
    "print(worst10bm25_index)"
   ]
  },
  {
   "cell_type": "code",
   "execution_count": 232,
   "id": "757e9d93",
   "metadata": {},
   "outputs": [
    {
     "data": {
      "text/html": [
       "<div>\n",
       "<style scoped>\n",
       "    .dataframe tbody tr th:only-of-type {\n",
       "        vertical-align: middle;\n",
       "    }\n",
       "\n",
       "    .dataframe tbody tr th {\n",
       "        vertical-align: top;\n",
       "    }\n",
       "\n",
       "    .dataframe thead th {\n",
       "        text-align: right;\n",
       "    }\n",
       "</style>\n",
       "<table border=\"1\" class=\"dataframe\">\n",
       "  <thead>\n",
       "    <tr style=\"text-align: right;\">\n",
       "      <th></th>\n",
       "      <th>qid</th>\n",
       "      <th>query</th>\n",
       "    </tr>\n",
       "  </thead>\n",
       "  <tbody>\n",
       "    <tr>\n",
       "      <th>486</th>\n",
       "      <td>401719</td>\n",
       "      <td>is aids a disease</td>\n",
       "    </tr>\n",
       "    <tr>\n",
       "      <th>37</th>\n",
       "      <td>417380</td>\n",
       "      <td>is mark applier?</td>\n",
       "    </tr>\n",
       "    <tr>\n",
       "      <th>285</th>\n",
       "      <td>127145</td>\n",
       "      <td>define skin doctor</td>\n",
       "    </tr>\n",
       "    <tr>\n",
       "      <th>289</th>\n",
       "      <td>743838</td>\n",
       "      <td>what is endolymhatic system</td>\n",
       "    </tr>\n",
       "    <tr>\n",
       "      <th>172</th>\n",
       "      <td>729561</td>\n",
       "      <td>what is channeling</td>\n",
       "    </tr>\n",
       "    <tr>\n",
       "      <th>242</th>\n",
       "      <td>601391</td>\n",
       "      <td>what could cause pain in your liver</td>\n",
       "    </tr>\n",
       "    <tr>\n",
       "      <th>155</th>\n",
       "      <td>888314</td>\n",
       "      <td>what pressure</td>\n",
       "    </tr>\n",
       "    <tr>\n",
       "      <th>443</th>\n",
       "      <td>11059</td>\n",
       "      <td>actresses who died of lung cancer</td>\n",
       "    </tr>\n",
       "    <tr>\n",
       "      <th>270</th>\n",
       "      <td>424296</td>\n",
       "      <td>is spain bigger than italy</td>\n",
       "    </tr>\n",
       "    <tr>\n",
       "      <th>398</th>\n",
       "      <td>195543</td>\n",
       "      <td>goes how long cost and valid</td>\n",
       "    </tr>\n",
       "  </tbody>\n",
       "</table>\n",
       "</div>"
      ],
      "text/plain": [
       "        qid                                query\n",
       "486  401719                    is aids a disease\n",
       "37   417380                     is mark applier?\n",
       "285  127145                   define skin doctor\n",
       "289  743838          what is endolymhatic system\n",
       "172  729561                   what is channeling\n",
       "242  601391  what could cause pain in your liver\n",
       "155  888314                        what pressure\n",
       "443   11059    actresses who died of lung cancer\n",
       "270  424296           is spain bigger than italy\n",
       "398  195543         goes how long cost and valid"
      ]
     },
     "execution_count": 232,
     "metadata": {},
     "output_type": "execute_result"
    },
    {
     "name": "stdout",
     "output_type": "stream",
     "text": [
      "time: 12 ms (started: 2024-03-28 18:07:09 +01:00)\n"
     ]
    }
   ],
   "source": [
    "training_queries.iloc[worst10bm25_index]"
   ]
  },
  {
   "cell_type": "markdown",
   "id": "bd821669-1a60-410b-89f3-370c9c8a44a9",
   "metadata": {},
   "source": [
    "### 🚧 Todo:\n",
    "- Write a function showDoc that takes qid, rank, and predicted as parameters\n",
    "    - If predicted=True, shows the predicted doc of rank to the query qid\n",
    "    - If predicted=False, shows the gold doc\n",
    "    - Prints the first 999 characters of the texts\n",
    "- For the worst query\n",
    "    - Look at the 10 best gold vs 10 best predicted \n",
    "    - Hypothetize why the results are so bad for the worst query"
   ]
  },
  {
   "cell_type": "markdown",
   "id": "df7a3777",
   "metadata": {},
   "source": [
    "#### ShowDoc - BM25"
   ]
  },
  {
   "cell_type": "code",
   "execution_count": 233,
   "id": "a1a47c5a-32ef-4a81-b930-53dcb1371c97",
   "metadata": {},
   "outputs": [
    {
     "name": "stdout",
     "output_type": "stream",
     "text": [
      "Gold:\n",
      " What channel is NBC on XFINITY? Comcast Xfinity (product) NBC Comcast Products and Services TV Channels Television What channel is NBC on XFINITY?3 Answers Greg Monti, Radio broadcast engineer fascinated by over-the-air television Answered Jun 4, 2016 · Upvoted by Ryan Ace, XFINITY Sales Professional at Comcast There is no standard channel number on which NBC is carried on Xfinity cable systems. Why? Because NBC is a television network transmitted by a local affiliate station in each market, much like ABC, CBS, Fox, Ion, My Network TV, PBS, TBN, Telemundo, The CW and Univision. NBC is technically neither a basic nor a premium cable channel. It is up to the local, over-the-air NBC affiiate stations and the cable companies that serve its broadcast area how the channel will be carried. Usually, the cable operator is either forced (by a must-carry FCC rule) or negotiates to carry the station on the cable channel number that most closely matches the virtual over-the-air channel that the pu\n",
      "\n",
      "Predicted:\n",
      " What to do with lemon curd. Are you channeling your best self with this comment? (If you're not sure, check out our Code of Conduct . )No need to email me as additional answers are added to this question. Sign Up to Reply Question Tags: lemon curd 8 answers 30660 viewsstack added almost 7 years ago There are so many things...my fave is to serve with pancakes -- ricotta pancakes if at all possible.1 Person agrees ⚑Replyboulangere Cynthia is a trusted source on Bread/Baking.added almost 7 years ago Make muffin batter and fill the cups. Pour your lemon curd into a pastry bag fitted with a medium tip; alternatively, pour it into a plastic bag (ziplock or otherwise), snip off a corner - seriously, this really works - and center the bag over each muffin. Squeeze a generous dollop of curd into each muffin. They'll bake up around it, and each one will have a lovely lemon filling.3 People agree ⚑Reply Voted the Best Answer!Chef June June is a trusted source on General Cooking.added almost 7 ye\n",
      "time: 2.24 s (started: 2024-03-28 18:07:09 +01:00)\n"
     ]
    }
   ],
   "source": [
    "def showDoc(qid, rank, predicted=False):\n",
    "    if predicted:\n",
    "        predicted_docs = pred_docs(qid)\n",
    "        relevant_doc = predicted_docs[rank-1]\n",
    "        text = docs[docs.docid == relevant_doc][\"text\"].values[0][:999]\n",
    "        return text\n",
    "    else:\n",
    "        # Filtering according to qid and rank and extracting docid\n",
    "        gold_docid = gold[(gold['qid'] == qid) & (gold['rank'] == rank)][\"docid\"].values[0]\n",
    "        text = docs[docs[\"docid\"] == gold_docid][\"text\"].values[0][:999]\n",
    "        return text\n",
    "\n",
    "print(\"Gold:\\n\", showDoc(729561,1))\n",
    "print(\"\\nPredicted:\\n\", showDoc(729561,2, predicted=True))"
   ]
  },
  {
   "cell_type": "markdown",
   "id": "7ef8bef9",
   "metadata": {},
   "source": [
    "#### Worst Query"
   ]
  },
  {
   "cell_type": "code",
   "execution_count": 234,
   "id": "2fc9f598",
   "metadata": {},
   "outputs": [
    {
     "name": "stdout",
     "output_type": "stream",
     "text": [
      "-------------------------------------------------\n",
      "Worst Query:\n",
      "\n",
      " qid                  729561\n",
      "query    what is channeling\n",
      "Name: 172, dtype: object\n",
      "-------------------------------------------------\n",
      "\n",
      "\n",
      "-------------------------------------------------\n",
      "Best Gold Documents:\n",
      "\n",
      "Rank 1:\n",
      "What channel is NBC on XFINITY? Comcast Xfinity (product) NBC Comcast Products and Services TV Channels Television What channel is NBC on XFINITY?3 Answers Greg Monti, Radio broadcast engineer fascinated by over-the-air television Answered Jun 4, 2016 · Upvoted by Ryan Ace, XFINITY Sales Professional at Comcast There is no standard channel number on which NBC is carried on Xfinity cable systems. Why? Because NBC is a television network transmitted by a local affiliate station in each market, much like ABC, CBS, Fox, Ion, My Network TV, PBS, TBN, Telemundo, The CW and Univision. NBC is technically neither a basic nor a premium cable channel. It is up to the local, over-the-air NBC affiiate stations and the cable companies that serve its broadcast area how the channel will be carried. Usually, the cable operator is either forced (by a must-carry FCC rule) or negotiates to carry the station on the cable channel number that most closely matches the virtual over-the-air channel that the pu\n",
      "\n",
      "Rank 2:\n",
      "What channel is discovery channel on direct tv? Answers.com ® Wiki Answers ® Categories Technology Electronics Consumer Electronics Television and Video Satellite Television Direc TV What channel is discovery channel on direct tv? Flag What channel is discovery channel on direct tv? Answer by Neila Rockson Confidence votes 85.9KSolving the world's problems . . . one answer at a time. The Discovery channel is channel 278 on Direc TV. On the remote, go to the menu, then Search for Shows, then in the search box on the left spell out DIS and the channels that start with DIS will be displayed. Select the one you want and there you are.10 people found this useful Was this answer useful? Yes Somewhat No What channel is mynetwork TV on direct TV?50Lalamowmow1 4 Contributions What channel is the weather channel on for Direct TV? According to Direc TV's website, the Weather Channel is channel 362. What channel is 4kids TV on direct TV?4kids is on channel 46 a.k.a. WXCW beginning at 7am. I could\n",
      "\n",
      "Rank 3:\n",
      "What channel is the yes network on comcast in Florida? Answers.com ® Wiki Answers ® Categories Travel & Places Countries, States, and Cities United States of America Florida What channel is the yes network on comcast in Florida? Flag What channel is the yes network on comcast in Florida? Answer by Answers Publisher Confidence votes 415KIn the state of Florida, the Yes network on Comcast is on channel 212 for HD TV. For regular TV programming, the Yes network is on channel 55. The Yes network is a national network.1 person found this useful Was this answer useful? Yes Somewhat No Shendiison 1 Contribution Where is the food network channel for comcast?channel 69 for me. 60 in Portland, Oregon Derrick554 3 Contributions What channel is Cartoon Network on comcast? Cartoon Network is channel 33 or in HD, channel 227 (march 9, 2011)What channel is the yes network on comcast?212 for HD and 55 for regular What comcast channel is the NFL network?246 in HD, not sure about regular What channel i\n",
      "\n",
      "Rank 4:\n",
      "What channel is CBS for DISH Network? Answers.com ® Wiki Answers ® Categories Technology Electronics Consumer Electronics Television and Video Satellite Television Dish Network What channel is CBS for DISH Network? Flag What channel is CBS for DISH Network? Expert answer by Gregg Anderton Confidence votes 28.0KCommunity Manager who loves to wrench on cars, grow plants in the garden, remodel my home, and observe nature. Find your local channels on the Dish Network Website Here you can enter your zip code and get a complete list. Was this answer useful? Yes Somewhat No Answer by Kirstie F DISH Confidence votes 4.6K152 (This channel is indeed CBS but it is CBS college sports) The channel that CBS will be found on for you depends on which local channels you are receiving from DISH Network, since CBS is considered a local affiliate. Without your city & state, I am unable to tell you exactly which channel CBS will be found on. However by visiting our website DISHnetwork.com, you can enter y\n",
      "\n",
      "Rank 5:\n",
      "What tv channel is syfy on if you have dish network? Answers.com ® Wiki Answers ® Categories Technology Electronics Consumer Electronics Television and Video Satellite Television Dish Network What tv channel is syfy on if you have dish network? Flag What tv channel is syfy on if you have dish network? Answer by Kirstie F DISH Confidence votes 4.6KIf you have DISH Network, you will be able to find the standard definition SYFY channel on 122 and SYFY HD on one of the following channels, 4911, 5042, 5329, 5503, 5579, or 9432.19 people found this useful Was this answer useful? Yes Somewhat No Ray CDISH 451 Contributions What channel is My Network TV on if you have Dish Network? Each network channel is different for most cities. To find you local channels, you can go to www.dishnetwork.com and click on the link, Check TV Schedule, in the upper right h …What channel is tmo tv on dish network?what channel is tmo What channel is 4kids TV on dish network?54Kittkattz 1 Contribution Your network\n",
      "\n",
      "Rank 6:\n",
      "Psl300H1: Human Physiology 1 Related Flashcards Muscle Physiology Flashcards » PSL300H1: Human Physiology 1Psl300H1: Human Physiology 1by joohyun , May 2015Subjects: PSL300H1, PSL300, PSL300H1FClick to Rate \"Hated It\" Click to Rate \"Didn't Like It\" Click to Rate \"Liked It\" Click to Rate \"Really Liked It\" Click to Rate \"Loved It\"Favorite Add to folder [? ]Flag Flashcards Memorize Test Games Tweet Study your flashcards anywhere!Download the official Cram app for free >How to study your flashcards. Right/Left arrow keys: Navigate between flashcards. right arrow key left arrow key Up/Down arrow keys: Flip the card between the front and back. down key up key H key: Show hint (3rd side). h key A key: Read text to speech. a key Click or Press Spacebar to Begin »Card Range To Studythrough Share Print Export Clone946 Cards in this Set Front Back What is the cell membrane? Composed of a phospholipid bilayer Lipid-soluble molecules and gases diffuse through readily Water-soluble molecules cannot\n",
      "\n",
      "Rank 7:\n",
      "What Channel Is Boomerang? Jerryt26 322 Contributions What Channel Is Boomerang? It depends on what Cable TV company or Satellite TV company you have. On Dish Network, Boomerang is on channel 175. Edit What channel is Discovery Channel on if you have Comcast?32Edit What channel is the tennis channel on Comcast? 735Edit What channel is the music channel on comcast? It is 401-446Edit Ryf4165 114 Contributions What channel is the weather channel on when you have comcast?i like channel 12 but there's 11 too. Although a lot of channels offer some weather, the weather channel is 32. Edit What channel is the outdoor channel when you have comcast? Com Cast doesn't have outdoor channel Edit What channel will the cooking channel be on comcast?channel 122Edit What comcast channel is the food channel on? It's on channel 72 only in Orlando, Florida Edit Ms WWEViper 88 Contributions Which channel is Disney channel for comcast? Channel 50 ! **EDIT** Who ever posted that is totally wrong! It is 33 fo\n",
      "\n",
      "Rank 8:\n",
      "What channel is tnt on dish network? Answers.com ® Wiki Answers ® Categories Technology Electronics Consumer Electronics Television and Video Satellite Television Dish Network What channel is tnt on dish network? Flag What channel is tnt on dish network? Answer by Kirstie F DISH Confidence votes 4.6KIf you have DISH Network you will be able to locate turner Network Television aka TNT on channel 138, however if you are looking for TNT in HD then it can be found on one of the following, 4138, 4908, 5045, 5353, 5501, 5583, or 9420.54 people found this useful Was this answer useful? Yes Somewhat No What channel is fox in dish network?it is 205 or 206Jerryt26 322 Contributions What chanel is TNT on dish network? TNT is on Dish Network channel 138. Mary Kate 7,314 Contributions What channel is ABC in dish network? You can go to the Dish Network website to find your local channel numbers. In the upper right hand corner below Login is a link, Check TV Schedule. Click on this link. On the …Ray\n",
      "\n",
      "Rank 9:\n",
      "Geography rivers 149 terms lucy225Geography rivers Learn Flashcards Write Spell Test Match Gravity Advertisement Upgrade to remove ads Sort Definition of the global hydrological system? Water that is continuously cycled between the oceans and the atmosphere, returning to the ocean when it falls as rain (or other forms of precipitation)What sort of system is the hydrological system? A closed system, there are no inputs or outputs. What is a rivers drainage basin? The area surrounding the river where the rain falling on the land flows into the river. This is also called the rivers catchment. What is the boundary of a drainage basin? The watershed. What happens to any precipitation falling beyond the watershed? Any precipitation falling beyond the watershed enters a different drainage basin system. What type of systems is a drainage basin? Open systems with inputs and outputs. What happens to water as it comes into the system? Comes into the system as precipitation and leaves via evapora\n",
      "\n",
      "Rank 10:\n",
      "On Dish Network what channel is Animal Planet on? Answers.com ® Wiki Answers ® Categories Technology Electronics Consumer Electronics Television and Video Satellite Television Dish Network On Dish Network what channel is Animal Planet on? Flag On Dish Network what channel is Animal Planet on? Answer by Kirstie F DISH Confidence votes 4.6KYou will be able to find Animal Planet in standard definition on channels 184, 887, or 5026 and in HD on one of the following channels, 4184, 4900, 5026, 5332, 5520, or 9489.5 people found this useful Was this answer useful? Yes Somewhat No Tommy F DISH 382 Contributions What channel is Animal Planet on dish network? Animal Planet can be found on Ch. 184 with DISH!What channel is fox in dish network?it is 205 or 206Mary Kate 7,314 Contributions What channel is ABC in dish network? You can go to the Dish Network website to find your local channel numbers. In the upper right hand corner below Login is a link, Check TV Schedule. Click on this link. On th\n",
      "-------------------------------------------------\n",
      "\n",
      "\n",
      "-------------------------------------------------\n",
      "Best Predicted Documents:\n",
      "\n",
      "Rank 1:\n"
     ]
    },
    {
     "name": "stdout",
     "output_type": "stream",
     "text": [
      ". Arc Resistant Switchgear ANSI/IEEE C37.20.7 defines switchgear arc resistance in two basic categories: ANSI type 1 Arc resistance from the front of gear only ANSI type 2 Arc resistance provided from the front, sides and rear A suffix may be added to either of these two types to further define the type of protection provided: A: Basic design B: Arc resistance is maintained even while opening designated low voltage compartments C: Arc resistance is maintained even when opening designated adjacent compartments D: Special designation that supplements the Type 1 designation, but identifies additional arc resistance in certain structures Eaton offers arc resistant medium voltage (MV),and low voltage (LV) switchgear and arc resistant MV motor control. Eaton also offers a unique “arc preventative” LV motor control center (Flash Gard) that protects the operator by reducing the likelihood that an arc would occur. Arc Resistant MV Switchgear Eaton's VCP-W arc-resistant vacuum switchgear (5 k V\n",
      "\n",
      "Rank 2:\n",
      "What to do with lemon curd. Are you channeling your best self with this comment? (If you're not sure, check out our Code of Conduct . )No need to email me as additional answers are added to this question. Sign Up to Reply Question Tags: lemon curd 8 answers 30660 viewsstack added almost 7 years ago There are so many things...my fave is to serve with pancakes -- ricotta pancakes if at all possible.1 Person agrees ⚑Replyboulangere Cynthia is a trusted source on Bread/Baking.added almost 7 years ago Make muffin batter and fill the cups. Pour your lemon curd into a pastry bag fitted with a medium tip; alternatively, pour it into a plastic bag (ziplock or otherwise), snip off a corner - seriously, this really works - and center the bag over each muffin. Squeeze a generous dollop of curd into each muffin. They'll bake up around it, and each one will have a lovely lemon filling.3 People agree ⚑Reply Voted the Best Answer!Chef June June is a trusted source on General Cooking.added almost 7 ye\n",
      "\n",
      "Rank 3:\n",
      "The Magician The Magician February 27, 2014 by Eugene ATTENTION: Interested in a Complete Tarot Card Meanings Guide? -> Click here to get the guide!The Magician Card and its Meanings in a Tarot Reading The Magician card is number one in the Major Arcana Cards and it is associated with the planet Mercury. It is a symbol of the link between the earth and sky, channeling the power of the Universe into the earth. He is tightly related to all four suits of the Tarot and it symbolizes the appropriate use of mind, heart, body and soul. The appearance of this card in a reading indicates that you now have the energy and creativity to begin a new stage in your life. You are maximizing your potential and you achieve what may seem as magical results. What Does it Mean When The Magician Card is in Upright Position? The appearance of The Magician in your reading is a very good and powerful sign that we all have the power to make a difference. When The Magician comes in your reading in an Upright po\n",
      "\n",
      "Rank 4:\n",
      "- Are you channeling your best self with this comment? (If you're not sure, check out our Code of Conduct . )No need to email me as additional answers are added to this question. Sign Up to Reply Question Tags: salmon, baking tips, oven temperature 9 answers 149273 viewspierinopierino is a trusted source on General Cooking and Tough Love.added almost 7 years ago Which cut? Whole fish, steaks fillets?? Generally I would say around 350F with the caveat that no two ovens are calibrated exactly evenly---don't trust that dial. But the thickness of the piece of fish matters.⚑Replyfrancesca gilberti Francesca is the former Assistant Editor of food52 and believes you can make anything out of farro.added almost 7 years ago This depends on how you like your salmon. Personally, I eat salmon -- assuming it's wild and sourced from an extremely reliable monger -- medium-rare (gasp) so were I to cook it in the oven, might actually broil it or sear it on the stove top and then cook it low and slow in\n",
      "\n",
      "Rank 5:\n",
      "Ban hammer For this item's off-hand variant, see off-hand ban hammer. Ban hammer Release 31 March 2016 ( Update)Members Yes Quest item No Tradeable No Equipable Yes Stackable No Disassembly No Value 1,000 coins Alchemy Not alchemisable Destroy Are you sure you want to destroy your Treasure Hunter prize? You can reclaim it from Diango in Draynor, for a fee. On death Always kept outside Wild Weight 1 kg Examine A mighty ban hammer. A handy weapon that can also be used to 'BAM' your friends in the name of fun. [ FAQ] • [ doc]The ban hammer is an item that was available from the Rare token store on 31 March 2016 . It has level variants of 1 and 70 melee. When equipped the player gains a left click \"bam\" option on other players which plays an animation of them striking the other player with the hammer and the player's character saying \"BAM!\"Loading... Combat Stats Requirements None Class Slot Melee Tier5Weapons Main Off Damage 74 -Accuracy 150 -Style Crush Range 1Speed Average (3.6s)Attrib\n",
      "\n",
      "Rank 6:\n",
      "Earrings dream meaning Earrings dream meaning Home / E / Earrings Earrings To see earrings in dreams, foretells good news and interesting projects for you. Earth... (read all at source)Rate this interpretation? 22 3Earrings in a dream are a good sign of wealth and prosperity. They also, since they are attached to the ear, can draw attention to aspects of hearing and so in the waking world will indicate things being said, possible rumors, and needing to listen in the waking world. (read all at source)Rate this interpretation? 14 4Earrings To dream that you or someone is wearing earrings, suggests that you need to listen more carefully and pay attention. To see broken earrings in your dreams, suggests that you are being talked about. (read all at source)Rate this interpretation? 15 9Ear Rings Earrings They can often refer to the quality or otherwise of your hearing/intuition. Maybe you need to pay heed to a rumour you have heard or to subtle realisations - intuition. (read all at source\n",
      "\n",
      "Rank 7:\n",
      "Roosevelt Roosevelt [ roh -z uh -velt, -v uh lt, rohz -velt, -v uh lt; spelling pronunciation roo -z uh -velt]Spell Syllables Examplesnoun1. (Anna) Eleanor, 1884–1962, U. S. diplomat, author, and lecturer (wife of Franklin Delano Roosevelt).2. Edith Kermit Carow, 1861–1948, U. S. First Lady 1901–09 (wife of Theodore Roosevelt).3. Franklin Delano [ del - uh -noh] ( Show IPA ), ( \"FDR\") 1882–1945, 32nd president of the U. S. 1933–45.4. Theodore ( \"Teddy\"; \"T. R\") 1858–1919, 26th president of the U. S. 1901–09: Nobel Peace Prize 1906.5. Rio. Formerly Río da Duvida. a river flowing N from W Brazil to the Madeira River. About 400 miles (645 km) long. Dictionary.com Unabridged Based on the Random House Dictionary, © Random House, Inc. 2018. Cite This Source Examples from the Web for Roosevelt Expand Contemporary Examples Fifty years later, the Reagan consensus prevails, it seems to me, more so than Roosevelt consensus. This Republican Loved Taxes & Modern Art Scott Porch November 19, 2014It\n",
      "\n",
      "Rank 8:\n",
      "A question about cooking extremely thick lamb chops ◅ All questions A question about cooking extremely thick lamb chops I just bought some lamb chops from the farmer's market and they are THICK. I'm talking maybe 1.25\" thick. I usually cook lamb chops by simply putting them in a very, very hot pan (actually, the griddle built into my range) let them develop a crust, then flip. In this case, I expect that I'll burn the outside before I get close to cooking the inside to my usual medium-rare. So... Any ideas as to how to cook them through without burning the outside? (I suppose I could finish them in a 250 degree oven but am trying to avoid the pre-heating and the waste of energy if possible. )While Peter no longer works for Food52 he still thinks up ways to make the website better.asked almost 7 years ago⚑Are you channeling your best self with this comment? (If you're not sure, check out our Code of Conduct . )No need to email me as additional answers are added to this question. Sign U\n",
      "\n",
      "Rank 9:\n",
      "What are the uses for dragon blood in \"Harry Potter\"? Dragons Harry Potter (book series) Harry Potter (movie series)Harry Potter (creative franchise)What are the uses for dragon blood in \"Harry Potter\"?4 Answers Quora User, Read and watched everything including The Cursed Child live Updated Aug 23, 2016 · Author has 775 answers and 1.4m answer views The uses are never explicitly mentioned by anyone in the books (e.g. Hermione), but fortunately there are a couple we can glean from the internet. Certainly it’s “highly magical” stuff ( Fantastic Beasts and Where to Find Them ). Oven cleaner From a live interview Rowling did for The San Francisco Chronicle in 1999: Q: What are the 12 uses for dragon's blood? -- Kelsey Biggar, age 9A: I have a very good reason for not telling you -- the movie script writer wants me to give him that information for the film. But I can say that the 12th use is oven cleaner. [1]Spot remover Steve Kloves, screenwriter for Half-Blood Prince, revealed the follow\n",
      "\n",
      "Rank 10:\n",
      "Polar Bears Polar Bears Spending the dark winter months in the Arctic circle, polar bears are one of the most highly specialised of all the carnivores, and the largest!Tweet Polar bear with her cubs Classification Kingdom: Animalia Phylum: Chordata Class: Mammalia Order: Carnivora Family: Ursidae Species: Ursus maritimus Overview Adult male polar bears can weigh up to 460 kilograms but females are much smaller, weighing up to 250 kilograms. A large male can also measure over three metres in length and stand over 1.2 metres in height from ground to shoulder. On average wild polar bears have a lifespan of 20 to 30 years. Habitat The Arctic ice bowl is one of the most harsh and unforgiving environments on earth, and one to which the polar bear is superbly adapted. Winter temperatures can drop to minus 30 degrees centigrade but the bears’ two layers of fur and underlying blubber help prevent heat loss. Anatomy Polar bears have the same body temperature as humans. They have black skin and \n",
      "-------------------------------------------------\n",
      "time: 21.3 s (started: 2024-03-28 18:07:11 +01:00)\n"
     ]
    }
   ],
   "source": [
    "worst_query = training_queries.loc[worst10bm25Okapi_index].iloc[0]\n",
    "worst_query_id = worst_query['qid']\n",
    "worst_query_best_gold_docs = gold[gold['qid'] == worst_query_id].sort_values('rank').head(10)\n",
    "\n",
    "print(\"-------------------------------------------------\")\n",
    "print(\"Worst Query:\")\n",
    "print(\"\\n\", worst_query)\n",
    "print(\"-------------------------------------------------\")\n",
    "print(\"\\n\")\n",
    "print(\"-------------------------------------------------\")\n",
    "print(\"Best Gold Documents:\")\n",
    "for i in range(10):\n",
    "    print(f\"\\nRank {i+1}:\")\n",
    "    print(showDoc(729561, i+1))\n",
    "print(\"-------------------------------------------------\")\n",
    "print(\"\\n\")\n",
    "print(\"-------------------------------------------------\")\n",
    "print(\"Best Predicted Documents:\")\n",
    "for i in range(10):\n",
    "    print(f\"\\nRank {i+1}:\")\n",
    "    print(showDoc(729561, i+1, predicted=True))\n",
    "print(\"-------------------------------------------------\")"
   ]
  },
  {
   "cell_type": "markdown",
   "id": "98ec3774",
   "metadata": {},
   "source": [
    "#### Conclusion"
   ]
  },
  {
   "cell_type": "markdown",
   "id": "bf0cf72f",
   "metadata": {},
   "source": [
    "The poor performance for the given query \"what is channeling\" with the BM25Okapi model, could be due to several factors:\n",
    "\n",
    "1. **Ambiguity of the Query**: The term \"channeling\" can have multiple meanings. It could refer to spiritualism (communicating with spirits), broadcasting (TV channels), or even diverting water in hydrology. If the documents in the corpus address different meanings, this can dilute the relevance of results.\n",
    "\n",
    "2. **Lack of Context**: Without additional context or terms, the model may struggle to understand the intent behind the query, leading to a broad range of results that may not align with user expectations.\n",
    "\n",
    "3. **Vocabulary Mismatch**: If the language used in relevant documents is vastly different from the query terms (synonyms, technical jargon, etc.), the model might not rank these documents highly, even if they are topically relevant.\n",
    "\n",
    "4. **Document Quality and Content**: If the corpus includes many documents with high keyword overlap but low-quality content (such as keyword-stuffed pages), the model could erroneously give these documents a higher score over more relevant ones.\n",
    "\n",
    "5. **Model Parameters**: The BM25Okapi model's efficiency also depends on its tuning parameters. The k1 and b parameters influence term frequency and document length normalization, which, if not optimized for the corpus and query types, can result in less accurate scoring.\n",
    "\n",
    "Improvements might involve refining the model with more appropriate parameter values or enhancing the query preprocessing with NLP techniques to better capture user intent."
   ]
  },
  {
   "cell_type": "markdown",
   "id": "afc959c1-a22a-4f7c-bf89-1f6b4458c343",
   "metadata": {},
   "source": [
    "### 🚧 Todo: Can we characterize these difficult cases?\n",
    "- Do they have specicific problems?\n",
    "- Do we know when we are doing badly?\n",
    "    - Are the distances between query vector and the best documents bigger than average?\n",
    "    "
   ]
  },
  {
   "cell_type": "markdown",
   "id": "d85b6533",
   "metadata": {},
   "source": [
    "#### Specific Problems:\n",
    "\n",
    "As previously mentioned:\n",
    "\n",
    "- Vagueness/Ambiguity of Query: When a search term has several potential interpretations, this can confuse the search mechanism, yielding a spread of results that may not be pertinent.\n",
    "- Insufficient Detail/Lack of Context: A query that doesn't provide enough specific information can pull up a scattered selection of documents, diluting the overall relevance.\n",
    "- Indexing and Content Quality Issues: If documents are not indexed properly or the content quality is poor, it could hinder the search system's ability to identify and rank the most pertinent documents effectively."
   ]
  },
  {
   "cell_type": "markdown",
   "id": "e59d0606",
   "metadata": {},
   "source": [
    "#### Identifying Poor Performance:"
   ]
  },
  {
   "cell_type": "markdown",
   "id": "96ca7b7d",
   "metadata": {},
   "source": [
    "- Evaluating Vector Space Distances: In models that utilize vector spaces, such as those involving TF-IDF, BM25Okapi and BM25 or word embeddings, the comparison of distances between vectors can reveal important information. When the distance between a query's vector and the vectors of documents it retrieves is found to be larger than the usual, this may suggest the model's difficulty in locating documents that are closely related to the query."
   ]
  },
  {
   "cell_type": "markdown",
   "id": "3a06c1f2-25a2-4ff2-9225-47d48cf3f792",
   "metadata": {},
   "source": [
    "# 🚀 Spacy\n",
    "\n",
    "- Look at https://github.com/explosion/sense2vec/blob/master/README.md"
   ]
  },
  {
   "cell_type": "code",
   "execution_count": 235,
   "id": "3dff41e9-a1e3-43b6-bdbf-c5637ddbc681",
   "metadata": {},
   "outputs": [
    {
     "name": "stdout",
     "output_type": "stream",
     "text": [
      "time: 5.04 s (started: 2024-03-28 18:07:33 +01:00)\n"
     ]
    }
   ],
   "source": [
    "import spacy\n",
    "#!python -m spacy download en_core_web_lg\n",
    "nlp = spacy.load('en_core_web_lg') # or the smaller md model!!!"
   ]
  },
  {
   "cell_type": "markdown",
   "id": "395826e9-aecf-4f81-8a9d-5f2d17bb40b3",
   "metadata": {},
   "source": [
    "### 🚧 Todo:\n",
    "- Explain what's going on here:"
   ]
  },
  {
   "cell_type": "code",
   "execution_count": 236,
   "id": "2671d9a5-a37b-43df-a921-6d5a9b6f8685",
   "metadata": {},
   "outputs": [
    {
     "data": {
      "text/plain": [
       "(0.9740256438192407, 0.9844193900834773)"
      ]
     },
     "execution_count": 236,
     "metadata": {},
     "output_type": "execute_result"
    },
    {
     "name": "stdout",
     "output_type": "stream",
     "text": [
      "time: 45.1 ms (started: 2024-03-28 18:07:38 +01:00)\n"
     ]
    }
   ],
   "source": [
    "sent1 = nlp(\"I am happy\")\n",
    "sent2 = nlp(\"I am sad\")\n",
    "sent3 = nlp(\"I am joyful\")\n",
    "sent1.similarity(sent2), sent1.similarity(sent3)"
   ]
  },
  {
   "cell_type": "markdown",
   "id": "6dbea848",
   "metadata": {},
   "source": [
    "#### Explanation"
   ]
  },
  {
   "cell_type": "markdown",
   "id": "dfcfa9b5",
   "metadata": {},
   "source": [
    "- We are using the natural language processing library Spacy to compare the semantic similarity of sentences. Three sentences have been processed to create document objects, and the semantic similarity between the first sentence (\"I am happy\") and the other two sentences (\"I am sad\", \"I am joyful\") is being calculated.\n",
    "\n",
    "- The similarity method computes how semantically similar two objects are (in this case, sentences). The similarity is a number between 0 and 1, where 1 means exactly the same and 0 means completely different. The similarity scores obtained indicate that \"I am happy\" is more similar to \"I am joyful\" (0.984) than to \"I am sad,\"(0.974) which makes intuitive sense since \"happy\" and \"joyful\" are synonyms, while \"sad\" is an antonym of \"happy.\""
   ]
  },
  {
   "cell_type": "markdown",
   "id": "ac2d2bfd-9869-439a-81b4-c705c6c92758",
   "metadata": {},
   "source": [
    "### Let's try sense2vec"
   ]
  },
  {
   "cell_type": "markdown",
   "id": "07042087-0b00-47dd-b1e7-e0676e9ba855",
   "metadata": {},
   "source": [
    "- Depending on your machine, download one of the two versions of sense2vec from https://github.com/explosion/sense2vec/blob/master/README.md\n",
    "  - s2v_reddit_2019_lg \t4 GB \tReddit comments 2019 (01-07) \tpart 1, part 2, part 3\n",
    "      - cat s2v_reddit_2019_lg.tar.gz.* > s2v_reddit_2019_lg.tar.gz\n",
    "  - s2v_reddit_2015_md \t573 MB \tReddit comments 2015 \tpart 1\n",
    "- Unzip\n",
    "- Try it, and understand what's going on:\n"
   ]
  },
  {
   "cell_type": "code",
   "execution_count": 237,
   "id": "c224b129-f126-41f9-badc-d647f128afe5",
   "metadata": {},
   "outputs": [
    {
     "name": "stdout",
     "output_type": "stream",
     "text": [
      "time: 17.7 s (started: 2024-03-28 18:07:38 +01:00)\n"
     ]
    }
   ],
   "source": [
    "s2v = Sense2Vec().from_disk(\"/bigstorage/pavlo/testing/s2v_reddit_2015_md\")"
   ]
  },
  {
   "cell_type": "code",
   "execution_count": 238,
   "id": "b1035e78-2015-498c-92b7-9641c445327d",
   "metadata": {},
   "outputs": [
    {
     "data": {
      "text/plain": [
       "['natural_language_processing|NOUN',\n",
       " 'machine_learning|NOUN',\n",
       " 'artificial_intelligence|NOUN']"
      ]
     },
     "execution_count": 238,
     "metadata": {},
     "output_type": "execute_result"
    },
    {
     "name": "stdout",
     "output_type": "stream",
     "text": [
      "time: 7.53 ms (started: 2024-03-28 18:07:56 +01:00)\n"
     ]
    }
   ],
   "source": [
    "seeds = \"natural language processing, machine learning, artificial intelligence\".split(',')\n",
    "seed_keys = [s2v.get_best_sense(seed.strip()) for seed in seeds]\n",
    "seed_keys"
   ]
  },
  {
   "cell_type": "code",
   "execution_count": 239,
   "id": "56314aef-a93d-4555-83b2-5ca281bc2a35",
   "metadata": {},
   "outputs": [
    {
     "data": {
      "text/plain": [
       "[('deep_learning|NOUN', 0.909),\n",
       " ('computer_vision|NOUN', 0.9051),\n",
       " ('neural_nets|NOUN', 0.8968),\n",
       " ('neural_networks|NOUN', 0.8784),\n",
       " ('Machine_learning|NOUN', 0.8629),\n",
       " ('genetic_algorithms|NOUN', 0.8488),\n",
       " ('data_analysis|NOUN', 0.8483),\n",
       " ('big_data|NOUN', 0.8476),\n",
       " ('complexity_theory|NOUN', 0.8428),\n",
       " ('data_science|NOUN', 0.8413)]"
      ]
     },
     "execution_count": 239,
     "metadata": {},
     "output_type": "execute_result"
    },
    {
     "name": "stdout",
     "output_type": "stream",
     "text": [
      "time: 2 s (started: 2024-03-28 18:07:56 +01:00)\n"
     ]
    }
   ],
   "source": [
    "most_similar = s2v.most_similar(seed_keys, n=10)\n",
    "most_similar"
   ]
  },
  {
   "cell_type": "markdown",
   "id": "bd0ddfb3-efe7-49ac-a798-301415b09968",
   "metadata": {},
   "source": [
    "### 🚧 Todo: What is it that you couldn't do in Word2Vec?"
   ]
  },
  {
   "cell_type": "markdown",
   "id": "5096ff1a",
   "metadata": {},
   "source": [
    "#### One line Answer:"
   ]
  },
  {
   "cell_type": "markdown",
   "id": "b01e0afc",
   "metadata": {},
   "source": [
    "- Just one line of answer.\n",
    "- Answer: Sense2Vec differentiates the meanings of words that have multiple interpretations by tagging each word with its corresponding grammatical role."
   ]
  },
  {
   "cell_type": "markdown",
   "id": "afaad66b",
   "metadata": {},
   "source": [
    "#### Detailed Answer\n",
    "\n",
    "Word2Vec and Sense2Vec are both tools for creating word embeddings, but they approach the representation of words differently. The 2 main differences to highlight are the following:\n",
    "\n",
    "- Distinguish Between Different Senses of a Word: Word2Vec typically treats each word as a single entity without distinguishing between different meanings. For example, the word \"bank\" would have the same embedding whether it's used in the context of a financial institution or the land alongside a river. Sense2Vec, however, can distinguish between \"bank|NOUN\" and \"bank|VERB\", providing different embeddings for each sense, which allows for more nuanced understanding and usage.\n",
    "\n",
    "- Contextual Similarity: Word2Vec embeddings are static and do not change based on sentence context. Sense2Vec leverages part-of-speech tags and syntactic dependencies which can give a better sense of how words are used in different contexts, thus providing a contextual similarity that Word2Vec does not."
   ]
  },
  {
   "cell_type": "markdown",
   "id": "53196513-55f7-4b21-892f-6bc7a6ca2754",
   "metadata": {},
   "source": [
    "### 🚧 Todo:\n",
    "- Try also the following functions: \n",
    "    - Similarity, get_other_senses, get_freq, s2v[query]\n",
    "    - Most_similar is very slow. check this to speed things up (optional): https://towardsdatascience.com/how-to-build-a-fast-most-similar-words-method-in-spacy-32ed104fe498"
   ]
  },
  {
   "cell_type": "markdown",
   "id": "4f27edcf",
   "metadata": {},
   "source": [
    "#### Similarity Score"
   ]
  },
  {
   "cell_type": "code",
   "execution_count": 240,
   "id": "179307dd-df67-4f8a-8fb8-8172a205e098",
   "metadata": {},
   "outputs": [
    {
     "name": "stdout",
     "output_type": "stream",
     "text": [
      "Similarity: 0.8986966013908386\n",
      "time: 641 µs (started: 2024-03-28 18:07:58 +01:00)\n"
     ]
    }
   ],
   "source": [
    "similarity_score = s2v.similarity(\"natural_language_processing|NOUN\", \"machine_learning|NOUN\")\n",
    "print(f\"Similarity: {similarity_score}\")"
   ]
  },
  {
   "cell_type": "markdown",
   "id": "c541bc12",
   "metadata": {},
   "source": [
    "#### Other Senses"
   ]
  },
  {
   "cell_type": "code",
   "execution_count": 241,
   "id": "04fc04f9",
   "metadata": {},
   "outputs": [
    {
     "name": "stdout",
     "output_type": "stream",
     "text": [
      "Other senses: ['GOAL|ORG', 'GOAL|VERB', 'GOAL|PERSON', 'Goal|PRODUCT', 'Goal|ORG', 'Goal|VERB', 'Goal|PERSON', 'Goal|ADJ', 'goal|VERB']\n",
      "time: 11.4 ms (started: 2024-03-28 18:07:59 +01:00)\n"
     ]
    }
   ],
   "source": [
    "other_senses = s2v.get_other_senses(\"goal|NOUN\")\n",
    "print(f\"Other senses: {other_senses}\")"
   ]
  },
  {
   "cell_type": "markdown",
   "id": "9f49f237",
   "metadata": {},
   "source": [
    "#### Frequency"
   ]
  },
  {
   "cell_type": "code",
   "execution_count": 242,
   "id": "28c05b8f",
   "metadata": {},
   "outputs": [
    {
     "name": "stdout",
     "output_type": "stream",
     "text": [
      "Frequency: 2586\n",
      "time: 1.19 ms (started: 2024-03-28 18:07:59 +01:00)\n"
     ]
    }
   ],
   "source": [
    "frequency = s2v.get_freq(\"artificial_intelligence|NOUN\")\n",
    "print(f\"Frequency: {frequency}\")"
   ]
  },
  {
   "cell_type": "markdown",
   "id": "9fe35c72",
   "metadata": {},
   "source": [
    "#### Vector"
   ]
  },
  {
   "cell_type": "code",
   "execution_count": 243,
   "id": "b032db97",
   "metadata": {},
   "outputs": [
    {
     "name": "stdout",
     "output_type": "stream",
     "text": [
      "Vector: [-0.05336883  0.12930974 -0.71271354 -0.5335285   0.41187796 -0.41128084\n",
      "  0.56169933  0.16269535  0.13582484 -0.2628744   0.04485684  0.26824757\n",
      " -0.07436837 -0.14284399 -0.13258563 -0.39240766  0.15834026  0.12557378\n",
      "  0.44947657 -0.0558163   0.28013074  0.05871433 -0.2624601  -0.38285995\n",
      " -0.12845571  0.17524104 -0.3379021  -0.40019804 -0.38391396 -0.02481981\n",
      "  0.1439937   0.3706888  -0.02673293 -0.32380423 -0.07437262 -0.51619464\n",
      " -0.11755529  0.52363133 -0.21070772 -0.25421444 -0.12879154  0.07283065\n",
      "  0.11947857  0.16317505  0.05901384  0.02164277 -0.21194217 -0.18807572\n",
      " -0.30689004  0.39276177  0.19204976 -0.44071558  0.28767404 -0.30080068\n",
      " -0.20588249  0.06826613  0.37439212  0.10536108 -0.12716247  0.3068472\n",
      "  0.19814798 -0.14777422  0.14253798  0.23994699 -0.1717181  -0.5000647\n",
      " -0.7780123  -0.23943943 -0.26456913 -0.25027943  0.10723579 -0.04512829\n",
      "  0.02671034 -0.10834537  0.17228423 -0.13542852 -0.20428821 -0.5055861\n",
      " -0.11388295  0.42077857 -0.43394044 -0.06242719  0.04839414 -0.20446545\n",
      " -0.08100336 -0.52245635  0.11118803  0.49410897 -0.10043312 -0.2575575\n",
      "  0.6996612  -0.5133395  -0.09615342  0.00305205 -0.10361686  0.5602907\n",
      "  0.29637223 -0.20354117  0.17713714 -0.18296577  0.02043216 -0.45615885\n",
      " -0.1346018  -0.461882   -0.02689253  0.43762413  0.570356    0.20488252\n",
      " -0.26147902 -0.10433798 -0.10675077  0.5495614  -0.44350076  0.37485376\n",
      " -0.35768217 -0.4155327   0.8249076  -0.16922298  0.34444374  0.01051201\n",
      "  0.38454437  0.09711809 -0.01411216 -0.4088814  -0.27705735  0.20369393\n",
      "  0.40895003 -0.03010581]\n",
      "time: 7.85 ms (started: 2024-03-28 18:07:59 +01:00)\n"
     ]
    }
   ],
   "source": [
    "vector = s2v[\"machine_learning|NOUN\"]\n",
    "print(f\"Vector: {vector}\")"
   ]
  },
  {
   "cell_type": "markdown",
   "id": "dc1a6385-829e-4024-853f-8848004b16b7",
   "metadata": {},
   "source": [
    "### 🚧 Todo:\n",
    "- Try whether expanding your query by adding similar terms to the 10 worst queries improves the results\n"
   ]
  },
  {
   "cell_type": "code",
   "execution_count": 244,
   "id": "391636b4-1f60-4646-b629-52abe61db66f",
   "metadata": {},
   "outputs": [
    {
     "name": "stdout",
     "output_type": "stream",
     "text": [
      "time: 1min 14s (started: 2024-03-28 18:07:59 +01:00)\n"
     ]
    }
   ],
   "source": [
    "analyzer = vectorizer.build_analyzer()\n",
    "\n",
    "augmented_queries = []\n",
    "for query in training_queries.loc[worst10bm25Okapi_index]['query']:\n",
    "    query_tokens = analyzer(query)\n",
    "    augmented_query_tokens = []\n",
    "    for token in query_tokens:\n",
    "        token_key = s2v.get_best_sense(token)\n",
    "        if token_key is not None:\n",
    "            similar_tokens = s2v.most_similar(token_key, n=3)\n",
    "            augmented_query_tokens.extend([similar_token[0].split(\"|\")[0] for similar_token in similar_tokens])\n",
    "    augmented_query = \" \".join(augmented_query_tokens)\n",
    "    augmented_queries.append(augmented_query)"
   ]
  },
  {
   "cell_type": "markdown",
   "id": "abc8f930",
   "metadata": {},
   "source": [
    "#### Previous Queries"
   ]
  },
  {
   "cell_type": "code",
   "execution_count": 245,
   "id": "a8ef0928",
   "metadata": {},
   "outputs": [
    {
     "data": {
      "text/html": [
       "<div>\n",
       "<style scoped>\n",
       "    .dataframe tbody tr th:only-of-type {\n",
       "        vertical-align: middle;\n",
       "    }\n",
       "\n",
       "    .dataframe tbody tr th {\n",
       "        vertical-align: top;\n",
       "    }\n",
       "\n",
       "    .dataframe thead th {\n",
       "        text-align: right;\n",
       "    }\n",
       "</style>\n",
       "<table border=\"1\" class=\"dataframe\">\n",
       "  <thead>\n",
       "    <tr style=\"text-align: right;\">\n",
       "      <th></th>\n",
       "      <th>qid</th>\n",
       "      <th>query</th>\n",
       "    </tr>\n",
       "  </thead>\n",
       "  <tbody>\n",
       "    <tr>\n",
       "      <th>172</th>\n",
       "      <td>729561</td>\n",
       "      <td>what is channeling</td>\n",
       "    </tr>\n",
       "    <tr>\n",
       "      <th>398</th>\n",
       "      <td>195543</td>\n",
       "      <td>goes how long cost and valid</td>\n",
       "    </tr>\n",
       "    <tr>\n",
       "      <th>37</th>\n",
       "      <td>417380</td>\n",
       "      <td>is mark applier?</td>\n",
       "    </tr>\n",
       "    <tr>\n",
       "      <th>308</th>\n",
       "      <td>651254</td>\n",
       "      <td>what does the name connor mean</td>\n",
       "    </tr>\n",
       "    <tr>\n",
       "      <th>285</th>\n",
       "      <td>127145</td>\n",
       "      <td>define skin doctor</td>\n",
       "    </tr>\n",
       "    <tr>\n",
       "      <th>443</th>\n",
       "      <td>11059</td>\n",
       "      <td>actresses who died of lung cancer</td>\n",
       "    </tr>\n",
       "    <tr>\n",
       "      <th>167</th>\n",
       "      <td>859358</td>\n",
       "      <td>what is uplifting in geography</td>\n",
       "    </tr>\n",
       "    <tr>\n",
       "      <th>184</th>\n",
       "      <td>1078582</td>\n",
       "      <td>wired definition</td>\n",
       "    </tr>\n",
       "    <tr>\n",
       "      <th>456</th>\n",
       "      <td>868366</td>\n",
       "      <td>what kind of food should heart attached person</td>\n",
       "    </tr>\n",
       "    <tr>\n",
       "      <th>455</th>\n",
       "      <td>567103</td>\n",
       "      <td>what are the airports in south virginia</td>\n",
       "    </tr>\n",
       "  </tbody>\n",
       "</table>\n",
       "</div>"
      ],
      "text/plain": [
       "         qid                                           query\n",
       "172   729561                              what is channeling\n",
       "398   195543                    goes how long cost and valid\n",
       "37    417380                                is mark applier?\n",
       "308   651254                  what does the name connor mean\n",
       "285   127145                              define skin doctor\n",
       "443    11059               actresses who died of lung cancer\n",
       "167   859358                  what is uplifting in geography\n",
       "184  1078582                                wired definition\n",
       "456   868366  what kind of food should heart attached person\n",
       "455   567103         what are the airports in south virginia"
      ]
     },
     "execution_count": 245,
     "metadata": {},
     "output_type": "execute_result"
    },
    {
     "name": "stdout",
     "output_type": "stream",
     "text": [
      "time: 11.5 ms (started: 2024-03-28 18:09:14 +01:00)\n"
     ]
    }
   ],
   "source": [
    "training_queries.loc[worst10bm25Okapi_index]"
   ]
  },
  {
   "cell_type": "markdown",
   "id": "114a807d",
   "metadata": {},
   "source": [
    "#### Augmented Queries"
   ]
  },
  {
   "cell_type": "code",
   "execution_count": 246,
   "id": "33ae9283",
   "metadata": {},
   "outputs": [
    {
     "data": {
      "text/html": [
       "<div>\n",
       "<style scoped>\n",
       "    .dataframe tbody tr th:only-of-type {\n",
       "        vertical-align: middle;\n",
       "    }\n",
       "\n",
       "    .dataframe tbody tr th {\n",
       "        vertical-align: top;\n",
       "    }\n",
       "\n",
       "    .dataframe thead th {\n",
       "        text-align: right;\n",
       "    }\n",
       "</style>\n",
       "<table border=\"1\" class=\"dataframe\">\n",
       "  <thead>\n",
       "    <tr style=\"text-align: right;\">\n",
       "      <th></th>\n",
       "      <th>qid</th>\n",
       "      <th>query</th>\n",
       "    </tr>\n",
       "  </thead>\n",
       "  <tbody>\n",
       "    <tr>\n",
       "      <th>0</th>\n",
       "      <td>729561</td>\n",
       "      <td>just_what even_what exactly_what 's seems obvi...</td>\n",
       "    </tr>\n",
       "    <tr>\n",
       "      <th>1</th>\n",
       "      <td>195543</td>\n",
       "      <td>comes turns puts what really actually long as ...</td>\n",
       "    </tr>\n",
       "    <tr>\n",
       "      <th>2</th>\n",
       "      <td>417380</td>\n",
       "      <td>'s seems obviously chosen replies Serious</td>\n",
       "    </tr>\n",
       "    <tr>\n",
       "      <th>3</th>\n",
       "      <td>651254</td>\n",
       "      <td>just_what even_what exactly_what does't n't me...</td>\n",
       "    </tr>\n",
       "    <tr>\n",
       "      <th>4</th>\n",
       "      <td>127145</td>\n",
       "      <td>defining redefine defined normal_skin scalp su...</td>\n",
       "    </tr>\n",
       "    <tr>\n",
       "      <th>5</th>\n",
       "      <td>11059</td>\n",
       "      <td>actors/actresses actors male_actors only_peopl...</td>\n",
       "    </tr>\n",
       "    <tr>\n",
       "      <th>6</th>\n",
       "      <td>859358</td>\n",
       "      <td>just_what even_what exactly_what 's seems obvi...</td>\n",
       "    </tr>\n",
       "    <tr>\n",
       "      <th>7</th>\n",
       "      <td>1078582</td>\n",
       "      <td>hardwired hardwire rewired defintion exact_def...</td>\n",
       "    </tr>\n",
       "    <tr>\n",
       "      <th>8</th>\n",
       "      <td>868366</td>\n",
       "      <td>just_what even_what exactly_what sort type oth...</td>\n",
       "    </tr>\n",
       "    <tr>\n",
       "      <th>9</th>\n",
       "      <td>567103</td>\n",
       "      <td>just_what even_what exactly_what those arn't o...</td>\n",
       "    </tr>\n",
       "  </tbody>\n",
       "</table>\n",
       "</div>"
      ],
      "text/plain": [
       "       qid                                              query\n",
       "0   729561  just_what even_what exactly_what 's seems obvi...\n",
       "1   195543  comes turns puts what really actually long as ...\n",
       "2   417380          's seems obviously chosen replies Serious\n",
       "3   651254  just_what even_what exactly_what does't n't me...\n",
       "4   127145  defining redefine defined normal_skin scalp su...\n",
       "5    11059  actors/actresses actors male_actors only_peopl...\n",
       "6   859358  just_what even_what exactly_what 's seems obvi...\n",
       "7  1078582  hardwired hardwire rewired defintion exact_def...\n",
       "8   868366  just_what even_what exactly_what sort type oth...\n",
       "9   567103  just_what even_what exactly_what those arn't o..."
      ]
     },
     "execution_count": 246,
     "metadata": {},
     "output_type": "execute_result"
    },
    {
     "name": "stdout",
     "output_type": "stream",
     "text": [
      "time: 22.8 ms (started: 2024-03-28 18:09:15 +01:00)\n"
     ]
    }
   ],
   "source": [
    "aug_queries = pd.DataFrame(augmented_queries, columns=[\"query\"])\n",
    "qid_index = training_queries.loc[worst10bm25Okapi_index].qid.values\n",
    "augmented_queries_df = pd.DataFrame({\n",
    "    \"qid\": qid_index,\n",
    "    \"query\": augmented_queries\n",
    "})\n",
    "\n",
    "augmented_queries_df"
   ]
  },
  {
   "cell_type": "code",
   "execution_count": 247,
   "id": "ee4ed88f",
   "metadata": {},
   "outputs": [
    {
     "data": {
      "text/html": [
       "<div>\n",
       "<style scoped>\n",
       "    .dataframe tbody tr th:only-of-type {\n",
       "        vertical-align: middle;\n",
       "    }\n",
       "\n",
       "    .dataframe tbody tr th {\n",
       "        vertical-align: top;\n",
       "    }\n",
       "\n",
       "    .dataframe thead th {\n",
       "        text-align: right;\n",
       "    }\n",
       "</style>\n",
       "<table border=\"1\" class=\"dataframe\">\n",
       "  <thead>\n",
       "    <tr style=\"text-align: right;\">\n",
       "      <th></th>\n",
       "      <th>qid</th>\n",
       "      <th>query</th>\n",
       "    </tr>\n",
       "  </thead>\n",
       "  <tbody>\n",
       "    <tr>\n",
       "      <th>0</th>\n",
       "      <td>687888</td>\n",
       "      <td>what is a jpe</td>\n",
       "    </tr>\n",
       "    <tr>\n",
       "      <th>1</th>\n",
       "      <td>480210</td>\n",
       "      <td>price for asphalt driveway</td>\n",
       "    </tr>\n",
       "    <tr>\n",
       "      <th>2</th>\n",
       "      <td>591004</td>\n",
       "      <td>what causes pressure skin bruising</td>\n",
       "    </tr>\n",
       "    <tr>\n",
       "      <th>3</th>\n",
       "      <td>260536</td>\n",
       "      <td>how long drive from flagstaff to grand canyon</td>\n",
       "    </tr>\n",
       "    <tr>\n",
       "      <th>4</th>\n",
       "      <td>39422</td>\n",
       "      <td>average number of bowel movements per day for ...</td>\n",
       "    </tr>\n",
       "    <tr>\n",
       "      <th>...</th>\n",
       "      <td>...</td>\n",
       "      <td>...</td>\n",
       "    </tr>\n",
       "    <tr>\n",
       "      <th>495</th>\n",
       "      <td>133970</td>\n",
       "      <td>definition of dietary fiber</td>\n",
       "    </tr>\n",
       "    <tr>\n",
       "      <th>496</th>\n",
       "      <td>79788</td>\n",
       "      <td>can you start up a video record?</td>\n",
       "    </tr>\n",
       "    <tr>\n",
       "      <th>497</th>\n",
       "      <td>791583</td>\n",
       "      <td>what is rheumatoid spondylosis</td>\n",
       "    </tr>\n",
       "    <tr>\n",
       "      <th>498</th>\n",
       "      <td>732078</td>\n",
       "      <td>what is coleman fuel made out of</td>\n",
       "    </tr>\n",
       "    <tr>\n",
       "      <th>499</th>\n",
       "      <td>197098</td>\n",
       "      <td>greyhound phone number in sacramento ca</td>\n",
       "    </tr>\n",
       "  </tbody>\n",
       "</table>\n",
       "<p>500 rows × 2 columns</p>\n",
       "</div>"
      ],
      "text/plain": [
       "        qid                                              query\n",
       "0    687888                                      what is a jpe\n",
       "1    480210                         price for asphalt driveway\n",
       "2    591004                 what causes pressure skin bruising\n",
       "3    260536      how long drive from flagstaff to grand canyon\n",
       "4     39422  average number of bowel movements per day for ...\n",
       "..      ...                                                ...\n",
       "495  133970                        definition of dietary fiber\n",
       "496   79788                   can you start up a video record?\n",
       "497  791583                     what is rheumatoid spondylosis\n",
       "498  732078                   what is coleman fuel made out of\n",
       "499  197098            greyhound phone number in sacramento ca\n",
       "\n",
       "[500 rows x 2 columns]"
      ]
     },
     "execution_count": 247,
     "metadata": {},
     "output_type": "execute_result"
    },
    {
     "name": "stdout",
     "output_type": "stream",
     "text": [
      "time: 26 ms (started: 2024-03-28 18:09:15 +01:00)\n"
     ]
    }
   ],
   "source": [
    "updated_queries = training_queries.copy(deep=True)\n",
    "query_ids = list(worst10bm25Okapi_index)\n",
    "id_to_new_text = dict(zip(query_ids, augmented_queries))\n",
    "updated_queries.loc[query_ids, 'query'] = updated_queries.loc[query_ids].index.map(id_to_new_text)\n",
    "updated_queries"
   ]
  },
  {
   "cell_type": "markdown",
   "id": "14ac23e8",
   "metadata": {},
   "source": [
    "#### New Results"
   ]
  },
  {
   "cell_type": "code",
   "execution_count": 248,
   "id": "a794e082",
   "metadata": {},
   "outputs": [
    {
     "data": {
      "application/vnd.jupyter.widget-view+json": {
       "model_id": "3a1bd9787ab147518734259f546e7d2b",
       "version_major": 2,
       "version_minor": 0
      },
      "text/plain": [
       "  0%|          | 0/500 [00:00<?, ?it/s]"
      ]
     },
     "metadata": {},
     "output_type": "display_data"
    },
    {
     "data": {
      "text/plain": [
       "0.9848"
      ]
     },
     "execution_count": 248,
     "metadata": {},
     "output_type": "execute_result"
    },
    {
     "name": "stdout",
     "output_type": "stream",
     "text": [
      "time: 3min 21s (started: 2024-03-28 18:09:15 +01:00)\n"
     ]
    }
   ],
   "source": [
    "bm25 = BM25Okapi(tokenized_corpus)\n",
    "bm25results_Okapi = updated_queries.qid.progress_apply(pAt10Bm25)\n",
    "bm25results_Okapi.mean()"
   ]
  },
  {
   "cell_type": "markdown",
   "id": "be3ac9b3",
   "metadata": {},
   "source": [
    "#### Conclusion\n",
    "\n",
    "Unfortunately, the results don't seem to improve, maybe it should be considered further preprocessing and different tokenization."
   ]
  },
  {
   "cell_type": "markdown",
   "id": "f2e6f343-7617-4525-aeab-fd4bc9896451",
   "metadata": {},
   "source": [
    "### 🚧 Todo:\n",
    "- Try misspelling a word and see whether you can fix that with sense2vec\n"
   ]
  },
  {
   "cell_type": "markdown",
   "id": "2817507e",
   "metadata": {},
   "source": [
    "#### Misspelling example 1"
   ]
  },
  {
   "cell_type": "code",
   "execution_count": 249,
   "id": "922908f5-c473-4486-8674-e3618b511186",
   "metadata": {},
   "outputs": [
    {
     "name": "stdout",
     "output_type": "stream",
     "text": [
      "Corrected word: None\n",
      "time: 3.69 ms (started: 2024-03-28 18:12:37 +01:00)\n"
     ]
    }
   ],
   "source": [
    "misspelled_word1 = \"juputer\"\n",
    "correct_word1 = s2v.get_best_sense(misspelled_word1)\n",
    "print(f\"Corrected word: {correct_word1}\")"
   ]
  },
  {
   "cell_type": "markdown",
   "id": "10c4036d",
   "metadata": {},
   "source": [
    "#### Mispelling example 2"
   ]
  },
  {
   "cell_type": "code",
   "execution_count": 250,
   "id": "fbaa99e1",
   "metadata": {},
   "outputs": [
    {
     "name": "stdout",
     "output_type": "stream",
     "text": [
      "Corrected word: helo|NOUN\n",
      "time: 6.23 ms (started: 2024-03-28 18:12:37 +01:00)\n"
     ]
    }
   ],
   "source": [
    "misspelled_word1 = \"helo\"\n",
    "correct_word1 = s2v.get_best_sense(misspelled_word1)\n",
    "print(f\"Corrected word: {correct_word1}\")"
   ]
  },
  {
   "cell_type": "markdown",
   "id": "6f6cc74a-e69b-4dcd-849f-7b3c7293bd08",
   "metadata": {},
   "source": [
    "### 🚧 Todo:\n",
    "- Try embeddings for a few queries (all would take too long except if you have a GPU)\n",
    "    - Are the gold top 10 similar to the query itself?\n",
    "    - Check whether the gold top 10 answers for our most difficult question are really closer to the question than the currently predicted top10\n",
    "         - How to get every doc as a vector: \n",
    "             - https://spacy.io/api/doc#vector \"A real-valued meaning representation. Defaults to an average of the token vectors.\"\n",
    "        - Every doc has a similarity function taking another doc as argument: \n",
    "            - https://spacy.io/api/doc#similarity"
   ]
  },
  {
   "cell_type": "code",
   "execution_count": 252,
   "id": "4cc0ab9b-ff88-41e9-96c6-c21969303775",
   "metadata": {},
   "outputs": [
    {
     "name": "stdout",
     "output_type": "stream",
     "text": [
      "------------------------------------------------------\n",
      "Query ID: 333029\n",
      "\n",
      "Gold Similarities: [0.7988719456653133, 0.8074835170757475, 0.8061850299920799, 0.8281570546926511, 0.7970559246407134, 0.8460853807976707, 0.8088189764537648, 0.8221287150061221, 0.7968105130911767, 0.7717767822698696]\n",
      "\n",
      "Predicted Similarities: [0.7988719456653133, 0.7717767822698696, 0.7679191089382106, 0.8460853807976707, 0.8221287150061221, 0.7377280067248264, 0.7652416593718304, 0.8095978050844249, 0.8181364722218312, 0.7694116320314736]\n",
      "------------------------------------------------------\n",
      "------------------------------------------------------\n",
      "Query ID: 260773\n",
      "\n",
      "Gold Similarities: [0.7408109784683735, 0.7408109784683735, 0.7521725627572964, 0.7336286553121919, 0.7543014738153314, 0.7542932695831854, 0.780779705913727, 0.7935853926474039, 0.7838247672017876, 0.7641256643339809]\n",
      "\n",
      "Predicted Similarities: [0.7408109784683735, 0.7408109784683735, 0.7521725627572964, 0.7543014738153314, 0.7336286553121919, 0.7542932695831854, 0.7476448774179142, 0.7531309917583167, 0.780779705913727, 0.7647322864192276]\n",
      "------------------------------------------------------\n",
      "------------------------------------------------------\n",
      "Query ID: 225083\n",
      "\n",
      "Gold Similarities: [0.7738650659044644, 0.7306335175970164, 0.6793404397907561, 0.8122766963806165, 0.7906347013629679, 0.7906347013629679, 0.7849818951722831, 0.7721993573195747, 0.7849818951722831, 0.7190226225108935]\n",
      "\n",
      "Predicted Similarities: [0.6793404397907561, 0.7849818951722831, 0.7849818951722831, 0.7939876577392516, 0.7738650659044644, 0.7217596511958891, 0.8061428146373348, 0.7703756571381658, 0.7906347013629679, 0.7906347013629679]\n",
      "------------------------------------------------------\n",
      "------------------------------------------------------\n",
      "Query ID: 759179\n",
      "\n",
      "Gold Similarities: [0.6768734196200755, 0.6679002223609023, 0.5841550840825857, 0.612946005977377, 0.6487141925023491, 0.5979198540455392, 0.6250054936673097, 0.6554705236013596, 0.6262750387244681, 0.6507197224108453]\n",
      "\n",
      "Predicted Similarities: [0.6768734196200755, 0.5979198540455392, 0.612946005977377, 0.6679002223609023, 0.6250054936673097, 0.6262750387244681, 0.6975230724633279, 0.6560694494612951, 0.6462925391921784, 0.6487141925023491]\n",
      "------------------------------------------------------\n",
      "------------------------------------------------------\n",
      "Query ID: 1078582\n",
      "\n",
      "Gold Similarities: [0.7661580637478603, 0.7147454112227055, 0.7832833604290089, 0.7730504961974337, 0.7675094004982457, 0.7235296945094969, 0.7316753564574109, 0.7511734625015868, 0.7511734625015868, 0.7299757771338752]\n",
      "\n",
      "Predicted Similarities: [0.7694905992100144, 0.7504027009510429, 0.7367524012523041, 0.7229317175015071, 0.7420064300827451, 0.5300147755775234, 0.6102589242361112, 0.7217303509180609, 0.7323696075137581, 0.7064828964202536]\n",
      "------------------------------------------------------\n",
      "------------------------------------------------------\n",
      "Query ID: 151232\n",
      "\n",
      "Gold Similarities: [0.6801726171314965, 0.668007112119181, 0.6866415740507033, 0.706728421364812, 0.6553659133960491, 0.6835176723030416, 0.6580099615406726, 0.5959701211877401, 0.6337241186419422, 0.7117332942669056]\n",
      "\n",
      "Predicted Similarities: [0.668007112119181, 0.6866415740507033, 0.706728421364812, 0.6801726171314965, 0.7117332942669056, 0.6835176723030416, 0.6646261313851954, 0.6553659133960491, 0.6337241186419422, 0.6580099615406726]\n",
      "------------------------------------------------------\n",
      "------------------------------------------------------\n",
      "Query ID: 19332\n",
      "\n",
      "Gold Similarities: [0.5298837952116714, 0.5451462018607993, 0.5609199648107024, 0.59702999289121, 0.5885705689789111, 0.5879118798787211, 0.521803162815294, 0.521803162815294, 0.5278305539055107, 0.5051357121779018]\n",
      "\n",
      "Predicted Similarities: [0.5879118798787211, 0.5451462018607993, 0.5298837952116714, 0.5885705689789111, 0.521803162815294, 0.521803162815294, 0.59702999289121, 0.5278305539055107, 0.5672443175468275, 0.5269447766213844]\n",
      "------------------------------------------------------\n",
      "------------------------------------------------------\n",
      "Query ID: 1007658\n",
      "\n",
      "Gold Similarities: [0.9483416129606076, 0.9532006670751156, 0.928513441001199, 0.9441070130110433, 0.9053701539807103, 0.9116544522893636, 0.8976503085990287, 0.8616649729937436, 0.8898521624509537, 0.9186531899457802]\n",
      "\n",
      "Predicted Similarities: [0.9483416129606076, 0.9532006670751156, 0.9116544522893636, 0.8616649729937436, 0.8898521624509537, 0.8766059890894866, 0.8939131114234977, 0.8829247163735873, 0.8811742392689617, 0.8976503085990287]\n",
      "------------------------------------------------------\n",
      "------------------------------------------------------\n",
      "Query ID: 494249\n",
      "\n",
      "Gold Similarities: [0.8135062098815973, 0.820181198212319, 0.8113716347821046, 0.8616212513610977, 0.7847726085935904, 0.7630593647214472, 0.7870773449194907, 0.7870773449194907, 0.7196086332801587, 0.7709838112368662]\n",
      "\n",
      "Predicted Similarities: [0.8135062098815973, 0.8113716347821046, 0.7847726085935904, 0.7870773449194907, 0.7870773449194907, 0.820181198212319, 0.7775230481552029, 0.774708812552664, 0.6924868965490243, 0.7045497036955091]\n",
      "------------------------------------------------------\n",
      "------------------------------------------------------\n",
      "Query ID: 787148\n",
      "\n",
      "Gold Similarities: [0.6054051217554336, 0.5560527477988142, 0.47265790061955415, 0.5652453217730926, 0.5688566118775722, 0.5338647721523152, 0.5425721621618986, 0.4654957630712141, 0.5433485690077173, 0.5685908332915527]\n",
      "\n",
      "Predicted Similarities: [0.6054051217554336, 0.47265790061955415, 0.5652453217730926, 0.5338647721523152, 0.753656626125049, 0.5560527477988142, 0.4923132022851862, 0.8367612093128382, 0.737191107224148, 0.7931964878434018]\n",
      "------------------------------------------------------\n",
      "time: 1min 7s (started: 2024-03-28 18:35:52 +01:00)\n"
     ]
    }
   ],
   "source": [
    "selected_queries = training_queries.iloc[180:190]\n",
    "\n",
    "for _,query_row in selected_queries.iterrows():\n",
    "    query_text = query_row['query']\n",
    "    query_id = query_row['qid']\n",
    "    query_doc = nlp(query_text)\n",
    "\n",
    "    # Calculate similarity with gold top 10 documents\n",
    "    gold_top10_docs = gold[gold['qid'] == query_id].sort_values('rank').head(10)\n",
    "    gold_similarities = []\n",
    "    for _,doc in gold_top10_docs.iterrows():\n",
    "        doc_text = docs[docs.docid == doc.docid].text.values[0]\n",
    "        doc_doc = nlp(doc_text)\n",
    "        similarity_score = query_doc.similarity(doc_doc)\n",
    "        gold_similarities.append(similarity_score)\n",
    "\n",
    "    tquery = queries[queries.qid==query_id]['query'].apply(analyzer)\n",
    "    doc_scores = bm25.get_scores(tquery.tolist()[0])\n",
    "    predicted_top10_docs = sorted(range(len(doc_scores)), key=lambda i: doc_scores[i], reverse=True)[:10]\n",
    "    predicted_similarities = []\n",
    "    \n",
    "    for idx in predicted_top10_docs:\n",
    "        doc_text = docs['text'].iloc[idx]\n",
    "        doc_doc = nlp(doc_text)\n",
    "        similarity_score = query_doc.similarity(doc_doc)\n",
    "        predicted_similarities.append(similarity_score)\n",
    "\n",
    "    print(\"------------------------------------------------------\")\n",
    "    print(f\"Query ID: {query_id}\")\n",
    "    print(f\"\\nGold Similarities: {gold_similarities}\")\n",
    "    print(f\"\\nPredicted Similarities: {predicted_similarities}\")\n",
    "    print(\"------------------------------------------------------\")\n"
   ]
  }
 ],
 "metadata": {
  "kernelspec": {
   "display_name": "Python 3 (ipykernel)",
   "language": "python",
   "name": "python3"
  },
  "language_info": {
   "codemirror_mode": {
    "name": "ipython",
    "version": 3
   },
   "file_extension": ".py",
   "mimetype": "text/x-python",
   "name": "python",
   "nbconvert_exporter": "python",
   "pygments_lexer": "ipython3",
   "version": "3.10.12"
  }
 },
 "nbformat": 4,
 "nbformat_minor": 5
}
