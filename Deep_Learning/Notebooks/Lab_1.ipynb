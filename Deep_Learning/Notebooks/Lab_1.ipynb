{
 "cells": [
  {
   "cell_type": "markdown",
   "id": "6ee0ab75",
   "metadata": {},
   "source": [
    "## Authors: Pablo Mollá, Pavlo Poliuha and Junjie Chen"
   ]
  },
  {
   "cell_type": "markdown",
   "id": "5a7abb98-5b7e-45fa-9c9a-dd7640ecf9a8",
   "metadata": {},
   "source": [
    "# Getting started with numpy\n",
    "\n",
    "- In this lab exercise we present the different functionnalities of numpy, particularly its algebra library. \n",
    "- The exercise's objective is to train you how to access, multiply and apply other operations on numpy matrix.\n",
    "\n",
    "\n",
    "## Create a numpy array\n",
    "First, the base type we will use in the remaining is the `numpy.array`object which is a multi-dimensional array (or a tensor). \n",
    "You can create an array giving a python list in arguments but also you can initialise it given specific shape, or instanciate it with zeros or ones.\n",
    "\n",
    "- `np.array([[0,1,2], [3,4,5]])` create a 2-dimensional array having two lines and 3 columns\n",
    "- `np.ndarray((5,3,4))` create a 3-dimensional array with shape 5, 3 and 4 (5 lines, 3 columns, 4 entries)\n",
    "- `np.zeros(5,3,4)` create a 3-dimensional array with shape 5, 3 and 4 (5 lines, 3 columns, 4 entries) where each componenent is set two zeros\n",
    "\n",
    "You also can fill the array with a specific value using the inplace operation `.fill(value)`. To access information on the different dimensions (size) you can use the array attribute `shape`.\n",
    "\n",
    "\n",
    "## Access sub-part of the array\n",
    "To access sub-part of a numpy array you can use index  surrounded by [], you can index on the different dimenssion using the comma between each dimensions:\n",
    "\n",
    "* `x[1,5,3]` will select the element in the first line, the fith column and the third element on the array\n",
    "\n",
    "In addition you can select slice, e.g. select the lines between a and b, using the `:` symbol:\n",
    "\n",
    "* `x[2:5]` will select the lines 2, 3 and 4\n",
    "* `x[2:]` will select elements from the second line to the last\n",
    "*  `x[:-2]` will select the lines from the first to the last third.\n",
    "\n",
    "We can combine the two last notations to select slices on different dimension:\n",
    "* `x[2:5, :, :3]` will select the elements between the lines 2 to 5 and the first three elements on the last dimension\n",
    "\n",
    "## Transpose dimension\n",
    "To transpose dimension you can use the `transpose` numpy method taking in argument the index of the transposed dimension"
   ]
  },
  {
   "cell_type": "code",
   "execution_count": 1,
   "id": "e048b0a5-3281-4f59-b961-bd5a6f19a5f7",
   "metadata": {},
   "outputs": [],
   "source": [
    "import numpy as np\n",
    "import math\n",
    "import matplotlib"
   ]
  },
  {
   "cell_type": "markdown",
   "id": "86c98e10-2a7f-4410-b4d7-79940fff85e7",
   "metadata": {},
   "source": [
    "## Exercise 1 : Manipulate np.array"
   ]
  },
  {
   "cell_type": "markdown",
   "id": "b27e6fdb",
   "metadata": {},
   "source": [
    "### **Question 1:** Create a variable `np_minus_three` containing a `np.array`of shape (2,5,10,2) (4 dimensions), where each componenent has the value `-3`. "
   ]
  },
  {
   "cell_type": "markdown",
   "id": "76df85da",
   "metadata": {},
   "source": [
    "#### Option 1"
   ]
  },
  {
   "cell_type": "code",
   "execution_count": 21,
   "id": "6fc695f2-1cb0-494b-a858-54c941b18532",
   "metadata": {},
   "outputs": [
    {
     "data": {
      "text/plain": [
       "array([[[[-3., -3.],\n",
       "         [-3., -3.],\n",
       "         [-3., -3.],\n",
       "         [-3., -3.],\n",
       "         [-3., -3.],\n",
       "         [-3., -3.],\n",
       "         [-3., -3.],\n",
       "         [-3., -3.],\n",
       "         [-3., -3.],\n",
       "         [-3., -3.]],\n",
       "\n",
       "        [[-3., -3.],\n",
       "         [-3., -3.],\n",
       "         [-3., -3.],\n",
       "         [-3., -3.],\n",
       "         [-3., -3.],\n",
       "         [-3., -3.],\n",
       "         [-3., -3.],\n",
       "         [-3., -3.],\n",
       "         [-3., -3.],\n",
       "         [-3., -3.]],\n",
       "\n",
       "        [[-3., -3.],\n",
       "         [-3., -3.],\n",
       "         [-3., -3.],\n",
       "         [-3., -3.],\n",
       "         [-3., -3.],\n",
       "         [-3., -3.],\n",
       "         [-3., -3.],\n",
       "         [-3., -3.],\n",
       "         [-3., -3.],\n",
       "         [-3., -3.]],\n",
       "\n",
       "        [[-3., -3.],\n",
       "         [-3., -3.],\n",
       "         [-3., -3.],\n",
       "         [-3., -3.],\n",
       "         [-3., -3.],\n",
       "         [-3., -3.],\n",
       "         [-3., -3.],\n",
       "         [-3., -3.],\n",
       "         [-3., -3.],\n",
       "         [-3., -3.]],\n",
       "\n",
       "        [[-3., -3.],\n",
       "         [-3., -3.],\n",
       "         [-3., -3.],\n",
       "         [-3., -3.],\n",
       "         [-3., -3.],\n",
       "         [-3., -3.],\n",
       "         [-3., -3.],\n",
       "         [-3., -3.],\n",
       "         [-3., -3.],\n",
       "         [-3., -3.]]],\n",
       "\n",
       "\n",
       "       [[[-3., -3.],\n",
       "         [-3., -3.],\n",
       "         [-3., -3.],\n",
       "         [-3., -3.],\n",
       "         [-3., -3.],\n",
       "         [-3., -3.],\n",
       "         [-3., -3.],\n",
       "         [-3., -3.],\n",
       "         [-3., -3.],\n",
       "         [-3., -3.]],\n",
       "\n",
       "        [[-3., -3.],\n",
       "         [-3., -3.],\n",
       "         [-3., -3.],\n",
       "         [-3., -3.],\n",
       "         [-3., -3.],\n",
       "         [-3., -3.],\n",
       "         [-3., -3.],\n",
       "         [-3., -3.],\n",
       "         [-3., -3.],\n",
       "         [-3., -3.]],\n",
       "\n",
       "        [[-3., -3.],\n",
       "         [-3., -3.],\n",
       "         [-3., -3.],\n",
       "         [-3., -3.],\n",
       "         [-3., -3.],\n",
       "         [-3., -3.],\n",
       "         [-3., -3.],\n",
       "         [-3., -3.],\n",
       "         [-3., -3.],\n",
       "         [-3., -3.]],\n",
       "\n",
       "        [[-3., -3.],\n",
       "         [-3., -3.],\n",
       "         [-3., -3.],\n",
       "         [-3., -3.],\n",
       "         [-3., -3.],\n",
       "         [-3., -3.],\n",
       "         [-3., -3.],\n",
       "         [-3., -3.],\n",
       "         [-3., -3.],\n",
       "         [-3., -3.]],\n",
       "\n",
       "        [[-3., -3.],\n",
       "         [-3., -3.],\n",
       "         [-3., -3.],\n",
       "         [-3., -3.],\n",
       "         [-3., -3.],\n",
       "         [-3., -3.],\n",
       "         [-3., -3.],\n",
       "         [-3., -3.],\n",
       "         [-3., -3.],\n",
       "         [-3., -3.]]]])"
      ]
     },
     "execution_count": 21,
     "metadata": {},
     "output_type": "execute_result"
    }
   ],
   "source": [
    "# Empty variable (epsilon small with corresponding dimensions)\n",
    "np_minus_three = np.empty((2, 5, 10, 2))\n",
    "\n",
    "# Filling with value -3\n",
    "np_minus_three.fill(-3)\n",
    "\n",
    "np_minus_three"
   ]
  },
  {
   "cell_type": "markdown",
   "id": "204df7dc",
   "metadata": {},
   "source": [
    "#### Option 2"
   ]
  },
  {
   "cell_type": "code",
   "execution_count": 22,
   "id": "f24a62d0",
   "metadata": {},
   "outputs": [
    {
     "data": {
      "text/plain": [
       "array([[[[-3, -3],\n",
       "         [-3, -3],\n",
       "         [-3, -3],\n",
       "         [-3, -3],\n",
       "         [-3, -3],\n",
       "         [-3, -3],\n",
       "         [-3, -3],\n",
       "         [-3, -3],\n",
       "         [-3, -3],\n",
       "         [-3, -3]],\n",
       "\n",
       "        [[-3, -3],\n",
       "         [-3, -3],\n",
       "         [-3, -3],\n",
       "         [-3, -3],\n",
       "         [-3, -3],\n",
       "         [-3, -3],\n",
       "         [-3, -3],\n",
       "         [-3, -3],\n",
       "         [-3, -3],\n",
       "         [-3, -3]],\n",
       "\n",
       "        [[-3, -3],\n",
       "         [-3, -3],\n",
       "         [-3, -3],\n",
       "         [-3, -3],\n",
       "         [-3, -3],\n",
       "         [-3, -3],\n",
       "         [-3, -3],\n",
       "         [-3, -3],\n",
       "         [-3, -3],\n",
       "         [-3, -3]],\n",
       "\n",
       "        [[-3, -3],\n",
       "         [-3, -3],\n",
       "         [-3, -3],\n",
       "         [-3, -3],\n",
       "         [-3, -3],\n",
       "         [-3, -3],\n",
       "         [-3, -3],\n",
       "         [-3, -3],\n",
       "         [-3, -3],\n",
       "         [-3, -3]],\n",
       "\n",
       "        [[-3, -3],\n",
       "         [-3, -3],\n",
       "         [-3, -3],\n",
       "         [-3, -3],\n",
       "         [-3, -3],\n",
       "         [-3, -3],\n",
       "         [-3, -3],\n",
       "         [-3, -3],\n",
       "         [-3, -3],\n",
       "         [-3, -3]]],\n",
       "\n",
       "\n",
       "       [[[-3, -3],\n",
       "         [-3, -3],\n",
       "         [-3, -3],\n",
       "         [-3, -3],\n",
       "         [-3, -3],\n",
       "         [-3, -3],\n",
       "         [-3, -3],\n",
       "         [-3, -3],\n",
       "         [-3, -3],\n",
       "         [-3, -3]],\n",
       "\n",
       "        [[-3, -3],\n",
       "         [-3, -3],\n",
       "         [-3, -3],\n",
       "         [-3, -3],\n",
       "         [-3, -3],\n",
       "         [-3, -3],\n",
       "         [-3, -3],\n",
       "         [-3, -3],\n",
       "         [-3, -3],\n",
       "         [-3, -3]],\n",
       "\n",
       "        [[-3, -3],\n",
       "         [-3, -3],\n",
       "         [-3, -3],\n",
       "         [-3, -3],\n",
       "         [-3, -3],\n",
       "         [-3, -3],\n",
       "         [-3, -3],\n",
       "         [-3, -3],\n",
       "         [-3, -3],\n",
       "         [-3, -3]],\n",
       "\n",
       "        [[-3, -3],\n",
       "         [-3, -3],\n",
       "         [-3, -3],\n",
       "         [-3, -3],\n",
       "         [-3, -3],\n",
       "         [-3, -3],\n",
       "         [-3, -3],\n",
       "         [-3, -3],\n",
       "         [-3, -3],\n",
       "         [-3, -3]],\n",
       "\n",
       "        [[-3, -3],\n",
       "         [-3, -3],\n",
       "         [-3, -3],\n",
       "         [-3, -3],\n",
       "         [-3, -3],\n",
       "         [-3, -3],\n",
       "         [-3, -3],\n",
       "         [-3, -3],\n",
       "         [-3, -3],\n",
       "         [-3, -3]]]])"
      ]
     },
     "execution_count": 22,
     "metadata": {},
     "output_type": "execute_result"
    }
   ],
   "source": [
    "# Both operations in a single line\n",
    "np_minus_three_2 = np.full((2, 5, 10, 2), -3)\n",
    "\n",
    "np_minus_three_2"
   ]
  },
  {
   "cell_type": "markdown",
   "id": "66cb54a3",
   "metadata": {},
   "source": [
    "#### Checking \n",
    "\n",
    "These lines of code are using Python's assert statement to check two conditions:\n",
    "\n",
    "- `np.all(np_minus_three == -3)`: This condition checks whether all elements in the np_minus_three array are equal to -3. It uses NumPy's np.all() function to check if all elements satisfy the condition np_minus_three == -3. If all elements are indeed equal to -3, this condition will return True, indicating that the array contains only the value -3.\n",
    "\n",
    "- `np_minus_three.shape == (2,5,10,2)`: This condition checks whether the shape of the np_minus_three array matches the specified shape (2, 5, 10, 2). If the shape matches, this condition will return True."
   ]
  },
  {
   "cell_type": "code",
   "execution_count": 16,
   "id": "f55305d6-fc4e-44a3-9c8e-2a436f5db9b1",
   "metadata": {},
   "outputs": [],
   "source": [
    "assert(np.all(np_minus_three == -3))\n",
    "assert(np_minus_three.shape == (2,5,10,2))\n"
   ]
  },
  {
   "cell_type": "markdown",
   "id": "0ad96fce-616d-4eaa-a72b-6e3bd7dff999",
   "metadata": {},
   "source": [
    "### **Question 2:** In the following create a variable `np_range` containing a `np.array`of shape (2,5) (2 dimensions), where the array contains the list of integer from 0 to 9 (included). The first line containing integer for 0 to 5, the second from 5 to 9. You should use the functions `np.arange` and the method `reshape` (**and no list!!!**)."
   ]
  },
  {
   "cell_type": "code",
   "execution_count": 17,
   "id": "c11e77a3-7107-4de9-a5c3-0671c6b7208f",
   "metadata": {},
   "outputs": [
    {
     "data": {
      "text/plain": [
       "array([[0, 1, 2, 3, 4],\n",
       "       [5, 6, 7, 8, 9]])"
      ]
     },
     "execution_count": 17,
     "metadata": {},
     "output_type": "execute_result"
    }
   ],
   "source": [
    "# Generate a range of integers from 0 to 9\n",
    "np_range = np.arange(10)\n",
    "\n",
    "# Reshape the array to shape (2, 5)\n",
    "np_range = np_range.reshape(2, 5)\n",
    "\n",
    "np_range"
   ]
  },
  {
   "cell_type": "code",
   "execution_count": 18,
   "id": "aa2c66e0-7221-44d5-8a77-c466a163d371",
   "metadata": {},
   "outputs": [],
   "source": [
    "assert(np.all(np_range == np.array([[0, 1, 2, 3, 4],\n",
    "       [5, 6, 7, 8, 9]])))"
   ]
  },
  {
   "cell_type": "markdown",
   "id": "d58051fe-0309-41de-b86d-9b534f98aa7d",
   "metadata": {},
   "source": [
    "### **Question 3:** Similarly create a variable `np_range_large` containing a `np.array`of shape (2,5,10,2) (4 dimensions), where the array contains the list of integer from 0 to 199 (included)."
   ]
  },
  {
   "cell_type": "code",
   "execution_count": 33,
   "id": "161d677e-9013-4bc2-a2e5-e424fd206361",
   "metadata": {},
   "outputs": [
    {
     "data": {
      "text/plain": [
       "array([[[[  0,   1],\n",
       "         [  2,   3],\n",
       "         [  4,   5],\n",
       "         [  6,   7],\n",
       "         [  8,   9],\n",
       "         [ 10,  11],\n",
       "         [ 12,  13],\n",
       "         [ 14,  15],\n",
       "         [ 16,  17],\n",
       "         [ 18,  19]],\n",
       "\n",
       "        [[ 20,  21],\n",
       "         [ 22,  23],\n",
       "         [ 24,  25],\n",
       "         [ 26,  27],\n",
       "         [ 28,  29],\n",
       "         [ 30,  31],\n",
       "         [ 32,  33],\n",
       "         [ 34,  35],\n",
       "         [ 36,  37],\n",
       "         [ 38,  39]],\n",
       "\n",
       "        [[ 40,  41],\n",
       "         [ 42,  43],\n",
       "         [ 44,  45],\n",
       "         [ 46,  47],\n",
       "         [ 48,  49],\n",
       "         [ 50,  51],\n",
       "         [ 52,  53],\n",
       "         [ 54,  55],\n",
       "         [ 56,  57],\n",
       "         [ 58,  59]],\n",
       "\n",
       "        [[ 60,  61],\n",
       "         [ 62,  63],\n",
       "         [ 64,  65],\n",
       "         [ 66,  67],\n",
       "         [ 68,  69],\n",
       "         [ 70,  71],\n",
       "         [ 72,  73],\n",
       "         [ 74,  75],\n",
       "         [ 76,  77],\n",
       "         [ 78,  79]],\n",
       "\n",
       "        [[ 80,  81],\n",
       "         [ 82,  83],\n",
       "         [ 84,  85],\n",
       "         [ 86,  87],\n",
       "         [ 88,  89],\n",
       "         [ 90,  91],\n",
       "         [ 92,  93],\n",
       "         [ 94,  95],\n",
       "         [ 96,  97],\n",
       "         [ 98,  99]]],\n",
       "\n",
       "\n",
       "       [[[100, 101],\n",
       "         [102, 103],\n",
       "         [104, 105],\n",
       "         [106, 107],\n",
       "         [108, 109],\n",
       "         [110, 111],\n",
       "         [112, 113],\n",
       "         [114, 115],\n",
       "         [116, 117],\n",
       "         [118, 119]],\n",
       "\n",
       "        [[120, 121],\n",
       "         [122, 123],\n",
       "         [124, 125],\n",
       "         [126, 127],\n",
       "         [128, 129],\n",
       "         [130, 131],\n",
       "         [132, 133],\n",
       "         [134, 135],\n",
       "         [136, 137],\n",
       "         [138, 139]],\n",
       "\n",
       "        [[140, 141],\n",
       "         [142, 143],\n",
       "         [144, 145],\n",
       "         [146, 147],\n",
       "         [148, 149],\n",
       "         [150, 151],\n",
       "         [152, 153],\n",
       "         [154, 155],\n",
       "         [156, 157],\n",
       "         [158, 159]],\n",
       "\n",
       "        [[160, 161],\n",
       "         [162, 163],\n",
       "         [164, 165],\n",
       "         [166, 167],\n",
       "         [168, 169],\n",
       "         [170, 171],\n",
       "         [172, 173],\n",
       "         [174, 175],\n",
       "         [176, 177],\n",
       "         [178, 179]],\n",
       "\n",
       "        [[180, 181],\n",
       "         [182, 183],\n",
       "         [184, 185],\n",
       "         [186, 187],\n",
       "         [188, 189],\n",
       "         [190, 191],\n",
       "         [192, 193],\n",
       "         [194, 195],\n",
       "         [196, 197],\n",
       "         [198, 199]]]])"
      ]
     },
     "execution_count": 33,
     "metadata": {},
     "output_type": "execute_result"
    }
   ],
   "source": [
    "# Generate a range of integers from 0 to 199\n",
    "np_range_large = np.arange(200)\n",
    "\n",
    "# Reshape the array to shape (2, 5, 10, 2)\n",
    "np_range_large = np_range_large.reshape(2, 5, 10, 2)\n",
    "\n",
    "np_range_large"
   ]
  },
  {
   "cell_type": "markdown",
   "id": "6ceff8a4",
   "metadata": {},
   "source": [
    "#### Checking\n",
    "\n",
    "This code computes the SHA-256 hash of the string representation of the NumPy array `np_range_large` and compares it to a predefined hash value (`hash`). If the computed hash matches the predefined hash value, the `assert` statement passes; otherwise, it raises an `AssertionError`.\n",
    "\n",
    "Here's what each part of the code does:\n",
    "\n",
    "1. `hash = '5681936f8523b54ad2d46bf26e0bc6e6bc7379ce84eb0d78846db079596eabeb'`: This line defines a variable `hash` containing a SHA-256 hash value.\n",
    "\n",
    "2. `import hashlib`: This line imports the `hashlib` module, which provides cryptographic hash functions.\n",
    "\n",
    "3. `h = hashlib.new('sha256')`: This line creates a new SHA-256 hash object.\n",
    "\n",
    "4. `h.update(str(np_range_large).encode('utf-8'))`: This line updates the hash object with the byte representation of the string obtained by converting `np_range_large` to a string using `str()` and encoding it using UTF-8.\n",
    "\n",
    "5. `assert(hash == h.hexdigest())`: This line compares the computed SHA-256 hash value (`h.hexdigest()`) with the predefined hash value (`hash`). If they match, the `assert` statement passes silently. If they don't match, it raises an `AssertionError`.\n",
    "\n",
    "In summary, this code verifies whether the SHA-256 hash of the string representation of the NumPy array `np_range_large` matches a predefined hash value. If they match, it indicates that the array has been serialized correctly."
   ]
  },
  {
   "cell_type": "code",
   "execution_count": 27,
   "id": "8d3cb52d-0255-4580-aaba-14bc2fca633b",
   "metadata": {},
   "outputs": [],
   "source": [
    "hash = '5681936f8523b54ad2d46bf26e0bc6e6bc7379ce84eb0d78846db079596eabeb'\n",
    "import hashlib\n",
    "h = hashlib.new('sha256')\n",
    "h.update(str(np_range_large).encode('utf-8'))\n",
    "assert(hash == h.hexdigest())"
   ]
  },
  {
   "cell_type": "markdown",
   "id": "d850207e-2e65-4be6-9b60-1c33911c40d3",
   "metadata": {},
   "source": [
    "### **Question 4:** From the previous array select the columns 4 and 5 into the variable `np_sub`"
   ]
  },
  {
   "cell_type": "code",
   "execution_count": 51,
   "id": "9797ebf9-c88e-4e5b-b918-51b70c579d06",
   "metadata": {},
   "outputs": [
    {
     "data": {
      "text/plain": [
       "array([[[[ 60,  61],\n",
       "         [ 62,  63],\n",
       "         [ 64,  65],\n",
       "         [ 66,  67],\n",
       "         [ 68,  69],\n",
       "         [ 70,  71],\n",
       "         [ 72,  73],\n",
       "         [ 74,  75],\n",
       "         [ 76,  77],\n",
       "         [ 78,  79]],\n",
       "\n",
       "        [[ 80,  81],\n",
       "         [ 82,  83],\n",
       "         [ 84,  85],\n",
       "         [ 86,  87],\n",
       "         [ 88,  89],\n",
       "         [ 90,  91],\n",
       "         [ 92,  93],\n",
       "         [ 94,  95],\n",
       "         [ 96,  97],\n",
       "         [ 98,  99]]],\n",
       "\n",
       "\n",
       "       [[[160, 161],\n",
       "         [162, 163],\n",
       "         [164, 165],\n",
       "         [166, 167],\n",
       "         [168, 169],\n",
       "         [170, 171],\n",
       "         [172, 173],\n",
       "         [174, 175],\n",
       "         [176, 177],\n",
       "         [178, 179]],\n",
       "\n",
       "        [[180, 181],\n",
       "         [182, 183],\n",
       "         [184, 185],\n",
       "         [186, 187],\n",
       "         [188, 189],\n",
       "         [190, 191],\n",
       "         [192, 193],\n",
       "         [194, 195],\n",
       "         [196, 197],\n",
       "         [198, 199]]]])"
      ]
     },
     "execution_count": 51,
     "metadata": {},
     "output_type": "execute_result"
    }
   ],
   "source": [
    "# Select columns 4 and 5 along the last dimension\n",
    "np_sub = np_range_large[:, 3:5, :, :]\n",
    "\n",
    "np_sub"
   ]
  },
  {
   "cell_type": "code",
   "execution_count": 52,
   "id": "5187f18a-a228-404f-ac5c-735717444270",
   "metadata": {},
   "outputs": [],
   "source": [
    "hash = 'a1d90b458e5c3576b11b280526e27ecf0afa506f0238cf19f44d773f1d98330d'\n",
    "h = hashlib.new('sha256')\n",
    "h.update(str(np_sub).encode('utf-8'))\n",
    "assert(hash == h.hexdigest())"
   ]
  },
  {
   "cell_type": "markdown",
   "id": "51030b96-545b-49af-b04e-4ff3c3b3e6da",
   "metadata": {},
   "source": [
    "### **Question 5:** Let us consider variable $x \\in \\mathbb{R}^{2 \\times 1}$ and $W \\in \\mathbb{R}^{2 \\times 4}$, compute the dot product in $y$ using a loop and the function `np.sum()`. Why the objective of the line 2 (`np.random.seed(42)`)?  What is $W$ in the case of a neural network layer?"
   ]
  },
  {
   "cell_type": "markdown",
   "id": "e26d2a83",
   "metadata": {},
   "source": [
    "- The objective of line 2, np.random.seed(42), is to set the random number generator to a fixed state. This ensures that the random numbers generated by np.random.rand are the same every time you run the code, which is essential for reproducibility of results.\n",
    "\n",
    "- In the context of a neural network layer, W represents the weights of the connections between the neurons of two successive layers. When a dot product is computed between an input vector x and the weight matrix W, it results in a new vector y which can be considered as a transformed version of the input. This transformation is part of what allows neural networks to learn from data. ​"
   ]
  },
  {
   "cell_type": "code",
   "execution_count": 55,
   "id": "68d1bae1-ea1f-448f-999b-737c1c1e0050",
   "metadata": {},
   "outputs": [],
   "source": [
    "np.random.seed(42)\n",
    "\n",
    "x = np.array([2.5, -6.2])\n",
    "W = np.random.rand(2,4)\n",
    "y = np.zeros(4)\n",
    "\n",
    "for i in range(W.shape[1]):  # Loop over the columns of W\n",
    "    y[i] = np.sum(x * W[:, i])  # Multiply x with each column of W and sum the products\n"
   ]
  },
  {
   "cell_type": "code",
   "execution_count": 57,
   "id": "80f38b2f",
   "metadata": {},
   "outputs": [
    {
     "data": {
      "text/plain": [
       "array([ 2.5, -6.2])"
      ]
     },
     "execution_count": 57,
     "metadata": {},
     "output_type": "execute_result"
    }
   ],
   "source": [
    "x"
   ]
  },
  {
   "cell_type": "code",
   "execution_count": 58,
   "id": "dcb60f3b",
   "metadata": {},
   "outputs": [
    {
     "data": {
      "text/plain": [
       "array([[0.37454012, 0.95071431, 0.73199394, 0.59865848],\n",
       "       [0.15601864, 0.15599452, 0.05808361, 0.86617615]])"
      ]
     },
     "execution_count": 58,
     "metadata": {},
     "output_type": "execute_result"
    }
   ],
   "source": [
    "W"
   ]
  },
  {
   "cell_type": "code",
   "execution_count": 61,
   "id": "01e7119f",
   "metadata": {},
   "outputs": [
    {
     "data": {
      "text/plain": [
       "array([-0.03096527,  1.40961974,  1.46986646, -3.87364589])"
      ]
     },
     "execution_count": 61,
     "metadata": {},
     "output_type": "execute_result"
    }
   ],
   "source": [
    "y"
   ]
  },
  {
   "cell_type": "code",
   "execution_count": 56,
   "id": "66a92a4f-480f-4581-acf0-08863d3c25bb",
   "metadata": {},
   "outputs": [],
   "source": [
    "hash = '70145392ec18208eb6aaccc15a752d819f10fa9c3dfcd2515d90acaa4a90b952'\n",
    "h = hashlib.new('sha256')\n",
    "h.update(str(y).encode('utf-8'))\n",
    "assert(hash == h.hexdigest())"
   ]
  },
  {
   "cell_type": "markdown",
   "id": "9ed27e8f-d9d8-4644-bee9-d888bbaf7b38",
   "metadata": {},
   "source": [
    "### **Question 6:** Let us consider variable $X \\in \\mathbb{R}^{10 \\times 2}$, compute the dot product in $Y$ using a loop and the function `np.sum()` and the *Hadamard product* `*` for each line of $X$. "
   ]
  },
  {
   "cell_type": "markdown",
   "id": "7105e89a",
   "metadata": {},
   "source": [
    "The Hadamard product, also known as the element-wise product or Schur product, is an operation that takes two matrices of the same dimensions and produces another matrix where each element $i, j$ is the product of elements $i, j$ of the original two matrices. Mathematically, it is denoted as $A \\circ B$ for two matrices $A$ and $B$ and is defined as:\n",
    "\n",
    "- $(A \\odot B)_{ij}$ = $(A)_{ij} \\cdot (B)_{ij}$\n",
    "\n",
    "If $A$ and $B$ are two matrices of the same size, their Hadamard product is another matrix $C$ of the same size as $A$ and $B$, and each element of $C$ is obtained by multiplying the corresponding elements of $A$ and $B$.\n"
   ]
  },
  {
   "cell_type": "code",
   "execution_count": 64,
   "id": "ebe5354d-b8a8-45f6-988f-872886674b93",
   "metadata": {},
   "outputs": [],
   "source": [
    "np.random.seed(42)\n",
    "\n",
    "X = np.random.rand(10,2)\n",
    "W = np.random.rand(2,4)\n",
    "Y = np.zeros((10,4))\n",
    "\n",
    "# Compute dot product using a loop and np.sum()\n",
    "for i in range(X.shape[0]):  # Loop over the rows of X\n",
    "    for j in range(W.shape[1]):  # Loop over the columns of W\n",
    "        # Compute the Hadamard product for the i-th row of X and all rows of W,\n",
    "        # then sum the results to get the element at (i, j) of Y\n",
    "        Y[i, j] = np.sum(X[i, :] * W[:, j])"
   ]
  },
  {
   "cell_type": "code",
   "execution_count": 65,
   "id": "9ea8b0e1-3602-470f-9b82-8da910af3c55",
   "metadata": {},
   "outputs": [],
   "source": [
    "hash = '2f86a4d2697294307ab0099164c2aeeb4315876b97aba275f73cfac42d345d50'\n",
    "h = hashlib.new('sha256')\n",
    "h.update(str(Y).encode('utf-8'))\n",
    "assert(hash == h.hexdigest())"
   ]
  },
  {
   "cell_type": "markdown",
   "id": "eee7b375-5a1c-4297-9808-e935250eb419",
   "metadata": {},
   "source": [
    "## Exercise 2 : Matrix operation"
   ]
  },
  {
   "cell_type": "markdown",
   "id": "28c1345b",
   "metadata": {},
   "source": [
    "The scalar product as implemented canbe costly, particularly in python where loops are poorly optimized. To this end a majority of algebra like libraries implement matrix operation using a C backend. \n",
    "Numpy also propose matrix operation, particularly it implement the matrix multiplication, the hadamard product and some other optimized matrix operations.\n",
    "\n",
    "### 1. Hadamard product\n",
    "The Hadamard produc given two matrix/tensors $A,B \\in \\mathbb{R}^{n  \\times m}$ is denoted by $\\odot$ where:\n",
    "$$(A\\odot B)_{i,j} = A_{i, j} B_{i,j}$$\n",
    "Thus (with all matrix):\n",
    "$$A \\odot B = \n",
    "\\begin{pmatrix}\n",
    "A_{1,1}B_{1,1} & A_{1,2}B_{1,2} & \\ldots & A_{1,m}B_{1,m} \\\\\n",
    "A_{2,1}B_{2,1} & A_{2,2}B_{2,2} & \\ldots & A_{2,m}B_{2,m} \\\\\n",
    "\\vdots & \\vdots & \\ddots & \\vdots \\\\\n",
    "A_{n,1}B_{n,1} & A_{n,2}B_{n,2} & \\ldots & A_{n,m}B_{n,m} \\\\\n",
    "\\end{pmatrix}\n",
    "$$\n",
    "\n",
    "In numpy this operation is using the classical python multiplication symbol `*`, `A * B` being the Hadamard product of `A` and `B`.\n",
    "\n",
    "### 2. Dot Product \n",
    "The Dot product is two matrix/tensors $A\\in \\mathbb{R}^{n  \\times m}$ and $B \\in \\mathbb{R}^{m  \\times l}$ is denoted by \"$.$\" where:\n",
    "$$(A . B)_{i, j} = \\sum\\limits_{k=1}^{m} A_{i, k} B_{k,j}$$\n",
    "Thus (picturing the whole matrix):\n",
    "$$A . B = \n",
    "\\begin{pmatrix}\n",
    "\\sum\\limits_{k=1}^{m} A_{1, k} B_{k,1} & \\sum\\limits_{k=1}^{m} A_{1, k} B_{k,2} & \\sum\\limits_{k=1}^{m} A_{1, k} B_{k,l}\\\\\n",
    "\\sum\\limits_{k=1}^{m} A_{2, k} B_{k,1} & \\sum\\limits_{k=1}^{m} A_{2, k} B_{k,2} & \\sum\\limits_{k=1}^{m} A_{2, k} B_{k,l} \\\\\n",
    "\\vdots & \\vdots & \\ddots & \\vdots \\\\\n",
    "\\sum\\limits_{k=1}^{m} A_{n, k} B_{k,1} & \\sum\\limits_{k=1}^{m} A_{m, k} B_{k,2} & \\sum\\limits_{k=1}^{m} A_{m, k} B_{k,l} \\\\\n",
    "\\end{pmatrix}\n",
    "$$\n",
    "\n",
    "In numpy this operation is use `@` operator, `A@B` being the dot product of `A` and `B`.\n",
    "\n",
    "### 3. Outer Product (on vectors)\n",
    "The outer product between two vectors $u\\in \\mathbb{R}^{n}$ and $v \\in \\mathbb{R}^{m}$ is denoted by $\\otimes_{outer}$ where:\n",
    "$$(u \\otimes_{outer} v)_{i, j} = u_{i} v_{j}$$\n",
    "Thus (picturing the whole matrix):\n",
    "$$u\\otimes_{outer}v =  \\begin{pmatrix}\n",
    "u_{1} \\\\\n",
    "u_{2}\\\\\n",
    "\\vdots \\\\\n",
    "u_{n}\\\\\n",
    "\\end{pmatrix}\n",
    "\\otimes_{outer}\n",
    "\\begin{pmatrix}\n",
    "v_{1} &v_{2} & \\ldots &v_{m} \\\\\n",
    "\\end{pmatrix} =\n",
    "\\begin{pmatrix}\n",
    "u_{1}v_{1} & u_{1}v_{2} & \\ldots & u_{1}v_{m} \\\\\n",
    "u_{2}v_{1} & u_{2}v_{2} & \\ldots & u_{2}v_{m} \\\\\n",
    "\\vdots & \\vdots & \\ddots & \\vdots \\\\\n",
    "u_{n}v_{1} & u_{n}v_{2} & \\ldots & u_{n}v_{m} \\\\\n",
    "\\end{pmatrix}\n",
    "$$\n",
    "\n",
    "In numpy this operation is implemented with the `np.outer` function.\n",
    "\n"
   ]
  },
  {
   "cell_type": "markdown",
   "id": "160c8713-1e16-4350-b0ba-fbefdf954063",
   "metadata": {},
   "source": [
    "### **Question 1:** Let us consider variable $x \\in \\mathbb{R}^2$ and $W \\in \\mathbb{R}^{2 \\times 4}$, compute $y$ resulting of the linear application (W) on $x$.\n",
    "\n",
    "NB: You can look at the transpose method of numpy"
   ]
  },
  {
   "cell_type": "code",
   "execution_count": 70,
   "id": "7869e13e-3871-471c-b8c2-da189f0099e4",
   "metadata": {},
   "outputs": [],
   "source": [
    "np.random.seed(42)\n",
    "\n",
    "x = np.array([2.5, -6.2])\n",
    "W = np.random.rand(2,4)\n",
    "\n",
    "# Option 1: Compute y as the result of the linear application (W) on x\n",
    "y = x.T.dot(W)\n",
    "\n",
    "# Option 2: Compute y as the result of the linear application (W) on x\n",
    "y = x.T @ W\n",
    "\n"
   ]
  },
  {
   "cell_type": "code",
   "execution_count": 71,
   "id": "b8e0f473-771a-4081-9df6-383f66f40831",
   "metadata": {},
   "outputs": [],
   "source": [
    "hash = '70145392ec18208eb6aaccc15a752d819f10fa9c3dfcd2515d90acaa4a90b952'\n",
    "h = hashlib.new('sha256')\n",
    "h.update(str(y).encode('utf-8'))\n",
    "assert(hash == h.hexdigest())"
   ]
  },
  {
   "cell_type": "markdown",
   "id": "8ea5f132-db14-4020-981b-3a499bbd8a47",
   "metadata": {},
   "source": [
    "### **Question 2:** Let us consider variable $X \\in \\mathbb{R}^{10 \\times 2}$, compute the dot product  for each line of $X$ with $W$ into $Y$ with only one loop!"
   ]
  },
  {
   "cell_type": "code",
   "execution_count": 72,
   "id": "28430f3b-badd-439f-a404-cd9b39aa5548",
   "metadata": {},
   "outputs": [],
   "source": [
    "np.random.seed(42)\n",
    "\n",
    "X = np.random.rand(10,2)\n",
    "W = np.random.rand(2,4)\n",
    "Y = np.zeros((10,4))"
   ]
  },
  {
   "cell_type": "code",
   "execution_count": 73,
   "id": "d3e3ed96",
   "metadata": {},
   "outputs": [
    {
     "data": {
      "text/plain": [
       "array([[0.37454012, 0.95071431],\n",
       "       [0.73199394, 0.59865848],\n",
       "       [0.15601864, 0.15599452],\n",
       "       [0.05808361, 0.86617615],\n",
       "       [0.60111501, 0.70807258],\n",
       "       [0.02058449, 0.96990985],\n",
       "       [0.83244264, 0.21233911],\n",
       "       [0.18182497, 0.18340451],\n",
       "       [0.30424224, 0.52475643],\n",
       "       [0.43194502, 0.29122914]])"
      ]
     },
     "execution_count": 73,
     "metadata": {},
     "output_type": "execute_result"
    }
   ],
   "source": [
    "X"
   ]
  },
  {
   "cell_type": "code",
   "execution_count": 74,
   "id": "85ad7625",
   "metadata": {},
   "outputs": [
    {
     "data": {
      "text/plain": [
       "array([[0.61185289, 0.13949386, 0.29214465, 0.36636184],\n",
       "       [0.45606998, 0.78517596, 0.19967378, 0.51423444]])"
      ]
     },
     "execution_count": 74,
     "metadata": {},
     "output_type": "execute_result"
    }
   ],
   "source": [
    "W"
   ]
  },
  {
   "cell_type": "code",
   "execution_count": 80,
   "id": "a7ee0ff7",
   "metadata": {},
   "outputs": [
    {
     "data": {
      "text/plain": [
       "array([[0.66275571, 0.79872407, 0.29925261, 0.62610725],\n",
       "       [0.72090278, 0.57216091, 0.33338452, 0.57602546],\n",
       "       [0.16660488, 0.14424679, 0.07672803, 0.13737703],\n",
       "       [0.43057557, 0.688203  , 0.18992148, 0.46669722],\n",
       "       [0.69072461, 0.63981342, 0.31699606, 0.58434091],\n",
       "       [0.45494145, 0.76442131, 0.19967922, 0.50630242],\n",
       "       [0.60617393, 0.2828442 , 0.28559222, 0.4141673 ],\n",
       "       [0.19489542, 0.16936828, 0.08974026, 0.16092665],\n",
       "       [0.42547715, 0.45446606, 0.19366284, 0.38131058],\n",
       "       [0.39710768, 0.2889198 , 0.18434125, 0.30800823]])"
      ]
     },
     "execution_count": 80,
     "metadata": {},
     "output_type": "execute_result"
    }
   ],
   "source": [
    "for i in range(X.shape[0]):\n",
    "    Y[i] = X[i].dot(W)\n",
    "Y"
   ]
  },
  {
   "cell_type": "markdown",
   "id": "f79a918e-bf1c-44d6-b1b9-b9cdbfb20433",
   "metadata": {},
   "source": [
    "### **Question 3:** Let us consider variable $X \\in \\mathbb{R}^{10 \\times 2}$, compute the dot of $X$ with $W$ into $Y$ with no loop!"
   ]
  },
  {
   "cell_type": "code",
   "execution_count": 77,
   "id": "918de122-41e7-403b-93a5-a28113967e64",
   "metadata": {},
   "outputs": [
    {
     "data": {
      "text/plain": [
       "array([[0.66275571, 0.79872407, 0.29925261, 0.62610725],\n",
       "       [0.72090278, 0.57216091, 0.33338452, 0.57602546],\n",
       "       [0.16660488, 0.14424679, 0.07672803, 0.13737703],\n",
       "       [0.43057557, 0.688203  , 0.18992148, 0.46669722],\n",
       "       [0.69072461, 0.63981342, 0.31699606, 0.58434091],\n",
       "       [0.45494145, 0.76442131, 0.19967922, 0.50630242],\n",
       "       [0.60617393, 0.2828442 , 0.28559222, 0.4141673 ],\n",
       "       [0.19489542, 0.16936828, 0.08974026, 0.16092665],\n",
       "       [0.42547715, 0.45446606, 0.19366284, 0.38131058],\n",
       "       [0.39710768, 0.2889198 , 0.18434125, 0.30800823]])"
      ]
     },
     "execution_count": 77,
     "metadata": {},
     "output_type": "execute_result"
    }
   ],
   "source": [
    "Y = X @ W\n",
    "Y"
   ]
  },
  {
   "cell_type": "markdown",
   "id": "6b12aefb-a7bf-4ea4-a01d-ecaf9ca059ce",
   "metadata": {},
   "source": [
    "## Exercise 3 : Apply a function\n",
    "\n",
    "Numpy propose a large amount of [built-in functions](https://numpy.org/doc/stable/reference/routines.math.html) e.g. cosinus, tanh... By default those functions are applired piecewise. \n",
    "\n",
    "### **Question 1:** In this exercise the objective is to build a function $\\mathcal{f} : \\mathbb{R}^n \\to ]0,1[$ such that \n",
    "\n",
    "$$\n",
    "\\mathcal{f}(x) = \\frac{1}{1 + e^{-(w^{\\intercal}x + b)}}\n",
    "$$\n",
    "\n",
    "With $w \\in \\mathbb{R}^{n}$, $x\\in \\mathbb{R}^{n}$ and $b \\in \\mathbb{R}$.\n",
    "Create an object having as attribute $w$ and $b$ implementing the function in a method called forward"
   ]
  },
  {
   "cell_type": "code",
   "execution_count": 92,
   "id": "874c4308-1823-4079-bb00-c086bf0b9e5f",
   "metadata": {},
   "outputs": [],
   "source": [
    "import random\n",
    "class LinearClassifier(object):\n",
    "    def __init__(self, dim=5):\n",
    "        self.w = np.random.rand((dim))\n",
    "        self.b = random.random()\n",
    "    \n",
    "    def forward(self, x):\n",
    "        # Calculate the linear combination of weights and input, plus bias\n",
    "        linear_combination = np.dot(self.w, x) + self.b\n",
    "        # Apply the sigmoid function\n",
    "        return 1 / (1 + np.exp(-linear_combination))      \n",
    "\n",
    "dim = 5\n",
    "x = np.random.rand((5))\n",
    "classifier = LinearClassifier(dim)\n",
    "f_x = classifier.forward(x)"
   ]
  },
  {
   "cell_type": "code",
   "execution_count": 93,
   "id": "d011cdc3",
   "metadata": {},
   "outputs": [
    {
     "data": {
      "text/plain": [
       "0.927437000169336"
      ]
     },
     "execution_count": 93,
     "metadata": {},
     "output_type": "execute_result"
    }
   ],
   "source": [
    "f_x"
   ]
  },
  {
   "cell_type": "markdown",
   "id": "b783941b-7568-4aac-b2a9-bd8c5677b2aa",
   "metadata": {},
   "source": [
    "### **Question 2:** In this exercise the objective is to build a function $\\mathcal{g} : \\mathbb{R} \\times \\mathbb{R} \\to \\mathbb{R}$ such that \n",
    "$$\n",
    "\\mathcal{g}(x, y) = -(ylog(x) + (1-y) log(1-x))\n",
    "$$\n",
    "Create an object implementing the function in a method called forward"
   ]
  },
  {
   "cell_type": "code",
   "execution_count": 94,
   "id": "9fb940f0-54d5-427b-955d-116a42084215",
   "metadata": {},
   "outputs": [],
   "source": [
    "\n",
    "class CrossEntropy(object):\n",
    "    def __init__(self):\n",
    "        pass\n",
    "    \n",
    "    def forward(self, x, y):\n",
    "        return -(y * np.log(x) + (1-y) * np.log(1-x))   "
   ]
  }
 ],
 "metadata": {
  "kernelspec": {
   "display_name": "Python 3 (ipykernel)",
   "language": "python",
   "name": "python3"
  },
  "language_info": {
   "codemirror_mode": {
    "name": "ipython",
    "version": 3
   },
   "file_extension": ".py",
   "mimetype": "text/x-python",
   "name": "python",
   "nbconvert_exporter": "python",
   "pygments_lexer": "ipython3",
   "version": "3.10.8"
  }
 },
 "nbformat": 4,
 "nbformat_minor": 5
}
