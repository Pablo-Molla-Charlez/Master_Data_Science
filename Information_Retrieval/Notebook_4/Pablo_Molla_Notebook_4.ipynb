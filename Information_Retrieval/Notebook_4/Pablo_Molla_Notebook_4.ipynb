{
 "cells": [
  {
   "attachments": {},
   "cell_type": "markdown",
   "id": "32e02f0b-7db2-4aa4-897c-55c388331127",
   "metadata": {},
   "source": [
    "# Information Retrieval - Notebook 4"
   ]
  },
  {
   "cell_type": "markdown",
   "id": "1ed14d6b",
   "metadata": {},
   "source": [
    "## Requirements"
   ]
  },
  {
   "cell_type": "code",
   "execution_count": 1,
   "id": "c2e54178-39dc-4056-b037-9b486a7bdaa2",
   "metadata": {},
   "outputs": [],
   "source": [
    "# !pip install rank_bm25 spacy Sense2Vec\n",
    "# !wget https://github.com/explosion/sense2vec/releases/download/v1.0.0/s2v_reddit_2015_md.tar.gz\n",
    "import re\n",
    "import numpy as np\n",
    "import matplotlib.pyplot as plt\n",
    "import pandas as pd\n",
    "import seaborn as sns\n",
    "from collections import Counter\n",
    "from tqdm.notebook import tqdm\n",
    "from sklearn.feature_extraction.text import CountVectorizer, TfidfVectorizer\n",
    "# from rank_bm25 import BM25Okapi\n",
    "# import spacy\n",
    "# from sense2vec import Sense2Vec\n",
    "tqdm.pandas()"
   ]
  },
  {
   "cell_type": "code",
   "execution_count": 2,
   "id": "d8e3a30e-23d6-459c-a8e3-6d05acd4c131",
   "metadata": {},
   "outputs": [
    {
     "name": "stdout",
     "output_type": "stream",
     "text": [
      "time: 235 µs (started: 2024-04-04 21:03:07 +02:00)\n"
     ]
    }
   ],
   "source": [
    "# this turns on the autotimer, so that every cell has a timing information below\n",
    "try:\n",
    "    %load_ext autotime\n",
    "except:\n",
    "    !pip install ipython-autotime\n",
    "    %load_ext autotime\n",
    "# stop using:\n",
    "# %unload_ext autotime"
   ]
  },
  {
   "cell_type": "markdown",
   "id": "a2bfcff9-6ea6-43f1-b638-fa581802e3fd",
   "metadata": {},
   "source": [
    "## Simplifying the data + writing it into a file"
   ]
  },
  {
   "cell_type": "code",
   "execution_count": null,
   "id": "6d35e771-f5aa-4a17-9a25-46178bd8bb5a",
   "metadata": {},
   "outputs": [],
   "source": [
    "#origdocs = pd.read_csv('our.msmarco.docs.tsv',sep='\\t',usecols=[1,2,3])\n",
    "#origdocs['title'].fillna('-', inplace=True)\n",
    "#origdocs['body'].fillna('-', inplace=True)\n",
    "#origdocs"
   ]
  },
  {
   "cell_type": "code",
   "execution_count": null,
   "id": "4da4b24c-339a-4e77-99ab-e28d9f37d45f",
   "metadata": {},
   "outputs": [],
   "source": [
    "#ourdocs = pd.DataFrame(columns = ['docid', 'text'])\n",
    "#ourdocs['docid']=origdocs.docid\n",
    "#ourdocs['text']=origdocs.title+' '+origdocs.body\n",
    "#ourdocs"
   ]
  },
  {
   "cell_type": "code",
   "execution_count": 7,
   "id": "2a421945-a320-4b52-88be-fc9cff2b64f1",
   "metadata": {},
   "outputs": [
    {
     "name": "stdout",
     "output_type": "stream",
     "text": [
      "time: 185 µs (started: 2024-03-27 23:55:50 +01:00)\n"
     ]
    }
   ],
   "source": [
    "#del origdocs # saving memory"
   ]
  },
  {
   "cell_type": "code",
   "execution_count": 3,
   "id": "a54ed965-233b-4400-9cbf-59d4613ced30",
   "metadata": {},
   "outputs": [
    {
     "name": "stdout",
     "output_type": "stream",
     "text": [
      "time: 12.6 s (started: 2024-04-04 21:03:17 +02:00)\n"
     ]
    }
   ],
   "source": [
    "# ~ 30 seconds\n",
    "ourdocs = pd.read_csv('/bigstorage/pavlo/testing/our.text.msmarco.docs_2.tsv',sep='\\t', usecols=['docid','text'])"
   ]
  },
  {
   "cell_type": "code",
   "execution_count": 4,
   "id": "fb540af1",
   "metadata": {},
   "outputs": [
    {
     "data": {
      "text/html": [
       "<div>\n",
       "<style scoped>\n",
       "    .dataframe tbody tr th:only-of-type {\n",
       "        vertical-align: middle;\n",
       "    }\n",
       "\n",
       "    .dataframe tbody tr th {\n",
       "        vertical-align: top;\n",
       "    }\n",
       "\n",
       "    .dataframe thead th {\n",
       "        text-align: right;\n",
       "    }\n",
       "</style>\n",
       "<table border=\"1\" class=\"dataframe\">\n",
       "  <thead>\n",
       "    <tr style=\"text-align: right;\">\n",
       "      <th></th>\n",
       "      <th>docid</th>\n",
       "      <th>text</th>\n",
       "    </tr>\n",
       "  </thead>\n",
       "  <tbody>\n",
       "    <tr>\n",
       "      <th>0</th>\n",
       "      <td>D2981241</td>\n",
       "      <td>What do you call a group of lions? Lions Vocab...</td>\n",
       "    </tr>\n",
       "    <tr>\n",
       "      <th>1</th>\n",
       "      <td>D687756</td>\n",
       "      <td>. The A Priori Argument ( also, Rationalizatio...</td>\n",
       "    </tr>\n",
       "    <tr>\n",
       "      <th>2</th>\n",
       "      <td>D913099</td>\n",
       "      <td>Everything You Need To Learn How To Cook Veget...</td>\n",
       "    </tr>\n",
       "    <tr>\n",
       "      <th>3</th>\n",
       "      <td>D328017</td>\n",
       "      <td>What is the difference between latitude, longi...</td>\n",
       "    </tr>\n",
       "    <tr>\n",
       "      <th>4</th>\n",
       "      <td>D1636347</td>\n",
       "      <td>When was the pulley invented? Answers.com ® Wi...</td>\n",
       "    </tr>\n",
       "    <tr>\n",
       "      <th>...</th>\n",
       "      <td>...</td>\n",
       "      <td>...</td>\n",
       "    </tr>\n",
       "    <tr>\n",
       "      <th>92560</th>\n",
       "      <td>D3379210</td>\n",
       "      <td>Top 39 Doctor insights on: Can An Iud Cause Ha...</td>\n",
       "    </tr>\n",
       "    <tr>\n",
       "      <th>92561</th>\n",
       "      <td>D3068739</td>\n",
       "      <td>How to get back your DirecTV cancellation fees...</td>\n",
       "    </tr>\n",
       "    <tr>\n",
       "      <th>92562</th>\n",
       "      <td>D1590402</td>\n",
       "      <td>Certification FAQs Fingerprinting 1. Where can...</td>\n",
       "    </tr>\n",
       "    <tr>\n",
       "      <th>92563</th>\n",
       "      <td>D2175490</td>\n",
       "      <td>Greenhouse gas emissions by Canadian economic ...</td>\n",
       "    </tr>\n",
       "    <tr>\n",
       "      <th>92564</th>\n",
       "      <td>D2580062</td>\n",
       "      <td>QuickBooks Bill Pay Quick Books Bill Pay Simpl...</td>\n",
       "    </tr>\n",
       "  </tbody>\n",
       "</table>\n",
       "<p>92565 rows × 2 columns</p>\n",
       "</div>"
      ],
      "text/plain": [
       "          docid                                               text\n",
       "0      D2981241  What do you call a group of lions? Lions Vocab...\n",
       "1       D687756  . The A Priori Argument ( also, Rationalizatio...\n",
       "2       D913099  Everything You Need To Learn How To Cook Veget...\n",
       "3       D328017  What is the difference between latitude, longi...\n",
       "4      D1636347  When was the pulley invented? Answers.com ® Wi...\n",
       "...         ...                                                ...\n",
       "92560  D3379210  Top 39 Doctor insights on: Can An Iud Cause Ha...\n",
       "92561  D3068739  How to get back your DirecTV cancellation fees...\n",
       "92562  D1590402  Certification FAQs Fingerprinting 1. Where can...\n",
       "92563  D2175490  Greenhouse gas emissions by Canadian economic ...\n",
       "92564  D2580062  QuickBooks Bill Pay Quick Books Bill Pay Simpl...\n",
       "\n",
       "[92565 rows x 2 columns]"
      ]
     },
     "execution_count": 4,
     "metadata": {},
     "output_type": "execute_result"
    },
    {
     "name": "stdout",
     "output_type": "stream",
     "text": [
      "time: 11.2 ms (started: 2024-04-04 21:03:31 +02:00)\n"
     ]
    }
   ],
   "source": [
    "ourdocs"
   ]
  },
  {
   "cell_type": "markdown",
   "id": "56569da6",
   "metadata": {},
   "source": [
    "## Vectorize"
   ]
  },
  {
   "cell_type": "code",
   "execution_count": 5,
   "id": "7961879c",
   "metadata": {},
   "outputs": [
    {
     "name": "stdout",
     "output_type": "stream",
     "text": [
      "Vectorization is done (92565, 2067446)\n",
      "time: 3min 27s (started: 2024-04-04 21:03:35 +02:00)\n"
     ]
    }
   ],
   "source": [
    "# Long: takes > 3min\n",
    "vectorizer = TfidfVectorizer(sublinear_tf=True, strip_accents='unicode')\n",
    "X = vectorizer.fit_transform(ourdocs.text)\n",
    "print('Vectorization is done', X.shape)"
   ]
  },
  {
   "cell_type": "code",
   "execution_count": 7,
   "id": "4405cf3e",
   "metadata": {},
   "outputs": [
    {
     "data": {
      "text/html": [
       "<div>\n",
       "<style scoped>\n",
       "    .dataframe tbody tr th:only-of-type {\n",
       "        vertical-align: middle;\n",
       "    }\n",
       "\n",
       "    .dataframe tbody tr th {\n",
       "        vertical-align: top;\n",
       "    }\n",
       "\n",
       "    .dataframe thead th {\n",
       "        text-align: right;\n",
       "    }\n",
       "</style>\n",
       "<table border=\"1\" class=\"dataframe\">\n",
       "  <thead>\n",
       "    <tr style=\"text-align: right;\">\n",
       "      <th></th>\n",
       "      <th>qid</th>\n",
       "      <th>query</th>\n",
       "    </tr>\n",
       "  </thead>\n",
       "  <tbody>\n",
       "    <tr>\n",
       "      <th>0</th>\n",
       "      <td>687888</td>\n",
       "      <td>what is a jpe</td>\n",
       "    </tr>\n",
       "    <tr>\n",
       "      <th>1</th>\n",
       "      <td>480210</td>\n",
       "      <td>price for asphalt driveway</td>\n",
       "    </tr>\n",
       "    <tr>\n",
       "      <th>2</th>\n",
       "      <td>591004</td>\n",
       "      <td>what causes pressure skin bruising</td>\n",
       "    </tr>\n",
       "    <tr>\n",
       "      <th>3</th>\n",
       "      <td>260536</td>\n",
       "      <td>how long drive from flagstaff to grand canyon</td>\n",
       "    </tr>\n",
       "    <tr>\n",
       "      <th>4</th>\n",
       "      <td>39422</td>\n",
       "      <td>average number of bowel movements per day for ...</td>\n",
       "    </tr>\n",
       "    <tr>\n",
       "      <th>...</th>\n",
       "      <td>...</td>\n",
       "      <td>...</td>\n",
       "    </tr>\n",
       "    <tr>\n",
       "      <th>495</th>\n",
       "      <td>133970</td>\n",
       "      <td>definition of dietary fiber</td>\n",
       "    </tr>\n",
       "    <tr>\n",
       "      <th>496</th>\n",
       "      <td>79788</td>\n",
       "      <td>can you start up a video record?</td>\n",
       "    </tr>\n",
       "    <tr>\n",
       "      <th>497</th>\n",
       "      <td>791583</td>\n",
       "      <td>what is rheumatoid spondylosis</td>\n",
       "    </tr>\n",
       "    <tr>\n",
       "      <th>498</th>\n",
       "      <td>732078</td>\n",
       "      <td>what is coleman fuel made out of</td>\n",
       "    </tr>\n",
       "    <tr>\n",
       "      <th>499</th>\n",
       "      <td>197098</td>\n",
       "      <td>greyhound phone number in sacramento ca</td>\n",
       "    </tr>\n",
       "  </tbody>\n",
       "</table>\n",
       "<p>500 rows × 2 columns</p>\n",
       "</div>"
      ],
      "text/plain": [
       "        qid                                              query\n",
       "0    687888                                      what is a jpe\n",
       "1    480210                         price for asphalt driveway\n",
       "2    591004                 what causes pressure skin bruising\n",
       "3    260536      how long drive from flagstaff to grand canyon\n",
       "4     39422  average number of bowel movements per day for ...\n",
       "..      ...                                                ...\n",
       "495  133970                        definition of dietary fiber\n",
       "496   79788                   can you start up a video record?\n",
       "497  791583                     what is rheumatoid spondylosis\n",
       "498  732078                   what is coleman fuel made out of\n",
       "499  197098            greyhound phone number in sacramento ca\n",
       "\n",
       "[500 rows x 2 columns]"
      ]
     },
     "execution_count": 7,
     "metadata": {},
     "output_type": "execute_result"
    },
    {
     "name": "stdout",
     "output_type": "stream",
     "text": [
      "time: 11.5 ms (started: 2024-04-04 21:07:46 +02:00)\n"
     ]
    }
   ],
   "source": [
    "queries = pd.read_csv('/bigstorage/pavlo/testing/our.msmarco.queries.tsv',sep='\\t',usecols=[1,2]) \n",
    "training_queries=queries.iloc[:500]\n",
    "testing_queries=queries.iloc[500:]\n",
    "training_queries"
   ]
  },
  {
   "cell_type": "code",
   "execution_count": 8,
   "id": "35c33099",
   "metadata": {},
   "outputs": [
    {
     "data": {
      "text/plain": [
       "(500, 2067446)"
      ]
     },
     "execution_count": 8,
     "metadata": {},
     "output_type": "execute_result"
    },
    {
     "name": "stdout",
     "output_type": "stream",
     "text": [
      "time: 77.2 ms (started: 2024-04-04 21:07:54 +02:00)\n"
     ]
    }
   ],
   "source": [
    "train_qvs = vectorizer.transform(training_queries['query'])\n",
    "test_qvs = vectorizer.transform(testing_queries['query'])\n",
    "train_qvs.shape"
   ]
  },
  {
   "cell_type": "markdown",
   "id": "46f5b81f",
   "metadata": {},
   "source": [
    "### 🚧 Todo:\n",
    "\n",
    "- What happens for words that are in a query and not in the documents?\n",
    "\n",
    "If they are not present in the learned vocabulary (based on the documents) then they won't be represented in the resulting document-term matrix.\n",
    "\n",
    "- Why did we use $transform$ and not $fit_transform$?\n",
    "\n",
    "We used $fit_transform$ on the docs and the corresponding document-term matrix was created alongside with the learned weights. As we have already learned the weights, we can apply directly $transform$ to the training and testing queries."
   ]
  },
  {
   "cell_type": "code",
   "execution_count": 9,
   "id": "fc23f2da",
   "metadata": {},
   "outputs": [
    {
     "data": {
      "text/plain": [
       "(1, 2067446)"
      ]
     },
     "execution_count": 9,
     "metadata": {},
     "output_type": "execute_result"
    },
    {
     "name": "stdout",
     "output_type": "stream",
     "text": [
      "time: 5.51 ms (started: 2024-04-04 21:13:41 +02:00)\n"
     ]
    }
   ],
   "source": [
    "train_qvs[0].shape"
   ]
  },
  {
   "cell_type": "code",
   "execution_count": 11,
   "id": "7aa83278",
   "metadata": {},
   "outputs": [
    {
     "data": {
      "text/html": [
       "<div>\n",
       "<style scoped>\n",
       "    .dataframe tbody tr th:only-of-type {\n",
       "        vertical-align: middle;\n",
       "    }\n",
       "\n",
       "    .dataframe tbody tr th {\n",
       "        vertical-align: top;\n",
       "    }\n",
       "\n",
       "    .dataframe thead th {\n",
       "        text-align: right;\n",
       "    }\n",
       "</style>\n",
       "<table border=\"1\" class=\"dataframe\">\n",
       "  <thead>\n",
       "    <tr style=\"text-align: right;\">\n",
       "      <th></th>\n",
       "      <th>qid</th>\n",
       "      <th>docid</th>\n",
       "      <th>rank</th>\n",
       "      <th>score</th>\n",
       "    </tr>\n",
       "  </thead>\n",
       "  <tbody>\n",
       "    <tr>\n",
       "      <th>0</th>\n",
       "      <td>310290</td>\n",
       "      <td>D579750</td>\n",
       "      <td>1</td>\n",
       "      <td>-5.11498</td>\n",
       "    </tr>\n",
       "    <tr>\n",
       "      <th>1</th>\n",
       "      <td>310290</td>\n",
       "      <td>D579754</td>\n",
       "      <td>2</td>\n",
       "      <td>-5.57703</td>\n",
       "    </tr>\n",
       "    <tr>\n",
       "      <th>2</th>\n",
       "      <td>310290</td>\n",
       "      <td>D2380815</td>\n",
       "      <td>3</td>\n",
       "      <td>-5.84852</td>\n",
       "    </tr>\n",
       "    <tr>\n",
       "      <th>3</th>\n",
       "      <td>310290</td>\n",
       "      <td>D822566</td>\n",
       "      <td>4</td>\n",
       "      <td>-5.95002</td>\n",
       "    </tr>\n",
       "    <tr>\n",
       "      <th>4</th>\n",
       "      <td>310290</td>\n",
       "      <td>D2249695</td>\n",
       "      <td>5</td>\n",
       "      <td>-6.08326</td>\n",
       "    </tr>\n",
       "    <tr>\n",
       "      <th>...</th>\n",
       "      <td>...</td>\n",
       "      <td>...</td>\n",
       "      <td>...</td>\n",
       "      <td>...</td>\n",
       "    </tr>\n",
       "    <tr>\n",
       "      <th>99995</th>\n",
       "      <td>257942</td>\n",
       "      <td>D253854</td>\n",
       "      <td>96</td>\n",
       "      <td>-6.32693</td>\n",
       "    </tr>\n",
       "    <tr>\n",
       "      <th>99996</th>\n",
       "      <td>257942</td>\n",
       "      <td>D3056621</td>\n",
       "      <td>97</td>\n",
       "      <td>-6.32837</td>\n",
       "    </tr>\n",
       "    <tr>\n",
       "      <th>99997</th>\n",
       "      <td>257942</td>\n",
       "      <td>D1323491</td>\n",
       "      <td>98</td>\n",
       "      <td>-6.32871</td>\n",
       "    </tr>\n",
       "    <tr>\n",
       "      <th>99998</th>\n",
       "      <td>257942</td>\n",
       "      <td>D2722485</td>\n",
       "      <td>99</td>\n",
       "      <td>-6.33100</td>\n",
       "    </tr>\n",
       "    <tr>\n",
       "      <th>99999</th>\n",
       "      <td>257942</td>\n",
       "      <td>D2339077</td>\n",
       "      <td>100</td>\n",
       "      <td>-6.33441</td>\n",
       "    </tr>\n",
       "  </tbody>\n",
       "</table>\n",
       "<p>100000 rows × 4 columns</p>\n",
       "</div>"
      ],
      "text/plain": [
       "          qid     docid  rank    score\n",
       "0      310290   D579750     1 -5.11498\n",
       "1      310290   D579754     2 -5.57703\n",
       "2      310290  D2380815     3 -5.84852\n",
       "3      310290   D822566     4 -5.95002\n",
       "4      310290  D2249695     5 -6.08326\n",
       "...       ...       ...   ...      ...\n",
       "99995  257942   D253854    96 -6.32693\n",
       "99996  257942  D3056621    97 -6.32837\n",
       "99997  257942  D1323491    98 -6.32871\n",
       "99998  257942  D2722485    99 -6.33100\n",
       "99999  257942  D2339077   100 -6.33441\n",
       "\n",
       "[100000 rows x 4 columns]"
      ]
     },
     "execution_count": 11,
     "metadata": {},
     "output_type": "execute_result"
    },
    {
     "name": "stdout",
     "output_type": "stream",
     "text": [
      "time: 110 ms (started: 2024-04-04 21:13:48 +02:00)\n"
     ]
    }
   ],
   "source": [
    "gold = pd.read_csv('/bigstorage/pavlo/testing/our.msmarco.gold.tsv',sep='\\t',usecols=[1,3,4,5])\n",
    "gold"
   ]
  },
  {
   "cell_type": "markdown",
   "id": "364587bf",
   "metadata": {},
   "source": [
    "## Scores"
   ]
  },
  {
   "cell_type": "code",
   "execution_count": 12,
   "id": "31561c38",
   "metadata": {},
   "outputs": [
    {
     "data": {
      "text/html": [
       "<div>\n",
       "<style scoped>\n",
       "    .dataframe tbody tr th:only-of-type {\n",
       "        vertical-align: middle;\n",
       "    }\n",
       "\n",
       "    .dataframe tbody tr th {\n",
       "        vertical-align: top;\n",
       "    }\n",
       "\n",
       "    .dataframe thead th {\n",
       "        text-align: right;\n",
       "    }\n",
       "</style>\n",
       "<table border=\"1\" class=\"dataframe\">\n",
       "  <thead>\n",
       "    <tr style=\"text-align: right;\">\n",
       "      <th></th>\n",
       "      <th>qid</th>\n",
       "      <th>docid</th>\n",
       "      <th>rank</th>\n",
       "      <th>score</th>\n",
       "    </tr>\n",
       "  </thead>\n",
       "  <tbody>\n",
       "    <tr>\n",
       "      <th>99900</th>\n",
       "      <td>257942</td>\n",
       "      <td>D1451841</td>\n",
       "      <td>1</td>\n",
       "      <td>-5.66844</td>\n",
       "    </tr>\n",
       "    <tr>\n",
       "      <th>99901</th>\n",
       "      <td>257942</td>\n",
       "      <td>D1361861</td>\n",
       "      <td>2</td>\n",
       "      <td>-5.75280</td>\n",
       "    </tr>\n",
       "    <tr>\n",
       "      <th>99902</th>\n",
       "      <td>257942</td>\n",
       "      <td>D2627169</td>\n",
       "      <td>3</td>\n",
       "      <td>-5.76717</td>\n",
       "    </tr>\n",
       "    <tr>\n",
       "      <th>99903</th>\n",
       "      <td>257942</td>\n",
       "      <td>D3074165</td>\n",
       "      <td>4</td>\n",
       "      <td>-5.86465</td>\n",
       "    </tr>\n",
       "    <tr>\n",
       "      <th>99904</th>\n",
       "      <td>257942</td>\n",
       "      <td>D1361864</td>\n",
       "      <td>5</td>\n",
       "      <td>-5.95433</td>\n",
       "    </tr>\n",
       "    <tr>\n",
       "      <th>...</th>\n",
       "      <td>...</td>\n",
       "      <td>...</td>\n",
       "      <td>...</td>\n",
       "      <td>...</td>\n",
       "    </tr>\n",
       "    <tr>\n",
       "      <th>99995</th>\n",
       "      <td>257942</td>\n",
       "      <td>D253854</td>\n",
       "      <td>96</td>\n",
       "      <td>-6.32693</td>\n",
       "    </tr>\n",
       "    <tr>\n",
       "      <th>99996</th>\n",
       "      <td>257942</td>\n",
       "      <td>D3056621</td>\n",
       "      <td>97</td>\n",
       "      <td>-6.32837</td>\n",
       "    </tr>\n",
       "    <tr>\n",
       "      <th>99997</th>\n",
       "      <td>257942</td>\n",
       "      <td>D1323491</td>\n",
       "      <td>98</td>\n",
       "      <td>-6.32871</td>\n",
       "    </tr>\n",
       "    <tr>\n",
       "      <th>99998</th>\n",
       "      <td>257942</td>\n",
       "      <td>D2722485</td>\n",
       "      <td>99</td>\n",
       "      <td>-6.33100</td>\n",
       "    </tr>\n",
       "    <tr>\n",
       "      <th>99999</th>\n",
       "      <td>257942</td>\n",
       "      <td>D2339077</td>\n",
       "      <td>100</td>\n",
       "      <td>-6.33441</td>\n",
       "    </tr>\n",
       "  </tbody>\n",
       "</table>\n",
       "<p>100 rows × 4 columns</p>\n",
       "</div>"
      ],
      "text/plain": [
       "          qid     docid  rank    score\n",
       "99900  257942  D1451841     1 -5.66844\n",
       "99901  257942  D1361861     2 -5.75280\n",
       "99902  257942  D2627169     3 -5.76717\n",
       "99903  257942  D3074165     4 -5.86465\n",
       "99904  257942  D1361864     5 -5.95433\n",
       "...       ...       ...   ...      ...\n",
       "99995  257942   D253854    96 -6.32693\n",
       "99996  257942  D3056621    97 -6.32837\n",
       "99997  257942  D1323491    98 -6.32871\n",
       "99998  257942  D2722485    99 -6.33100\n",
       "99999  257942  D2339077   100 -6.33441\n",
       "\n",
       "[100 rows x 4 columns]"
      ]
     },
     "execution_count": 12,
     "metadata": {},
     "output_type": "execute_result"
    },
    {
     "name": "stdout",
     "output_type": "stream",
     "text": [
      "time: 15.3 ms (started: 2024-04-04 21:17:42 +02:00)\n"
     ]
    }
   ],
   "source": [
    "qid = 257942\n",
    "# understanding the score column:\n",
    "gold[(gold.qid==qid)]"
   ]
  },
  {
   "cell_type": "code",
   "execution_count": 13,
   "id": "17907242",
   "metadata": {},
   "outputs": [
    {
     "data": {
      "text/plain": [
       "99900    D1451841\n",
       "99901    D1361861\n",
       "99902    D2627169\n",
       "99903    D3074165\n",
       "99904    D1361864\n",
       "99905    D2531901\n",
       "99906    D1624776\n",
       "99907    D2926659\n",
       "99908    D1805809\n",
       "99909     D885919\n",
       "Name: docid, dtype: object"
      ]
     },
     "execution_count": 13,
     "metadata": {},
     "output_type": "execute_result"
    },
    {
     "name": "stdout",
     "output_type": "stream",
     "text": [
      "time: 10.7 ms (started: 2024-04-04 21:17:50 +02:00)\n"
     ]
    }
   ],
   "source": [
    "# getting the top 10 documents for each query\n",
    "qgold = gold[(gold.qid==qid) & (gold['rank']<=10)].docid\n",
    "qgold"
   ]
  },
  {
   "cell_type": "code",
   "execution_count": 14,
   "id": "4723a226",
   "metadata": {},
   "outputs": [
    {
     "data": {
      "text/plain": [
       "99900   -5.66844\n",
       "Name: score, dtype: float64"
      ]
     },
     "execution_count": 14,
     "metadata": {},
     "output_type": "execute_result"
    },
    {
     "name": "stdout",
     "output_type": "stream",
     "text": [
      "time: 35.3 ms (started: 2024-04-04 21:17:52 +02:00)\n"
     ]
    }
   ],
   "source": [
    "# getting the relevance score for the top document for the query\n",
    "gold[(gold.qid==qid) & (gold.docid==qgold.iloc[0])].score"
   ]
  },
  {
   "cell_type": "code",
   "execution_count": 15,
   "id": "0175ff90",
   "metadata": {},
   "outputs": [
    {
     "name": "stdout",
     "output_type": "stream",
     "text": [
      "1 -5.197412539999999\n",
      "2 -5.27601475\n",
      "3 -5.33337584\n",
      "4 -5.378957215000001\n",
      "5 -5.416540648\n",
      "10 -5.543673964\n",
      "100 -6.049410218599999\n",
      "time: 42.5 ms (started: 2024-04-04 21:17:55 +02:00)\n"
     ]
    }
   ],
   "source": [
    "# getting the average relevance score for all top results of test queries\n",
    "def get_avg_score(testing_queries, top=10):\n",
    "    return gold[(gold.qid.isin(testing_queries.qid)) & (gold['rank']<=top)].score.mean()\n",
    "\n",
    "for top in [1, 2, 3, 4, 5, 10, 100]:\n",
    "    print(top, get_avg_score(testing_queries, top))\n",
    "\n"
   ]
  },
  {
   "cell_type": "markdown",
   "id": "d4770398",
   "metadata": {},
   "source": [
    "### p@10"
   ]
  },
  {
   "cell_type": "code",
   "execution_count": 71,
   "id": "e70a7147",
   "metadata": {},
   "outputs": [
    {
     "name": "stdout",
     "output_type": "stream",
     "text": [
      "time: 740 µs (started: 2024-04-04 23:03:19 +02:00)\n"
     ]
    }
   ],
   "source": [
    "def pAt10(qid, k=10, docs=ourdocs, gold=gold):\n",
    "    id = training_queries[training_queries.qid==qid].index[0] # get the index of the query in the training_queries\n",
    "    xqv = X*train_qvs[id].T # cosine similarity between query and all documents\n",
    "    predki = np.argpartition(xqv.A.flat, -k)[-k:] # top k\n",
    "    query = training_queries[training_queries.qid==qid]['query'].values[0]\n",
    "    sampledocs = [query] + ourdocs.loc[predki].text.to_list()\n",
    "    embeddings = model.encode(sampledocs)\n",
    "    similarities = cos_sim(embeddings[0], embeddings[1:])\n",
    "    df = docs.loc[predki].copy(deep=True)\n",
    "    df['similarity'] = similarities.flatten()\n",
    "    df = df.sort_values(by='similarity', ascending=False)\n",
    "    intersection = np.intersect1d(df.loc[predki].docid.head(10),gold[gold.qid==qid].docid)\n",
    "    return len(intersection)/10"
   ]
  },
  {
   "cell_type": "markdown",
   "id": "ea89f82d",
   "metadata": {},
   "source": [
    "## Case Study"
   ]
  },
  {
   "cell_type": "markdown",
   "id": "544fad59",
   "metadata": {},
   "source": [
    "### Can we improve the relevance score by using a dense embedding?"
   ]
  },
  {
   "cell_type": "code",
   "execution_count": 16,
   "id": "d7a722f5",
   "metadata": {},
   "outputs": [
    {
     "data": {
      "text/html": [
       "<div>\n",
       "<style scoped>\n",
       "    .dataframe tbody tr th:only-of-type {\n",
       "        vertical-align: middle;\n",
       "    }\n",
       "\n",
       "    .dataframe tbody tr th {\n",
       "        vertical-align: top;\n",
       "    }\n",
       "\n",
       "    .dataframe thead th {\n",
       "        text-align: right;\n",
       "    }\n",
       "</style>\n",
       "<table border=\"1\" class=\"dataframe\">\n",
       "  <thead>\n",
       "    <tr style=\"text-align: right;\">\n",
       "      <th></th>\n",
       "      <th>qid</th>\n",
       "      <th>query</th>\n",
       "    </tr>\n",
       "  </thead>\n",
       "  <tbody>\n",
       "    <tr>\n",
       "      <th>111</th>\n",
       "      <td>251898</td>\n",
       "      <td>how long does getting a doctorate take</td>\n",
       "    </tr>\n",
       "  </tbody>\n",
       "</table>\n",
       "</div>"
      ],
      "text/plain": [
       "        qid                                   query\n",
       "111  251898  how long does getting a doctorate take"
      ]
     },
     "execution_count": 16,
     "metadata": {},
     "output_type": "execute_result"
    },
    {
     "name": "stdout",
     "output_type": "stream",
     "text": [
      "time: 12.6 ms (started: 2024-04-04 21:18:16 +02:00)\n"
     ]
    }
   ],
   "source": [
    "training_queries[training_queries.qid==251898]"
   ]
  },
  {
   "cell_type": "code",
   "execution_count": 17,
   "id": "a245e854",
   "metadata": {},
   "outputs": [
    {
     "data": {
      "text/html": [
       "<div>\n",
       "<style scoped>\n",
       "    .dataframe tbody tr th:only-of-type {\n",
       "        vertical-align: middle;\n",
       "    }\n",
       "\n",
       "    .dataframe tbody tr th {\n",
       "        vertical-align: top;\n",
       "    }\n",
       "\n",
       "    .dataframe thead th {\n",
       "        text-align: right;\n",
       "    }\n",
       "</style>\n",
       "<table border=\"1\" class=\"dataframe\">\n",
       "  <thead>\n",
       "    <tr style=\"text-align: right;\">\n",
       "      <th></th>\n",
       "      <th>qid</th>\n",
       "      <th>docid</th>\n",
       "      <th>rank</th>\n",
       "      <th>score</th>\n",
       "    </tr>\n",
       "  </thead>\n",
       "  <tbody>\n",
       "    <tr>\n",
       "      <th>36200</th>\n",
       "      <td>251898</td>\n",
       "      <td>D2865964</td>\n",
       "      <td>1</td>\n",
       "      <td>-4.74293</td>\n",
       "    </tr>\n",
       "    <tr>\n",
       "      <th>36201</th>\n",
       "      <td>251898</td>\n",
       "      <td>D3557816</td>\n",
       "      <td>2</td>\n",
       "      <td>-4.90695</td>\n",
       "    </tr>\n",
       "    <tr>\n",
       "      <th>36202</th>\n",
       "      <td>251898</td>\n",
       "      <td>D2723985</td>\n",
       "      <td>3</td>\n",
       "      <td>-4.95911</td>\n",
       "    </tr>\n",
       "    <tr>\n",
       "      <th>36203</th>\n",
       "      <td>251898</td>\n",
       "      <td>D1951655</td>\n",
       "      <td>4</td>\n",
       "      <td>-4.97272</td>\n",
       "    </tr>\n",
       "    <tr>\n",
       "      <th>36204</th>\n",
       "      <td>251898</td>\n",
       "      <td>D1709749</td>\n",
       "      <td>5</td>\n",
       "      <td>-5.02176</td>\n",
       "    </tr>\n",
       "    <tr>\n",
       "      <th>...</th>\n",
       "      <td>...</td>\n",
       "      <td>...</td>\n",
       "      <td>...</td>\n",
       "      <td>...</td>\n",
       "    </tr>\n",
       "    <tr>\n",
       "      <th>36295</th>\n",
       "      <td>251898</td>\n",
       "      <td>D2531901</td>\n",
       "      <td>96</td>\n",
       "      <td>-5.56896</td>\n",
       "    </tr>\n",
       "    <tr>\n",
       "      <th>36296</th>\n",
       "      <td>251898</td>\n",
       "      <td>D2956542</td>\n",
       "      <td>97</td>\n",
       "      <td>-5.57138</td>\n",
       "    </tr>\n",
       "    <tr>\n",
       "      <th>36297</th>\n",
       "      <td>251898</td>\n",
       "      <td>D301873</td>\n",
       "      <td>98</td>\n",
       "      <td>-5.57262</td>\n",
       "    </tr>\n",
       "    <tr>\n",
       "      <th>36298</th>\n",
       "      <td>251898</td>\n",
       "      <td>D2952336</td>\n",
       "      <td>99</td>\n",
       "      <td>-5.57504</td>\n",
       "    </tr>\n",
       "    <tr>\n",
       "      <th>36299</th>\n",
       "      <td>251898</td>\n",
       "      <td>D1805809</td>\n",
       "      <td>100</td>\n",
       "      <td>-5.57544</td>\n",
       "    </tr>\n",
       "  </tbody>\n",
       "</table>\n",
       "<p>100 rows × 4 columns</p>\n",
       "</div>"
      ],
      "text/plain": [
       "          qid     docid  rank    score\n",
       "36200  251898  D2865964     1 -4.74293\n",
       "36201  251898  D3557816     2 -4.90695\n",
       "36202  251898  D2723985     3 -4.95911\n",
       "36203  251898  D1951655     4 -4.97272\n",
       "36204  251898  D1709749     5 -5.02176\n",
       "...       ...       ...   ...      ...\n",
       "36295  251898  D2531901    96 -5.56896\n",
       "36296  251898  D2956542    97 -5.57138\n",
       "36297  251898   D301873    98 -5.57262\n",
       "36298  251898  D2952336    99 -5.57504\n",
       "36299  251898  D1805809   100 -5.57544\n",
       "\n",
       "[100 rows x 4 columns]"
      ]
     },
     "execution_count": 17,
     "metadata": {},
     "output_type": "execute_result"
    },
    {
     "name": "stdout",
     "output_type": "stream",
     "text": [
      "time: 23.2 ms (started: 2024-04-04 21:18:33 +02:00)\n"
     ]
    }
   ],
   "source": [
    "gold[gold.qid==251898]"
   ]
  },
  {
   "cell_type": "code",
   "execution_count": 59,
   "id": "4568e833",
   "metadata": {},
   "outputs": [
    {
     "data": {
      "text/html": [
       "<div>\n",
       "<style scoped>\n",
       "    .dataframe tbody tr th:only-of-type {\n",
       "        vertical-align: middle;\n",
       "    }\n",
       "\n",
       "    .dataframe tbody tr th {\n",
       "        vertical-align: top;\n",
       "    }\n",
       "\n",
       "    .dataframe thead th {\n",
       "        text-align: right;\n",
       "    }\n",
       "</style>\n",
       "<table border=\"1\" class=\"dataframe\">\n",
       "  <thead>\n",
       "    <tr style=\"text-align: right;\">\n",
       "      <th></th>\n",
       "      <th>docid</th>\n",
       "      <th>text</th>\n",
       "      <th>counter</th>\n",
       "    </tr>\n",
       "  </thead>\n",
       "  <tbody>\n",
       "    <tr>\n",
       "      <th>737</th>\n",
       "      <td>D2696063</td>\n",
       "      <td>What tv channel is syfy on if you have dish ne...</td>\n",
       "      <td>1</td>\n",
       "    </tr>\n",
       "    <tr>\n",
       "      <th>2277</th>\n",
       "      <td>D2516893</td>\n",
       "      <td>Chapter 12-Nervous System 129 terms rotilla10C...</td>\n",
       "      <td>2</td>\n",
       "    </tr>\n",
       "    <tr>\n",
       "      <th>2322</th>\n",
       "      <td>D588822</td>\n",
       "      <td>What channel is NBC on XFINITY? Comcast Xfinit...</td>\n",
       "      <td>3</td>\n",
       "    </tr>\n",
       "    <tr>\n",
       "      <th>2955</th>\n",
       "      <td>D1422234</td>\n",
       "      <td>What channel is the yes network on comcast in ...</td>\n",
       "      <td>4</td>\n",
       "    </tr>\n",
       "    <tr>\n",
       "      <th>10801</th>\n",
       "      <td>D831199</td>\n",
       "      <td>Chapter 7: Nerve Cells Chapter 7: Nerve Cells8...</td>\n",
       "      <td>5</td>\n",
       "    </tr>\n",
       "    <tr>\n",
       "      <th>10953</th>\n",
       "      <td>D214463</td>\n",
       "      <td>What channel is wgn on Verizon fios? C.skater ...</td>\n",
       "      <td>6</td>\n",
       "    </tr>\n",
       "    <tr>\n",
       "      <th>15313</th>\n",
       "      <td>D1642934</td>\n",
       "      <td>Types of Receptors 38 terms brittney_harvell T...</td>\n",
       "      <td>7</td>\n",
       "    </tr>\n",
       "    <tr>\n",
       "      <th>15749</th>\n",
       "      <td>D1137136</td>\n",
       "      <td>What channel is tnt on dish network? Answers.c...</td>\n",
       "      <td>8</td>\n",
       "    </tr>\n",
       "    <tr>\n",
       "      <th>22362</th>\n",
       "      <td>D893699</td>\n",
       "      <td>What channel is wgn on Verizon fios? C.skater ...</td>\n",
       "      <td>9</td>\n",
       "    </tr>\n",
       "    <tr>\n",
       "      <th>22632</th>\n",
       "      <td>D1203964</td>\n",
       "      <td>What channel is CBS for DISH Network? Answers....</td>\n",
       "      <td>10</td>\n",
       "    </tr>\n",
       "    <tr>\n",
       "      <th>33095</th>\n",
       "      <td>D150005</td>\n",
       "      <td>Experience 4K Ultra HD &amp; 200+ full-time HD cha...</td>\n",
       "      <td>11</td>\n",
       "    </tr>\n",
       "    <tr>\n",
       "      <th>41803</th>\n",
       "      <td>D333073</td>\n",
       "      <td>Psl300H1: Human Physiology 1 Related Flashcard...</td>\n",
       "      <td>12</td>\n",
       "    </tr>\n",
       "    <tr>\n",
       "      <th>57338</th>\n",
       "      <td>D3277982</td>\n",
       "      <td>14, 19, 21 April Lectures 67 terms kmcdaniel22...</td>\n",
       "      <td>13</td>\n",
       "    </tr>\n",
       "    <tr>\n",
       "      <th>63465</th>\n",
       "      <td>D715015</td>\n",
       "      <td>Geography rivers 149 terms lucy225Geography ri...</td>\n",
       "      <td>14</td>\n",
       "    </tr>\n",
       "    <tr>\n",
       "      <th>67662</th>\n",
       "      <td>D685247</td>\n",
       "      <td>What is Channeling? What is Channeling? By SHE...</td>\n",
       "      <td>15</td>\n",
       "    </tr>\n",
       "    <tr>\n",
       "      <th>75401</th>\n",
       "      <td>D1447615</td>\n",
       "      <td>What is a 2 channel amplifier? Answers.com ® W...</td>\n",
       "      <td>16</td>\n",
       "    </tr>\n",
       "    <tr>\n",
       "      <th>79484</th>\n",
       "      <td>D3235404</td>\n",
       "      <td>What Channel Is Boomerang? Jerryt26 322 Contri...</td>\n",
       "      <td>17</td>\n",
       "    </tr>\n",
       "    <tr>\n",
       "      <th>89617</th>\n",
       "      <td>D2507631</td>\n",
       "      <td>On Dish Network what channel is Animal Planet ...</td>\n",
       "      <td>18</td>\n",
       "    </tr>\n",
       "    <tr>\n",
       "      <th>92387</th>\n",
       "      <td>D246924</td>\n",
       "      <td>Experience 4K Ultra HD &amp; 200+ full-time HD cha...</td>\n",
       "      <td>19</td>\n",
       "    </tr>\n",
       "    <tr>\n",
       "      <th>92401</th>\n",
       "      <td>D588353</td>\n",
       "      <td>What channel is discovery channel on direct tv...</td>\n",
       "      <td>20</td>\n",
       "    </tr>\n",
       "  </tbody>\n",
       "</table>\n",
       "</div>"
      ],
      "text/plain": [
       "          docid                                               text  counter\n",
       "737    D2696063  What tv channel is syfy on if you have dish ne...        1\n",
       "2277   D2516893  Chapter 12-Nervous System 129 terms rotilla10C...        2\n",
       "2322    D588822  What channel is NBC on XFINITY? Comcast Xfinit...        3\n",
       "2955   D1422234  What channel is the yes network on comcast in ...        4\n",
       "10801   D831199  Chapter 7: Nerve Cells Chapter 7: Nerve Cells8...        5\n",
       "10953   D214463  What channel is wgn on Verizon fios? C.skater ...        6\n",
       "15313  D1642934  Types of Receptors 38 terms brittney_harvell T...        7\n",
       "15749  D1137136  What channel is tnt on dish network? Answers.c...        8\n",
       "22362   D893699  What channel is wgn on Verizon fios? C.skater ...        9\n",
       "22632  D1203964  What channel is CBS for DISH Network? Answers....       10\n",
       "33095   D150005  Experience 4K Ultra HD & 200+ full-time HD cha...       11\n",
       "41803   D333073  Psl300H1: Human Physiology 1 Related Flashcard...       12\n",
       "57338  D3277982  14, 19, 21 April Lectures 67 terms kmcdaniel22...       13\n",
       "63465   D715015  Geography rivers 149 terms lucy225Geography ri...       14\n",
       "67662   D685247  What is Channeling? What is Channeling? By SHE...       15\n",
       "75401  D1447615  What is a 2 channel amplifier? Answers.com ® W...       16\n",
       "79484  D3235404  What Channel Is Boomerang? Jerryt26 322 Contri...       17\n",
       "89617  D2507631  On Dish Network what channel is Animal Planet ...       18\n",
       "92387   D246924  Experience 4K Ultra HD & 200+ full-time HD cha...       19\n",
       "92401   D588353  What channel is discovery channel on direct tv...       20"
      ]
     },
     "execution_count": 59,
     "metadata": {},
     "output_type": "execute_result"
    },
    {
     "name": "stdout",
     "output_type": "stream",
     "text": [
      "time: 71.6 ms (started: 2024-04-04 23:01:11 +02:00)\n"
     ]
    }
   ],
   "source": [
    "qid = 729561\n",
    "gold[gold.qid==qid].docid\n",
    "\n",
    "# Show lines of ourdocs where docid is in gold[gold.qid==qid].docid\n",
    "ourdocs[ourdocs.docid.isin(gold[(gold.qid == qid) & (gold['rank'] <= 20)].docid)]\n",
    "# gold[(gold.qid == qid) & (gold['rank'] <= 10)]\n",
    "df = ourdocs[ourdocs.docid.isin(gold[(gold.qid == qid) & (gold['rank'] <= 20)].docid)].copy()\n",
    "df['counter'] = range(1, len(df) + 1)\n",
    "df"
   ]
  },
  {
   "cell_type": "markdown",
   "id": "5bba425a",
   "metadata": {},
   "source": [
    "### 🚧 Todo:\n",
    "- Complete the xxx in the lines \n",
    "- Comment each line"
   ]
  },
  {
   "cell_type": "code",
   "execution_count": 60,
   "id": "b4269443",
   "metadata": {},
   "outputs": [
    {
     "name": "stdout",
     "output_type": "stream",
     "text": [
      "time: 7.17 ms (started: 2024-04-04 23:01:18 +02:00)\n"
     ]
    }
   ],
   "source": [
    "def show_doc(qid, rank=0, show_gold=False, k=10, similarities=None, docs=ourdocs, gold=gold):\n",
    "    \"\"\"\n",
    "    qid: query id\n",
    "    rank: rank of the document to show. if rank=0, show the top k documents\n",
    "    show_gold: if True, show the gold documents. if False, show the predicted documents\n",
    "    k: number of documents to show\n",
    "    docs: documents DataFrame\n",
    "    gold: gold DataFrame\n",
    "    \"\"\"\n",
    "    print(f\"query: {training_queries[training_queries.qid==qid]['query'].values[0]}\")\n",
    "    id = training_queries[training_queries.qid==qid].index[0] # get the index of the query in the training_queries\n",
    "    xqv = X*train_qvs[id].T # cosine similarity between query and all documents\n",
    "    predki = np.argpartition(xqv.A.flat, -k)[-k:] # top k\n",
    "    if show_gold:\n",
    "        if rank == 0:\n",
    "            print(f\"top {k} gold documents for query {qid}:\")\n",
    "            df = ourdocs[ourdocs.docid.isin(gold[(gold.qid == qid) & (gold['rank'] <= k)].docid)].copy() # Create a copy to avoid modifying the original DataFrame\n",
    "            pred10i = np.argpartition(xqv.A.flat, -10)[-10:] # top 10\n",
    "            pred100i = np.argpartition(xqv.A.flat, -100)[-100:] # top 100\n",
    "            df['in_top_10_pred'] = df['docid'].isin(docs.loc[pred10i].docid)\n",
    "            df['in_top_100_pred'] = df['docid'].isin(docs.loc[pred100i].docid)\n",
    "            display(df)\n",
    "        else:\n",
    "            print(f\"gold document {rank} for query {qid}:\")\n",
    "            display(ourdocs[ourdocs.docid==gold[(gold.qid==qid) & (gold['rank']==rank)].docid.iloc[0]].text.values[0][:999])\n",
    "    else: # show predictions\n",
    "        if rank == 0:\n",
    "            print(f\"top {k} predicted documents for query {qid}:\")\n",
    "           \n",
    "            qgold10 = gold[(gold.qid == qid) & (gold['rank'] <= 10)].docid\n",
    "            qgold100 = gold[(gold.qid == qid) & (gold['rank'] <= 100)].docid\n",
    "    \n",
    "            df = docs.loc[predki].copy()  # Create a copy to avoid modifying the original DataFrame\n",
    "            df['in_qgold10'] = df['docid'].isin(qgold10)\n",
    "            df['in_qgold100'] = df['docid'].isin(qgold100)\n",
    "            if similarities is not None:\n",
    "                df['similarity'] = similarities\n",
    "                df = df.sort_values(by='similarity', ascending=False)\n",
    "            display(df)\n",
    "        else:\n",
    "            print(f\"predicted document {rank} for query {qid}:\")\n",
    "            display(ourdocs[ourdocs.docid==docs.loc[predki].docid.iloc[rank]].text.values[0][:999])\n"
   ]
  },
  {
   "cell_type": "markdown",
   "id": "c421712d",
   "metadata": {},
   "source": [
    "#### Call 1"
   ]
  },
  {
   "cell_type": "code",
   "execution_count": 21,
   "id": "4e6c7cc0",
   "metadata": {},
   "outputs": [
    {
     "name": "stdout",
     "output_type": "stream",
     "text": [
      "query: what is channeling\n",
      "predicted document 7 for query 729561:\n"
     ]
    },
    {
     "data": {
      "text/plain": [
       "\". Arc Resistant Switchgear ANSI/IEEE C37.20.7 defines switchgear arc resistance in two basic categories: ANSI type 1 Arc resistance from the front of gear only ANSI type 2 Arc resistance provided from the front, sides and rear A suffix may be added to either of these two types to further define the type of protection provided: A: Basic design B: Arc resistance is maintained even while opening designated low voltage compartments C: Arc resistance is maintained even when opening designated adjacent compartments D: Special designation that supplements the Type 1 designation, but identifies additional arc resistance in certain structures Eaton offers arc resistant medium voltage (MV),and low voltage (LV) switchgear and arc resistant MV motor control. Eaton also offers a unique “arc preventative” LV motor control center (Flash Gard) that protects the operator by reducing the likelihood that an arc would occur. Arc Resistant MV Switchgear Eaton's VCP-W arc-resistant vacuum switchgear (5 k V\""
      ]
     },
     "metadata": {},
     "output_type": "display_data"
    },
    {
     "name": "stdout",
     "output_type": "stream",
     "text": [
      "time: 364 ms (started: 2024-04-04 21:20:24 +02:00)\n"
     ]
    }
   ],
   "source": [
    "show_doc(729561,rank=7)"
   ]
  },
  {
   "cell_type": "markdown",
   "id": "7925d6f5",
   "metadata": {},
   "source": [
    "#### Call 2"
   ]
  },
  {
   "cell_type": "code",
   "execution_count": 24,
   "id": "9f350a75",
   "metadata": {},
   "outputs": [
    {
     "name": "stdout",
     "output_type": "stream",
     "text": [
      "query: what is channeling\n",
      "top 10 predicted documents for query 729561:\n"
     ]
    },
    {
     "data": {
      "text/html": [
       "<div>\n",
       "<style scoped>\n",
       "    .dataframe tbody tr th:only-of-type {\n",
       "        vertical-align: middle;\n",
       "    }\n",
       "\n",
       "    .dataframe tbody tr th {\n",
       "        vertical-align: top;\n",
       "    }\n",
       "\n",
       "    .dataframe thead th {\n",
       "        text-align: right;\n",
       "    }\n",
       "</style>\n",
       "<table border=\"1\" class=\"dataframe\">\n",
       "  <thead>\n",
       "    <tr style=\"text-align: right;\">\n",
       "      <th></th>\n",
       "      <th>docid</th>\n",
       "      <th>text</th>\n",
       "      <th>in_qgold10</th>\n",
       "      <th>in_qgold100</th>\n",
       "    </tr>\n",
       "  </thead>\n",
       "  <tbody>\n",
       "    <tr>\n",
       "      <th>39754</th>\n",
       "      <td>D858701</td>\n",
       "      <td>Polar Bears Polar Bears Spending the dark wint...</td>\n",
       "      <td>False</td>\n",
       "      <td>False</td>\n",
       "    </tr>\n",
       "    <tr>\n",
       "      <th>25371</th>\n",
       "      <td>D461511</td>\n",
       "      <td>Earrings dream meaning Earrings dream meaning ...</td>\n",
       "      <td>False</td>\n",
       "      <td>False</td>\n",
       "    </tr>\n",
       "    <tr>\n",
       "      <th>15563</th>\n",
       "      <td>D2167062</td>\n",
       "      <td>What to do with lemon curd. Are you channeling...</td>\n",
       "      <td>False</td>\n",
       "      <td>False</td>\n",
       "    </tr>\n",
       "    <tr>\n",
       "      <th>64517</th>\n",
       "      <td>D3400862</td>\n",
       "      <td>FAQ FAQHow do I select the right replacement t...</td>\n",
       "      <td>False</td>\n",
       "      <td>False</td>\n",
       "    </tr>\n",
       "    <tr>\n",
       "      <th>49665</th>\n",
       "      <td>D1681032</td>\n",
       "      <td>Behind the gates at Ramtha's school By Lisa Pe...</td>\n",
       "      <td>False</td>\n",
       "      <td>False</td>\n",
       "    </tr>\n",
       "    <tr>\n",
       "      <th>86431</th>\n",
       "      <td>D567760</td>\n",
       "      <td>Roosevelt Roosevelt [ roh -z uh -velt, -v uh l...</td>\n",
       "      <td>False</td>\n",
       "      <td>False</td>\n",
       "    </tr>\n",
       "    <tr>\n",
       "      <th>65542</th>\n",
       "      <td>D873198</td>\n",
       "      <td>The Magician The Magician February 27, 2014 by...</td>\n",
       "      <td>False</td>\n",
       "      <td>False</td>\n",
       "    </tr>\n",
       "    <tr>\n",
       "      <th>56830</th>\n",
       "      <td>D1636027</td>\n",
       "      <td>. Arc Resistant Switchgear ANSI/IEEE C37.20.7 ...</td>\n",
       "      <td>False</td>\n",
       "      <td>False</td>\n",
       "    </tr>\n",
       "    <tr>\n",
       "      <th>67662</th>\n",
       "      <td>D685247</td>\n",
       "      <td>What is Channeling? What is Channeling? By SHE...</td>\n",
       "      <td>False</td>\n",
       "      <td>True</td>\n",
       "    </tr>\n",
       "    <tr>\n",
       "      <th>34985</th>\n",
       "      <td>D1690699</td>\n",
       "      <td>- Are you channeling your best self with this ...</td>\n",
       "      <td>False</td>\n",
       "      <td>False</td>\n",
       "    </tr>\n",
       "  </tbody>\n",
       "</table>\n",
       "</div>"
      ],
      "text/plain": [
       "          docid                                               text  \\\n",
       "39754   D858701  Polar Bears Polar Bears Spending the dark wint...   \n",
       "25371   D461511  Earrings dream meaning Earrings dream meaning ...   \n",
       "15563  D2167062  What to do with lemon curd. Are you channeling...   \n",
       "64517  D3400862  FAQ FAQHow do I select the right replacement t...   \n",
       "49665  D1681032  Behind the gates at Ramtha's school By Lisa Pe...   \n",
       "86431   D567760  Roosevelt Roosevelt [ roh -z uh -velt, -v uh l...   \n",
       "65542   D873198  The Magician The Magician February 27, 2014 by...   \n",
       "56830  D1636027  . Arc Resistant Switchgear ANSI/IEEE C37.20.7 ...   \n",
       "67662   D685247  What is Channeling? What is Channeling? By SHE...   \n",
       "34985  D1690699  - Are you channeling your best self with this ...   \n",
       "\n",
       "       in_qgold10  in_qgold100  \n",
       "39754       False        False  \n",
       "25371       False        False  \n",
       "15563       False        False  \n",
       "64517       False        False  \n",
       "49665       False        False  \n",
       "86431       False        False  \n",
       "65542       False        False  \n",
       "56830       False        False  \n",
       "67662       False         True  \n",
       "34985       False        False  "
      ]
     },
     "metadata": {},
     "output_type": "display_data"
    },
    {
     "name": "stdout",
     "output_type": "stream",
     "text": [
      "time: 359 ms (started: 2024-04-04 21:20:58 +02:00)\n"
     ]
    }
   ],
   "source": [
    "show_doc(729561)"
   ]
  },
  {
   "cell_type": "markdown",
   "id": "4ec9cdf9",
   "metadata": {},
   "source": [
    "#### Call 3"
   ]
  },
  {
   "cell_type": "code",
   "execution_count": 25,
   "id": "be8c3744",
   "metadata": {},
   "outputs": [
    {
     "name": "stdout",
     "output_type": "stream",
     "text": [
      "query: what is channeling\n",
      "top 20 gold documents for query 729561:\n"
     ]
    },
    {
     "data": {
      "text/html": [
       "<div>\n",
       "<style scoped>\n",
       "    .dataframe tbody tr th:only-of-type {\n",
       "        vertical-align: middle;\n",
       "    }\n",
       "\n",
       "    .dataframe tbody tr th {\n",
       "        vertical-align: top;\n",
       "    }\n",
       "\n",
       "    .dataframe thead th {\n",
       "        text-align: right;\n",
       "    }\n",
       "</style>\n",
       "<table border=\"1\" class=\"dataframe\">\n",
       "  <thead>\n",
       "    <tr style=\"text-align: right;\">\n",
       "      <th></th>\n",
       "      <th>docid</th>\n",
       "      <th>text</th>\n",
       "      <th>in_top_10_pred</th>\n",
       "      <th>in_top_100_pred</th>\n",
       "    </tr>\n",
       "  </thead>\n",
       "  <tbody>\n",
       "    <tr>\n",
       "      <th>737</th>\n",
       "      <td>D2696063</td>\n",
       "      <td>What tv channel is syfy on if you have dish ne...</td>\n",
       "      <td>False</td>\n",
       "      <td>False</td>\n",
       "    </tr>\n",
       "    <tr>\n",
       "      <th>2277</th>\n",
       "      <td>D2516893</td>\n",
       "      <td>Chapter 12-Nervous System 129 terms rotilla10C...</td>\n",
       "      <td>False</td>\n",
       "      <td>False</td>\n",
       "    </tr>\n",
       "    <tr>\n",
       "      <th>2322</th>\n",
       "      <td>D588822</td>\n",
       "      <td>What channel is NBC on XFINITY? Comcast Xfinit...</td>\n",
       "      <td>False</td>\n",
       "      <td>False</td>\n",
       "    </tr>\n",
       "    <tr>\n",
       "      <th>2955</th>\n",
       "      <td>D1422234</td>\n",
       "      <td>What channel is the yes network on comcast in ...</td>\n",
       "      <td>False</td>\n",
       "      <td>False</td>\n",
       "    </tr>\n",
       "    <tr>\n",
       "      <th>10801</th>\n",
       "      <td>D831199</td>\n",
       "      <td>Chapter 7: Nerve Cells Chapter 7: Nerve Cells8...</td>\n",
       "      <td>False</td>\n",
       "      <td>False</td>\n",
       "    </tr>\n",
       "    <tr>\n",
       "      <th>10953</th>\n",
       "      <td>D214463</td>\n",
       "      <td>What channel is wgn on Verizon fios? C.skater ...</td>\n",
       "      <td>False</td>\n",
       "      <td>False</td>\n",
       "    </tr>\n",
       "    <tr>\n",
       "      <th>15313</th>\n",
       "      <td>D1642934</td>\n",
       "      <td>Types of Receptors 38 terms brittney_harvell T...</td>\n",
       "      <td>False</td>\n",
       "      <td>False</td>\n",
       "    </tr>\n",
       "    <tr>\n",
       "      <th>15749</th>\n",
       "      <td>D1137136</td>\n",
       "      <td>What channel is tnt on dish network? Answers.c...</td>\n",
       "      <td>False</td>\n",
       "      <td>False</td>\n",
       "    </tr>\n",
       "    <tr>\n",
       "      <th>22362</th>\n",
       "      <td>D893699</td>\n",
       "      <td>What channel is wgn on Verizon fios? C.skater ...</td>\n",
       "      <td>False</td>\n",
       "      <td>False</td>\n",
       "    </tr>\n",
       "    <tr>\n",
       "      <th>22632</th>\n",
       "      <td>D1203964</td>\n",
       "      <td>What channel is CBS for DISH Network? Answers....</td>\n",
       "      <td>False</td>\n",
       "      <td>False</td>\n",
       "    </tr>\n",
       "    <tr>\n",
       "      <th>33095</th>\n",
       "      <td>D150005</td>\n",
       "      <td>Experience 4K Ultra HD &amp; 200+ full-time HD cha...</td>\n",
       "      <td>False</td>\n",
       "      <td>False</td>\n",
       "    </tr>\n",
       "    <tr>\n",
       "      <th>41803</th>\n",
       "      <td>D333073</td>\n",
       "      <td>Psl300H1: Human Physiology 1 Related Flashcard...</td>\n",
       "      <td>False</td>\n",
       "      <td>False</td>\n",
       "    </tr>\n",
       "    <tr>\n",
       "      <th>57338</th>\n",
       "      <td>D3277982</td>\n",
       "      <td>14, 19, 21 April Lectures 67 terms kmcdaniel22...</td>\n",
       "      <td>False</td>\n",
       "      <td>False</td>\n",
       "    </tr>\n",
       "    <tr>\n",
       "      <th>63465</th>\n",
       "      <td>D715015</td>\n",
       "      <td>Geography rivers 149 terms lucy225Geography ri...</td>\n",
       "      <td>False</td>\n",
       "      <td>False</td>\n",
       "    </tr>\n",
       "    <tr>\n",
       "      <th>67662</th>\n",
       "      <td>D685247</td>\n",
       "      <td>What is Channeling? What is Channeling? By SHE...</td>\n",
       "      <td>True</td>\n",
       "      <td>True</td>\n",
       "    </tr>\n",
       "    <tr>\n",
       "      <th>75401</th>\n",
       "      <td>D1447615</td>\n",
       "      <td>What is a 2 channel amplifier? Answers.com ® W...</td>\n",
       "      <td>False</td>\n",
       "      <td>False</td>\n",
       "    </tr>\n",
       "    <tr>\n",
       "      <th>79484</th>\n",
       "      <td>D3235404</td>\n",
       "      <td>What Channel Is Boomerang? Jerryt26 322 Contri...</td>\n",
       "      <td>False</td>\n",
       "      <td>False</td>\n",
       "    </tr>\n",
       "    <tr>\n",
       "      <th>89617</th>\n",
       "      <td>D2507631</td>\n",
       "      <td>On Dish Network what channel is Animal Planet ...</td>\n",
       "      <td>False</td>\n",
       "      <td>False</td>\n",
       "    </tr>\n",
       "    <tr>\n",
       "      <th>92387</th>\n",
       "      <td>D246924</td>\n",
       "      <td>Experience 4K Ultra HD &amp; 200+ full-time HD cha...</td>\n",
       "      <td>False</td>\n",
       "      <td>False</td>\n",
       "    </tr>\n",
       "    <tr>\n",
       "      <th>92401</th>\n",
       "      <td>D588353</td>\n",
       "      <td>What channel is discovery channel on direct tv...</td>\n",
       "      <td>False</td>\n",
       "      <td>False</td>\n",
       "    </tr>\n",
       "  </tbody>\n",
       "</table>\n",
       "</div>"
      ],
      "text/plain": [
       "          docid                                               text  \\\n",
       "737    D2696063  What tv channel is syfy on if you have dish ne...   \n",
       "2277   D2516893  Chapter 12-Nervous System 129 terms rotilla10C...   \n",
       "2322    D588822  What channel is NBC on XFINITY? Comcast Xfinit...   \n",
       "2955   D1422234  What channel is the yes network on comcast in ...   \n",
       "10801   D831199  Chapter 7: Nerve Cells Chapter 7: Nerve Cells8...   \n",
       "10953   D214463  What channel is wgn on Verizon fios? C.skater ...   \n",
       "15313  D1642934  Types of Receptors 38 terms brittney_harvell T...   \n",
       "15749  D1137136  What channel is tnt on dish network? Answers.c...   \n",
       "22362   D893699  What channel is wgn on Verizon fios? C.skater ...   \n",
       "22632  D1203964  What channel is CBS for DISH Network? Answers....   \n",
       "33095   D150005  Experience 4K Ultra HD & 200+ full-time HD cha...   \n",
       "41803   D333073  Psl300H1: Human Physiology 1 Related Flashcard...   \n",
       "57338  D3277982  14, 19, 21 April Lectures 67 terms kmcdaniel22...   \n",
       "63465   D715015  Geography rivers 149 terms lucy225Geography ri...   \n",
       "67662   D685247  What is Channeling? What is Channeling? By SHE...   \n",
       "75401  D1447615  What is a 2 channel amplifier? Answers.com ® W...   \n",
       "79484  D3235404  What Channel Is Boomerang? Jerryt26 322 Contri...   \n",
       "89617  D2507631  On Dish Network what channel is Animal Planet ...   \n",
       "92387   D246924  Experience 4K Ultra HD & 200+ full-time HD cha...   \n",
       "92401   D588353  What channel is discovery channel on direct tv...   \n",
       "\n",
       "       in_top_10_pred  in_top_100_pred  \n",
       "737             False            False  \n",
       "2277            False            False  \n",
       "2322            False            False  \n",
       "2955            False            False  \n",
       "10801           False            False  \n",
       "10953           False            False  \n",
       "15313           False            False  \n",
       "15749           False            False  \n",
       "22362           False            False  \n",
       "22632           False            False  \n",
       "33095           False            False  \n",
       "41803           False            False  \n",
       "57338           False            False  \n",
       "63465           False            False  \n",
       "67662            True             True  \n",
       "75401           False            False  \n",
       "79484           False            False  \n",
       "89617           False            False  \n",
       "92387           False            False  \n",
       "92401           False            False  "
      ]
     },
     "metadata": {},
     "output_type": "display_data"
    },
    {
     "name": "stdout",
     "output_type": "stream",
     "text": [
      "time: 323 ms (started: 2024-04-04 21:21:43 +02:00)\n"
     ]
    }
   ],
   "source": [
    "show_doc(729561,show_gold=True, k=20)"
   ]
  },
  {
   "cell_type": "markdown",
   "id": "b53531d6",
   "metadata": {},
   "source": [
    "#### 2nd case:"
   ]
  },
  {
   "cell_type": "code",
   "execution_count": 26,
   "id": "5362d758",
   "metadata": {},
   "outputs": [
    {
     "name": "stdout",
     "output_type": "stream",
     "text": [
      "query: how long does getting a doctorate take\n",
      "top 10 predicted documents for query 251898:\n"
     ]
    },
    {
     "data": {
      "text/html": [
       "<div>\n",
       "<style scoped>\n",
       "    .dataframe tbody tr th:only-of-type {\n",
       "        vertical-align: middle;\n",
       "    }\n",
       "\n",
       "    .dataframe tbody tr th {\n",
       "        vertical-align: top;\n",
       "    }\n",
       "\n",
       "    .dataframe thead th {\n",
       "        text-align: right;\n",
       "    }\n",
       "</style>\n",
       "<table border=\"1\" class=\"dataframe\">\n",
       "  <thead>\n",
       "    <tr style=\"text-align: right;\">\n",
       "      <th></th>\n",
       "      <th>docid</th>\n",
       "      <th>text</th>\n",
       "      <th>in_qgold10</th>\n",
       "      <th>in_qgold100</th>\n",
       "    </tr>\n",
       "  </thead>\n",
       "  <tbody>\n",
       "    <tr>\n",
       "      <th>50610</th>\n",
       "      <td>D2749717</td>\n",
       "      <td>How long does it take to become a Physical The...</td>\n",
       "      <td>False</td>\n",
       "      <td>True</td>\n",
       "    </tr>\n",
       "    <tr>\n",
       "      <th>56982</th>\n",
       "      <td>D2865964</td>\n",
       "      <td>How long does it take to get a post-doctoral d...</td>\n",
       "      <td>True</td>\n",
       "      <td>True</td>\n",
       "    </tr>\n",
       "    <tr>\n",
       "      <th>83787</th>\n",
       "      <td>D1951655</td>\n",
       "      <td>How long does it take to get a Doctorate of Nu...</td>\n",
       "      <td>True</td>\n",
       "      <td>True</td>\n",
       "    </tr>\n",
       "    <tr>\n",
       "      <th>67623</th>\n",
       "      <td>D2723985</td>\n",
       "      <td>How long would it take to get a doctorate's de...</td>\n",
       "      <td>True</td>\n",
       "      <td>True</td>\n",
       "    </tr>\n",
       "    <tr>\n",
       "      <th>66313</th>\n",
       "      <td>D2956542</td>\n",
       "      <td>How long does it take to finish a doctorate? E...</td>\n",
       "      <td>False</td>\n",
       "      <td>True</td>\n",
       "    </tr>\n",
       "    <tr>\n",
       "      <th>86925</th>\n",
       "      <td>D2703712</td>\n",
       "      <td>How Long Does It Take To Become A Psychologist...</td>\n",
       "      <td>False</td>\n",
       "      <td>True</td>\n",
       "    </tr>\n",
       "    <tr>\n",
       "      <th>52957</th>\n",
       "      <td>D1402632</td>\n",
       "      <td>How to get doctorate degree How to get doctora...</td>\n",
       "      <td>False</td>\n",
       "      <td>True</td>\n",
       "    </tr>\n",
       "    <tr>\n",
       "      <th>42225</th>\n",
       "      <td>D2782441</td>\n",
       "      <td>How many years does a doctorate degree require...</td>\n",
       "      <td>False</td>\n",
       "      <td>True</td>\n",
       "    </tr>\n",
       "    <tr>\n",
       "      <th>65033</th>\n",
       "      <td>D1736725</td>\n",
       "      <td>How long does it take to get a doctoral degree...</td>\n",
       "      <td>True</td>\n",
       "      <td>True</td>\n",
       "    </tr>\n",
       "    <tr>\n",
       "      <th>91275</th>\n",
       "      <td>D3090762</td>\n",
       "      <td>How Long Does It Take to Get a Doctorate in En...</td>\n",
       "      <td>False</td>\n",
       "      <td>True</td>\n",
       "    </tr>\n",
       "  </tbody>\n",
       "</table>\n",
       "</div>"
      ],
      "text/plain": [
       "          docid                                               text  \\\n",
       "50610  D2749717  How long does it take to become a Physical The...   \n",
       "56982  D2865964  How long does it take to get a post-doctoral d...   \n",
       "83787  D1951655  How long does it take to get a Doctorate of Nu...   \n",
       "67623  D2723985  How long would it take to get a doctorate's de...   \n",
       "66313  D2956542  How long does it take to finish a doctorate? E...   \n",
       "86925  D2703712  How Long Does It Take To Become A Psychologist...   \n",
       "52957  D1402632  How to get doctorate degree How to get doctora...   \n",
       "42225  D2782441  How many years does a doctorate degree require...   \n",
       "65033  D1736725  How long does it take to get a doctoral degree...   \n",
       "91275  D3090762  How Long Does It Take to Get a Doctorate in En...   \n",
       "\n",
       "       in_qgold10  in_qgold100  \n",
       "50610       False         True  \n",
       "56982        True         True  \n",
       "83787        True         True  \n",
       "67623        True         True  \n",
       "66313       False         True  \n",
       "86925       False         True  \n",
       "52957       False         True  \n",
       "42225       False         True  \n",
       "65033        True         True  \n",
       "91275       False         True  "
      ]
     },
     "metadata": {},
     "output_type": "display_data"
    },
    {
     "name": "stdout",
     "output_type": "stream",
     "text": [
      "time: 319 ms (started: 2024-04-04 21:22:03 +02:00)\n"
     ]
    }
   ],
   "source": [
    "show_doc(251898)"
   ]
  },
  {
   "cell_type": "markdown",
   "id": "9d0b578e",
   "metadata": {},
   "source": [
    "#### TODO: 3rd case:\n",
    "- Find yourself another case where the retrieved top 10 contains interesting documents but the order is not good and the top 1 is not relevant\n",
    "\n",
    "The queries ID = 947184, 651254 and 685501 meet those requirements.\n"
   ]
  },
  {
   "cell_type": "code",
   "execution_count": 76,
   "id": "6b03cc54",
   "metadata": {},
   "outputs": [
    {
     "name": "stdout",
     "output_type": "stream",
     "text": [
      "query: what is a good substitute for coconut oil\n",
      "top 10 predicted documents for query 685501:\n"
     ]
    },
    {
     "data": {
      "text/html": [
       "<div>\n",
       "<style scoped>\n",
       "    .dataframe tbody tr th:only-of-type {\n",
       "        vertical-align: middle;\n",
       "    }\n",
       "\n",
       "    .dataframe tbody tr th {\n",
       "        vertical-align: top;\n",
       "    }\n",
       "\n",
       "    .dataframe thead th {\n",
       "        text-align: right;\n",
       "    }\n",
       "</style>\n",
       "<table border=\"1\" class=\"dataframe\">\n",
       "  <thead>\n",
       "    <tr style=\"text-align: right;\">\n",
       "      <th></th>\n",
       "      <th>docid</th>\n",
       "      <th>text</th>\n",
       "      <th>in_qgold10</th>\n",
       "      <th>in_qgold100</th>\n",
       "    </tr>\n",
       "  </thead>\n",
       "  <tbody>\n",
       "    <tr>\n",
       "      <th>29239</th>\n",
       "      <td>D795578</td>\n",
       "      <td>Why and How to Use Coconut Oil to Replace Butt...</td>\n",
       "      <td>False</td>\n",
       "      <td>True</td>\n",
       "    </tr>\n",
       "    <tr>\n",
       "      <th>70763</th>\n",
       "      <td>D3350443</td>\n",
       "      <td>Is Coconut Oil Good for Frying on High Tempera...</td>\n",
       "      <td>False</td>\n",
       "      <td>True</td>\n",
       "    </tr>\n",
       "    <tr>\n",
       "      <th>1798</th>\n",
       "      <td>D1879579</td>\n",
       "      <td>What Is the Difference Between Coconut Oil &amp; C...</td>\n",
       "      <td>False</td>\n",
       "      <td>True</td>\n",
       "    </tr>\n",
       "    <tr>\n",
       "      <th>25483</th>\n",
       "      <td>D423625</td>\n",
       "      <td>How to Use Coconut Oil 1 Select the right kind...</td>\n",
       "      <td>False</td>\n",
       "      <td>True</td>\n",
       "    </tr>\n",
       "    <tr>\n",
       "      <th>62124</th>\n",
       "      <td>D2921380</td>\n",
       "      <td>How to Use Coconut Oil 1 Select the right kind...</td>\n",
       "      <td>False</td>\n",
       "      <td>True</td>\n",
       "    </tr>\n",
       "    <tr>\n",
       "      <th>17026</th>\n",
       "      <td>D2152717</td>\n",
       "      <td>How Much Coconut Oil Should I Eat Daily? How M...</td>\n",
       "      <td>False</td>\n",
       "      <td>True</td>\n",
       "    </tr>\n",
       "    <tr>\n",
       "      <th>28043</th>\n",
       "      <td>D3082321</td>\n",
       "      <td>How to Substitute Coconut Oil for Vegetable Oi...</td>\n",
       "      <td>False</td>\n",
       "      <td>True</td>\n",
       "    </tr>\n",
       "    <tr>\n",
       "      <th>3729</th>\n",
       "      <td>D795576</td>\n",
       "      <td>What is a Good Substitute for Coconut Milk and...</td>\n",
       "      <td>True</td>\n",
       "      <td>True</td>\n",
       "    </tr>\n",
       "    <tr>\n",
       "      <th>8131</th>\n",
       "      <td>D1401032</td>\n",
       "      <td>How Do I Store Coconut Oil? How Do I Store Coc...</td>\n",
       "      <td>False</td>\n",
       "      <td>True</td>\n",
       "    </tr>\n",
       "    <tr>\n",
       "      <th>72564</th>\n",
       "      <td>D1403176</td>\n",
       "      <td>The Differences Between Refined and Virgin Coc...</td>\n",
       "      <td>False</td>\n",
       "      <td>True</td>\n",
       "    </tr>\n",
       "  </tbody>\n",
       "</table>\n",
       "</div>"
      ],
      "text/plain": [
       "          docid                                               text  \\\n",
       "29239   D795578  Why and How to Use Coconut Oil to Replace Butt...   \n",
       "70763  D3350443  Is Coconut Oil Good for Frying on High Tempera...   \n",
       "1798   D1879579  What Is the Difference Between Coconut Oil & C...   \n",
       "25483   D423625  How to Use Coconut Oil 1 Select the right kind...   \n",
       "62124  D2921380  How to Use Coconut Oil 1 Select the right kind...   \n",
       "17026  D2152717  How Much Coconut Oil Should I Eat Daily? How M...   \n",
       "28043  D3082321  How to Substitute Coconut Oil for Vegetable Oi...   \n",
       "3729    D795576  What is a Good Substitute for Coconut Milk and...   \n",
       "8131   D1401032  How Do I Store Coconut Oil? How Do I Store Coc...   \n",
       "72564  D1403176  The Differences Between Refined and Virgin Coc...   \n",
       "\n",
       "       in_qgold10  in_qgold100  \n",
       "29239       False         True  \n",
       "70763       False         True  \n",
       "1798        False         True  \n",
       "25483       False         True  \n",
       "62124       False         True  \n",
       "17026       False         True  \n",
       "28043       False         True  \n",
       "3729         True         True  \n",
       "8131        False         True  \n",
       "72564       False         True  "
      ]
     },
     "metadata": {},
     "output_type": "display_data"
    },
    {
     "name": "stdout",
     "output_type": "stream",
     "text": [
      "time: 329 ms (started: 2024-04-04 23:07:50 +02:00)\n"
     ]
    }
   ],
   "source": [
    "show_doc(685501)"
   ]
  },
  {
   "cell_type": "markdown",
   "id": "279a170f",
   "metadata": {},
   "source": [
    "# Dense embeddings - MixedBread\n",
    "\n",
    "#### Sample: https://www.mixedbread.ai/blog/mxbai-embed-large-v1 "
   ]
  },
  {
   "cell_type": "markdown",
   "id": "09347357",
   "metadata": {},
   "source": [
    "#### Model Load"
   ]
  },
  {
   "cell_type": "code",
   "execution_count": 63,
   "id": "42fd0f89",
   "metadata": {},
   "outputs": [
    {
     "name": "stdout",
     "output_type": "stream",
     "text": [
      "time: 1.57 s (started: 2024-04-04 23:01:46 +02:00)\n"
     ]
    }
   ],
   "source": [
    "from sentence_transformers import SentenceTransformer\n",
    "from sentence_transformers.util import cos_sim\n",
    "\n",
    "# 1. load model\n",
    "model = SentenceTransformer(\"mixedbread-ai/mxbai-embed-large-v1\")\n",
    "\n",
    "# For retrieval you need to pass this prompt.\n",
    "query = 'Represent this sentence for searching relevant passages: A man is eating a piece of bread'\n",
    "\n",
    "sampledocs = [\n",
    "    query,\n",
    "    \"A man is eating food.\",\n",
    "    \"A man is eating pasta.\",\n",
    "    \"The girl is carrying a baby.\",\n",
    "    \"A man is riding a horse.\",\n",
    "]"
   ]
  },
  {
   "cell_type": "markdown",
   "id": "9f21866d",
   "metadata": {},
   "source": [
    "#### Encode"
   ]
  },
  {
   "cell_type": "code",
   "execution_count": 64,
   "id": "67c4fd63",
   "metadata": {},
   "outputs": [
    {
     "name": "stdout",
     "output_type": "stream",
     "text": [
      "similarities: tensor([[0.7920, 0.6369, 0.1651, 0.3621]])\n",
      "time: 61.5 ms (started: 2024-04-04 23:01:49 +02:00)\n"
     ]
    }
   ],
   "source": [
    "# 2. Encode\n",
    "embeddings = model.encode(sampledocs)\n",
    "\n",
    "similarities = cos_sim(embeddings[0], embeddings[1:])\n",
    "print('similarities:', similarities)"
   ]
  },
  {
   "cell_type": "markdown",
   "id": "1874ec83",
   "metadata": {},
   "source": [
    "### 1st Case - Ms-Marco"
   ]
  },
  {
   "cell_type": "code",
   "execution_count": 65,
   "id": "19293566",
   "metadata": {},
   "outputs": [
    {
     "data": {
      "text/plain": [
       "39754    Polar Bears Polar Bears Spending the dark wint...\n",
       "25371    Earrings dream meaning Earrings dream meaning ...\n",
       "15563    What to do with lemon curd. Are you channeling...\n",
       "64517    FAQ FAQHow do I select the right replacement t...\n",
       "49665    Behind the gates at Ramtha's school By Lisa Pe...\n",
       "86431    Roosevelt Roosevelt [ roh -z uh -velt, -v uh l...\n",
       "65542    The Magician The Magician February 27, 2014 by...\n",
       "56830    . Arc Resistant Switchgear ANSI/IEEE C37.20.7 ...\n",
       "67662    What is Channeling? What is Channeling? By SHE...\n",
       "34985    - Are you channeling your best self with this ...\n",
       "Name: text, dtype: object"
      ]
     },
     "execution_count": 65,
     "metadata": {},
     "output_type": "execute_result"
    },
    {
     "name": "stdout",
     "output_type": "stream",
     "text": [
      "time: 372 ms (started: 2024-04-04 23:01:52 +02:00)\n"
     ]
    }
   ],
   "source": [
    "k=10\n",
    "id = training_queries[training_queries.qid==qid].index[0] # get the index of the query in the training_queries\n",
    "xqv = X*train_qvs[id].T # cosine similarity between query and all documents\n",
    "predki = np.argpartition(xqv.A.flat, -k)[-k:] # top k\n",
    "ourdocs.loc[predki].text\n"
   ]
  },
  {
   "cell_type": "code",
   "execution_count": 66,
   "id": "db2f7da3",
   "metadata": {},
   "outputs": [
    {
     "name": "stdout",
     "output_type": "stream",
     "text": [
      "Represent this sentence for searching relevant passages: what is channeling\n",
      "time: 1.11 ms (started: 2024-04-04 23:02:02 +02:00)\n"
     ]
    }
   ],
   "source": [
    "query = f\"Represent this sentence for searching relevant passages: {training_queries[training_queries.qid==qid]['query'].values[0]}\"\n",
    "print(query)"
   ]
  },
  {
   "cell_type": "code",
   "execution_count": 67,
   "id": "23f5bef3",
   "metadata": {},
   "outputs": [
    {
     "name": "stdout",
     "output_type": "stream",
     "text": [
      "time: 395 ms (started: 2024-04-04 23:02:12 +02:00)\n"
     ]
    }
   ],
   "source": [
    "sampledocs = [query] + ourdocs.loc[predki].text.to_list()\n",
    "embeddings = model.encode(sampledocs) # this takes > a second per document although the context size is only 512 tokens"
   ]
  },
  {
   "cell_type": "code",
   "execution_count": 68,
   "id": "1002be3a",
   "metadata": {},
   "outputs": [
    {
     "name": "stdout",
     "output_type": "stream",
     "text": [
      "similarities: tensor([0.3053, 0.4345, 0.3230, 0.3587, 0.5007, 0.3244, 0.4571, 0.3515, 0.8457,\n",
      "        0.2805])\n",
      "time: 2.98 ms (started: 2024-04-04 23:02:14 +02:00)\n"
     ]
    }
   ],
   "source": [
    "similarities = cos_sim(embeddings[0], embeddings[1:])\n",
    "print('similarities:', similarities[0])"
   ]
  },
  {
   "cell_type": "code",
   "execution_count": 69,
   "id": "503e2bac",
   "metadata": {},
   "outputs": [
    {
     "data": {
      "text/html": [
       "<div>\n",
       "<style scoped>\n",
       "    .dataframe tbody tr th:only-of-type {\n",
       "        vertical-align: middle;\n",
       "    }\n",
       "\n",
       "    .dataframe tbody tr th {\n",
       "        vertical-align: top;\n",
       "    }\n",
       "\n",
       "    .dataframe thead th {\n",
       "        text-align: right;\n",
       "    }\n",
       "</style>\n",
       "<table border=\"1\" class=\"dataframe\">\n",
       "  <thead>\n",
       "    <tr style=\"text-align: right;\">\n",
       "      <th></th>\n",
       "      <th>docid</th>\n",
       "      <th>text</th>\n",
       "      <th>similarity</th>\n",
       "    </tr>\n",
       "  </thead>\n",
       "  <tbody>\n",
       "    <tr>\n",
       "      <th>67662</th>\n",
       "      <td>D685247</td>\n",
       "      <td>What is Channeling? What is Channeling? By SHE...</td>\n",
       "      <td>0.845656</td>\n",
       "    </tr>\n",
       "    <tr>\n",
       "      <th>49665</th>\n",
       "      <td>D1681032</td>\n",
       "      <td>Behind the gates at Ramtha's school By Lisa Pe...</td>\n",
       "      <td>0.500672</td>\n",
       "    </tr>\n",
       "    <tr>\n",
       "      <th>65542</th>\n",
       "      <td>D873198</td>\n",
       "      <td>The Magician The Magician February 27, 2014 by...</td>\n",
       "      <td>0.457076</td>\n",
       "    </tr>\n",
       "    <tr>\n",
       "      <th>25371</th>\n",
       "      <td>D461511</td>\n",
       "      <td>Earrings dream meaning Earrings dream meaning ...</td>\n",
       "      <td>0.434478</td>\n",
       "    </tr>\n",
       "    <tr>\n",
       "      <th>64517</th>\n",
       "      <td>D3400862</td>\n",
       "      <td>FAQ FAQHow do I select the right replacement t...</td>\n",
       "      <td>0.358695</td>\n",
       "    </tr>\n",
       "    <tr>\n",
       "      <th>56830</th>\n",
       "      <td>D1636027</td>\n",
       "      <td>. Arc Resistant Switchgear ANSI/IEEE C37.20.7 ...</td>\n",
       "      <td>0.351459</td>\n",
       "    </tr>\n",
       "    <tr>\n",
       "      <th>86431</th>\n",
       "      <td>D567760</td>\n",
       "      <td>Roosevelt Roosevelt [ roh -z uh -velt, -v uh l...</td>\n",
       "      <td>0.324389</td>\n",
       "    </tr>\n",
       "    <tr>\n",
       "      <th>15563</th>\n",
       "      <td>D2167062</td>\n",
       "      <td>What to do with lemon curd. Are you channeling...</td>\n",
       "      <td>0.323024</td>\n",
       "    </tr>\n",
       "    <tr>\n",
       "      <th>39754</th>\n",
       "      <td>D858701</td>\n",
       "      <td>Polar Bears Polar Bears Spending the dark wint...</td>\n",
       "      <td>0.305322</td>\n",
       "    </tr>\n",
       "    <tr>\n",
       "      <th>34985</th>\n",
       "      <td>D1690699</td>\n",
       "      <td>- Are you channeling your best self with this ...</td>\n",
       "      <td>0.280519</td>\n",
       "    </tr>\n",
       "  </tbody>\n",
       "</table>\n",
       "</div>"
      ],
      "text/plain": [
       "          docid                                               text  similarity\n",
       "67662   D685247  What is Channeling? What is Channeling? By SHE...    0.845656\n",
       "49665  D1681032  Behind the gates at Ramtha's school By Lisa Pe...    0.500672\n",
       "65542   D873198  The Magician The Magician February 27, 2014 by...    0.457076\n",
       "25371   D461511  Earrings dream meaning Earrings dream meaning ...    0.434478\n",
       "64517  D3400862  FAQ FAQHow do I select the right replacement t...    0.358695\n",
       "56830  D1636027  . Arc Resistant Switchgear ANSI/IEEE C37.20.7 ...    0.351459\n",
       "86431   D567760  Roosevelt Roosevelt [ roh -z uh -velt, -v uh l...    0.324389\n",
       "15563  D2167062  What to do with lemon curd. Are you channeling...    0.323024\n",
       "39754   D858701  Polar Bears Polar Bears Spending the dark wint...    0.305322\n",
       "34985  D1690699  - Are you channeling your best self with this ...    0.280519"
      ]
     },
     "execution_count": 69,
     "metadata": {},
     "output_type": "execute_result"
    },
    {
     "name": "stdout",
     "output_type": "stream",
     "text": [
      "time: 22.5 ms (started: 2024-04-04 23:02:24 +02:00)\n"
     ]
    }
   ],
   "source": [
    "df = ourdocs.loc[predki].copy()  # Create a copy to avoid modifying the original DataFrame\n",
    "df['similarity'] = similarities[0]\n",
    "df = df.sort_values(by='similarity', ascending=False)\n",
    "df"
   ]
  },
  {
   "cell_type": "code",
   "execution_count": 70,
   "id": "cc407aae",
   "metadata": {},
   "outputs": [
    {
     "name": "stdout",
     "output_type": "stream",
     "text": [
      "query: what is channeling\n",
      "top 10 predicted documents for query 729561:\n"
     ]
    },
    {
     "data": {
      "text/html": [
       "<div>\n",
       "<style scoped>\n",
       "    .dataframe tbody tr th:only-of-type {\n",
       "        vertical-align: middle;\n",
       "    }\n",
       "\n",
       "    .dataframe tbody tr th {\n",
       "        vertical-align: top;\n",
       "    }\n",
       "\n",
       "    .dataframe thead th {\n",
       "        text-align: right;\n",
       "    }\n",
       "</style>\n",
       "<table border=\"1\" class=\"dataframe\">\n",
       "  <thead>\n",
       "    <tr style=\"text-align: right;\">\n",
       "      <th></th>\n",
       "      <th>docid</th>\n",
       "      <th>text</th>\n",
       "      <th>in_qgold10</th>\n",
       "      <th>in_qgold100</th>\n",
       "      <th>similarity</th>\n",
       "    </tr>\n",
       "  </thead>\n",
       "  <tbody>\n",
       "    <tr>\n",
       "      <th>67662</th>\n",
       "      <td>D685247</td>\n",
       "      <td>What is Channeling? What is Channeling? By SHE...</td>\n",
       "      <td>False</td>\n",
       "      <td>True</td>\n",
       "      <td>0.845656</td>\n",
       "    </tr>\n",
       "    <tr>\n",
       "      <th>49665</th>\n",
       "      <td>D1681032</td>\n",
       "      <td>Behind the gates at Ramtha's school By Lisa Pe...</td>\n",
       "      <td>False</td>\n",
       "      <td>False</td>\n",
       "      <td>0.500672</td>\n",
       "    </tr>\n",
       "    <tr>\n",
       "      <th>65542</th>\n",
       "      <td>D873198</td>\n",
       "      <td>The Magician The Magician February 27, 2014 by...</td>\n",
       "      <td>False</td>\n",
       "      <td>False</td>\n",
       "      <td>0.457076</td>\n",
       "    </tr>\n",
       "    <tr>\n",
       "      <th>25371</th>\n",
       "      <td>D461511</td>\n",
       "      <td>Earrings dream meaning Earrings dream meaning ...</td>\n",
       "      <td>False</td>\n",
       "      <td>False</td>\n",
       "      <td>0.434478</td>\n",
       "    </tr>\n",
       "    <tr>\n",
       "      <th>64517</th>\n",
       "      <td>D3400862</td>\n",
       "      <td>FAQ FAQHow do I select the right replacement t...</td>\n",
       "      <td>False</td>\n",
       "      <td>False</td>\n",
       "      <td>0.358695</td>\n",
       "    </tr>\n",
       "    <tr>\n",
       "      <th>56830</th>\n",
       "      <td>D1636027</td>\n",
       "      <td>. Arc Resistant Switchgear ANSI/IEEE C37.20.7 ...</td>\n",
       "      <td>False</td>\n",
       "      <td>False</td>\n",
       "      <td>0.351459</td>\n",
       "    </tr>\n",
       "    <tr>\n",
       "      <th>86431</th>\n",
       "      <td>D567760</td>\n",
       "      <td>Roosevelt Roosevelt [ roh -z uh -velt, -v uh l...</td>\n",
       "      <td>False</td>\n",
       "      <td>False</td>\n",
       "      <td>0.324389</td>\n",
       "    </tr>\n",
       "    <tr>\n",
       "      <th>15563</th>\n",
       "      <td>D2167062</td>\n",
       "      <td>What to do with lemon curd. Are you channeling...</td>\n",
       "      <td>False</td>\n",
       "      <td>False</td>\n",
       "      <td>0.323024</td>\n",
       "    </tr>\n",
       "    <tr>\n",
       "      <th>39754</th>\n",
       "      <td>D858701</td>\n",
       "      <td>Polar Bears Polar Bears Spending the dark wint...</td>\n",
       "      <td>False</td>\n",
       "      <td>False</td>\n",
       "      <td>0.305322</td>\n",
       "    </tr>\n",
       "    <tr>\n",
       "      <th>34985</th>\n",
       "      <td>D1690699</td>\n",
       "      <td>- Are you channeling your best self with this ...</td>\n",
       "      <td>False</td>\n",
       "      <td>False</td>\n",
       "      <td>0.280519</td>\n",
       "    </tr>\n",
       "  </tbody>\n",
       "</table>\n",
       "</div>"
      ],
      "text/plain": [
       "          docid                                               text  \\\n",
       "67662   D685247  What is Channeling? What is Channeling? By SHE...   \n",
       "49665  D1681032  Behind the gates at Ramtha's school By Lisa Pe...   \n",
       "65542   D873198  The Magician The Magician February 27, 2014 by...   \n",
       "25371   D461511  Earrings dream meaning Earrings dream meaning ...   \n",
       "64517  D3400862  FAQ FAQHow do I select the right replacement t...   \n",
       "56830  D1636027  . Arc Resistant Switchgear ANSI/IEEE C37.20.7 ...   \n",
       "86431   D567760  Roosevelt Roosevelt [ roh -z uh -velt, -v uh l...   \n",
       "15563  D2167062  What to do with lemon curd. Are you channeling...   \n",
       "39754   D858701  Polar Bears Polar Bears Spending the dark wint...   \n",
       "34985  D1690699  - Are you channeling your best self with this ...   \n",
       "\n",
       "       in_qgold10  in_qgold100  similarity  \n",
       "67662       False         True    0.845656  \n",
       "49665       False        False    0.500672  \n",
       "65542       False        False    0.457076  \n",
       "25371       False        False    0.434478  \n",
       "64517       False        False    0.358695  \n",
       "56830       False        False    0.351459  \n",
       "86431       False        False    0.324389  \n",
       "15563       False        False    0.323024  \n",
       "39754       False        False    0.305322  \n",
       "34985       False        False    0.280519  "
      ]
     },
     "metadata": {},
     "output_type": "display_data"
    },
    {
     "name": "stdout",
     "output_type": "stream",
     "text": [
      "time: 378 ms (started: 2024-04-04 23:02:39 +02:00)\n"
     ]
    }
   ],
   "source": [
    "show_doc(729561, similarities=similarities[0])\n"
   ]
  },
  {
   "cell_type": "markdown",
   "id": "f693713c",
   "metadata": {},
   "source": [
    "### p@10"
   ]
  },
  {
   "cell_type": "code",
   "execution_count": 72,
   "id": "b177a385",
   "metadata": {},
   "outputs": [
    {
     "name": "stdout",
     "output_type": "stream",
     "text": [
      "P@10 for 729561 when k = 10:  0.1\n",
      "time: 713 ms (started: 2024-04-04 23:04:58 +02:00)\n"
     ]
    }
   ],
   "source": [
    "print(f\"P@10 for {qid} when k = 10: \",pAt10(qid, k=10))"
   ]
  },
  {
   "cell_type": "markdown",
   "id": "7a529590",
   "metadata": {},
   "source": [
    "### 2nd Case"
   ]
  },
  {
   "cell_type": "code",
   "execution_count": 73,
   "id": "1ec11abf",
   "metadata": {},
   "outputs": [
    {
     "name": "stdout",
     "output_type": "stream",
     "text": [
      "query: how long does getting a doctorate take\n",
      "top 10 predicted documents for query 251898:\n"
     ]
    },
    {
     "data": {
      "text/html": [
       "<div>\n",
       "<style scoped>\n",
       "    .dataframe tbody tr th:only-of-type {\n",
       "        vertical-align: middle;\n",
       "    }\n",
       "\n",
       "    .dataframe tbody tr th {\n",
       "        vertical-align: top;\n",
       "    }\n",
       "\n",
       "    .dataframe thead th {\n",
       "        text-align: right;\n",
       "    }\n",
       "</style>\n",
       "<table border=\"1\" class=\"dataframe\">\n",
       "  <thead>\n",
       "    <tr style=\"text-align: right;\">\n",
       "      <th></th>\n",
       "      <th>docid</th>\n",
       "      <th>text</th>\n",
       "      <th>in_qgold10</th>\n",
       "      <th>in_qgold100</th>\n",
       "    </tr>\n",
       "  </thead>\n",
       "  <tbody>\n",
       "    <tr>\n",
       "      <th>50610</th>\n",
       "      <td>D2749717</td>\n",
       "      <td>How long does it take to become a Physical The...</td>\n",
       "      <td>False</td>\n",
       "      <td>True</td>\n",
       "    </tr>\n",
       "    <tr>\n",
       "      <th>56982</th>\n",
       "      <td>D2865964</td>\n",
       "      <td>How long does it take to get a post-doctoral d...</td>\n",
       "      <td>True</td>\n",
       "      <td>True</td>\n",
       "    </tr>\n",
       "    <tr>\n",
       "      <th>83787</th>\n",
       "      <td>D1951655</td>\n",
       "      <td>How long does it take to get a Doctorate of Nu...</td>\n",
       "      <td>True</td>\n",
       "      <td>True</td>\n",
       "    </tr>\n",
       "    <tr>\n",
       "      <th>67623</th>\n",
       "      <td>D2723985</td>\n",
       "      <td>How long would it take to get a doctorate's de...</td>\n",
       "      <td>True</td>\n",
       "      <td>True</td>\n",
       "    </tr>\n",
       "    <tr>\n",
       "      <th>66313</th>\n",
       "      <td>D2956542</td>\n",
       "      <td>How long does it take to finish a doctorate? E...</td>\n",
       "      <td>False</td>\n",
       "      <td>True</td>\n",
       "    </tr>\n",
       "    <tr>\n",
       "      <th>86925</th>\n",
       "      <td>D2703712</td>\n",
       "      <td>How Long Does It Take To Become A Psychologist...</td>\n",
       "      <td>False</td>\n",
       "      <td>True</td>\n",
       "    </tr>\n",
       "    <tr>\n",
       "      <th>52957</th>\n",
       "      <td>D1402632</td>\n",
       "      <td>How to get doctorate degree How to get doctora...</td>\n",
       "      <td>False</td>\n",
       "      <td>True</td>\n",
       "    </tr>\n",
       "    <tr>\n",
       "      <th>42225</th>\n",
       "      <td>D2782441</td>\n",
       "      <td>How many years does a doctorate degree require...</td>\n",
       "      <td>False</td>\n",
       "      <td>True</td>\n",
       "    </tr>\n",
       "    <tr>\n",
       "      <th>65033</th>\n",
       "      <td>D1736725</td>\n",
       "      <td>How long does it take to get a doctoral degree...</td>\n",
       "      <td>True</td>\n",
       "      <td>True</td>\n",
       "    </tr>\n",
       "    <tr>\n",
       "      <th>91275</th>\n",
       "      <td>D3090762</td>\n",
       "      <td>How Long Does It Take to Get a Doctorate in En...</td>\n",
       "      <td>False</td>\n",
       "      <td>True</td>\n",
       "    </tr>\n",
       "  </tbody>\n",
       "</table>\n",
       "</div>"
      ],
      "text/plain": [
       "          docid                                               text  \\\n",
       "50610  D2749717  How long does it take to become a Physical The...   \n",
       "56982  D2865964  How long does it take to get a post-doctoral d...   \n",
       "83787  D1951655  How long does it take to get a Doctorate of Nu...   \n",
       "67623  D2723985  How long would it take to get a doctorate's de...   \n",
       "66313  D2956542  How long does it take to finish a doctorate? E...   \n",
       "86925  D2703712  How Long Does It Take To Become A Psychologist...   \n",
       "52957  D1402632  How to get doctorate degree How to get doctora...   \n",
       "42225  D2782441  How many years does a doctorate degree require...   \n",
       "65033  D1736725  How long does it take to get a doctoral degree...   \n",
       "91275  D3090762  How Long Does It Take to Get a Doctorate in En...   \n",
       "\n",
       "       in_qgold10  in_qgold100  \n",
       "50610       False         True  \n",
       "56982        True         True  \n",
       "83787        True         True  \n",
       "67623        True         True  \n",
       "66313       False         True  \n",
       "86925       False         True  \n",
       "52957       False         True  \n",
       "42225       False         True  \n",
       "65033        True         True  \n",
       "91275       False         True  "
      ]
     },
     "metadata": {},
     "output_type": "display_data"
    },
    {
     "name": "stdout",
     "output_type": "stream",
     "text": [
      "time: 322 ms (started: 2024-04-04 23:05:15 +02:00)\n"
     ]
    }
   ],
   "source": [
    "qid = 251898\n",
    "show_doc(qid)\n"
   ]
  },
  {
   "cell_type": "code",
   "execution_count": 74,
   "id": "376c5ee5",
   "metadata": {},
   "outputs": [
    {
     "name": "stdout",
     "output_type": "stream",
     "text": [
      "query: how long does getting a doctorate take\n",
      "top 10 predicted documents for query 251898:\n"
     ]
    },
    {
     "data": {
      "text/html": [
       "<div>\n",
       "<style scoped>\n",
       "    .dataframe tbody tr th:only-of-type {\n",
       "        vertical-align: middle;\n",
       "    }\n",
       "\n",
       "    .dataframe tbody tr th {\n",
       "        vertical-align: top;\n",
       "    }\n",
       "\n",
       "    .dataframe thead th {\n",
       "        text-align: right;\n",
       "    }\n",
       "</style>\n",
       "<table border=\"1\" class=\"dataframe\">\n",
       "  <thead>\n",
       "    <tr style=\"text-align: right;\">\n",
       "      <th></th>\n",
       "      <th>docid</th>\n",
       "      <th>text</th>\n",
       "      <th>in_qgold10</th>\n",
       "      <th>in_qgold100</th>\n",
       "      <th>similarity</th>\n",
       "    </tr>\n",
       "  </thead>\n",
       "  <tbody>\n",
       "    <tr>\n",
       "      <th>66313</th>\n",
       "      <td>D2956542</td>\n",
       "      <td>How long does it take to finish a doctorate? E...</td>\n",
       "      <td>False</td>\n",
       "      <td>True</td>\n",
       "      <td>0.843658</td>\n",
       "    </tr>\n",
       "    <tr>\n",
       "      <th>91275</th>\n",
       "      <td>D3090762</td>\n",
       "      <td>How Long Does It Take to Get a Doctorate in En...</td>\n",
       "      <td>False</td>\n",
       "      <td>True</td>\n",
       "      <td>0.840919</td>\n",
       "    </tr>\n",
       "    <tr>\n",
       "      <th>65033</th>\n",
       "      <td>D1736725</td>\n",
       "      <td>How long does it take to get a doctoral degree...</td>\n",
       "      <td>True</td>\n",
       "      <td>True</td>\n",
       "      <td>0.837360</td>\n",
       "    </tr>\n",
       "    <tr>\n",
       "      <th>56982</th>\n",
       "      <td>D2865964</td>\n",
       "      <td>How long does it take to get a post-doctoral d...</td>\n",
       "      <td>True</td>\n",
       "      <td>True</td>\n",
       "      <td>0.813156</td>\n",
       "    </tr>\n",
       "    <tr>\n",
       "      <th>42225</th>\n",
       "      <td>D2782441</td>\n",
       "      <td>How many years does a doctorate degree require...</td>\n",
       "      <td>False</td>\n",
       "      <td>True</td>\n",
       "      <td>0.804683</td>\n",
       "    </tr>\n",
       "    <tr>\n",
       "      <th>67623</th>\n",
       "      <td>D2723985</td>\n",
       "      <td>How long would it take to get a doctorate's de...</td>\n",
       "      <td>True</td>\n",
       "      <td>True</td>\n",
       "      <td>0.773761</td>\n",
       "    </tr>\n",
       "    <tr>\n",
       "      <th>83787</th>\n",
       "      <td>D1951655</td>\n",
       "      <td>How long does it take to get a Doctorate of Nu...</td>\n",
       "      <td>True</td>\n",
       "      <td>True</td>\n",
       "      <td>0.756096</td>\n",
       "    </tr>\n",
       "    <tr>\n",
       "      <th>52957</th>\n",
       "      <td>D1402632</td>\n",
       "      <td>How to get doctorate degree How to get doctora...</td>\n",
       "      <td>False</td>\n",
       "      <td>True</td>\n",
       "      <td>0.741600</td>\n",
       "    </tr>\n",
       "    <tr>\n",
       "      <th>86925</th>\n",
       "      <td>D2703712</td>\n",
       "      <td>How Long Does It Take To Become A Psychologist...</td>\n",
       "      <td>False</td>\n",
       "      <td>True</td>\n",
       "      <td>0.721173</td>\n",
       "    </tr>\n",
       "    <tr>\n",
       "      <th>50610</th>\n",
       "      <td>D2749717</td>\n",
       "      <td>How long does it take to become a Physical The...</td>\n",
       "      <td>False</td>\n",
       "      <td>True</td>\n",
       "      <td>0.667144</td>\n",
       "    </tr>\n",
       "  </tbody>\n",
       "</table>\n",
       "</div>"
      ],
      "text/plain": [
       "          docid                                               text  \\\n",
       "66313  D2956542  How long does it take to finish a doctorate? E...   \n",
       "91275  D3090762  How Long Does It Take to Get a Doctorate in En...   \n",
       "65033  D1736725  How long does it take to get a doctoral degree...   \n",
       "56982  D2865964  How long does it take to get a post-doctoral d...   \n",
       "42225  D2782441  How many years does a doctorate degree require...   \n",
       "67623  D2723985  How long would it take to get a doctorate's de...   \n",
       "83787  D1951655  How long does it take to get a Doctorate of Nu...   \n",
       "52957  D1402632  How to get doctorate degree How to get doctora...   \n",
       "86925  D2703712  How Long Does It Take To Become A Psychologist...   \n",
       "50610  D2749717  How long does it take to become a Physical The...   \n",
       "\n",
       "       in_qgold10  in_qgold100  similarity  \n",
       "66313       False         True    0.843658  \n",
       "91275       False         True    0.840919  \n",
       "65033        True         True    0.837360  \n",
       "56982        True         True    0.813156  \n",
       "42225       False         True    0.804683  \n",
       "67623        True         True    0.773761  \n",
       "83787        True         True    0.756096  \n",
       "52957       False         True    0.741600  \n",
       "86925       False         True    0.721173  \n",
       "50610       False         True    0.667144  "
      ]
     },
     "metadata": {},
     "output_type": "display_data"
    },
    {
     "name": "stdout",
     "output_type": "stream",
     "text": [
      "time: 934 ms (started: 2024-04-04 23:05:23 +02:00)\n"
     ]
    }
   ],
   "source": [
    "k=10\n",
    "id = training_queries[training_queries.qid==qid].index[0] # get the index of the query in the training_queries\n",
    "xqv = X*train_qvs[id].T # cosine similarity between query and all documents\n",
    "predki = np.argpartition(xqv.A.flat, -k)[-k:] # top k\n",
    "ourdocs.loc[predki].text\n",
    "query = f\"Represent this sentence for searching relevant passages: {training_queries[training_queries.qid==qid]['query'].values[0]}\"\n",
    "sampledocs = [query] + ourdocs.loc[predki].text.to_list()\n",
    "embeddings = model.encode(sampledocs)\n",
    "similarities = cos_sim(embeddings[0], embeddings[1:])\n",
    "show_doc(qid, similarities=similarities[0])\n"
   ]
  },
  {
   "cell_type": "markdown",
   "id": "301e35c6",
   "metadata": {},
   "source": [
    "### p@10"
   ]
  },
  {
   "cell_type": "code",
   "execution_count": 75,
   "id": "b49cc4a4",
   "metadata": {},
   "outputs": [
    {
     "name": "stdout",
     "output_type": "stream",
     "text": [
      "P@10 for 251898 when k = 10:  1.0\n",
      "time: 669 ms (started: 2024-04-04 23:05:44 +02:00)\n"
     ]
    }
   ],
   "source": [
    "print(f\"P@10 for {qid} when k = 10: \",pAt10(qid, k=10))"
   ]
  },
  {
   "cell_type": "markdown",
   "id": "cc2e8d95",
   "metadata": {},
   "source": [
    "### 🚧 Todo:\n",
    "- Do your 3rd case and comment on the results."
   ]
  },
  {
   "cell_type": "code",
   "execution_count": 45,
   "id": "1a958c68",
   "metadata": {},
   "outputs": [
    {
     "data": {
      "text/html": [
       "<div>\n",
       "<style scoped>\n",
       "    .dataframe tbody tr th:only-of-type {\n",
       "        vertical-align: middle;\n",
       "    }\n",
       "\n",
       "    .dataframe tbody tr th {\n",
       "        vertical-align: top;\n",
       "    }\n",
       "\n",
       "    .dataframe thead th {\n",
       "        text-align: right;\n",
       "    }\n",
       "</style>\n",
       "<table border=\"1\" class=\"dataframe\">\n",
       "  <thead>\n",
       "    <tr style=\"text-align: right;\">\n",
       "      <th></th>\n",
       "      <th>qid</th>\n",
       "      <th>query</th>\n",
       "    </tr>\n",
       "  </thead>\n",
       "  <tbody>\n",
       "    <tr>\n",
       "      <th>0</th>\n",
       "      <td>687888</td>\n",
       "      <td>what is a jpe</td>\n",
       "    </tr>\n",
       "    <tr>\n",
       "      <th>1</th>\n",
       "      <td>480210</td>\n",
       "      <td>price for asphalt driveway</td>\n",
       "    </tr>\n",
       "    <tr>\n",
       "      <th>2</th>\n",
       "      <td>591004</td>\n",
       "      <td>what causes pressure skin bruising</td>\n",
       "    </tr>\n",
       "    <tr>\n",
       "      <th>3</th>\n",
       "      <td>260536</td>\n",
       "      <td>how long drive from flagstaff to grand canyon</td>\n",
       "    </tr>\n",
       "    <tr>\n",
       "      <th>4</th>\n",
       "      <td>39422</td>\n",
       "      <td>average number of bowel movements per day for ...</td>\n",
       "    </tr>\n",
       "    <tr>\n",
       "      <th>5</th>\n",
       "      <td>400614</td>\n",
       "      <td>is a personality disorder a mental illness</td>\n",
       "    </tr>\n",
       "    <tr>\n",
       "      <th>6</th>\n",
       "      <td>79798</td>\n",
       "      <td>can you stick weld aluminum</td>\n",
       "    </tr>\n",
       "    <tr>\n",
       "      <th>7</th>\n",
       "      <td>92082</td>\n",
       "      <td>cholesterol and triglycerides are because of t...</td>\n",
       "    </tr>\n",
       "    <tr>\n",
       "      <th>8</th>\n",
       "      <td>120204</td>\n",
       "      <td>define detailed design (software)</td>\n",
       "    </tr>\n",
       "    <tr>\n",
       "      <th>9</th>\n",
       "      <td>133639</td>\n",
       "      <td>definition of cosmic</td>\n",
       "    </tr>\n",
       "    <tr>\n",
       "      <th>10</th>\n",
       "      <td>882355</td>\n",
       "      <td>what nutrient makes grass greener</td>\n",
       "    </tr>\n",
       "    <tr>\n",
       "      <th>11</th>\n",
       "      <td>510587</td>\n",
       "      <td>tartrazine what is it</td>\n",
       "    </tr>\n",
       "    <tr>\n",
       "      <th>12</th>\n",
       "      <td>829202</td>\n",
       "      <td>what is the main airport in turks and caicos b...</td>\n",
       "    </tr>\n",
       "    <tr>\n",
       "      <th>13</th>\n",
       "      <td>7957</td>\n",
       "      <td>when did costco begin</td>\n",
       "    </tr>\n",
       "    <tr>\n",
       "      <th>14</th>\n",
       "      <td>180005</td>\n",
       "      <td>emitter meaning</td>\n",
       "    </tr>\n",
       "    <tr>\n",
       "      <th>15</th>\n",
       "      <td>947184</td>\n",
       "      <td>when does nfl network nfl training camp coverage?</td>\n",
       "    </tr>\n",
       "    <tr>\n",
       "      <th>16</th>\n",
       "      <td>1159641</td>\n",
       "      <td>what essiac tea help</td>\n",
       "    </tr>\n",
       "    <tr>\n",
       "      <th>17</th>\n",
       "      <td>980944</td>\n",
       "      <td>where is dale earnhardt buried</td>\n",
       "    </tr>\n",
       "    <tr>\n",
       "      <th>18</th>\n",
       "      <td>813636</td>\n",
       "      <td>what is the currency of buenos aires</td>\n",
       "    </tr>\n",
       "    <tr>\n",
       "      <th>19</th>\n",
       "      <td>882382</td>\n",
       "      <td>what nutrients are in bacon</td>\n",
       "    </tr>\n",
       "    <tr>\n",
       "      <th>20</th>\n",
       "      <td>1154403</td>\n",
       "      <td>what is james buchanan accomplishments in office</td>\n",
       "    </tr>\n",
       "    <tr>\n",
       "      <th>21</th>\n",
       "      <td>1049686</td>\n",
       "      <td>who sang almost paradise</td>\n",
       "    </tr>\n",
       "    <tr>\n",
       "      <th>22</th>\n",
       "      <td>698650</td>\n",
       "      <td>what is a russet potato</td>\n",
       "    </tr>\n",
       "    <tr>\n",
       "      <th>23</th>\n",
       "      <td>808360</td>\n",
       "      <td>what is the best medication for chlamydia</td>\n",
       "    </tr>\n",
       "    <tr>\n",
       "      <th>24</th>\n",
       "      <td>866027</td>\n",
       "      <td>what kind doctor treat sciatic pain</td>\n",
       "    </tr>\n",
       "    <tr>\n",
       "      <th>25</th>\n",
       "      <td>943469</td>\n",
       "      <td>when do babies stand on their own</td>\n",
       "    </tr>\n",
       "    <tr>\n",
       "      <th>26</th>\n",
       "      <td>623730</td>\n",
       "      <td>what do knee wraps do</td>\n",
       "    </tr>\n",
       "    <tr>\n",
       "      <th>27</th>\n",
       "      <td>234369</td>\n",
       "      <td>how fast is the speed of lighting in mach</td>\n",
       "    </tr>\n",
       "    <tr>\n",
       "      <th>28</th>\n",
       "      <td>685501</td>\n",
       "      <td>what is a good substitute for coconut oil</td>\n",
       "    </tr>\n",
       "    <tr>\n",
       "      <th>29</th>\n",
       "      <td>1142083</td>\n",
       "      <td>define whiteout</td>\n",
       "    </tr>\n",
       "  </tbody>\n",
       "</table>\n",
       "</div>"
      ],
      "text/plain": [
       "        qid                                              query\n",
       "0    687888                                      what is a jpe\n",
       "1    480210                         price for asphalt driveway\n",
       "2    591004                 what causes pressure skin bruising\n",
       "3    260536      how long drive from flagstaff to grand canyon\n",
       "4     39422  average number of bowel movements per day for ...\n",
       "5    400614         is a personality disorder a mental illness\n",
       "6     79798                        can you stick weld aluminum\n",
       "7     92082  cholesterol and triglycerides are because of t...\n",
       "8    120204                  define detailed design (software)\n",
       "9    133639                               definition of cosmic\n",
       "10   882355                  what nutrient makes grass greener\n",
       "11   510587                              tartrazine what is it\n",
       "12   829202  what is the main airport in turks and caicos b...\n",
       "13     7957                              when did costco begin\n",
       "14   180005                                    emitter meaning\n",
       "15   947184  when does nfl network nfl training camp coverage?\n",
       "16  1159641                               what essiac tea help\n",
       "17   980944                     where is dale earnhardt buried\n",
       "18   813636               what is the currency of buenos aires\n",
       "19   882382                        what nutrients are in bacon\n",
       "20  1154403   what is james buchanan accomplishments in office\n",
       "21  1049686                           who sang almost paradise\n",
       "22   698650                            what is a russet potato\n",
       "23   808360          what is the best medication for chlamydia\n",
       "24   866027                what kind doctor treat sciatic pain\n",
       "25   943469                  when do babies stand on their own\n",
       "26   623730                              what do knee wraps do\n",
       "27   234369          how fast is the speed of lighting in mach\n",
       "28   685501          what is a good substitute for coconut oil\n",
       "29  1142083                                    define whiteout"
      ]
     },
     "execution_count": 45,
     "metadata": {},
     "output_type": "execute_result"
    },
    {
     "name": "stdout",
     "output_type": "stream",
     "text": [
      "time: 8.66 ms (started: 2024-04-04 22:45:55 +02:00)\n"
     ]
    }
   ],
   "source": [
    "queries.head(30)"
   ]
  },
  {
   "cell_type": "code",
   "execution_count": 79,
   "id": "0e759274",
   "metadata": {},
   "outputs": [
    {
     "name": "stdout",
     "output_type": "stream",
     "text": [
      "query: what is a good substitute for coconut oil\n",
      "top 10 predicted documents for query 685501:\n"
     ]
    },
    {
     "data": {
      "text/html": [
       "<div>\n",
       "<style scoped>\n",
       "    .dataframe tbody tr th:only-of-type {\n",
       "        vertical-align: middle;\n",
       "    }\n",
       "\n",
       "    .dataframe tbody tr th {\n",
       "        vertical-align: top;\n",
       "    }\n",
       "\n",
       "    .dataframe thead th {\n",
       "        text-align: right;\n",
       "    }\n",
       "</style>\n",
       "<table border=\"1\" class=\"dataframe\">\n",
       "  <thead>\n",
       "    <tr style=\"text-align: right;\">\n",
       "      <th></th>\n",
       "      <th>docid</th>\n",
       "      <th>text</th>\n",
       "      <th>in_qgold10</th>\n",
       "      <th>in_qgold100</th>\n",
       "      <th>similarity</th>\n",
       "    </tr>\n",
       "  </thead>\n",
       "  <tbody>\n",
       "    <tr>\n",
       "      <th>28043</th>\n",
       "      <td>D3082321</td>\n",
       "      <td>How to Substitute Coconut Oil for Vegetable Oi...</td>\n",
       "      <td>False</td>\n",
       "      <td>True</td>\n",
       "      <td>0.845558</td>\n",
       "    </tr>\n",
       "    <tr>\n",
       "      <th>29239</th>\n",
       "      <td>D795578</td>\n",
       "      <td>Why and How to Use Coconut Oil to Replace Butt...</td>\n",
       "      <td>False</td>\n",
       "      <td>True</td>\n",
       "      <td>0.816008</td>\n",
       "    </tr>\n",
       "    <tr>\n",
       "      <th>3729</th>\n",
       "      <td>D795576</td>\n",
       "      <td>What is a Good Substitute for Coconut Milk and...</td>\n",
       "      <td>True</td>\n",
       "      <td>True</td>\n",
       "      <td>0.813952</td>\n",
       "    </tr>\n",
       "    <tr>\n",
       "      <th>25483</th>\n",
       "      <td>D423625</td>\n",
       "      <td>How to Use Coconut Oil 1 Select the right kind...</td>\n",
       "      <td>False</td>\n",
       "      <td>True</td>\n",
       "      <td>0.746064</td>\n",
       "    </tr>\n",
       "    <tr>\n",
       "      <th>62124</th>\n",
       "      <td>D2921380</td>\n",
       "      <td>How to Use Coconut Oil 1 Select the right kind...</td>\n",
       "      <td>False</td>\n",
       "      <td>True</td>\n",
       "      <td>0.746064</td>\n",
       "    </tr>\n",
       "    <tr>\n",
       "      <th>1798</th>\n",
       "      <td>D1879579</td>\n",
       "      <td>What Is the Difference Between Coconut Oil &amp; C...</td>\n",
       "      <td>False</td>\n",
       "      <td>True</td>\n",
       "      <td>0.719958</td>\n",
       "    </tr>\n",
       "    <tr>\n",
       "      <th>17026</th>\n",
       "      <td>D2152717</td>\n",
       "      <td>How Much Coconut Oil Should I Eat Daily? How M...</td>\n",
       "      <td>False</td>\n",
       "      <td>True</td>\n",
       "      <td>0.714263</td>\n",
       "    </tr>\n",
       "    <tr>\n",
       "      <th>72564</th>\n",
       "      <td>D1403176</td>\n",
       "      <td>The Differences Between Refined and Virgin Coc...</td>\n",
       "      <td>False</td>\n",
       "      <td>True</td>\n",
       "      <td>0.688196</td>\n",
       "    </tr>\n",
       "    <tr>\n",
       "      <th>8131</th>\n",
       "      <td>D1401032</td>\n",
       "      <td>How Do I Store Coconut Oil? How Do I Store Coc...</td>\n",
       "      <td>False</td>\n",
       "      <td>True</td>\n",
       "      <td>0.685200</td>\n",
       "    </tr>\n",
       "    <tr>\n",
       "      <th>70763</th>\n",
       "      <td>D3350443</td>\n",
       "      <td>Is Coconut Oil Good for Frying on High Tempera...</td>\n",
       "      <td>False</td>\n",
       "      <td>True</td>\n",
       "      <td>0.682068</td>\n",
       "    </tr>\n",
       "  </tbody>\n",
       "</table>\n",
       "</div>"
      ],
      "text/plain": [
       "          docid                                               text  \\\n",
       "28043  D3082321  How to Substitute Coconut Oil for Vegetable Oi...   \n",
       "29239   D795578  Why and How to Use Coconut Oil to Replace Butt...   \n",
       "3729    D795576  What is a Good Substitute for Coconut Milk and...   \n",
       "25483   D423625  How to Use Coconut Oil 1 Select the right kind...   \n",
       "62124  D2921380  How to Use Coconut Oil 1 Select the right kind...   \n",
       "1798   D1879579  What Is the Difference Between Coconut Oil & C...   \n",
       "17026  D2152717  How Much Coconut Oil Should I Eat Daily? How M...   \n",
       "72564  D1403176  The Differences Between Refined and Virgin Coc...   \n",
       "8131   D1401032  How Do I Store Coconut Oil? How Do I Store Coc...   \n",
       "70763  D3350443  Is Coconut Oil Good for Frying on High Tempera...   \n",
       "\n",
       "       in_qgold10  in_qgold100  similarity  \n",
       "28043       False         True    0.845558  \n",
       "29239       False         True    0.816008  \n",
       "3729         True         True    0.813952  \n",
       "25483       False         True    0.746064  \n",
       "62124       False         True    0.746064  \n",
       "1798        False         True    0.719958  \n",
       "17026       False         True    0.714263  \n",
       "72564       False         True    0.688196  \n",
       "8131        False         True    0.685200  \n",
       "70763       False         True    0.682068  "
      ]
     },
     "metadata": {},
     "output_type": "display_data"
    },
    {
     "name": "stdout",
     "output_type": "stream",
     "text": [
      "time: 959 ms (started: 2024-04-04 23:10:13 +02:00)\n"
     ]
    }
   ],
   "source": [
    "k=10\n",
    "id = training_queries[training_queries.qid==685501].index[0] # get the index of the query in the training_queries\n",
    "xqv = X*train_qvs[id].T # cosine similarity between query and all documents\n",
    "predki = np.argpartition(xqv.A.flat, -k)[-k:] # top k\n",
    "ourdocs.loc[predki].text\n",
    "query = training_queries[training_queries.qid==685501]['query'].values[0]\n",
    "sampledocs = [query] + ourdocs.loc[predki].text.to_list()\n",
    "embeddings = model.encode(sampledocs)\n",
    "similarities = cos_sim(embeddings[0], embeddings[1:])\n",
    "show_doc(685501, similarities=similarities[0])"
   ]
  },
  {
   "cell_type": "markdown",
   "id": "453caf0a",
   "metadata": {},
   "source": [
    "#### Analysis Results"
   ]
  },
  {
   "cell_type": "markdown",
   "id": "f567632d",
   "metadata": {},
   "source": [
    "1. None of the documents listed were marked as relevant in the top 10 results (in_qgold10=False for all but one entry), yet all were marked as relevant in the top 100 results (in_qgold100=True for all entries). This suggests that the criteria for relevance become broader as the result set expands or that some relevant documents are ranked lower and only appear as relevant when considering a larger set of top results. Notably, the document with docid of D795576 is an exception being marked as relevant in both sets, indicating a high relevance to the query.\n",
    "\n",
    "\n",
    "2. The similarity scores do not strictly dictate whether a document is within the top 10 for relevance (in_qgold10). For instance, the document with the highest similarity score (0.845558) was not considered relevant in the top 10 but was in the top 100. This observation could suggest that the threshold for relevance in the top 10 is very strict or based on additional criteria not captured solely by the similarity score."
   ]
  },
  {
   "cell_type": "code",
   "execution_count": 78,
   "id": "0c182b5e",
   "metadata": {},
   "outputs": [
    {
     "name": "stdout",
     "output_type": "stream",
     "text": [
      "P@10 for 685501 when k = 10:  1.0\n",
      "time: 625 ms (started: 2024-04-04 23:09:56 +02:00)\n"
     ]
    }
   ],
   "source": [
    "print(f\"P@10 for {685501} when k = 10: \",pAt10(685501, k=10))"
   ]
  },
  {
   "cell_type": "markdown",
   "id": "ef874e2a",
   "metadata": {},
   "source": [
    "### 🚧 Todo:\n",
    "- Do an evaluation on our 3 cases to see whether the relevance score improves."
   ]
  },
  {
   "cell_type": "markdown",
   "id": "78707d23",
   "metadata": {},
   "source": [
    "#### Summary + Evaluation of Results"
   ]
  },
  {
   "cell_type": "code",
   "execution_count": 82,
   "id": "e1b89e33",
   "metadata": {},
   "outputs": [
    {
     "name": "stdout",
     "output_type": "stream",
     "text": [
      "P@10 for 729561 when k = 10:  0.1\n",
      "P@10 for 251898 when k = 10:  1.0\n",
      "P@10 for 685501 when k = 10:  1.0\n",
      "----------------------------------------------------\n",
      "P@50 for 729561 when k = 50:  0.0\n",
      "P@50 for 251898 when k = 50:  0.5\n",
      "P@50 for 685501 when k = 50:  0.7\n",
      "----------------------------------------------------\n",
      "P@100 for 729561 when k = 100:  0.0\n",
      "P@100 for 251898 when k = 100:  0.5\n",
      "P@100 for 685501 when k = 100:  0.5\n",
      "time: 15.3 s (started: 2024-04-04 23:23:12 +02:00)\n"
     ]
    }
   ],
   "source": [
    "print(f\"P@10 for {729561} when k = 10: \",pAt10(729561, k=10))\n",
    "print(f\"P@10 for {251898} when k = 10: \",pAt10(251898, k=10))\n",
    "print(f\"P@10 for {685501} when k = 10: \",pAt10(685501, k=10))\n",
    "print(\"----------------------------------------------------\")\n",
    "print(f\"P@50 for {729561} when k = 50: \",pAt10(729561, k=50))\n",
    "print(f\"P@50 for {251898} when k = 50: \",pAt10(251898, k=50))\n",
    "print(f\"P@50 for {685501} when k = 50: \",pAt10(685501, k=50))\n",
    "print(\"----------------------------------------------------\")\n",
    "print(f\"P@100 for {729561} when k = 100: \",pAt10(729561, k=100))\n",
    "print(f\"P@100 for {251898} when k = 100: \",pAt10(251898, k=100))\n",
    "print(f\"P@100 for {685501} when k = 100: \",pAt10(685501, k=100))"
   ]
  },
  {
   "cell_type": "markdown",
   "id": "eb45575f",
   "metadata": {},
   "source": [
    "#### Results"
   ]
  },
  {
   "cell_type": "markdown",
   "id": "f5ecccb9",
   "metadata": {},
   "source": [
    "Given the results indicating precision at different cutoffs (P@10, P@50, and P@100) for the three queries (729561, 251898, and 685501), we can interpret the retrieval system's performance:\n",
    "\n",
    "##### P@10 Results\n",
    "\n",
    "- **Query 729561**: Precision at 10 (P@10) is 0.1, suggesting only 1 out of the top 10 documents is relevant, indicating low precision for this query within the top 10 results.\n",
    "\n",
    "- **Query 251898 & Query 685501**: Both queries achieve a P@10 of 1.0, meaning all top 10 documents are relevant for these queries, indicating excellent precision within the top 10 results.\n",
    "\n",
    "##### P@50 Results\n",
    "\n",
    "- **Query 729561**: Precision at 50 (P@50) is 0.0, indicating no relevant documents are found within the top 50, suggesting the query might be challenging or poorly represented in the data.\n",
    "\n",
    "- **Query 251898**: P@50 is 0.5, indicating 25 out of the top 50 documents are relevant, showing a significant drop in precision from the top 10 to the top 50, which might be due to a dilution of relevant documents as more results are considered.\n",
    "\n",
    "- **Query 685501**: P@50 is 0.7, meaning 35 out of the top 50 documents are relevant, indicating relatively high precision even when expanding the set of results to the top 50.\n",
    "\n",
    "##### P@100 Results\n",
    "\n",
    "- **Query 729561**: P@100 remains 0.0, consistent with P@50, underscoring challenges with finding relevant documents for this query even within the top 100 results.\n",
    "\n",
    "- **Query 251898 & Query 685501**: Both queries have a P@100 of 0.5, indicating 50 out of the top 100 documents are relevant. This maintains the precision level seen at P@50 for these queries but shows a significant decrease from P@10, reflecting the challenge in maintaining high precision as more results are included.\n",
    "\n",
    "##### General Interpretation\n",
    "\n",
    "- **Consistency Across Different Ks**: For query 729561, the precision is consistently low or nonexistent across different cutoffs, suggesting specific difficulties in retrieving relevant documents for this query. For queries 251898 and 685501, there's a notable drop in precision from P@10 to P@50 and P@100, indicating that while the system effectively identifies relevant documents within the top 10, its ability to do so diminishes as the number of considered documents increases.\n",
    "\n",
    "- **Query Specificity and System Effectiveness**: The variation in performance across different queries suggests that the retrieval system's effectiveness might vary significantly based on the query's specificity and the availability of relevant documents. Queries 251898 and 685501 seem well-served within the top 10 results, but for broader result sets, the precision decreases."
   ]
  },
  {
   "cell_type": "markdown",
   "id": "b45d5b13",
   "metadata": {},
   "source": [
    "### Check out the tokenization"
   ]
  },
  {
   "cell_type": "code",
   "execution_count": 84,
   "id": "795b88fb",
   "metadata": {},
   "outputs": [
    {
     "name": "stdout",
     "output_type": "stream",
     "text": [
      "time: 505 ms (started: 2024-04-04 23:29:05 +02:00)\n"
     ]
    }
   ],
   "source": [
    "from transformers import AutoModel, AutoTokenizer\n",
    "model_id = 'mixedbread-ai/mxbai-embed-large-v1'\n",
    "tokenizer = AutoTokenizer.from_pretrained(model_id)\n",
    "model = AutoModel.from_pretrained(model_id) #.cuda()"
   ]
  },
  {
   "cell_type": "code",
   "execution_count": 85,
   "id": "a0e59d45",
   "metadata": {},
   "outputs": [
    {
     "data": {
      "text/plain": [
       "'hello won ##dro ##us information retrieval world : oh , an unseen ##word ! p ##ne ##um ##ono ##ult ##ram ##ic ##ros ##copic ##sil ##ico ##vo ##lc ##ano ##con ##ios ##is pseudo ##pse ##ud ##oh ##yp ##opa ##rath ##yr ##oid ##ism hip ##pop ##oto ##mons ##tro ##ses ##qui ##pped ##ali ##op ##ho ##bia anti ##con ##sti ##tu ##tion ##ally ##est ##ab ##lish ##ment ##arian ##ism super ##cal ##if ##rag ##ilis ##tic ##ex ##pia ##lid ##oc ##ious fl ##oc ##cina ##uc ##ini ##hil ##ip ##ili ##fication electro ##ence ##pha ##logram rhine ##nce ##pha ##los ##pher ##op ##ne ##um ##one ##ct ##omy inc ##omp ##re ##hen ##si ##bilities honor ##ific ##abi ##lit ##udi ##ni ##tat ##ib ##us'"
      ]
     },
     "execution_count": 85,
     "metadata": {},
     "output_type": "execute_result"
    },
    {
     "name": "stdout",
     "output_type": "stream",
     "text": [
      "time: 4.33 ms (started: 2024-04-04 23:29:10 +02:00)\n"
     ]
    }
   ],
   "source": [
    "long_words = [\n",
    "    \"pneumonoultramicroscopicsilicovolcanoconiosis\",  # A lung disease caused by inhaling silica dust\n",
    "    \"pseudopseudohypoparathyroidism\",             # A rare genetic disorder\n",
    "    \"hippopotomonstrosesquippedaliophobia\",         # Fear of long words (interestingly enough)\n",
    "    \"anticonstitutionallyestablishmentarianism\",  # Opposition to establishing a constitution\n",
    "    \"supercalifragilisticexpialidocious\",          # From Mary Poppins (not actually that long!)\n",
    "    \"floccinaucinihilipilification\",              # The act of estimating something as worthless\n",
    "    \"electroencephalogram\",                         # Recording electrical activity of the brain\n",
    "    \"rhinencephalospheropneumonectomy\",            # Surgical removal of part of the brain and lung\n",
    "    \"incomprehensibilities\",                       # The state of being impossible to understand\n",
    "    \"honorificabilitudinitatibus\",                 # (Shakespearean) A long word for \"worthiness\"\n",
    "]\n",
    "\n",
    "' '.join(tokenizer.tokenize('Hello wondrous information retrieval world: Oh, an unseenword!'+' '.join(long_words)))"
   ]
  },
  {
   "cell_type": "markdown",
   "id": "b5352111",
   "metadata": {},
   "source": [
    "### 🚧 Todo:\n",
    "\n",
    "- Write a function that gives a list of tokens for a given words that are split up by the tokenizer"
   ]
  },
  {
   "cell_type": "code",
   "execution_count": 89,
   "id": "e4ac16ae",
   "metadata": {},
   "outputs": [
    {
     "name": "stdout",
     "output_type": "stream",
     "text": [
      "time: 1.1 ms (started: 2024-04-04 23:34:08 +02:00)\n"
     ]
    }
   ],
   "source": [
    "#Tokenizes a list of words and returns a list of tokens for each word.\n",
    "def tokenizer_splitter(tokenizer, words):\n",
    "    return [tokenizer.tokenize(word) for word in words]"
   ]
  },
  {
   "cell_type": "code",
   "execution_count": 90,
   "id": "df174af7",
   "metadata": {},
   "outputs": [
    {
     "name": "stdout",
     "output_type": "stream",
     "text": [
      "Word: pneumonoultramicroscopicsilicovolcanoconiosis\n",
      "Tokens: ['p', '##ne', '##um', '##ono', '##ult', '##ram', '##ic', '##ros', '##copic', '##sil', '##ico', '##vo', '##lc', '##ano', '##con', '##ios', '##is']\n",
      "\n",
      "Word: pseudopseudohypoparathyroidism\n",
      "Tokens: ['pseudo', '##pse', '##ud', '##oh', '##yp', '##opa', '##rath', '##yr', '##oid', '##ism']\n",
      "\n",
      "Word: hippopotomonstrosesquippedaliophobia\n",
      "Tokens: ['hip', '##pop', '##oto', '##mons', '##tro', '##ses', '##qui', '##pped', '##ali', '##op', '##ho', '##bia']\n",
      "\n",
      "Word: anticonstitutionallyestablishmentarianism\n",
      "Tokens: ['anti', '##con', '##sti', '##tu', '##tion', '##ally', '##est', '##ab', '##lish', '##ment', '##arian', '##ism']\n",
      "\n",
      "Word: supercalifragilisticexpialidocious\n",
      "Tokens: ['super', '##cal', '##if', '##rag', '##ilis', '##tic', '##ex', '##pia', '##lid', '##oc', '##ious']\n",
      "\n",
      "Word: floccinaucinihilipilification\n",
      "Tokens: ['fl', '##oc', '##cina', '##uc', '##ini', '##hil', '##ip', '##ili', '##fication']\n",
      "\n",
      "Word: electroencephalogram\n",
      "Tokens: ['electro', '##ence', '##pha', '##logram']\n",
      "\n",
      "Word: rhinencephalospheropneumonectomy\n",
      "Tokens: ['rhine', '##nce', '##pha', '##los', '##pher', '##op', '##ne', '##um', '##one', '##ct', '##omy']\n",
      "\n",
      "Word: incomprehensibilities\n",
      "Tokens: ['inc', '##omp', '##re', '##hen', '##si', '##bilities']\n",
      "\n",
      "Word: honorificabilitudinitatibus\n",
      "Tokens: ['honor', '##ific', '##abi', '##lit', '##udi', '##ni', '##tat', '##ib', '##us']\n",
      "\n",
      "time: 5.31 ms (started: 2024-04-04 23:34:10 +02:00)\n"
     ]
    }
   ],
   "source": [
    "tokenized_long_words = tokenizer_splitter(tokenizer, long_words)\n",
    "\n",
    "# Display the result\n",
    "for word, tokens in zip(long_words, tokenized_long_words):\n",
    "    print(f\"Word: {word}\")\n",
    "    print(f\"Tokens: {tokens}\\n\")"
   ]
  },
  {
   "cell_type": "markdown",
   "id": "cdba61d5",
   "metadata": {},
   "source": [
    "### Other things that we could look into (if we had the time and the computational resources):\n",
    "\n",
    "- Easy:\n",
    "  - Use the mixedbread reranking feature https://www.mixedbread.ai/blog/mxbai-rerank-v1 (see below)\n",
    "\n",
    "\n",
    "- Hard\n",
    "  - Complete text embeddings beyond 512 tokens\n",
    "  - And then saving and sharing precomputed embeddings\n",
    "  - Using only this embedding on all documents and compare it with tf-idf/bm25\n"
   ]
  },
  {
   "cell_type": "code",
   "execution_count": 93,
   "id": "be8f82e1",
   "metadata": {},
   "outputs": [
    {
     "name": "stdout",
     "output_type": "stream",
     "text": [
      "time: 1.1 ms (started: 2024-04-04 23:41:04 +02:00)\n"
     ]
    }
   ],
   "source": [
    "def query_info(qid, k=10, training_queries=training_queries, ourdocs=ourdocs, gold=gold):\n",
    "    # Directly retrieve the query vector for the given qid\n",
    "    qv = train_qvs[training_queries[training_queries.qid==qid].index[0]].T\n",
    "    # Compute cosine similarity between the query vector and all document vectors\n",
    "    xqv = X * qv\n",
    "    # Get indices of top k documents based on similarity\n",
    "    predki = np.argpartition(xqv.A.flat, -k)[-k:]\n",
    "    # Retrieve the query text\n",
    "    query = training_queries.loc[training_queries.qid==qid, 'query'].values[0]\n",
    "    # Retrieve the text of the predicted top k documents\n",
    "    sampledocs = ourdocs.loc[predki, 'text'].to_list()\n",
    "    return query, sampledocs\n"
   ]
  },
  {
   "cell_type": "code",
   "execution_count": 95,
   "id": "d34fc190",
   "metadata": {},
   "outputs": [
    {
     "ename": "UnauthorizedError",
     "evalue": "status_code: 401, body: type='unauthorized_error' details=None message='Invalid API key. We are unable to map the provided API key to a valid user or organization.' url='https://www.mixedbread.ai/api-reference/authentication'",
     "output_type": "error",
     "traceback": [
      "\u001b[0;31m---------------------------------------------------------------------------\u001b[0m",
      "\u001b[0;31mUnauthorizedError\u001b[0m                         Traceback (most recent call last)",
      "\u001b[1;32m/bigstorage/Pablo_TER/Pablo_Molla_Notebook_4.ipynb Cell 80\u001b[0m line \u001b[0;36m5\n\u001b[1;32m      <a href='vscode-notebook-cell://ssh-remote%2Bcalcul/bigstorage/Pablo_TER/Pablo_Molla_Notebook_4.ipynb#Y203sdnNjb2RlLXJlbW90ZQ%3D%3D?line=2'>3</a>\u001b[0m mxbai \u001b[39m=\u001b[39m MixedbreadAI(api_key\u001b[39m=\u001b[39m\u001b[39m\"\u001b[39m\u001b[39m{MIXEDBREAD_API_KEY}\u001b[39;00m\u001b[39m\"\u001b[39m)\n\u001b[1;32m      <a href='vscode-notebook-cell://ssh-remote%2Bcalcul/bigstorage/Pablo_TER/Pablo_Molla_Notebook_4.ipynb#Y203sdnNjb2RlLXJlbW90ZQ%3D%3D?line=3'>4</a>\u001b[0m query1, sampledocs1 \u001b[39m=\u001b[39m query_info(\u001b[39m729561\u001b[39m)\n\u001b[0;32m----> <a href='vscode-notebook-cell://ssh-remote%2Bcalcul/bigstorage/Pablo_TER/Pablo_Molla_Notebook_4.ipynb#Y203sdnNjb2RlLXJlbW90ZQ%3D%3D?line=4'>5</a>\u001b[0m res1 \u001b[39m=\u001b[39m mxbai\u001b[39m.\u001b[39;49mreranking(\n\u001b[1;32m      <a href='vscode-notebook-cell://ssh-remote%2Bcalcul/bigstorage/Pablo_TER/Pablo_Molla_Notebook_4.ipynb#Y203sdnNjb2RlLXJlbW90ZQ%3D%3D?line=5'>6</a>\u001b[0m     model\u001b[39m=\u001b[39;49m\u001b[39m\"\u001b[39;49m\u001b[39mmixedbread-ai/mxbai-rerank-large-v1\u001b[39;49m\u001b[39m\"\u001b[39;49m,\n\u001b[1;32m      <a href='vscode-notebook-cell://ssh-remote%2Bcalcul/bigstorage/Pablo_TER/Pablo_Molla_Notebook_4.ipynb#Y203sdnNjb2RlLXJlbW90ZQ%3D%3D?line=6'>7</a>\u001b[0m     query\u001b[39m=\u001b[39;49mquery1,\n\u001b[1;32m      <a href='vscode-notebook-cell://ssh-remote%2Bcalcul/bigstorage/Pablo_TER/Pablo_Molla_Notebook_4.ipynb#Y203sdnNjb2RlLXJlbW90ZQ%3D%3D?line=7'>8</a>\u001b[0m     \u001b[39minput\u001b[39;49m\u001b[39m=\u001b[39;49msampledocs1,\n\u001b[1;32m      <a href='vscode-notebook-cell://ssh-remote%2Bcalcul/bigstorage/Pablo_TER/Pablo_Molla_Notebook_4.ipynb#Y203sdnNjb2RlLXJlbW90ZQ%3D%3D?line=8'>9</a>\u001b[0m     top_k\u001b[39m=\u001b[39;49m\u001b[39m10\u001b[39;49m,\n\u001b[1;32m     <a href='vscode-notebook-cell://ssh-remote%2Bcalcul/bigstorage/Pablo_TER/Pablo_Molla_Notebook_4.ipynb#Y203sdnNjb2RlLXJlbW90ZQ%3D%3D?line=9'>10</a>\u001b[0m     return_input\u001b[39m=\u001b[39;49m\u001b[39mFalse\u001b[39;49;00m\n\u001b[1;32m     <a href='vscode-notebook-cell://ssh-remote%2Bcalcul/bigstorage/Pablo_TER/Pablo_Molla_Notebook_4.ipynb#Y203sdnNjb2RlLXJlbW90ZQ%3D%3D?line=10'>11</a>\u001b[0m )\n\u001b[1;32m     <a href='vscode-notebook-cell://ssh-remote%2Bcalcul/bigstorage/Pablo_TER/Pablo_Molla_Notebook_4.ipynb#Y203sdnNjb2RlLXJlbW90ZQ%3D%3D?line=12'>13</a>\u001b[0m \u001b[39mprint\u001b[39m(res1\u001b[39m.\u001b[39mdata)\n\u001b[1;32m     <a href='vscode-notebook-cell://ssh-remote%2Bcalcul/bigstorage/Pablo_TER/Pablo_Molla_Notebook_4.ipynb#Y203sdnNjb2RlLXJlbW90ZQ%3D%3D?line=13'>14</a>\u001b[0m \u001b[39m#Does not work as it requires API key\u001b[39;00m\n",
      "File \u001b[0;32m/bigstorage/lufei/Projets/ChineseTerm/BertForDeprel/venv/lib/python3.10/site-packages/mixedbread_ai/client.py:256\u001b[0m, in \u001b[0;36mMixedbreadAI.reranking\u001b[0;34m(self, input, model, query, return_input, top_k, request_options)\u001b[0m\n\u001b[1;32m    254\u001b[0m     \u001b[39mraise\u001b[39;00m BadRequestError(pydantic\u001b[39m.\u001b[39mparse_obj_as(BadRequestErrorBody, _response\u001b[39m.\u001b[39mjson()))  \u001b[39m# type: ignore\u001b[39;00m\n\u001b[1;32m    255\u001b[0m \u001b[39mif\u001b[39;00m _response\u001b[39m.\u001b[39mstatus_code \u001b[39m==\u001b[39m \u001b[39m401\u001b[39m:\n\u001b[0;32m--> 256\u001b[0m     \u001b[39mraise\u001b[39;00m UnauthorizedError(pydantic\u001b[39m.\u001b[39mparse_obj_as(UnauthorizedErrorBody, _response\u001b[39m.\u001b[39mjson()))  \u001b[39m# type: ignore\u001b[39;00m\n\u001b[1;32m    257\u001b[0m \u001b[39mif\u001b[39;00m _response\u001b[39m.\u001b[39mstatus_code \u001b[39m==\u001b[39m \u001b[39m403\u001b[39m:\n\u001b[1;32m    258\u001b[0m     \u001b[39mraise\u001b[39;00m ForbiddenError(pydantic\u001b[39m.\u001b[39mparse_obj_as(ForbiddenErrorBody, _response\u001b[39m.\u001b[39mjson()))  \u001b[39m# type: ignore\u001b[39;00m\n",
      "\u001b[0;31mUnauthorizedError\u001b[0m: status_code: 401, body: type='unauthorized_error' details=None message='Invalid API key. We are unable to map the provided API key to a valid user or organization.' url='https://www.mixedbread.ai/api-reference/authentication'"
     ]
    },
    {
     "name": "stdout",
     "output_type": "stream",
     "text": [
      "time: 978 ms (started: 2024-04-04 23:41:17 +02:00)\n"
     ]
    }
   ],
   "source": [
    "from mixedbread_ai.client import MixedbreadAI\n",
    "\n",
    "mxbai = MixedbreadAI(api_key=\"{MIXEDBREAD_API_KEY}\")\n",
    "query1, sampledocs1 = query_info(729561)\n",
    "res1 = mxbai.reranking(\n",
    "    model=\"mixedbread-ai/mxbai-rerank-large-v1\",\n",
    "    query=query1,\n",
    "    input=sampledocs1,\n",
    "    top_k=10,\n",
    "    return_input=False\n",
    ")\n",
    "\n",
    "print(res1.data)\n",
    "#Does not work as it requires API key"
   ]
  },
  {
   "cell_type": "markdown",
   "id": "db396a88",
   "metadata": {},
   "source": [
    "### Additional stuff - can savely be ignored:"
   ]
  },
  {
   "cell_type": "code",
   "execution_count": 98,
   "id": "7db7ccc3",
   "metadata": {},
   "outputs": [
    {
     "name": "stdout",
     "output_type": "stream",
     "text": [
      "0.4\n",
      "0.8\n",
      "time: 664 ms (started: 2024-04-04 23:43:21 +02:00)\n"
     ]
    }
   ],
   "source": [
    "def p_at(qid, p=10, queries=queries, gold=gold, docs=ourdocs):\n",
    "    \"\"\"\n",
    "    takes a query id and returns the precision at 10 for that query\n",
    "    gold contains the 100 best documents for each query\n",
    "    \"\"\"\n",
    "    query = queries[queries.qid==qid]['query']\n",
    "    # print(query)\n",
    "    qv = vectorizer.transform(query) # query vector\n",
    "    xqv = X*qv.T # cosine similarity between query and all documents\n",
    "    pred10i = np.argpartition(xqv.A.flat, -p)[-p:] # top 10\n",
    "    # display(docs.loc[pred10i],gold[gold.qid==qid].docid,docs.loc[pred10i].isin(gold[gold.qid==qid].docid).docid)\n",
    "    qgold = gold[(gold.qid==qid) & (gold['rank']<=p)].docid\n",
    "    intersection = np.intersect1d(docs.loc[pred10i].docid, qgold) # intersection of top p and gold\n",
    "    return len(intersection)/p\n",
    "\n",
    "print(p_at(251898))\n",
    "print(p_at(687888))"
   ]
  },
  {
   "cell_type": "code",
   "execution_count": 99,
   "id": "2fd4ea68",
   "metadata": {},
   "outputs": [
    {
     "data": {
      "application/vnd.jupyter.widget-view+json": {
       "model_id": "1415b4a7d06c41d1b0c4c98fe0266307",
       "version_major": 2,
       "version_minor": 0
      },
      "text/plain": [
       "  0%|          | 0/500 [00:00<?, ?it/s]"
      ]
     },
     "metadata": {},
     "output_type": "display_data"
    },
    {
     "name": "stdout",
     "output_type": "stream",
     "text": [
      "time: 2min 44s (started: 2024-04-04 23:43:27 +02:00)\n"
     ]
    }
   ],
   "source": [
    "training_at_10 = training_queries.qid.progress_apply(p_at)"
   ]
  },
  {
   "cell_type": "code",
   "execution_count": 100,
   "id": "fdfd1d9a",
   "metadata": {},
   "outputs": [
    {
     "data": {
      "text/plain": [
       "430"
      ]
     },
     "execution_count": 100,
     "metadata": {},
     "output_type": "execute_result"
    },
    {
     "name": "stdout",
     "output_type": "stream",
     "text": [
      "time: 4.21 ms (started: 2024-04-04 23:47:52 +02:00)\n"
     ]
    }
   ],
   "source": [
    "# how many of the 500 test queries have at least one relevant document in the top 10?\n",
    "len(training_at_10[training_at_10>0])"
   ]
  },
  {
   "cell_type": "code",
   "execution_count": 101,
   "id": "d9e15ca4",
   "metadata": {},
   "outputs": [
    {
     "data": {
      "text/plain": [
       "0.2744186046511628"
      ]
     },
     "execution_count": 101,
     "metadata": {},
     "output_type": "execute_result"
    },
    {
     "name": "stdout",
     "output_type": "stream",
     "text": [
      "time: 6.24 ms (started: 2024-04-04 23:47:55 +02:00)\n"
     ]
    }
   ],
   "source": [
    "# average number of relevant documents in the top 10\n",
    "training_at_10[training_at_10>0].mean()"
   ]
  },
  {
   "cell_type": "code",
   "execution_count": 102,
   "id": "77315022",
   "metadata": {},
   "outputs": [
    {
     "data": {
      "text/plain": [
       "0      0.8\n",
       "1      0.1\n",
       "2      0.1\n",
       "3      0.3\n",
       "4      0.3\n",
       "      ... \n",
       "495    0.1\n",
       "496    0.2\n",
       "497    0.5\n",
       "498    0.2\n",
       "499    0.6\n",
       "Name: qid, Length: 430, dtype: float64"
      ]
     },
     "execution_count": 102,
     "metadata": {},
     "output_type": "execute_result"
    },
    {
     "name": "stdout",
     "output_type": "stream",
     "text": [
      "time: 10.9 ms (started: 2024-04-04 23:47:57 +02:00)\n"
     ]
    }
   ],
   "source": [
    "training_at_10[training_at_10>0]"
   ]
  },
  {
   "cell_type": "markdown",
   "id": "98d68324",
   "metadata": {},
   "source": [
    "## Reranking"
   ]
  },
  {
   "cell_type": "code",
   "execution_count": 103,
   "id": "0611fac5",
   "metadata": {},
   "outputs": [
    {
     "name": "stdout",
     "output_type": "stream",
     "text": [
      "time: 574 µs (started: 2024-04-04 23:48:16 +02:00)\n"
     ]
    }
   ],
   "source": [
    "# %pip install sentence_transformers -U "
   ]
  },
  {
   "cell_type": "code",
   "execution_count": 104,
   "id": "1e66a5b7",
   "metadata": {},
   "outputs": [
    {
     "name": "stdout",
     "output_type": "stream",
     "text": [
      "time: 1.47 s (started: 2024-04-04 23:48:31 +02:00)\n"
     ]
    }
   ],
   "source": [
    "from sentence_transformers import CrossEncoder\n",
    "\n",
    "# Load the model, here we use our base sized model\n",
    "model = CrossEncoder(\"mixedbread-ai/mxbai-rerank-xsmall-v1\")"
   ]
  },
  {
   "cell_type": "code",
   "execution_count": 105,
   "id": "25318400",
   "metadata": {},
   "outputs": [
    {
     "name": "stdout",
     "output_type": "stream",
     "text": [
      "time: 757 µs (started: 2024-04-04 23:48:43 +02:00)\n"
     ]
    }
   ],
   "source": [
    "# Example query and documents\n",
    "query = \"Who wrote 'To Kill a Mockingbird'?\"\n",
    "documents = [\n",
    "    \"'To Kill a Mockingbird' is a novel by Harper Lee published in 1960. It was immediately successful, winning the Pulitzer Prize, and has become a classic of modern American literature.\",\n",
    "    \"The novel 'Moby-Dick' was written by Herman Melville and first published in 1851. It is considered a masterpiece of American literature and deals with complex themes of obsession, revenge, and the conflict between good and evil.\",\n",
    "    \"Harper Lee, an American novelist widely known for her novel 'To Kill a Mockingbird', was born in 1926 in Monroeville, Alabama. She received the Pulitzer Prize for Fiction in 1961.\",\n",
    "    \"Jane Austen was an English novelist known primarily for her six major novels, which interpret, critique and comment upon the British landed gentry at the end of the 18th century.\",\n",
    "    \"The 'Harry Potter' series, which consists of seven fantasy novels written by British author J.K. Rowling, is among the most popular and critically acclaimed books of the modern era.\",\n",
    "    \"'The Great Gatsby', a novel written by American author F. Scott Fitzgerald, was published in 1925. The story is set in the Jazz Age and follows the life of millionaire Jay Gatsby and his pursuit of Daisy Buchanan.\"\n",
    "]"
   ]
  },
  {
   "cell_type": "code",
   "execution_count": 106,
   "id": "57499877",
   "metadata": {},
   "outputs": [
    {
     "name": "stdout",
     "output_type": "stream",
     "text": [
      "time: 140 ms (started: 2024-04-04 23:48:55 +02:00)\n"
     ]
    }
   ],
   "source": [
    "results = model.rank(query, documents, return_documents=True, top_k=3)"
   ]
  },
  {
   "cell_type": "code",
   "execution_count": 107,
   "id": "e0046527",
   "metadata": {},
   "outputs": [
    {
     "data": {
      "text/plain": [
       "[{'corpus_id': 0,\n",
       "  'score': 0.99463475,\n",
       "  'text': \"'To Kill a Mockingbird' is a novel by Harper Lee published in 1960. It was immediately successful, winning the Pulitzer Prize, and has become a classic of modern American literature.\"},\n",
       " {'corpus_id': 2,\n",
       "  'score': 0.98541903,\n",
       "  'text': \"Harper Lee, an American novelist widely known for her novel 'To Kill a Mockingbird', was born in 1926 in Monroeville, Alabama. She received the Pulitzer Prize for Fiction in 1961.\"},\n",
       " {'corpus_id': 3,\n",
       "  'score': 0.5803452,\n",
       "  'text': 'Jane Austen was an English novelist known primarily for her six major novels, which interpret, critique and comment upon the British landed gentry at the end of the 18th century.'}]"
      ]
     },
     "execution_count": 107,
     "metadata": {},
     "output_type": "execute_result"
    },
    {
     "name": "stdout",
     "output_type": "stream",
     "text": [
      "time: 4.32 ms (started: 2024-04-04 23:48:57 +02:00)\n"
     ]
    }
   ],
   "source": [
    "results"
   ]
  }
 ],
 "metadata": {
  "kernelspec": {
   "display_name": "Python 3 (ipykernel)",
   "language": "python",
   "name": "python3"
  },
  "language_info": {
   "codemirror_mode": {
    "name": "ipython",
    "version": 3
   },
   "file_extension": ".py",
   "mimetype": "text/x-python",
   "name": "python",
   "nbconvert_exporter": "python",
   "pygments_lexer": "ipython3",
   "version": "3.10.12"
  }
 },
 "nbformat": 4,
 "nbformat_minor": 5
}
