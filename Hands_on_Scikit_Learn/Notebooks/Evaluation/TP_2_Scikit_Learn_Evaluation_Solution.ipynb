{
 "cells": [
  {
   "cell_type": "markdown",
   "id": "radio-rating",
   "metadata": {},
   "source": [
    "# Scikit-Learn"
   ]
  },
  {
   "cell_type": "markdown",
   "id": "middle-impossible",
   "metadata": {},
   "source": [
    "## Exploratory analysis"
   ]
  },
  {
   "cell_type": "markdown",
   "id": "decreased-auction",
   "metadata": {},
   "source": [
    "https://scikit-learn.org/stable/datasets/toy_dataset.html#iris-plants-dataset"
   ]
  },
  {
   "cell_type": "code",
   "execution_count": 1,
   "id": "other-colon",
   "metadata": {},
   "outputs": [],
   "source": [
    "import platform\n",
    "\n",
    "import matplotlib.pyplot as plt\n",
    "import numpy as np\n",
    "import pandas as pd\n",
    "import sklearn\n",
    "from matplotlib.colors import ListedColormap\n",
    "from sklearn import (\n",
    "    datasets,\n",
    "    decomposition,\n",
    "    linear_model,\n",
    "    metrics,\n",
    "    model_selection,\n",
    "    naive_bayes,\n",
    "    pipeline,\n",
    ")"
   ]
  },
  {
   "cell_type": "code",
   "execution_count": 2,
   "id": "44bf3f49",
   "metadata": {},
   "outputs": [
    {
     "name": "stdout",
     "output_type": "stream",
     "text": [
      "1.3.2\n"
     ]
    }
   ],
   "source": [
    "if platform.system() == \"Darwin\":\n",
    "    %config InlineBackend.figure_format=\"retina\"  # For high DPI display\n",
    "\n",
    "print(sklearn.__version__)  # Version tested on sklearn.__version__ == 1.3.x"
   ]
  },
  {
   "cell_type": "markdown",
   "id": "heard-joint",
   "metadata": {},
   "source": [
    "---"
   ]
  },
  {
   "cell_type": "markdown",
   "id": "vocational-decimal",
   "metadata": {},
   "source": [
    "### Classification (digits)"
   ]
  },
  {
   "cell_type": "markdown",
   "id": "secondary-insert",
   "metadata": {},
   "source": [
    "Let's look at the classification model performance in terms of precision and recall."
   ]
  },
  {
   "cell_type": "markdown",
   "id": "measured-japanese",
   "metadata": {},
   "source": [
    "#### Data loading"
   ]
  },
  {
   "cell_type": "markdown",
   "id": "emerging-cancellation",
   "metadata": {},
   "source": [
    "https://scikit-learn.org/stable/datasets/toy_dataset.html#digits-dataset"
   ]
  },
  {
   "cell_type": "code",
   "execution_count": 3,
   "id": "opposed-myrtle",
   "metadata": {},
   "outputs": [],
   "source": [
    "digits = datasets.load_digits()"
   ]
  },
  {
   "cell_type": "code",
   "execution_count": 4,
   "id": "backed-script",
   "metadata": {},
   "outputs": [
    {
     "name": "stdout",
     "output_type": "stream",
     "text": [
      "(1797, 8, 8)\n",
      "(1797, 64) (1797,)\n"
     ]
    }
   ],
   "source": [
    "# Flatten the images\n",
    "n_samples = len(digits.images)\n",
    "print(digits.images.shape)\n",
    "\n",
    "data = digits.images.reshape([n_samples, -1])\n",
    "\n",
    "print(data.shape, digits.target.shape)"
   ]
  },
  {
   "cell_type": "code",
   "execution_count": 5,
   "metadata": {},
   "outputs": [
    {
     "data": {
      "text/html": [
       "<div>\n",
       "<style scoped>\n",
       "    .dataframe tbody tr th:only-of-type {\n",
       "        vertical-align: middle;\n",
       "    }\n",
       "\n",
       "    .dataframe tbody tr th {\n",
       "        vertical-align: top;\n",
       "    }\n",
       "\n",
       "    .dataframe thead th {\n",
       "        text-align: right;\n",
       "    }\n",
       "</style>\n",
       "<table border=\"1\" class=\"dataframe\">\n",
       "  <thead>\n",
       "    <tr style=\"text-align: right;\">\n",
       "      <th></th>\n",
       "      <th>p_1</th>\n",
       "      <th>p_2</th>\n",
       "      <th>p_3</th>\n",
       "      <th>p_4</th>\n",
       "      <th>p_5</th>\n",
       "      <th>p_6</th>\n",
       "      <th>p_7</th>\n",
       "      <th>p_8</th>\n",
       "      <th>p_9</th>\n",
       "      <th>p_10</th>\n",
       "      <th>...</th>\n",
       "      <th>p_56</th>\n",
       "      <th>p_57</th>\n",
       "      <th>p_58</th>\n",
       "      <th>p_59</th>\n",
       "      <th>p_60</th>\n",
       "      <th>p_61</th>\n",
       "      <th>p_62</th>\n",
       "      <th>p_63</th>\n",
       "      <th>p_64</th>\n",
       "      <th>label</th>\n",
       "    </tr>\n",
       "  </thead>\n",
       "  <tbody>\n",
       "    <tr>\n",
       "      <th>0</th>\n",
       "      <td>0.0</td>\n",
       "      <td>0.0</td>\n",
       "      <td>5.0</td>\n",
       "      <td>13.0</td>\n",
       "      <td>9.0</td>\n",
       "      <td>1.0</td>\n",
       "      <td>0.0</td>\n",
       "      <td>0.0</td>\n",
       "      <td>0.0</td>\n",
       "      <td>0.0</td>\n",
       "      <td>...</td>\n",
       "      <td>0.0</td>\n",
       "      <td>0.0</td>\n",
       "      <td>0.0</td>\n",
       "      <td>6.0</td>\n",
       "      <td>13.0</td>\n",
       "      <td>10.0</td>\n",
       "      <td>0.0</td>\n",
       "      <td>0.0</td>\n",
       "      <td>0.0</td>\n",
       "      <td>0</td>\n",
       "    </tr>\n",
       "    <tr>\n",
       "      <th>1</th>\n",
       "      <td>0.0</td>\n",
       "      <td>0.0</td>\n",
       "      <td>0.0</td>\n",
       "      <td>12.0</td>\n",
       "      <td>13.0</td>\n",
       "      <td>5.0</td>\n",
       "      <td>0.0</td>\n",
       "      <td>0.0</td>\n",
       "      <td>0.0</td>\n",
       "      <td>0.0</td>\n",
       "      <td>...</td>\n",
       "      <td>0.0</td>\n",
       "      <td>0.0</td>\n",
       "      <td>0.0</td>\n",
       "      <td>0.0</td>\n",
       "      <td>11.0</td>\n",
       "      <td>16.0</td>\n",
       "      <td>10.0</td>\n",
       "      <td>0.0</td>\n",
       "      <td>0.0</td>\n",
       "      <td>1</td>\n",
       "    </tr>\n",
       "    <tr>\n",
       "      <th>2</th>\n",
       "      <td>0.0</td>\n",
       "      <td>0.0</td>\n",
       "      <td>0.0</td>\n",
       "      <td>4.0</td>\n",
       "      <td>15.0</td>\n",
       "      <td>12.0</td>\n",
       "      <td>0.0</td>\n",
       "      <td>0.0</td>\n",
       "      <td>0.0</td>\n",
       "      <td>0.0</td>\n",
       "      <td>...</td>\n",
       "      <td>0.0</td>\n",
       "      <td>0.0</td>\n",
       "      <td>0.0</td>\n",
       "      <td>0.0</td>\n",
       "      <td>3.0</td>\n",
       "      <td>11.0</td>\n",
       "      <td>16.0</td>\n",
       "      <td>9.0</td>\n",
       "      <td>0.0</td>\n",
       "      <td>2</td>\n",
       "    </tr>\n",
       "    <tr>\n",
       "      <th>3</th>\n",
       "      <td>0.0</td>\n",
       "      <td>0.0</td>\n",
       "      <td>7.0</td>\n",
       "      <td>15.0</td>\n",
       "      <td>13.0</td>\n",
       "      <td>1.0</td>\n",
       "      <td>0.0</td>\n",
       "      <td>0.0</td>\n",
       "      <td>0.0</td>\n",
       "      <td>8.0</td>\n",
       "      <td>...</td>\n",
       "      <td>0.0</td>\n",
       "      <td>0.0</td>\n",
       "      <td>0.0</td>\n",
       "      <td>7.0</td>\n",
       "      <td>13.0</td>\n",
       "      <td>13.0</td>\n",
       "      <td>9.0</td>\n",
       "      <td>0.0</td>\n",
       "      <td>0.0</td>\n",
       "      <td>3</td>\n",
       "    </tr>\n",
       "    <tr>\n",
       "      <th>4</th>\n",
       "      <td>0.0</td>\n",
       "      <td>0.0</td>\n",
       "      <td>0.0</td>\n",
       "      <td>1.0</td>\n",
       "      <td>11.0</td>\n",
       "      <td>0.0</td>\n",
       "      <td>0.0</td>\n",
       "      <td>0.0</td>\n",
       "      <td>0.0</td>\n",
       "      <td>0.0</td>\n",
       "      <td>...</td>\n",
       "      <td>0.0</td>\n",
       "      <td>0.0</td>\n",
       "      <td>0.0</td>\n",
       "      <td>0.0</td>\n",
       "      <td>2.0</td>\n",
       "      <td>16.0</td>\n",
       "      <td>4.0</td>\n",
       "      <td>0.0</td>\n",
       "      <td>0.0</td>\n",
       "      <td>4</td>\n",
       "    </tr>\n",
       "    <tr>\n",
       "      <th>...</th>\n",
       "      <td>...</td>\n",
       "      <td>...</td>\n",
       "      <td>...</td>\n",
       "      <td>...</td>\n",
       "      <td>...</td>\n",
       "      <td>...</td>\n",
       "      <td>...</td>\n",
       "      <td>...</td>\n",
       "      <td>...</td>\n",
       "      <td>...</td>\n",
       "      <td>...</td>\n",
       "      <td>...</td>\n",
       "      <td>...</td>\n",
       "      <td>...</td>\n",
       "      <td>...</td>\n",
       "      <td>...</td>\n",
       "      <td>...</td>\n",
       "      <td>...</td>\n",
       "      <td>...</td>\n",
       "      <td>...</td>\n",
       "      <td>...</td>\n",
       "    </tr>\n",
       "    <tr>\n",
       "      <th>1792</th>\n",
       "      <td>0.0</td>\n",
       "      <td>0.0</td>\n",
       "      <td>4.0</td>\n",
       "      <td>10.0</td>\n",
       "      <td>13.0</td>\n",
       "      <td>6.0</td>\n",
       "      <td>0.0</td>\n",
       "      <td>0.0</td>\n",
       "      <td>0.0</td>\n",
       "      <td>1.0</td>\n",
       "      <td>...</td>\n",
       "      <td>0.0</td>\n",
       "      <td>0.0</td>\n",
       "      <td>0.0</td>\n",
       "      <td>2.0</td>\n",
       "      <td>14.0</td>\n",
       "      <td>15.0</td>\n",
       "      <td>9.0</td>\n",
       "      <td>0.0</td>\n",
       "      <td>0.0</td>\n",
       "      <td>9</td>\n",
       "    </tr>\n",
       "    <tr>\n",
       "      <th>1793</th>\n",
       "      <td>0.0</td>\n",
       "      <td>0.0</td>\n",
       "      <td>6.0</td>\n",
       "      <td>16.0</td>\n",
       "      <td>13.0</td>\n",
       "      <td>11.0</td>\n",
       "      <td>1.0</td>\n",
       "      <td>0.0</td>\n",
       "      <td>0.0</td>\n",
       "      <td>0.0</td>\n",
       "      <td>...</td>\n",
       "      <td>0.0</td>\n",
       "      <td>0.0</td>\n",
       "      <td>0.0</td>\n",
       "      <td>6.0</td>\n",
       "      <td>16.0</td>\n",
       "      <td>14.0</td>\n",
       "      <td>6.0</td>\n",
       "      <td>0.0</td>\n",
       "      <td>0.0</td>\n",
       "      <td>0</td>\n",
       "    </tr>\n",
       "    <tr>\n",
       "      <th>1794</th>\n",
       "      <td>0.0</td>\n",
       "      <td>0.0</td>\n",
       "      <td>1.0</td>\n",
       "      <td>11.0</td>\n",
       "      <td>15.0</td>\n",
       "      <td>1.0</td>\n",
       "      <td>0.0</td>\n",
       "      <td>0.0</td>\n",
       "      <td>0.0</td>\n",
       "      <td>0.0</td>\n",
       "      <td>...</td>\n",
       "      <td>0.0</td>\n",
       "      <td>0.0</td>\n",
       "      <td>0.0</td>\n",
       "      <td>2.0</td>\n",
       "      <td>9.0</td>\n",
       "      <td>13.0</td>\n",
       "      <td>6.0</td>\n",
       "      <td>0.0</td>\n",
       "      <td>0.0</td>\n",
       "      <td>8</td>\n",
       "    </tr>\n",
       "    <tr>\n",
       "      <th>1795</th>\n",
       "      <td>0.0</td>\n",
       "      <td>0.0</td>\n",
       "      <td>2.0</td>\n",
       "      <td>10.0</td>\n",
       "      <td>7.0</td>\n",
       "      <td>0.0</td>\n",
       "      <td>0.0</td>\n",
       "      <td>0.0</td>\n",
       "      <td>0.0</td>\n",
       "      <td>0.0</td>\n",
       "      <td>...</td>\n",
       "      <td>0.0</td>\n",
       "      <td>0.0</td>\n",
       "      <td>0.0</td>\n",
       "      <td>5.0</td>\n",
       "      <td>12.0</td>\n",
       "      <td>16.0</td>\n",
       "      <td>12.0</td>\n",
       "      <td>0.0</td>\n",
       "      <td>0.0</td>\n",
       "      <td>9</td>\n",
       "    </tr>\n",
       "    <tr>\n",
       "      <th>1796</th>\n",
       "      <td>0.0</td>\n",
       "      <td>0.0</td>\n",
       "      <td>10.0</td>\n",
       "      <td>14.0</td>\n",
       "      <td>8.0</td>\n",
       "      <td>1.0</td>\n",
       "      <td>0.0</td>\n",
       "      <td>0.0</td>\n",
       "      <td>0.0</td>\n",
       "      <td>2.0</td>\n",
       "      <td>...</td>\n",
       "      <td>0.0</td>\n",
       "      <td>0.0</td>\n",
       "      <td>1.0</td>\n",
       "      <td>8.0</td>\n",
       "      <td>12.0</td>\n",
       "      <td>14.0</td>\n",
       "      <td>12.0</td>\n",
       "      <td>1.0</td>\n",
       "      <td>0.0</td>\n",
       "      <td>8</td>\n",
       "    </tr>\n",
       "  </tbody>\n",
       "</table>\n",
       "<p>1797 rows × 65 columns</p>\n",
       "</div>"
      ],
      "text/plain": [
       "      p_1  p_2   p_3   p_4   p_5   p_6  p_7  p_8  p_9  p_10  ...  p_56  p_57  \\\n",
       "0     0.0  0.0   5.0  13.0   9.0   1.0  0.0  0.0  0.0   0.0  ...   0.0   0.0   \n",
       "1     0.0  0.0   0.0  12.0  13.0   5.0  0.0  0.0  0.0   0.0  ...   0.0   0.0   \n",
       "2     0.0  0.0   0.0   4.0  15.0  12.0  0.0  0.0  0.0   0.0  ...   0.0   0.0   \n",
       "3     0.0  0.0   7.0  15.0  13.0   1.0  0.0  0.0  0.0   8.0  ...   0.0   0.0   \n",
       "4     0.0  0.0   0.0   1.0  11.0   0.0  0.0  0.0  0.0   0.0  ...   0.0   0.0   \n",
       "...   ...  ...   ...   ...   ...   ...  ...  ...  ...   ...  ...   ...   ...   \n",
       "1792  0.0  0.0   4.0  10.0  13.0   6.0  0.0  0.0  0.0   1.0  ...   0.0   0.0   \n",
       "1793  0.0  0.0   6.0  16.0  13.0  11.0  1.0  0.0  0.0   0.0  ...   0.0   0.0   \n",
       "1794  0.0  0.0   1.0  11.0  15.0   1.0  0.0  0.0  0.0   0.0  ...   0.0   0.0   \n",
       "1795  0.0  0.0   2.0  10.0   7.0   0.0  0.0  0.0  0.0   0.0  ...   0.0   0.0   \n",
       "1796  0.0  0.0  10.0  14.0   8.0   1.0  0.0  0.0  0.0   2.0  ...   0.0   0.0   \n",
       "\n",
       "      p_58  p_59  p_60  p_61  p_62  p_63  p_64  label  \n",
       "0      0.0   6.0  13.0  10.0   0.0   0.0   0.0      0  \n",
       "1      0.0   0.0  11.0  16.0  10.0   0.0   0.0      1  \n",
       "2      0.0   0.0   3.0  11.0  16.0   9.0   0.0      2  \n",
       "3      0.0   7.0  13.0  13.0   9.0   0.0   0.0      3  \n",
       "4      0.0   0.0   2.0  16.0   4.0   0.0   0.0      4  \n",
       "...    ...   ...   ...   ...   ...   ...   ...    ...  \n",
       "1792   0.0   2.0  14.0  15.0   9.0   0.0   0.0      9  \n",
       "1793   0.0   6.0  16.0  14.0   6.0   0.0   0.0      0  \n",
       "1794   0.0   2.0   9.0  13.0   6.0   0.0   0.0      8  \n",
       "1795   0.0   5.0  12.0  16.0  12.0   0.0   0.0      9  \n",
       "1796   1.0   8.0  12.0  14.0  12.0   1.0   0.0      8  \n",
       "\n",
       "[1797 rows x 65 columns]"
      ]
     },
     "execution_count": 5,
     "metadata": {},
     "output_type": "execute_result"
    }
   ],
   "source": [
    "df = pd.DataFrame(data, columns=[f\"p_{i+1}\" for i in range(data.shape[1])])\n",
    "df[\"label\"] = digits.target\n",
    "df"
   ]
  },
  {
   "cell_type": "code",
   "execution_count": 6,
   "metadata": {},
   "outputs": [
    {
     "data": {
      "text/html": [
       "<div>\n",
       "<style scoped>\n",
       "    .dataframe tbody tr th:only-of-type {\n",
       "        vertical-align: middle;\n",
       "    }\n",
       "\n",
       "    .dataframe tbody tr th {\n",
       "        vertical-align: top;\n",
       "    }\n",
       "\n",
       "    .dataframe thead th {\n",
       "        text-align: right;\n",
       "    }\n",
       "</style>\n",
       "<table border=\"1\" class=\"dataframe\">\n",
       "  <thead>\n",
       "    <tr style=\"text-align: right;\">\n",
       "      <th></th>\n",
       "      <th>p_1</th>\n",
       "      <th>p_2</th>\n",
       "      <th>p_3</th>\n",
       "      <th>p_4</th>\n",
       "      <th>p_5</th>\n",
       "      <th>p_6</th>\n",
       "      <th>p_7</th>\n",
       "      <th>p_8</th>\n",
       "      <th>p_9</th>\n",
       "      <th>p_10</th>\n",
       "      <th>...</th>\n",
       "      <th>p_56</th>\n",
       "      <th>p_57</th>\n",
       "      <th>p_58</th>\n",
       "      <th>p_59</th>\n",
       "      <th>p_60</th>\n",
       "      <th>p_61</th>\n",
       "      <th>p_62</th>\n",
       "      <th>p_63</th>\n",
       "      <th>p_64</th>\n",
       "      <th>label</th>\n",
       "    </tr>\n",
       "  </thead>\n",
       "  <tbody>\n",
       "    <tr>\n",
       "      <th>count</th>\n",
       "      <td>1797.0</td>\n",
       "      <td>1797.000000</td>\n",
       "      <td>1797.000000</td>\n",
       "      <td>1797.000000</td>\n",
       "      <td>1797.000000</td>\n",
       "      <td>1797.000000</td>\n",
       "      <td>1797.000000</td>\n",
       "      <td>1797.000000</td>\n",
       "      <td>1797.000000</td>\n",
       "      <td>1797.000000</td>\n",
       "      <td>...</td>\n",
       "      <td>1797.000000</td>\n",
       "      <td>1797.000000</td>\n",
       "      <td>1797.000000</td>\n",
       "      <td>1797.000000</td>\n",
       "      <td>1797.000000</td>\n",
       "      <td>1797.000000</td>\n",
       "      <td>1797.000000</td>\n",
       "      <td>1797.000000</td>\n",
       "      <td>1797.000000</td>\n",
       "      <td>1797.000000</td>\n",
       "    </tr>\n",
       "    <tr>\n",
       "      <th>mean</th>\n",
       "      <td>0.0</td>\n",
       "      <td>0.303840</td>\n",
       "      <td>5.204786</td>\n",
       "      <td>11.835838</td>\n",
       "      <td>11.848080</td>\n",
       "      <td>5.781859</td>\n",
       "      <td>1.362270</td>\n",
       "      <td>0.129661</td>\n",
       "      <td>0.005565</td>\n",
       "      <td>1.993879</td>\n",
       "      <td>...</td>\n",
       "      <td>0.206455</td>\n",
       "      <td>0.000556</td>\n",
       "      <td>0.279354</td>\n",
       "      <td>5.557596</td>\n",
       "      <td>12.089037</td>\n",
       "      <td>11.809126</td>\n",
       "      <td>6.764051</td>\n",
       "      <td>2.067891</td>\n",
       "      <td>0.364496</td>\n",
       "      <td>4.490818</td>\n",
       "    </tr>\n",
       "    <tr>\n",
       "      <th>std</th>\n",
       "      <td>0.0</td>\n",
       "      <td>0.907192</td>\n",
       "      <td>4.754826</td>\n",
       "      <td>4.248842</td>\n",
       "      <td>4.287388</td>\n",
       "      <td>5.666418</td>\n",
       "      <td>3.325775</td>\n",
       "      <td>1.037383</td>\n",
       "      <td>0.094222</td>\n",
       "      <td>3.196160</td>\n",
       "      <td>...</td>\n",
       "      <td>0.984401</td>\n",
       "      <td>0.023590</td>\n",
       "      <td>0.934302</td>\n",
       "      <td>5.103019</td>\n",
       "      <td>4.374694</td>\n",
       "      <td>4.933947</td>\n",
       "      <td>5.900623</td>\n",
       "      <td>4.090548</td>\n",
       "      <td>1.860122</td>\n",
       "      <td>2.865304</td>\n",
       "    </tr>\n",
       "    <tr>\n",
       "      <th>min</th>\n",
       "      <td>0.0</td>\n",
       "      <td>0.000000</td>\n",
       "      <td>0.000000</td>\n",
       "      <td>0.000000</td>\n",
       "      <td>0.000000</td>\n",
       "      <td>0.000000</td>\n",
       "      <td>0.000000</td>\n",
       "      <td>0.000000</td>\n",
       "      <td>0.000000</td>\n",
       "      <td>0.000000</td>\n",
       "      <td>...</td>\n",
       "      <td>0.000000</td>\n",
       "      <td>0.000000</td>\n",
       "      <td>0.000000</td>\n",
       "      <td>0.000000</td>\n",
       "      <td>0.000000</td>\n",
       "      <td>0.000000</td>\n",
       "      <td>0.000000</td>\n",
       "      <td>0.000000</td>\n",
       "      <td>0.000000</td>\n",
       "      <td>0.000000</td>\n",
       "    </tr>\n",
       "    <tr>\n",
       "      <th>25%</th>\n",
       "      <td>0.0</td>\n",
       "      <td>0.000000</td>\n",
       "      <td>1.000000</td>\n",
       "      <td>10.000000</td>\n",
       "      <td>10.000000</td>\n",
       "      <td>0.000000</td>\n",
       "      <td>0.000000</td>\n",
       "      <td>0.000000</td>\n",
       "      <td>0.000000</td>\n",
       "      <td>0.000000</td>\n",
       "      <td>...</td>\n",
       "      <td>0.000000</td>\n",
       "      <td>0.000000</td>\n",
       "      <td>0.000000</td>\n",
       "      <td>1.000000</td>\n",
       "      <td>11.000000</td>\n",
       "      <td>10.000000</td>\n",
       "      <td>0.000000</td>\n",
       "      <td>0.000000</td>\n",
       "      <td>0.000000</td>\n",
       "      <td>2.000000</td>\n",
       "    </tr>\n",
       "    <tr>\n",
       "      <th>50%</th>\n",
       "      <td>0.0</td>\n",
       "      <td>0.000000</td>\n",
       "      <td>4.000000</td>\n",
       "      <td>13.000000</td>\n",
       "      <td>13.000000</td>\n",
       "      <td>4.000000</td>\n",
       "      <td>0.000000</td>\n",
       "      <td>0.000000</td>\n",
       "      <td>0.000000</td>\n",
       "      <td>0.000000</td>\n",
       "      <td>...</td>\n",
       "      <td>0.000000</td>\n",
       "      <td>0.000000</td>\n",
       "      <td>0.000000</td>\n",
       "      <td>4.000000</td>\n",
       "      <td>13.000000</td>\n",
       "      <td>14.000000</td>\n",
       "      <td>6.000000</td>\n",
       "      <td>0.000000</td>\n",
       "      <td>0.000000</td>\n",
       "      <td>4.000000</td>\n",
       "    </tr>\n",
       "    <tr>\n",
       "      <th>75%</th>\n",
       "      <td>0.0</td>\n",
       "      <td>0.000000</td>\n",
       "      <td>9.000000</td>\n",
       "      <td>15.000000</td>\n",
       "      <td>15.000000</td>\n",
       "      <td>11.000000</td>\n",
       "      <td>0.000000</td>\n",
       "      <td>0.000000</td>\n",
       "      <td>0.000000</td>\n",
       "      <td>3.000000</td>\n",
       "      <td>...</td>\n",
       "      <td>0.000000</td>\n",
       "      <td>0.000000</td>\n",
       "      <td>0.000000</td>\n",
       "      <td>10.000000</td>\n",
       "      <td>16.000000</td>\n",
       "      <td>16.000000</td>\n",
       "      <td>12.000000</td>\n",
       "      <td>2.000000</td>\n",
       "      <td>0.000000</td>\n",
       "      <td>7.000000</td>\n",
       "    </tr>\n",
       "    <tr>\n",
       "      <th>max</th>\n",
       "      <td>0.0</td>\n",
       "      <td>8.000000</td>\n",
       "      <td>16.000000</td>\n",
       "      <td>16.000000</td>\n",
       "      <td>16.000000</td>\n",
       "      <td>16.000000</td>\n",
       "      <td>16.000000</td>\n",
       "      <td>15.000000</td>\n",
       "      <td>2.000000</td>\n",
       "      <td>16.000000</td>\n",
       "      <td>...</td>\n",
       "      <td>13.000000</td>\n",
       "      <td>1.000000</td>\n",
       "      <td>9.000000</td>\n",
       "      <td>16.000000</td>\n",
       "      <td>16.000000</td>\n",
       "      <td>16.000000</td>\n",
       "      <td>16.000000</td>\n",
       "      <td>16.000000</td>\n",
       "      <td>16.000000</td>\n",
       "      <td>9.000000</td>\n",
       "    </tr>\n",
       "  </tbody>\n",
       "</table>\n",
       "<p>8 rows × 65 columns</p>\n",
       "</div>"
      ],
      "text/plain": [
       "          p_1          p_2          p_3          p_4          p_5  \\\n",
       "count  1797.0  1797.000000  1797.000000  1797.000000  1797.000000   \n",
       "mean      0.0     0.303840     5.204786    11.835838    11.848080   \n",
       "std       0.0     0.907192     4.754826     4.248842     4.287388   \n",
       "min       0.0     0.000000     0.000000     0.000000     0.000000   \n",
       "25%       0.0     0.000000     1.000000    10.000000    10.000000   \n",
       "50%       0.0     0.000000     4.000000    13.000000    13.000000   \n",
       "75%       0.0     0.000000     9.000000    15.000000    15.000000   \n",
       "max       0.0     8.000000    16.000000    16.000000    16.000000   \n",
       "\n",
       "               p_6          p_7          p_8          p_9         p_10  ...  \\\n",
       "count  1797.000000  1797.000000  1797.000000  1797.000000  1797.000000  ...   \n",
       "mean      5.781859     1.362270     0.129661     0.005565     1.993879  ...   \n",
       "std       5.666418     3.325775     1.037383     0.094222     3.196160  ...   \n",
       "min       0.000000     0.000000     0.000000     0.000000     0.000000  ...   \n",
       "25%       0.000000     0.000000     0.000000     0.000000     0.000000  ...   \n",
       "50%       4.000000     0.000000     0.000000     0.000000     0.000000  ...   \n",
       "75%      11.000000     0.000000     0.000000     0.000000     3.000000  ...   \n",
       "max      16.000000    16.000000    15.000000     2.000000    16.000000  ...   \n",
       "\n",
       "              p_56         p_57         p_58         p_59         p_60  \\\n",
       "count  1797.000000  1797.000000  1797.000000  1797.000000  1797.000000   \n",
       "mean      0.206455     0.000556     0.279354     5.557596    12.089037   \n",
       "std       0.984401     0.023590     0.934302     5.103019     4.374694   \n",
       "min       0.000000     0.000000     0.000000     0.000000     0.000000   \n",
       "25%       0.000000     0.000000     0.000000     1.000000    11.000000   \n",
       "50%       0.000000     0.000000     0.000000     4.000000    13.000000   \n",
       "75%       0.000000     0.000000     0.000000    10.000000    16.000000   \n",
       "max      13.000000     1.000000     9.000000    16.000000    16.000000   \n",
       "\n",
       "              p_61         p_62         p_63         p_64        label  \n",
       "count  1797.000000  1797.000000  1797.000000  1797.000000  1797.000000  \n",
       "mean     11.809126     6.764051     2.067891     0.364496     4.490818  \n",
       "std       4.933947     5.900623     4.090548     1.860122     2.865304  \n",
       "min       0.000000     0.000000     0.000000     0.000000     0.000000  \n",
       "25%      10.000000     0.000000     0.000000     0.000000     2.000000  \n",
       "50%      14.000000     6.000000     0.000000     0.000000     4.000000  \n",
       "75%      16.000000    12.000000     2.000000     0.000000     7.000000  \n",
       "max      16.000000    16.000000    16.000000    16.000000     9.000000  \n",
       "\n",
       "[8 rows x 65 columns]"
      ]
     },
     "execution_count": 6,
     "metadata": {},
     "output_type": "execute_result"
    }
   ],
   "source": [
    "df.describe()  # .loc[:, \"p_10\":\"p_20\"]"
   ]
  },
  {
   "cell_type": "markdown",
   "id": "destroyed-outside",
   "metadata": {},
   "source": [
    "Randomly select the training and test dataset."
   ]
  },
  {
   "cell_type": "markdown",
   "id": "confused-alias",
   "metadata": {},
   "source": [
    "<span style=\"color:red\">Implement your solution below and comment briefly</span>"
   ]
  },
  {
   "cell_type": "code",
   "execution_count": 7,
   "id": "79c59adf",
   "metadata": {},
   "outputs": [
    {
     "name": "stdout",
     "output_type": "stream",
     "text": [
      "(1347,) (1347, 64)\n",
      "(450,) (450, 64)\n"
     ]
    }
   ],
   "source": [
    "train_xs, test_xs, train_ys, test_ys = model_selection.train_test_split(\n",
    "    data, digits.target, random_state=1\n",
    ")\n",
    "\n",
    "print(train_ys.shape, train_xs.shape)\n",
    "print(test_ys.shape, test_xs.shape)"
   ]
  },
  {
   "cell_type": "markdown",
   "id": "intense-vinyl",
   "metadata": {},
   "source": [
    "#### Train the models"
   ]
  },
  {
   "cell_type": "markdown",
   "id": "friendly-national",
   "metadata": {},
   "source": [
    "Train the model using, e.g., the [Gaussian Naive Bayes Classifier](https://scikit-learn.org/stable/modules/generated/sklearn.naive_bayes.GaussianNB.html)."
   ]
  },
  {
   "cell_type": "markdown",
   "id": "db4d53a9",
   "metadata": {},
   "source": [
    "<span style=\"color:red\">Implement your solution below</span>"
   ]
  },
  {
   "cell_type": "code",
   "execution_count": 8,
   "id": "7efcb2cd",
   "metadata": {},
   "outputs": [],
   "source": [
    "# 2. Instantiation\n",
    "model = naive_bayes.GaussianNB()\n",
    "\n",
    "# 3. Learn (fit) the model\n",
    "model.fit(train_xs, train_ys)\n",
    "\n",
    "# 4. Predict on new data\n",
    "pred_ys = model.predict(test_xs)"
   ]
  },
  {
   "cell_type": "markdown",
   "id": "convenient-champagne",
   "metadata": {},
   "source": [
    "#### Evaluate"
   ]
  },
  {
   "cell_type": "markdown",
   "id": "every-assault",
   "metadata": {},
   "source": [
    "Evaluate with the [`accuracy_score`](https://scikit-learn.org/stable/modules/generated/sklearn.metrics.accuracy_score.html).\n",
    "\n",
    "Then give a more complete result, including precision, recall and f1-score with the method [`classification_report`](https://scikit-learn.org/stable/modules/generated/sklearn.metrics.classification_report.html)."
   ]
  },
  {
   "cell_type": "markdown",
   "id": "2423627c",
   "metadata": {},
   "source": [
    "<span style=\"color:red\">Implement your solution below</span>"
   ]
  },
  {
   "cell_type": "code",
   "execution_count": 9,
   "id": "f8a92c7b",
   "metadata": {},
   "outputs": [
    {
     "name": "stdout",
     "output_type": "stream",
     "text": [
      "0.85\n"
     ]
    }
   ],
   "source": [
    "score = metrics.accuracy_score(test_ys, pred_ys)\n",
    "print(f\"{score :.2f}\")"
   ]
  },
  {
   "cell_type": "code",
   "execution_count": 10,
   "id": "b151a33d",
   "metadata": {},
   "outputs": [
    {
     "name": "stdout",
     "output_type": "stream",
     "text": [
      "              precision    recall  f1-score   support\n",
      "\n",
      "           0       0.98      0.96      0.97        53\n",
      "           1       0.81      0.81      0.81        42\n",
      "           2       0.93      0.66      0.77        41\n",
      "           3       0.93      0.77      0.84        52\n",
      "           4       0.93      0.91      0.92        47\n",
      "           5       0.94      0.85      0.89        39\n",
      "           6       0.96      1.00      0.98        43\n",
      "           7       0.80      1.00      0.89        48\n",
      "           8       0.51      0.95      0.67        37\n",
      "           9       1.00      0.62      0.77        48\n",
      "\n",
      "    accuracy                           0.85       450\n",
      "   macro avg       0.88      0.85      0.85       450\n",
      "weighted avg       0.89      0.85      0.86       450\n",
      "\n"
     ]
    }
   ],
   "source": [
    "print(metrics.classification_report(test_ys, pred_ys))"
   ]
  },
  {
   "cell_type": "code",
   "execution_count": 11,
   "id": "751fb22b",
   "metadata": {},
   "outputs": [
    {
     "data": {
      "text/html": [
       "<div>\n",
       "<style scoped>\n",
       "    .dataframe tbody tr th:only-of-type {\n",
       "        vertical-align: middle;\n",
       "    }\n",
       "\n",
       "    .dataframe tbody tr th {\n",
       "        vertical-align: top;\n",
       "    }\n",
       "\n",
       "    .dataframe thead th {\n",
       "        text-align: right;\n",
       "    }\n",
       "</style>\n",
       "<table border=\"1\" class=\"dataframe\">\n",
       "  <thead>\n",
       "    <tr style=\"text-align: right;\">\n",
       "      <th></th>\n",
       "      <th>0</th>\n",
       "      <th>1</th>\n",
       "      <th>2</th>\n",
       "      <th>3</th>\n",
       "      <th>4</th>\n",
       "      <th>5</th>\n",
       "      <th>6</th>\n",
       "      <th>7</th>\n",
       "      <th>8</th>\n",
       "      <th>9</th>\n",
       "      <th>accuracy</th>\n",
       "      <th>macro avg</th>\n",
       "      <th>weighted avg</th>\n",
       "    </tr>\n",
       "  </thead>\n",
       "  <tbody>\n",
       "    <tr>\n",
       "      <th>precision</th>\n",
       "      <td>0.980769</td>\n",
       "      <td>0.809524</td>\n",
       "      <td>0.931034</td>\n",
       "      <td>0.930233</td>\n",
       "      <td>0.934783</td>\n",
       "      <td>0.942857</td>\n",
       "      <td>0.955556</td>\n",
       "      <td>0.800000</td>\n",
       "      <td>0.514706</td>\n",
       "      <td>1.000000</td>\n",
       "      <td>0.853333</td>\n",
       "      <td>0.879946</td>\n",
       "      <td>0.888366</td>\n",
       "    </tr>\n",
       "    <tr>\n",
       "      <th>recall</th>\n",
       "      <td>0.962264</td>\n",
       "      <td>0.809524</td>\n",
       "      <td>0.658537</td>\n",
       "      <td>0.769231</td>\n",
       "      <td>0.914894</td>\n",
       "      <td>0.846154</td>\n",
       "      <td>1.000000</td>\n",
       "      <td>1.000000</td>\n",
       "      <td>0.945946</td>\n",
       "      <td>0.625000</td>\n",
       "      <td>0.853333</td>\n",
       "      <td>0.853155</td>\n",
       "      <td>0.853333</td>\n",
       "    </tr>\n",
       "    <tr>\n",
       "      <th>f1-score</th>\n",
       "      <td>0.971429</td>\n",
       "      <td>0.809524</td>\n",
       "      <td>0.771429</td>\n",
       "      <td>0.842105</td>\n",
       "      <td>0.924731</td>\n",
       "      <td>0.891892</td>\n",
       "      <td>0.977273</td>\n",
       "      <td>0.888889</td>\n",
       "      <td>0.666667</td>\n",
       "      <td>0.769231</td>\n",
       "      <td>0.853333</td>\n",
       "      <td>0.851317</td>\n",
       "      <td>0.856509</td>\n",
       "    </tr>\n",
       "    <tr>\n",
       "      <th>support</th>\n",
       "      <td>53.000000</td>\n",
       "      <td>42.000000</td>\n",
       "      <td>41.000000</td>\n",
       "      <td>52.000000</td>\n",
       "      <td>47.000000</td>\n",
       "      <td>39.000000</td>\n",
       "      <td>43.000000</td>\n",
       "      <td>48.000000</td>\n",
       "      <td>37.000000</td>\n",
       "      <td>48.000000</td>\n",
       "      <td>0.853333</td>\n",
       "      <td>450.000000</td>\n",
       "      <td>450.000000</td>\n",
       "    </tr>\n",
       "  </tbody>\n",
       "</table>\n",
       "</div>"
      ],
      "text/plain": [
       "                   0          1          2          3          4          5  \\\n",
       "precision   0.980769   0.809524   0.931034   0.930233   0.934783   0.942857   \n",
       "recall      0.962264   0.809524   0.658537   0.769231   0.914894   0.846154   \n",
       "f1-score    0.971429   0.809524   0.771429   0.842105   0.924731   0.891892   \n",
       "support    53.000000  42.000000  41.000000  52.000000  47.000000  39.000000   \n",
       "\n",
       "                   6          7          8          9  accuracy   macro avg  \\\n",
       "precision   0.955556   0.800000   0.514706   1.000000  0.853333    0.879946   \n",
       "recall      1.000000   1.000000   0.945946   0.625000  0.853333    0.853155   \n",
       "f1-score    0.977273   0.888889   0.666667   0.769231  0.853333    0.851317   \n",
       "support    43.000000  48.000000  37.000000  48.000000  0.853333  450.000000   \n",
       "\n",
       "           weighted avg  \n",
       "precision      0.888366  \n",
       "recall         0.853333  \n",
       "f1-score       0.856509  \n",
       "support      450.000000  "
      ]
     },
     "execution_count": 11,
     "metadata": {},
     "output_type": "execute_result"
    }
   ],
   "source": [
    "scores_dic = metrics.classification_report(test_ys, pred_ys, output_dict=True)\n",
    "scores_df = pd.DataFrame(scores_dic)\n",
    "scores_df"
   ]
  },
  {
   "cell_type": "code",
   "execution_count": 12,
   "id": "5f55d1e3",
   "metadata": {},
   "outputs": [
    {
     "data": {
      "text/html": [
       "<div>\n",
       "<style scoped>\n",
       "    .dataframe tbody tr th:only-of-type {\n",
       "        vertical-align: middle;\n",
       "    }\n",
       "\n",
       "    .dataframe tbody tr th {\n",
       "        vertical-align: top;\n",
       "    }\n",
       "\n",
       "    .dataframe thead th {\n",
       "        text-align: right;\n",
       "    }\n",
       "</style>\n",
       "<table border=\"1\" class=\"dataframe\">\n",
       "  <thead>\n",
       "    <tr style=\"text-align: right;\">\n",
       "      <th></th>\n",
       "      <th>precision</th>\n",
       "      <th>recall</th>\n",
       "      <th>f1-score</th>\n",
       "      <th>support</th>\n",
       "    </tr>\n",
       "  </thead>\n",
       "  <tbody>\n",
       "    <tr>\n",
       "      <th>0</th>\n",
       "      <td>0.981</td>\n",
       "      <td>0.962</td>\n",
       "      <td>0.971</td>\n",
       "      <td>53</td>\n",
       "    </tr>\n",
       "    <tr>\n",
       "      <th>1</th>\n",
       "      <td>0.81</td>\n",
       "      <td>0.81</td>\n",
       "      <td>0.81</td>\n",
       "      <td>42</td>\n",
       "    </tr>\n",
       "    <tr>\n",
       "      <th>2</th>\n",
       "      <td>0.931</td>\n",
       "      <td>0.659</td>\n",
       "      <td>0.771</td>\n",
       "      <td>41</td>\n",
       "    </tr>\n",
       "    <tr>\n",
       "      <th>3</th>\n",
       "      <td>0.93</td>\n",
       "      <td>0.769</td>\n",
       "      <td>0.842</td>\n",
       "      <td>52</td>\n",
       "    </tr>\n",
       "    <tr>\n",
       "      <th>4</th>\n",
       "      <td>0.935</td>\n",
       "      <td>0.915</td>\n",
       "      <td>0.925</td>\n",
       "      <td>47</td>\n",
       "    </tr>\n",
       "    <tr>\n",
       "      <th>5</th>\n",
       "      <td>0.943</td>\n",
       "      <td>0.846</td>\n",
       "      <td>0.892</td>\n",
       "      <td>39</td>\n",
       "    </tr>\n",
       "    <tr>\n",
       "      <th>6</th>\n",
       "      <td>0.956</td>\n",
       "      <td>1</td>\n",
       "      <td>0.977</td>\n",
       "      <td>43</td>\n",
       "    </tr>\n",
       "    <tr>\n",
       "      <th>7</th>\n",
       "      <td>0.8</td>\n",
       "      <td>1</td>\n",
       "      <td>0.889</td>\n",
       "      <td>48</td>\n",
       "    </tr>\n",
       "    <tr>\n",
       "      <th>8</th>\n",
       "      <td>0.515</td>\n",
       "      <td>0.946</td>\n",
       "      <td>0.667</td>\n",
       "      <td>37</td>\n",
       "    </tr>\n",
       "    <tr>\n",
       "      <th>9</th>\n",
       "      <td>1</td>\n",
       "      <td>0.625</td>\n",
       "      <td>0.769</td>\n",
       "      <td>48</td>\n",
       "    </tr>\n",
       "    <tr>\n",
       "      <th>accuracy</th>\n",
       "      <td>0.853</td>\n",
       "      <td>0.853</td>\n",
       "      <td>0.853</td>\n",
       "      <td>0.853</td>\n",
       "    </tr>\n",
       "    <tr>\n",
       "      <th>macro avg</th>\n",
       "      <td>0.88</td>\n",
       "      <td>0.853</td>\n",
       "      <td>0.851</td>\n",
       "      <td>450</td>\n",
       "    </tr>\n",
       "    <tr>\n",
       "      <th>weighted avg</th>\n",
       "      <td>0.888</td>\n",
       "      <td>0.853</td>\n",
       "      <td>0.857</td>\n",
       "      <td>450</td>\n",
       "    </tr>\n",
       "  </tbody>\n",
       "</table>\n",
       "</div>"
      ],
      "text/plain": [
       "              precision  recall  f1-score  support\n",
       "0                 0.981   0.962     0.971       53\n",
       "1                  0.81    0.81      0.81       42\n",
       "2                 0.931   0.659     0.771       41\n",
       "3                  0.93   0.769     0.842       52\n",
       "4                 0.935   0.915     0.925       47\n",
       "5                 0.943   0.846     0.892       39\n",
       "6                 0.956       1     0.977       43\n",
       "7                   0.8       1     0.889       48\n",
       "8                 0.515   0.946     0.667       37\n",
       "9                     1   0.625     0.769       48\n",
       "accuracy          0.853   0.853     0.853    0.853\n",
       "macro avg          0.88   0.853     0.851      450\n",
       "weighted avg      0.888   0.853     0.857      450"
      ]
     },
     "metadata": {},
     "output_type": "display_data"
    }
   ],
   "source": [
    "scores_dic = metrics.classification_report(test_ys, pred_ys, output_dict=True)\n",
    "scores_df = pd.DataFrame(scores_dic).transpose()  # .style.set_precision(2)\n",
    "\n",
    "with pd.option_context(\"display.float_format\", \"{:.3g}\".format):\n",
    "    display(scores_df)"
   ]
  },
  {
   "cell_type": "code",
   "execution_count": 13,
   "id": "528483fb",
   "metadata": {},
   "outputs": [
    {
     "data": {
      "text/plain": [
       "0              0.98\n",
       "1              0.81\n",
       "2              0.93\n",
       "3              0.93\n",
       "4              0.93\n",
       "5              0.94\n",
       "6              0.96\n",
       "7               0.8\n",
       "8              0.51\n",
       "9                 1\n",
       "accuracy       0.85\n",
       "macro avg      0.88\n",
       "weighted avg   0.89\n",
       "Name: precision, dtype: float64"
      ]
     },
     "metadata": {},
     "output_type": "display_data"
    }
   ],
   "source": [
    "with pd.option_context(\"display.float_format\", \"{:.2g}\".format):\n",
    "    display(scores_df.precision)"
   ]
  },
  {
   "cell_type": "markdown",
   "id": "intelligent-questionnaire",
   "metadata": {},
   "source": [
    "#### Confusion matrix"
   ]
  },
  {
   "cell_type": "markdown",
   "id": "cross-click",
   "metadata": {},
   "source": [
    "Use the class [`ConfusionMatrixDisplay`](https://scikit-learn.org/stable/modules/generated/sklearn.metrics.ConfusionMatrixDisplay.html)\n",
    "to display the confusion matrix.\n",
    "\n",
    "Briefly comment on the results.\n",
    "\n",
    "Note that the `.confusion_matrix` attribute of the created object allows to obtain the confusion matrix in the form of an array."
   ]
  },
  {
   "cell_type": "markdown",
   "id": "d7521f1f",
   "metadata": {},
   "source": [
    "<span style=\"color:red\">Implement your solution below and comment briefly</span>"
   ]
  },
  {
   "cell_type": "code",
   "execution_count": 14,
   "id": "32d232ca",
   "metadata": {},
   "outputs": [
    {
     "data": {
      "image/png": "[encoded data removed]",
      "text/plain": [
       "<Figure size 640x480 with 2 Axes>"
      ]
     },
     "metadata": {
      "image/png": {
       "height": 480,
       "width": 498
      }
     },
     "output_type": "display_data"
    }
   ],
   "source": [
    "disp = metrics.ConfusionMatrixDisplay.from_estimator(\n",
    "    model, test_xs, test_ys, cmap=plt.cm.Blues\n",
    ")\n",
    "disp.figure_.suptitle(\"Confusion Matrix\")\n",
    "plt.show()"
   ]
  },
  {
   "cell_type": "code",
   "execution_count": 15,
   "id": "1a286527",
   "metadata": {},
   "outputs": [
    {
     "name": "stdout",
     "output_type": "stream",
     "text": [
      "Confusion matrix:\n",
      "\n",
      "[[51  0  0  0  1  0  0  1  0  0]\n",
      " [ 0 34  0  0  0  0  0  0  8  0]\n",
      " [ 0  4 27  0  0  0  0  0 10  0]\n",
      " [ 0  1  2 40  0  1  0  3  5  0]\n",
      " [ 1  0  0  0 43  0  2  0  1  0]\n",
      " [ 0  1  0  1  0 33  0  2  2  0]\n",
      " [ 0  0  0  0  0  0 43  0  0  0]\n",
      " [ 0  0  0  0  0  0  0 48  0  0]\n",
      " [ 0  1  0  1  0  0  0  0 35  0]\n",
      " [ 0  1  0  1  2  1  0  6  7 30]]\n"
     ]
    }
   ],
   "source": [
    "print(f\"Confusion matrix:\\n\\n{disp.confusion_matrix}\")"
   ]
  },
  {
   "cell_type": "markdown",
   "id": "occasional-thomson",
   "metadata": {},
   "source": [
    "#### Error visualization\n",
    "\n",
    "Identify the most confusing cases.\n",
    "\n",
    "Identify misclassified instances for the lowest f1-scoring cipher class and visualize them with the code below.\n",
    "\n",
    "You may use the function [numpy.where](https://numpy.org/doc/stable/reference/generated/numpy.where.html) to find the index of the concerned instances."
   ]
  },
  {
   "cell_type": "markdown",
   "id": "44f27aaa",
   "metadata": {},
   "source": [
    "<span style=\"color:red\">Implement your solution below and comment briefly</span>"
   ]
  },
  {
   "cell_type": "code",
   "execution_count": 16,
   "id": "dd4b59e4",
   "metadata": {},
   "outputs": [
    {
     "data": {
      "text/plain": [
       "array([ 21,  65, 114, 203, 270, 333, 371, 416])"
      ]
     },
     "execution_count": 16,
     "metadata": {},
     "output_type": "execute_result"
    }
   ],
   "source": [
    "(indexes,) = np.where((test_ys == 1) & (test_ys != pred_ys))\n",
    "indexes"
   ]
  },
  {
   "cell_type": "code",
   "execution_count": 17,
   "id": "d5de1063",
   "metadata": {},
   "outputs": [],
   "source": [
    "def plot_digit(idx, xs, ys=None, pred_ys=None):\n",
    "    if ys is not None:\n",
    "        print(f\"Digit value:\\t{ys[idx]}\")\n",
    "    if pred_ys is not None:\n",
    "        print(f\"Prediction:\\t{pred_ys[idx]}\")\n",
    "\n",
    "    plt.figure(figsize=(3, 3))\n",
    "    plt.imshow(\n",
    "        xs[idx].reshape(8, -1),\n",
    "        cmap=plt.cm.gray_r,\n",
    "        interpolation=\"nearest\",\n",
    "    )"
   ]
  },
  {
   "cell_type": "code",
   "execution_count": 18,
   "id": "feb2b078",
   "metadata": {},
   "outputs": [
    {
     "name": "stdout",
     "output_type": "stream",
     "text": [
      "Digit value:\t1\n"
     ]
    },
    {
     "data": {
      "image/png": "[encoded data removed]",
      "text/plain": [
       "<Figure size 300x300 with 1 Axes>"
      ]
     },
     "metadata": {
      "image/png": {
       "height": 274,
       "width": 269
      }
     },
     "output_type": "display_data"
    }
   ],
   "source": [
    "plot_digit(idx=21, xs=test_xs, ys=test_ys)"
   ]
  },
  {
   "cell_type": "markdown",
   "id": "cross-candidate",
   "metadata": {},
   "source": [
    "---"
   ]
  },
  {
   "cell_type": "markdown",
   "id": "controversial-enclosure",
   "metadata": {},
   "source": [
    "### PCA"
   ]
  },
  {
   "cell_type": "markdown",
   "id": "british-bahamas",
   "metadata": {},
   "source": [
    "Try to reduce the number of features through the ([PCA](https://scikit-learn.org/stable/modules/generated/sklearn.decomposition.PCA.html)), by choosing, e.g., the 10 first principal components.\n",
    "\n",
    "**Note on standardization:** \n",
    "\n",
    "It is usually important (for tabular dataset) to standardize the data before applying PCA, since it takes into account the variance of the data to set the principal components.\n",
    "\n",
    "Though in the case of images, each feature uses the same scale (pixel intensity), so it is not necessary to standardize the data. It could even be harmful, since the variance of each pixel would be set to 1, which would bring much noise in the data, especially for the low-intensity pixels (like the corners)."
   ]
  },
  {
   "cell_type": "markdown",
   "id": "crude-bench",
   "metadata": {},
   "source": [
    "#### PCA and training/evaluation data selection"
   ]
  },
  {
   "cell_type": "markdown",
   "id": "34d70a06",
   "metadata": {},
   "source": [
    "<span style=\"color:red\">Implement your solution below and comment briefly</span>"
   ]
  },
  {
   "cell_type": "code",
   "execution_count": 19,
   "id": "497fc40f",
   "metadata": {},
   "outputs": [
    {
     "name": "stdout",
     "output_type": "stream",
     "text": [
      "(1347, 64) (450, 64)\n",
      "(1347, 10) (450, 10)\n"
     ]
    }
   ],
   "source": [
    "N_COMP = 10\n",
    "\n",
    "pca = decomposition.PCA(n_components=N_COMP)\n",
    "train_xps = pca.fit_transform(train_xs)\n",
    "test_xps = pca.transform(test_xs)\n",
    "\n",
    "print(train_xs.shape, test_xs.shape)\n",
    "print(train_xps.shape, test_xps.shape)"
   ]
  },
  {
   "cell_type": "markdown",
   "id": "cooked-mailman",
   "metadata": {},
   "source": [
    "#### Model training"
   ]
  },
  {
   "cell_type": "markdown",
   "id": "b0f367b2",
   "metadata": {},
   "source": [
    "<span style=\"color:red\">Implement your solution below and comment briefly</span>"
   ]
  },
  {
   "cell_type": "code",
   "execution_count": 20,
   "id": "2b3e8d8f",
   "metadata": {},
   "outputs": [],
   "source": [
    "# 2. Instantiation\n",
    "model = naive_bayes.GaussianNB()\n",
    "\n",
    "# 3. Learn (fit) the model\n",
    "model.fit(train_xps, train_ys)\n",
    "\n",
    "# 4. Predict on new data\n",
    "yps_pred = model.predict(test_xps)"
   ]
  },
  {
   "cell_type": "markdown",
   "id": "noble-national",
   "metadata": {},
   "source": [
    "#### Evaluation"
   ]
  },
  {
   "cell_type": "markdown",
   "id": "3381f52e",
   "metadata": {},
   "source": [
    "<span style=\"color:red\">Implement your solution below and comment briefly</span>"
   ]
  },
  {
   "cell_type": "code",
   "execution_count": 21,
   "id": "3edd107e",
   "metadata": {},
   "outputs": [
    {
     "name": "stdout",
     "output_type": "stream",
     "text": [
      "0.91\n",
      "              precision    recall  f1-score   support\n",
      "\n",
      "           0       1.00      0.94      0.97        53\n",
      "           1       0.73      0.88      0.80        42\n",
      "           2       0.95      0.85      0.90        41\n",
      "           3       0.96      0.83      0.89        52\n",
      "           4       0.98      1.00      0.99        47\n",
      "           5       0.88      0.95      0.91        39\n",
      "           6       1.00      1.00      1.00        43\n",
      "           7       0.90      0.96      0.93        48\n",
      "           8       0.86      0.81      0.83        37\n",
      "           9       0.88      0.88      0.88        48\n",
      "\n",
      "    accuracy                           0.91       450\n",
      "   macro avg       0.91      0.91      0.91       450\n",
      "weighted avg       0.92      0.91      0.91       450\n",
      "\n"
     ]
    }
   ],
   "source": [
    "score = metrics.accuracy_score(test_ys, yps_pred)\n",
    "print(f\"{score :.2f}\")\n",
    "\n",
    "print(metrics.classification_report(test_ys, yps_pred))"
   ]
  },
  {
   "cell_type": "markdown",
   "id": "sacred-boston",
   "metadata": {},
   "source": [
    "---"
   ]
  },
  {
   "cell_type": "markdown",
   "id": "catholic-magazine",
   "metadata": {},
   "source": [
    "### Cross-Validation"
   ]
  },
  {
   "cell_type": "markdown",
   "id": "respiratory-administrator",
   "metadata": {},
   "source": [
    "![](img/grid_search_cross_validation.png)"
   ]
  },
  {
   "cell_type": "markdown",
   "id": "apart-socket",
   "metadata": {},
   "source": [
    "#### Data preparation"
   ]
  },
  {
   "cell_type": "markdown",
   "id": "respected-recording",
   "metadata": {},
   "source": [
    "Use the function [`cross_val_score`](https://scikit-learn.org/stable/modules/generated/sklearn.model_selection.cross_val_score.html) to implement cross-validation.\n",
    "\n",
    "You may choose to do 10 splits (`cv=10`).\n",
    "\n",
    "Choose as *scoring* `\"f1_weighted\"`, then the function will return the corresponding scores in an array.\n",
    "\n",
    "By way of example and in order to be able to compare the results with the previous ones, the first application will be done on the entire dataset (which is usually not recommended)."
   ]
  },
  {
   "cell_type": "markdown",
   "id": "ce2ad1c3",
   "metadata": {},
   "source": [
    "<span style=\"color:red\">Implement your solution below and comment briefly</span>"
   ]
  },
  {
   "cell_type": "code",
   "execution_count": 22,
   "id": "suspended-newman",
   "metadata": {},
   "outputs": [
    {
     "name": "stdout",
     "output_type": "stream",
     "text": [
      "[0.94 0.9  0.88 0.89 0.94 0.89 0.92 0.9  0.91 0.91]\n",
      "\n",
      "f1_weighted: 0.908, with std dev: 0.020\n",
      "\n"
     ]
    }
   ],
   "source": [
    "SCORINGS = \"f1_weighted\"\n",
    "\n",
    "xps = np.vstack([train_xps, test_xps])\n",
    "yps = np.hstack([train_ys, test_ys])\n",
    "\n",
    "scores = model_selection.cross_val_score(\n",
    "    model, xps, yps, cv=10, scoring=SCORINGS\n",
    ")\n",
    "with np.printoptions(precision=2):\n",
    "    print(scores)\n",
    "\n",
    "print(f\"\\n{SCORINGS}: {scores.mean():.3f}, with std dev: {scores.std():.3f}\\n\")"
   ]
  },
  {
   "cell_type": "markdown",
   "id": "yellow-planner",
   "metadata": {},
   "source": [
    "Show the results with a [`plt.bar`] (https://matplotlib.org/stable/api/_as_gen/matplotlib.pyplot.bar.html) which includes an error bar `yerr` equal to 1 [standard deviation](https://numpy.org/doc/stable/reference/generated/numpy.std.html), as well as in a [`boxplot`](https://matplotlib.org/stable/api/_as_gen/ matplotlib.pyplot.boxplot.html)."
   ]
  },
  {
   "cell_type": "markdown",
   "id": "0d657fcd",
   "metadata": {},
   "source": [
    "<span style=\"color:red\">Implement your solution below and comment briefly</span>"
   ]
  },
  {
   "cell_type": "code",
   "execution_count": 24,
   "id": "d3637684",
   "metadata": {},
   "outputs": [
    {
     "data": {
      "image/png": "[encoded data removed]",
      "text/plain": [
       "<Figure size 640x480 with 1 Axes>"
      ]
     },
     "metadata": {
      "image/png": {
       "height": 418,
       "width": 547
      }
     },
     "output_type": "display_data"
    }
   ],
   "source": [
    "plt.bar([str(model)], scores.mean(), yerr=scores.std())\n",
    "plt.xlim(-2, 2)\n",
    "plt.ylim(0, 1)\n",
    "plt.grid(axis=\"y\")\n",
    "plt.show()"
   ]
  },
  {
   "cell_type": "code",
   "execution_count": 25,
   "id": "a8a78d6b",
   "metadata": {},
   "outputs": [
    {
     "data": {
      "image/png": "[encoded data removed]",
      "text/plain": [
       "<Figure size 640x480 with 1 Axes>"
      ]
     },
     "metadata": {
      "image/png": {
       "height": 413,
       "width": 556
      }
     },
     "output_type": "display_data"
    }
   ],
   "source": [
    "plt.boxplot(scores)\n",
    "plt.xticks([1], [str(model)])\n",
    "plt.grid(axis=\"y\")\n",
    "plt.show()"
   ]
  },
  {
   "cell_type": "markdown",
   "id": "speaking-drawing",
   "metadata": {},
   "source": [
    "---"
   ]
  },
  {
   "cell_type": "markdown",
   "id": "large-salon",
   "metadata": {},
   "source": [
    "### Grid Search"
   ]
  },
  {
   "cell_type": "markdown",
   "id": "adult-validation",
   "metadata": {},
   "source": [
    "This time, we are going to use cross-validation for one of its primary use: to validate the choice of hyperparameters."
   ]
  },
  {
   "cell_type": "markdown",
   "id": "metropolitan-louisville",
   "metadata": {},
   "source": [
    "We will use the class\n",
    "[`model_selection.GridSearchCV`](https://scikit-learn.org/stable/modules/generated/sklearn.model_selection.GridSearchCV.html) to choose the best number of main components for the PCA.\n",
    "\n",
    "This class makes it possible to test several hyperparameters (stored in a dictionary) and to test them via cross-validation (hence the CV in the name).\n",
    "\n",
    "To do this, we no longer need to worry about creating the different subsets, the `GridSearchCV` class does it for us."
   ]
  },
  {
   "cell_type": "code",
   "execution_count": 26,
   "id": "dirty-northwest",
   "metadata": {},
   "outputs": [],
   "source": [
    "param_grid = {\"pca__n_components\": [1, 2, 5, 10, 20, 30, 40, 60]}"
   ]
  },
  {
   "cell_type": "markdown",
   "id": "accomplished-elements",
   "metadata": {},
   "source": [
    "We're going to use a [`pipeline`](https://scikit-learn.org/stable/modules/generated/sklearn.pipeline.Pipeline.html) to do PCA compression and training with the model together, which will allow us to modify the hyperparameters at any step of the process through a single command.\n",
    "\n",
    "We will have to use the exact names of the hyperparameters to modify in the dictionary, preceded by the name of the module and a double *underscore* (e.g., here: `\"pca__\"`), in order to be able to assign them to the right step of the `pipeline`."
   ]
  },
  {
   "cell_type": "markdown",
   "id": "confused-alias",
   "metadata": {},
   "source": [
    "<span style=\"color:red\">Implement your solution below and comment briefly</span>"
   ]
  },
  {
   "cell_type": "code",
   "execution_count": 28,
   "id": "printable-cardiff",
   "metadata": {},
   "outputs": [],
   "source": [
    "# Define the pipeline\n",
    "\n",
    "# Define a pipeline to search for the best combination of PCA truncation\n",
    "# and classifier regularization.\n",
    "\n",
    "scaler = sklearn.preprocessing.StandardScaler()\n",
    "pca = decomposition.PCA()\n",
    "model = naive_bayes.GaussianNB()\n",
    "\n",
    "pipe = pipeline.Pipeline(\n",
    "    steps=[\n",
    "        # (\"scaler\", scaler),  # As explained above, scaling decreases performance\n",
    "        (\"pca\", pca),\n",
    "        (\"model\", model),\n",
    "    ]\n",
    ")"
   ]
  },
  {
   "cell_type": "code",
   "execution_count": 29,
   "id": "favorite-decade",
   "metadata": {},
   "outputs": [
    {
     "name": "stdout",
     "output_type": "stream",
     "text": [
      "Fitting 10 folds for each of 8 candidates, totalling 80 fits\n"
     ]
    },
    {
     "data": {
      "text/html": [
       "<style>#sk-container-id-1 {color: black;}#sk-container-id-1 pre{padding: 0;}#sk-container-id-1 div.sk-toggleable {background-color: white;}#sk-container-id-1 label.sk-toggleable__label {cursor: pointer;display: block;width: 100%;margin-bottom: 0;padding: 0.3em;box-sizing: border-box;text-align: center;}#sk-container-id-1 label.sk-toggleable__label-arrow:before {content: \"▸\";float: left;margin-right: 0.25em;color: #696969;}#sk-container-id-1 label.sk-toggleable__label-arrow:hover:before {color: black;}#sk-container-id-1 div.sk-estimator:hover label.sk-toggleable__label-arrow:before {color: black;}#sk-container-id-1 div.sk-toggleable__content {max-height: 0;max-width: 0;overflow: hidden;text-align: left;background-color: #f0f8ff;}#sk-container-id-1 div.sk-toggleable__content pre {margin: 0.2em;color: black;border-radius: 0.25em;background-color: #f0f8ff;}#sk-container-id-1 input.sk-toggleable__control:checked~div.sk-toggleable__content {max-height: 200px;max-width: 100%;overflow: auto;}#sk-container-id-1 input.sk-toggleable__control:checked~label.sk-toggleable__label-arrow:before {content: \"▾\";}#sk-container-id-1 div.sk-estimator input.sk-toggleable__control:checked~label.sk-toggleable__label {background-color: #d4ebff;}#sk-container-id-1 div.sk-label input.sk-toggleable__control:checked~label.sk-toggleable__label {background-color: #d4ebff;}#sk-container-id-1 input.sk-hidden--visually {border: 0;clip: rect(1px 1px 1px 1px);clip: rect(1px, 1px, 1px, 1px);height: 1px;margin: -1px;overflow: hidden;padding: 0;position: absolute;width: 1px;}#sk-container-id-1 div.sk-estimator {font-family: monospace;background-color: #f0f8ff;border: 1px dotted black;border-radius: 0.25em;box-sizing: border-box;margin-bottom: 0.5em;}#sk-container-id-1 div.sk-estimator:hover {background-color: #d4ebff;}#sk-container-id-1 div.sk-parallel-item::after {content: \"\";width: 100%;border-bottom: 1px solid gray;flex-grow: 1;}#sk-container-id-1 div.sk-label:hover label.sk-toggleable__label {background-color: #d4ebff;}#sk-container-id-1 div.sk-serial::before {content: \"\";position: absolute;border-left: 1px solid gray;box-sizing: border-box;top: 0;bottom: 0;left: 50%;z-index: 0;}#sk-container-id-1 div.sk-serial {display: flex;flex-direction: column;align-items: center;background-color: white;padding-right: 0.2em;padding-left: 0.2em;position: relative;}#sk-container-id-1 div.sk-item {position: relative;z-index: 1;}#sk-container-id-1 div.sk-parallel {display: flex;align-items: stretch;justify-content: center;background-color: white;position: relative;}#sk-container-id-1 div.sk-item::before, #sk-container-id-1 div.sk-parallel-item::before {content: \"\";position: absolute;border-left: 1px solid gray;box-sizing: border-box;top: 0;bottom: 0;left: 50%;z-index: -1;}#sk-container-id-1 div.sk-parallel-item {display: flex;flex-direction: column;z-index: 1;position: relative;background-color: white;}#sk-container-id-1 div.sk-parallel-item:first-child::after {align-self: flex-end;width: 50%;}#sk-container-id-1 div.sk-parallel-item:last-child::after {align-self: flex-start;width: 50%;}#sk-container-id-1 div.sk-parallel-item:only-child::after {width: 0;}#sk-container-id-1 div.sk-dashed-wrapped {border: 1px dashed gray;margin: 0 0.4em 0.5em 0.4em;box-sizing: border-box;padding-bottom: 0.4em;background-color: white;}#sk-container-id-1 div.sk-label label {font-family: monospace;font-weight: bold;display: inline-block;line-height: 1.2em;}#sk-container-id-1 div.sk-label-container {text-align: center;}#sk-container-id-1 div.sk-container {/* jupyter's `normalize.less` sets `[hidden] { display: none; }` but bootstrap.min.css set `[hidden] { display: none !important; }` so we also need the `!important` here to be able to override the default hidden behavior on the sphinx rendered scikit-learn.org. See: https://github.com/scikit-learn/scikit-learn/issues/21755 */display: inline-block !important;position: relative;}#sk-container-id-1 div.sk-text-repr-fallback {display: none;}</style><div id=\"sk-container-id-1\" class=\"sk-top-container\"><div class=\"sk-text-repr-fallback\"><pre>GridSearchCV(cv=10,\n",
       "             estimator=Pipeline(steps=[(&#x27;pca&#x27;, PCA()),\n",
       "                                       (&#x27;model&#x27;, GaussianNB())]),\n",
       "             n_jobs=-1,\n",
       "             param_grid={&#x27;pca__n_components&#x27;: [1, 2, 5, 10, 20, 30, 40, 60]},\n",
       "             scoring=&#x27;f1_weighted&#x27;, verbose=1)</pre><b>In a Jupyter environment, please rerun this cell to show the HTML representation or trust the notebook. <br />On GitHub, the HTML representation is unable to render, please try loading this page with nbviewer.org.</b></div><div class=\"sk-container\" hidden><div class=\"sk-item sk-dashed-wrapped\"><div class=\"sk-label-container\"><div class=\"sk-label sk-toggleable\"><input class=\"sk-toggleable__control sk-hidden--visually\" id=\"sk-estimator-id-1\" type=\"checkbox\" ><label for=\"sk-estimator-id-1\" class=\"sk-toggleable__label sk-toggleable__label-arrow\">GridSearchCV</label><div class=\"sk-toggleable__content\"><pre>GridSearchCV(cv=10,\n",
       "             estimator=Pipeline(steps=[(&#x27;pca&#x27;, PCA()),\n",
       "                                       (&#x27;model&#x27;, GaussianNB())]),\n",
       "             n_jobs=-1,\n",
       "             param_grid={&#x27;pca__n_components&#x27;: [1, 2, 5, 10, 20, 30, 40, 60]},\n",
       "             scoring=&#x27;f1_weighted&#x27;, verbose=1)</pre></div></div></div><div class=\"sk-parallel\"><div class=\"sk-parallel-item\"><div class=\"sk-item\"><div class=\"sk-label-container\"><div class=\"sk-label sk-toggleable\"><input class=\"sk-toggleable__control sk-hidden--visually\" id=\"sk-estimator-id-2\" type=\"checkbox\" ><label for=\"sk-estimator-id-2\" class=\"sk-toggleable__label sk-toggleable__label-arrow\">estimator: Pipeline</label><div class=\"sk-toggleable__content\"><pre>Pipeline(steps=[(&#x27;pca&#x27;, PCA()), (&#x27;model&#x27;, GaussianNB())])</pre></div></div></div><div class=\"sk-serial\"><div class=\"sk-item\"><div class=\"sk-serial\"><div class=\"sk-item\"><div class=\"sk-estimator sk-toggleable\"><input class=\"sk-toggleable__control sk-hidden--visually\" id=\"sk-estimator-id-3\" type=\"checkbox\" ><label for=\"sk-estimator-id-3\" class=\"sk-toggleable__label sk-toggleable__label-arrow\">PCA</label><div class=\"sk-toggleable__content\"><pre>PCA()</pre></div></div></div><div class=\"sk-item\"><div class=\"sk-estimator sk-toggleable\"><input class=\"sk-toggleable__control sk-hidden--visually\" id=\"sk-estimator-id-4\" type=\"checkbox\" ><label for=\"sk-estimator-id-4\" class=\"sk-toggleable__label sk-toggleable__label-arrow\">GaussianNB</label><div class=\"sk-toggleable__content\"><pre>GaussianNB()</pre></div></div></div></div></div></div></div></div></div></div></div></div>"
      ],
      "text/plain": [
       "GridSearchCV(cv=10,\n",
       "             estimator=Pipeline(steps=[('pca', PCA()),\n",
       "                                       ('model', GaussianNB())]),\n",
       "             n_jobs=-1,\n",
       "             param_grid={'pca__n_components': [1, 2, 5, 10, 20, 30, 40, 60]},\n",
       "             scoring='f1_weighted', verbose=1)"
      ]
     },
     "execution_count": 29,
     "metadata": {},
     "output_type": "execute_result"
    }
   ],
   "source": [
    "# Define the gridsearch using the pipeline and fit the model\n",
    "\n",
    "# Parameters of pipelines can be set using ‘__’ separated parameter names:\n",
    "\n",
    "search = model_selection.GridSearchCV(\n",
    "    pipe, param_grid, n_jobs=-1, scoring=SCORINGS, verbose=1, cv=10\n",
    ")\n",
    "\n",
    "search.fit(data, digits.target)"
   ]
  },
  {
   "cell_type": "code",
   "execution_count": 30,
   "id": "instrumental-czech",
   "metadata": {},
   "outputs": [
    {
     "name": "stdout",
     "output_type": "stream",
     "text": [
      "Best parameter (CV score: 0.916)\n",
      "{'pca__n_components': 30}\n"
     ]
    },
    {
     "data": {
      "text/html": [
       "<div>\n",
       "<style scoped>\n",
       "    .dataframe tbody tr th:only-of-type {\n",
       "        vertical-align: middle;\n",
       "    }\n",
       "\n",
       "    .dataframe tbody tr th {\n",
       "        vertical-align: top;\n",
       "    }\n",
       "\n",
       "    .dataframe thead th {\n",
       "        text-align: right;\n",
       "    }\n",
       "</style>\n",
       "<table border=\"1\" class=\"dataframe\">\n",
       "  <thead>\n",
       "    <tr style=\"text-align: right;\">\n",
       "      <th></th>\n",
       "      <th>mean_fit_time</th>\n",
       "      <th>std_fit_time</th>\n",
       "      <th>mean_score_time</th>\n",
       "      <th>std_score_time</th>\n",
       "      <th>param_pca__n_components</th>\n",
       "      <th>params</th>\n",
       "      <th>split0_test_score</th>\n",
       "      <th>split1_test_score</th>\n",
       "      <th>split2_test_score</th>\n",
       "      <th>split3_test_score</th>\n",
       "      <th>split4_test_score</th>\n",
       "      <th>split5_test_score</th>\n",
       "      <th>split6_test_score</th>\n",
       "      <th>split7_test_score</th>\n",
       "      <th>split8_test_score</th>\n",
       "      <th>split9_test_score</th>\n",
       "      <th>mean_test_score</th>\n",
       "      <th>std_test_score</th>\n",
       "      <th>rank_test_score</th>\n",
       "    </tr>\n",
       "  </thead>\n",
       "  <tbody>\n",
       "    <tr>\n",
       "      <th>0</th>\n",
       "      <td>0.024</td>\n",
       "      <td>0.0052</td>\n",
       "      <td>0.0062</td>\n",
       "      <td>0.0029</td>\n",
       "      <td>1</td>\n",
       "      <td>{'pca__n_components': 1}</td>\n",
       "      <td>0.3</td>\n",
       "      <td>0.37</td>\n",
       "      <td>0.25</td>\n",
       "      <td>0.28</td>\n",
       "      <td>0.32</td>\n",
       "      <td>0.28</td>\n",
       "      <td>0.36</td>\n",
       "      <td>0.3</td>\n",
       "      <td>0.3</td>\n",
       "      <td>0.28</td>\n",
       "      <td>0.3</td>\n",
       "      <td>0.036</td>\n",
       "      <td>8</td>\n",
       "    </tr>\n",
       "    <tr>\n",
       "      <th>1</th>\n",
       "      <td>0.019</td>\n",
       "      <td>0.0027</td>\n",
       "      <td>0.0059</td>\n",
       "      <td>0.0007</td>\n",
       "      <td>2</td>\n",
       "      <td>{'pca__n_components': 2}</td>\n",
       "      <td>0.54</td>\n",
       "      <td>0.68</td>\n",
       "      <td>0.59</td>\n",
       "      <td>0.64</td>\n",
       "      <td>0.66</td>\n",
       "      <td>0.59</td>\n",
       "      <td>0.62</td>\n",
       "      <td>0.57</td>\n",
       "      <td>0.58</td>\n",
       "      <td>0.58</td>\n",
       "      <td>0.6</td>\n",
       "      <td>0.042</td>\n",
       "      <td>7</td>\n",
       "    </tr>\n",
       "    <tr>\n",
       "      <th>2</th>\n",
       "      <td>0.017</td>\n",
       "      <td>0.0037</td>\n",
       "      <td>0.0042</td>\n",
       "      <td>0.00078</td>\n",
       "      <td>5</td>\n",
       "      <td>{'pca__n_components': 5}</td>\n",
       "      <td>0.83</td>\n",
       "      <td>0.88</td>\n",
       "      <td>0.79</td>\n",
       "      <td>0.82</td>\n",
       "      <td>0.84</td>\n",
       "      <td>0.77</td>\n",
       "      <td>0.83</td>\n",
       "      <td>0.83</td>\n",
       "      <td>0.75</td>\n",
       "      <td>0.84</td>\n",
       "      <td>0.82</td>\n",
       "      <td>0.035</td>\n",
       "      <td>6</td>\n",
       "    </tr>\n",
       "    <tr>\n",
       "      <th>3</th>\n",
       "      <td>0.01</td>\n",
       "      <td>0.00069</td>\n",
       "      <td>0.0031</td>\n",
       "      <td>0.00032</td>\n",
       "      <td>10</td>\n",
       "      <td>{'pca__n_components': 10}</td>\n",
       "      <td>0.88</td>\n",
       "      <td>0.92</td>\n",
       "      <td>0.89</td>\n",
       "      <td>0.87</td>\n",
       "      <td>0.89</td>\n",
       "      <td>0.9</td>\n",
       "      <td>0.93</td>\n",
       "      <td>0.96</td>\n",
       "      <td>0.84</td>\n",
       "      <td>0.87</td>\n",
       "      <td>0.89</td>\n",
       "      <td>0.031</td>\n",
       "      <td>4</td>\n",
       "    </tr>\n",
       "    <tr>\n",
       "      <th>4</th>\n",
       "      <td>0.014</td>\n",
       "      <td>0.0016</td>\n",
       "      <td>0.0036</td>\n",
       "      <td>0.00049</td>\n",
       "      <td>20</td>\n",
       "      <td>{'pca__n_components': 20}</td>\n",
       "      <td>0.88</td>\n",
       "      <td>0.95</td>\n",
       "      <td>0.89</td>\n",
       "      <td>0.9</td>\n",
       "      <td>0.89</td>\n",
       "      <td>0.91</td>\n",
       "      <td>0.96</td>\n",
       "      <td>0.97</td>\n",
       "      <td>0.85</td>\n",
       "      <td>0.91</td>\n",
       "      <td>0.91</td>\n",
       "      <td>0.035</td>\n",
       "      <td>3</td>\n",
       "    </tr>\n",
       "    <tr>\n",
       "      <th>5</th>\n",
       "      <td>0.019</td>\n",
       "      <td>0.0015</td>\n",
       "      <td>0.0043</td>\n",
       "      <td>0.00063</td>\n",
       "      <td>30</td>\n",
       "      <td>{'pca__n_components': 30}</td>\n",
       "      <td>0.89</td>\n",
       "      <td>0.94</td>\n",
       "      <td>0.9</td>\n",
       "      <td>0.93</td>\n",
       "      <td>0.89</td>\n",
       "      <td>0.91</td>\n",
       "      <td>0.97</td>\n",
       "      <td>0.97</td>\n",
       "      <td>0.85</td>\n",
       "      <td>0.9</td>\n",
       "      <td>0.92</td>\n",
       "      <td>0.036</td>\n",
       "      <td>1</td>\n",
       "    </tr>\n",
       "    <tr>\n",
       "      <th>6</th>\n",
       "      <td>0.031</td>\n",
       "      <td>0.0063</td>\n",
       "      <td>0.0056</td>\n",
       "      <td>0.00097</td>\n",
       "      <td>40</td>\n",
       "      <td>{'pca__n_components': 40}</td>\n",
       "      <td>0.88</td>\n",
       "      <td>0.92</td>\n",
       "      <td>0.91</td>\n",
       "      <td>0.93</td>\n",
       "      <td>0.89</td>\n",
       "      <td>0.91</td>\n",
       "      <td>0.97</td>\n",
       "      <td>0.94</td>\n",
       "      <td>0.87</td>\n",
       "      <td>0.9</td>\n",
       "      <td>0.91</td>\n",
       "      <td>0.028</td>\n",
       "      <td>2</td>\n",
       "    </tr>\n",
       "    <tr>\n",
       "      <th>7</th>\n",
       "      <td>0.016</td>\n",
       "      <td>0.0042</td>\n",
       "      <td>0.0041</td>\n",
       "      <td>0.001</td>\n",
       "      <td>60</td>\n",
       "      <td>{'pca__n_components': 60}</td>\n",
       "      <td>0.87</td>\n",
       "      <td>0.9</td>\n",
       "      <td>0.88</td>\n",
       "      <td>0.75</td>\n",
       "      <td>0.82</td>\n",
       "      <td>0.85</td>\n",
       "      <td>0.92</td>\n",
       "      <td>0.94</td>\n",
       "      <td>0.8</td>\n",
       "      <td>0.85</td>\n",
       "      <td>0.86</td>\n",
       "      <td>0.056</td>\n",
       "      <td>5</td>\n",
       "    </tr>\n",
       "  </tbody>\n",
       "</table>\n",
       "</div>"
      ],
      "text/plain": [
       "   mean_fit_time  std_fit_time  mean_score_time  std_score_time  \\\n",
       "0          0.024        0.0052           0.0062          0.0029   \n",
       "1          0.019        0.0027           0.0059          0.0007   \n",
       "2          0.017        0.0037           0.0042         0.00078   \n",
       "3           0.01       0.00069           0.0031         0.00032   \n",
       "4          0.014        0.0016           0.0036         0.00049   \n",
       "5          0.019        0.0015           0.0043         0.00063   \n",
       "6          0.031        0.0063           0.0056         0.00097   \n",
       "7          0.016        0.0042           0.0041           0.001   \n",
       "\n",
       "  param_pca__n_components                     params  split0_test_score  \\\n",
       "0                       1   {'pca__n_components': 1}                0.3   \n",
       "1                       2   {'pca__n_components': 2}               0.54   \n",
       "2                       5   {'pca__n_components': 5}               0.83   \n",
       "3                      10  {'pca__n_components': 10}               0.88   \n",
       "4                      20  {'pca__n_components': 20}               0.88   \n",
       "5                      30  {'pca__n_components': 30}               0.89   \n",
       "6                      40  {'pca__n_components': 40}               0.88   \n",
       "7                      60  {'pca__n_components': 60}               0.87   \n",
       "\n",
       "   split1_test_score  split2_test_score  split3_test_score  split4_test_score  \\\n",
       "0               0.37               0.25               0.28               0.32   \n",
       "1               0.68               0.59               0.64               0.66   \n",
       "2               0.88               0.79               0.82               0.84   \n",
       "3               0.92               0.89               0.87               0.89   \n",
       "4               0.95               0.89                0.9               0.89   \n",
       "5               0.94                0.9               0.93               0.89   \n",
       "6               0.92               0.91               0.93               0.89   \n",
       "7                0.9               0.88               0.75               0.82   \n",
       "\n",
       "   split5_test_score  split6_test_score  split7_test_score  split8_test_score  \\\n",
       "0               0.28               0.36                0.3                0.3   \n",
       "1               0.59               0.62               0.57               0.58   \n",
       "2               0.77               0.83               0.83               0.75   \n",
       "3                0.9               0.93               0.96               0.84   \n",
       "4               0.91               0.96               0.97               0.85   \n",
       "5               0.91               0.97               0.97               0.85   \n",
       "6               0.91               0.97               0.94               0.87   \n",
       "7               0.85               0.92               0.94                0.8   \n",
       "\n",
       "   split9_test_score  mean_test_score  std_test_score  rank_test_score  \n",
       "0               0.28              0.3           0.036                8  \n",
       "1               0.58              0.6           0.042                7  \n",
       "2               0.84             0.82           0.035                6  \n",
       "3               0.87             0.89           0.031                4  \n",
       "4               0.91             0.91           0.035                3  \n",
       "5                0.9             0.92           0.036                1  \n",
       "6                0.9             0.91           0.028                2  \n",
       "7               0.85             0.86           0.056                5  "
      ]
     },
     "metadata": {},
     "output_type": "display_data"
    }
   ],
   "source": [
    "# Print the best prediction score obtained\n",
    "# and its corresponding hyperparameter value\n",
    "\n",
    "print(f\"Best parameter (CV score: {search.best_score_:.3f})\")\n",
    "\n",
    "print(search.best_params_)\n",
    "\n",
    "cv_results_df = pd.DataFrame(search.cv_results_)\n",
    "\n",
    "with pd.option_context(\"display.float_format\", \"{:.2g}\".format):\n",
    "    display(cv_results_df)"
   ]
  },
  {
   "cell_type": "code",
   "execution_count": 31,
   "id": "87344317",
   "metadata": {},
   "outputs": [
    {
     "data": {
      "image/png": "[encoded data removed]",
      "text/plain": [
       "<Figure size 640x480 with 1 Axes>"
      ]
     },
     "metadata": {
      "image/png": {
       "height": 413,
       "width": 547
      }
     },
     "output_type": "display_data"
    }
   ],
   "source": [
    "# Plot a bar plot (or boxplot) showing the different prediction scores\n",
    "# for each tested hyperparameter\n",
    "# (including the error bars if bar plots are chosen)\n",
    "\n",
    "param = search.cv_results_[\"param_pca__n_components\"]\n",
    "\n",
    "plt.bar(\n",
    "    search.cv_results_[\"param_pca__n_components\"],\n",
    "    search.cv_results_[\"mean_test_score\"],\n",
    "    yerr=search.cv_results_[\"std_test_score\"],\n",
    "    width=0.8\n",
    "    * np.diff(search.cv_results_[\"param_pca__n_components\"].data, prepend=0),\n",
    ")\n",
    "plt.grid(axis=\"y\")\n",
    "plt.show()"
   ]
  },
  {
   "cell_type": "markdown",
   "id": "alive-vaccine",
   "metadata": {},
   "source": [
    "## Further exercises"
   ]
  },
  {
   "cell_type": "markdown",
   "id": "protective-friend",
   "metadata": {},
   "source": [
    "Using the `.predict_proba` method of` linear_model.LogisticRegression`, use the result of the prediction to select a particular threshold (*threshold*) to influence the classification performances.\n",
    "\n",
    "*   Can you get 100% [accuracy](https://scikit-learn.org/stable/modules/generated/sklearn.metrics.precision_score.html)?\n",
    "*   Can you get 100% of [recall](https://scikit-learn.org/stable/modules/generated/sklearn.metrics.recall_score.html)?\n",
    "*   Measure the values of [f1-scores](https://scikit-learn.org/stable/modules/generated/sklearn.metrics.f1_score.html) and comment.\n",
    "*   Plot the [ROC](https://scikit-learn.org/stable/modules/generated/sklearn.metrics.roc_curve.html) from multiple threshold values.\n",
    "*   Compare the [AUC](https://scikit-learn.org/stable/modules/generated/sklearn.metrics.auc.html) (area under the ROC curve) of the `linear_model.LogisticRegression` and of `naive_bayes. GaussianNB()`."
   ]
  },
  {
   "cell_type": "markdown",
   "id": "confused-alias",
   "metadata": {},
   "source": [
    "<span style=\"color:red\">Implement your solution below and comment briefly</span>"
   ]
  },
  {
   "cell_type": "markdown",
   "id": "forty-runner",
   "metadata": {},
   "source": [
    "---"
   ]
  }
 ],
 "metadata": {
  "kernelspec": {
   "display_name": "py3k",
   "language": "python",
   "name": "python3"
  },
  "language_info": {
   "codemirror_mode": {
    "name": "ipython",
    "version": 3
   },
   "file_extension": ".py",
   "mimetype": "text/x-python",
   "name": "python",
   "nbconvert_exporter": "python",
   "pygments_lexer": "ipython3",
   "version": "3.10.13"
  },
  "vscode": {
   "interpreter": {
    "hash": "8123e7477dd55409d2cb14917bba06675fb463f6157c1181c9a2c2261d354d77"
   }
  }
 },
 "nbformat": 4,
 "nbformat_minor": 5
}
