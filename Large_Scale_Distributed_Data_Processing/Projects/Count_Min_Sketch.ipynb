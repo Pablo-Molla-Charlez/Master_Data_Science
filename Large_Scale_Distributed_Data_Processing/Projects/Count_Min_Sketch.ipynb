{
 "cells": [
  {
   "cell_type": "markdown",
   "metadata": {},
   "source": [
    "## Count-Min Sketch for Counting Word Frequencies"
   ]
  },
  {
   "cell_type": "markdown",
   "metadata": {},
   "source": [
    "Authors: Pablo Mollá Chárlez, Pavlo Poiluha and Junjie Chen"
   ]
  },
  {
   "cell_type": "markdown",
   "metadata": {},
   "source": [
    "We now aim to approximate counting using a Count-Min sketch - as a standalone program, not in spark\n",
    "streaming. For this, you will have to keep a structure which host $d \\times w$ cells - d hash functions over w\n",
    "values - that you will set using the $\\epsilon$ and $\\lambda$ parameters, as outlined in the course slides and/or the original paper, available at:\n",
    "\n",
    "- http://dimacs.rutgers.edu/~graham/pubs/papers/cmencyc.pdf.\n"
   ]
  },
  {
   "cell_type": "markdown",
   "metadata": {},
   "source": [
    "### Generating Multiple Hash Functions"
   ]
  },
  {
   "cell_type": "markdown",
   "metadata": {},
   "source": [
    "The main component here is generating several hash functions. \n",
    "\n",
    "In Python, this is can simply be done by generating a large prime number $p$, and two numbers $a$ and $b$ in the range $[1, p - 1]$:"
   ]
  },
  {
   "cell_type": "code",
   "execution_count": 2,
   "metadata": {},
   "outputs": [],
   "source": [
    "import random\n",
    "p = 122354367\n",
    "a = random.randrange(p)\n",
    "b = random.randrange(p)\n",
    "\n",
    "def h(x,a,b,p):\n",
    "    return (a*hash(x)+b)%p"
   ]
  },
  {
   "cell_type": "markdown",
   "metadata": {},
   "source": [
    "Generating multiple hash functions is equivalent to generating $d$ pairs of $a, b$ numbers.\n",
    "\n",
    "If we want to restrict the value space to $0 \\cdots w−1$ we can simply use modulo:"
   ]
  },
  {
   "cell_type": "code",
   "execution_count": 3,
   "metadata": {},
   "outputs": [],
   "source": [
    "def h(x,a,b,p,w):\n",
    "    return ((a*hash(x)+b)%p)%w"
   ]
  },
  {
   "cell_type": "markdown",
   "metadata": {},
   "source": [
    "### Procedure Explanation"
   ]
  },
  {
   "cell_type": "markdown",
   "metadata": {},
   "source": [
    "Let's go through a step-by-step illustration of how the Count-Min Sketch data structure fills up and computes estimates based on the insertion of elements (in this case words). \n",
    "\n",
    "For simplicity, I will use smaller parameters and explain each step with specific hash functions, although in practice, the parameters would be chosen based on the desired accuracy and confidence level."
   ]
  },
  {
   "cell_type": "markdown",
   "metadata": {},
   "source": [
    "#### A. Setup\n",
    "\n",
    "For this example, let's assume:\n",
    "- $\\fbox{epsilon (ϵ) = 0.2}$ $\\longrightarrow$ This implies a width of $w = ceil(1/0.2) = 5$ (Columns of 2D Array = Matrix).\n",
    "- $\\fbox{delta (δ) = 0.2}$ $\\longrightarrow$ This implies a depth of $d = ceil(log(1/0.2)) = 2$ (nº of Hash Functions / Rows of Matrix).\n",
    "\n",
    "So, our Count-Min Sketch will have 2 rows and 5 columns. \n",
    "\n",
    "We'll use a small arbitrary prime $p = 11$ for simplicity, and our hash functions for this example will be:\n",
    "\n",
    "- First hash function: $\\textcolor{green}{\\text{h1(x) = (3*hash(x) + 1) \\% 11 \\% 5}}$\n",
    "- Second hash function: $\\textcolor{blue}{\\text{h2(x) = (4*hash(x) + 2) \\% 11 \\% 5}}$"
   ]
  },
  {
   "cell_type": "markdown",
   "metadata": {},
   "source": [
    "#### B. Hash Functions\n",
    "\n",
    "Assuming $\\textcolor{red}{\\text{hash(x)}}$ simply returns a consistent integer value for the word $x$, we will compute our hash functions accordingly. \n",
    "For illustration, let's say:\n",
    "\n",
    "- hash(\"apple\") = 1\n",
    "- hash(\"banana\") = 2\n",
    "- hash(\"orange\") = 3"
   ]
  },
  {
   "cell_type": "markdown",
   "metadata": {},
   "source": [
    "#### C. Step-by-Step Insertions and Updates\n",
    "\n",
    "1. **Insert \"apple\"**:\n",
    "   - h1(\"apple\") = (3*1 + 1) % 11 % 5 = 4 % 5 = 4\n",
    "   - h2(\"apple\") = (4*1 + 2) % 11 % 5 = 6 % 5 = 1\n",
    "   - Update positions $(0,4)$ and $(1,1)$.\n",
    "\n",
    "2. **Insert \"banana\"**:\n",
    "   - h1(\"banana\") = 2\n",
    "   - h2(\"banana\") = 0\n",
    "   - Update positions $(0,2)$ and $(1,0)$.\n",
    "\n",
    "3. **Insert another \"apple\"**:\n",
    "   - Use the same hash results as the first \"apple\":\n",
    "   - Update positions $(0,4)$ and $(1,1)$ again.\n",
    "\n",
    "4. **Insert \"orange\"**:\n",
    "   - h1(\"orange\") = 0\n",
    "   - h2(\"orange\") = 4\n",
    "   - Update positions $(0,0)$ and $(1,4)$."
   ]
  },
  {
   "cell_type": "markdown",
   "metadata": {},
   "source": [
    "#### D. Visualization of Sketch After Insertions\n",
    "\n",
    "Here's how the Count-Min Sketch looks after the above insertions:\n",
    "\n",
    "- Row 0: [1, 0, 1, 0, 2]  $\\textcolor{green}{\\text{\\# Representing counts affected by \"orange\", \"banana\", \"apple\"}}$\n",
    "- Row 1: [1, 2, 0, 0, 1]  $\\textcolor{green}{\\text{\\# Representing counts affected by \"banana\", \"apple\", \"orange\"}}$\n",
    "\n"
   ]
  },
  {
   "cell_type": "markdown",
   "metadata": {},
   "source": [
    "#### E. Querying the Sketch\n",
    "\n",
    "When querying, say, the frequency of \"apple\", the sketch will:\n",
    "- Calculate $\\textcolor{green}{\\text{h1(\"apple\")}}$ and $\\textcolor{blue}{\\text{h2(\"apple\")}}$ to get indices $4$ and $1$.\n",
    "- Look up these positions in the sketch and find the counts as $[2, 2]$.\n",
    "- Return the minimum value, which is $2$, as the estimated count of \"apple\", which in this case, matches the actual count."
   ]
  },
  {
   "cell_type": "markdown",
   "metadata": {},
   "source": [
    "#### Conclusion\n",
    "\n",
    "This example illustrates how each element affects multiple positions in the sketch through different hash functions. It shows how counts can overlap due to collisions, and why the minimum value across the hash functions gives us the best estimate to minimize the impact of these collisions. The Count-Min Sketch efficiently handles insertions and queries, making it suitable for large-scale streaming data where space efficiency and quick updates are necessary."
   ]
  },
  {
   "cell_type": "markdown",
   "metadata": {},
   "source": [
    "### Implementation"
   ]
  },
  {
   "cell_type": "markdown",
   "metadata": {},
   "source": [
    "To implement a Count-Min Sketch in Python, which is a probabilistic data structure used for approximate frequency estimation, we will follow these steps:\n",
    "\n",
    "1. Initializing the Sketch: We set up a 2D array (matrix) with dimensions $d \\times w$. These dimensions are determined by the error parameters $\\epsilon$ and $\\delta$, where:\n",
    "\n",
    "    - $\\epsilon$: This parameter controls the width (w) of the sketch, which determines the accuracy of the frequency estimates. Smaller values of $\\epsilon$ lead to wider sketches and more accurate estimates. \n",
    "\n",
    "    $$w = ceil(\\frac{1}{\\epsilon})$$\n",
    "\n",
    "    - $\\delta$: This parameter controls the depth (d) of the sketch, affecting the confidence of the estimates. Smaller values of $\\delta$ result in more hash functions (rows), reducing the probability of overestimation. \n",
    "\n",
    "    $$d = ceil(ln(\\frac{1}{\\delta}))$$\n",
    "\n",
    "2. Choosing Hash Functions: As described, we will generate $d$ different hash functions. Each function will be determined by two randomly chosen coefficients $a$ and $b$ and a large prime number $p$.\n",
    "\n",
    "3. Updating the Sketch: For each element in the data stream, we update the sketch using the hash functions to map the element to one of the $w$ columns in each of the $d$ rows.\n",
    "\n",
    "4. Querying the Sketch: To estimate the frequency of an element, we apply all $d$ hash functions and take the minimum value among the corresponding $w$ columns in the sketch.\n",
    "\n",
    "5. Comparing with Exact Counts: Finally, we compare the frequency estimations from the Count-Min Sketch with the exact counts.\n",
    "\n",
    "NB: In this implementation, we initialize the Count-Min Sketch with specified $\\epsilon$ and $\\delta$ values, we use the given method to generate multiple hash functions and update the counts based on incoming data.\n",
    "\n",
    "Finally, we compare the results of the Count-Min Sketch to actual frequencies, noting that there might be some overestimation due to the probabilistic nature of the Count-Min Sketch."
   ]
  },
  {
   "cell_type": "code",
   "execution_count": 4,
   "metadata": {},
   "outputs": [],
   "source": [
    "import random\n",
    "import math\n",
    "from collections import defaultdict\n",
    "\n",
    "class CountMinSketch:\n",
    "    def __init__(self, epsilon, delta, prime_number):\n",
    "        self.w = int(math.ceil(1 / epsilon)) # Initialization of the width 'w' of the table based on epsilon (error).\n",
    "        self.d = int(math.ceil(math.log(1 / delta))) # Initialization of the depth 'd' of the table based on delta (confidence).\n",
    "        self.p = prime_number  # A large prime number\n",
    "        self.initialize_hash_parameters()\n",
    "        self.initialize_counts_table()\n",
    "\n",
    "    # Function for the generation of 'd' random pairs of parameters for the hash functions.\n",
    "    def initialize_hash_parameters(self):\n",
    "        self.hash_params = []\n",
    "        for i in range(self.d):\n",
    "            a = random.randint(1, self.p - 1)\n",
    "            b = random.randint(1, self.p - 1)\n",
    "            self.hash_params.append((a, b))\n",
    "\n",
    "    # Function to create a 2D list for counts, initialzing all to zero.\n",
    "    def initialize_counts_table(self):\n",
    "        self.counts = []\n",
    "        for i in range(self.d):\n",
    "            row = [0] * self.w\n",
    "            self.counts.append(row)\n",
    "\n",
    "    # Hash function to map an item 'x' to an index in the range [0, w-1].\n",
    "    def hash(self, x, a, b, w):\n",
    "        return ((a * hash(x) + b) % self.p) % w\n",
    "\n",
    "    # Augmentation of the count for 'item' in the table for each hash function.\n",
    "    def add(self, item):\n",
    "        for i in range(self.d):\n",
    "            a, b = self.hash_params[i]\n",
    "            index = self.hash(item, a, b, self.w)\n",
    "            self.counts[i][index] += 1\n",
    "\n",
    "    # the frequency estimation of 'item'.\n",
    "    # It takes the minimum count across all hash tables, which provides an approximation.\n",
    "    def estimate(self, item):\n",
    "        min_count = float('inf')\n",
    "        for i in range(self.d):\n",
    "            a, b = self.hash_params[i]\n",
    "            index = self.hash(item, a, b, self.w)\n",
    "            min_count = min(min_count, self.counts[i][index])\n",
    "        return min_count\n",
    "\n",
    "def exact_counts(data):\n",
    "    counts = defaultdict(int)\n",
    "    for item in data:\n",
    "        counts[item] += 1\n",
    "    return counts"
   ]
  },
  {
   "cell_type": "markdown",
   "metadata": {},
   "source": [
    "### Attempt 1"
   ]
  },
  {
   "cell_type": "code",
   "execution_count": 8,
   "metadata": {},
   "outputs": [
    {
     "name": "stdout",
     "output_type": "stream",
     "text": [
      "Exact count of quince: 4, Estimated count: 4\n",
      "Exact count of fig: 6, Estimated count: 6\n",
      "Exact count of zucchini: 4, Estimated count: 4\n",
      "Exact count of lemon: 2, Estimated count: 2\n",
      "Exact count of banana: 4, Estimated count: 4\n",
      "Exact count of mango: 2, Estimated count: 2\n",
      "Exact count of xigua: 5, Estimated count: 5\n",
      "Exact count of nectarine: 6, Estimated count: 6\n",
      "Exact count of kiwi: 7, Estimated count: 7\n",
      "Exact count of apple: 4, Estimated count: 4\n",
      "Exact count of date: 5, Estimated count: 9\n",
      "Exact count of watermelon: 1, Estimated count: 1\n",
      "Exact count of cherry: 3, Estimated count: 3\n",
      "Exact count of raspberry: 9, Estimated count: 9\n",
      "Exact count of honeydew: 4, Estimated count: 4\n",
      "Exact count of tangerine: 2, Estimated count: 2\n",
      "Exact count of papaya: 3, Estimated count: 3\n",
      "Exact count of yamamomo: 3, Estimated count: 3\n",
      "Exact count of elderberry: 4, Estimated count: 10\n",
      "Exact count of grape: 6, Estimated count: 6\n",
      "Exact count of ugli: 8, Estimated count: 8\n",
      "Exact count of orange: 1, Estimated count: 1\n",
      "Exact count of strawberry: 7, Estimated count: 7\n"
     ]
    }
   ],
   "source": [
    "# Example usage\n",
    "word_list = [\n",
    "    \"apple\", \"banana\", \"cherry\", \"date\", \"elderberry\", \"fig\", \"grape\",\n",
    "    \"honeydew\", \"kiwi\", \"lemon\", \"mango\", \"nectarine\", \"orange\", \n",
    "    \"papaya\", \"quince\", \"raspberry\", \"strawberry\", \"tangerine\", \n",
    "    \"ugli\", \"voavanga\", \"watermelon\", \"xigua\", \"yamamomo\", \"zucchini\"\n",
    "]\n",
    "\n",
    "# Generate a list of 100 words with possible repetitions\n",
    "random_words = [random.choice(word_list) for _ in range(100)]\n",
    "\n",
    "epsilon = 0.01  # Error\n",
    "delta = 0.05   # Confidence\n",
    "prime_number = 122354367\n",
    "cms = CountMinSketch(epsilon, delta, prime_number)\n",
    "for item in random_words:\n",
    "    cms.add(item)\n",
    "\n",
    "# Comparison of estimated counts with exact counts\n",
    "exact = exact_counts(random_words)\n",
    "for item in set(random_words):\n",
    "    print(f\"Exact count of {item}: {exact[item]}, Estimated count: {cms.estimate(item)}\")\n"
   ]
  },
  {
   "cell_type": "markdown",
   "metadata": {},
   "source": [
    "### Attempt 2"
   ]
  },
  {
   "cell_type": "code",
   "execution_count": 6,
   "metadata": {},
   "outputs": [
    {
     "name": "stdout",
     "output_type": "stream",
     "text": [
      "Exact count of quince: 6, Estimated count: 9\n",
      "Exact count of fig: 1, Estimated count: 4\n",
      "Exact count of zucchini: 4, Estimated count: 7\n",
      "Exact count of lemon: 4, Estimated count: 12\n",
      "Exact count of banana: 7, Estimated count: 13\n",
      "Exact count of mango: 8, Estimated count: 11\n",
      "Exact count of xigua: 5, Estimated count: 5\n",
      "Exact count of nectarine: 3, Estimated count: 4\n",
      "Exact count of apple: 3, Estimated count: 9\n",
      "Exact count of kiwi: 1, Estimated count: 4\n",
      "Exact count of date: 3, Estimated count: 7\n",
      "Exact count of cherry: 5, Estimated count: 11\n",
      "Exact count of watermelon: 3, Estimated count: 9\n",
      "Exact count of raspberry: 5, Estimated count: 5\n",
      "Exact count of voavanga: 3, Estimated count: 12\n",
      "Exact count of honeydew: 3, Estimated count: 9\n",
      "Exact count of tangerine: 8, Estimated count: 16\n",
      "Exact count of papaya: 3, Estimated count: 9\n",
      "Exact count of yamamomo: 3, Estimated count: 4\n",
      "Exact count of elderberry: 5, Estimated count: 5\n",
      "Exact count of grape: 4, Estimated count: 18\n",
      "Exact count of ugli: 3, Estimated count: 11\n",
      "Exact count of orange: 7, Estimated count: 16\n",
      "Exact count of strawberry: 3, Estimated count: 9\n"
     ]
    }
   ],
   "source": [
    "epsilon = 0.1  # Error\n",
    "delta = 0.05   # Confidence\n",
    "prime_number = 122354367\n",
    "cms = CountMinSketch(epsilon, delta, prime_number)\n",
    "for item in random_words:\n",
    "    cms.add(item)\n",
    "\n",
    "# Comparison of estimated counts with exact counts\n",
    "exact = exact_counts(random_words)\n",
    "for item in set(random_words):\n",
    "    print(f\"Exact count of {item}: {exact[item]}, Estimated count: {cms.estimate(item)}\")\n"
   ]
  },
  {
   "cell_type": "markdown",
   "metadata": {},
   "source": [
    "From the two example usages, we can see how the parameters epsilon (error) and delta (confidence) impact the accuracy of the frequency estimates. When epsilon is smaller (0.01 in the first example), the CountMinSketch provides very accurate estimates of the counts, with most of the estimated counts matching the exact counts. Based on this we can infer that a smaller epsilon leads to more precise frequency estimates.\n",
    "\n",
    "However, when epsilon is increased to 0.1 in the second example, the estimates become less accurate, and many are significantly higher than the exact counts. It shows that a larger epsilon results in a wider margin of error in the counts.\n",
    "\n",
    "In both cases, the delta parameter was kept constant, which means the algorithm maintained the same level of confidence in its accuracy across both tests. Essentially, the difference in epsilon showcases a trade-off between accuracy and space efficiency (since a smaller epsilon requires more space).\n",
    "\n",
    "Overall, these examples demonstrate that while the CountMinSketch can be a highly effective tool for estimating frequencies in large datasets, the choice of parameters critically influences its accuracy. If space allows, choosing a smaller epsilon will provide more accurate results, but this comes at the cost of using more memory."
   ]
  }
 ],
 "metadata": {
  "kernelspec": {
   "display_name": "Python 3",
   "language": "python",
   "name": "python3"
  },
  "language_info": {
   "codemirror_mode": {
    "name": "ipython",
    "version": 3
   },
   "file_extension": ".py",
   "mimetype": "text/x-python",
   "name": "python",
   "nbconvert_exporter": "python",
   "pygments_lexer": "ipython3",
   "version": "3.12.1"
  }
 },
 "nbformat": 4,
 "nbformat_minor": 2
}
