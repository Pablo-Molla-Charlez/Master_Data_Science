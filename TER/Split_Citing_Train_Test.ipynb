{
 "cells": [
  {
   "cell_type": "markdown",
   "metadata": {},
   "source": [
    "## Requirements"
   ]
  },
  {
   "cell_type": "code",
   "execution_count": 2,
   "metadata": {},
   "outputs": [],
   "source": [
    "import re\n",
    "import json\n",
    "import os\n",
    "import random\n"
   ]
  },
  {
   "cell_type": "markdown",
   "metadata": {},
   "source": [
    "## Open File"
   ]
  },
  {
   "cell_type": "code",
   "execution_count": 3,
   "metadata": {},
   "outputs": [],
   "source": [
    "def open_json_file(path_to_json):\n",
    "    # Opening the JSON file\n",
    "    with open(path_to_json, 'r') as file:\n",
    "        # Loading JSON\n",
    "        json_dict = json.load(file)\n",
    "    return json_dict"
   ]
  },
  {
   "cell_type": "markdown",
   "metadata": {},
   "source": [
    "## Creation File"
   ]
  },
  {
   "cell_type": "code",
   "execution_count": 4,
   "metadata": {},
   "outputs": [],
   "source": [
    "def create_json_citations(data, path):\n",
    "    directory = \"/bigstorage/DATASETS_JSON/Content_JSONs/Citing_2020_Cleaned_Content_12k/Citing_Train_Test\"\n",
    "    if not os.path.exists(directory):\n",
    "        os.makedirs(directory)\n",
    "    file_path = os.path.join(directory, path)\n",
    "    with open(file_path, 'w') as file:\n",
    "        # Converting from list of dictionaries to JSON + indent=4 for readability\n",
    "        json.dump(data, file, indent=4) "
   ]
  },
  {
   "cell_type": "markdown",
   "metadata": {},
   "source": [
    "## Split Train - Test"
   ]
  },
  {
   "cell_type": "code",
   "execution_count": 6,
   "metadata": {},
   "outputs": [],
   "source": [
    "# Citing Content - Data\n",
    "data = open_json_file(\"/bigstorage/DATASETS_JSON/Content_JSONs/Citing_2020_Cleaned_Content_12k/CLEANED_CONTENT_DATASET_citing_patents_2020.json\")\n",
    "\n",
    "# Shuffled data\n",
    "random.shuffle(data)\n",
    "\n",
    "# Paths to Train + Test\n",
    "citing_train_path = \"citing_TRAIN.json\"\n",
    "citing_test_path = \"citing_TEST.json\"\n",
    "\n",
    "# Train + Test Lists\n",
    "train_list = []\n",
    "test_list = []\n",
    "\n",
    "for item in data:\n",
    "    if len(train_list) < 6831:\n",
    "        train_list.append(item)\n",
    "    # Remaining items go to the second list\n",
    "    else:\n",
    "        test_list.append(item)\n",
    "\n",
    "# Train\n",
    "create_json_citations(train_list, citing_train_path)\n",
    "\n",
    "# Test\n",
    "create_json_citations(test_list, citing_test_path)"
   ]
  },
  {
   "cell_type": "markdown",
   "metadata": {},
   "source": [
    "## Checking"
   ]
  },
  {
   "cell_type": "code",
   "execution_count": 5,
   "metadata": {},
   "outputs": [
    {
     "name": "stdout",
     "output_type": "stream",
     "text": [
      "6829\n",
      "1000\n"
     ]
    }
   ],
   "source": [
    "train = open_json_file(\"/bigstorage/DATASETS_JSON/Content_JSONs/Citing_2020_Cleaned_Content_12k/Citing_Train_Test/citing_TRAIN.json\")\n",
    "test = open_json_file(\"/bigstorage/DATASETS_JSON/Content_JSONs/Citing_2020_Cleaned_Content_12k/Citing_Train_Test/citing_TEST.json\")\n",
    "\n",
    "print(len(train))\n",
    "print(len(test))"
   ]
  }
 ],
 "metadata": {
  "kernelspec": {
   "display_name": "venv",
   "language": "python",
   "name": "python3"
  },
  "language_info": {
   "codemirror_mode": {
    "name": "ipython",
    "version": 3
   },
   "file_extension": ".py",
   "mimetype": "text/x-python",
   "name": "python",
   "nbconvert_exporter": "python",
   "pygments_lexer": "ipython3",
   "version": "3.10.12"
  }
 },
 "nbformat": 4,
 "nbformat_minor": 2
}
